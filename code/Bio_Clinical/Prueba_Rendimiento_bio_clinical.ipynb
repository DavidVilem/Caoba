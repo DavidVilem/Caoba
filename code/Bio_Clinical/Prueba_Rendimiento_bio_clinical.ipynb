{
  "cells": [
    {
      "cell_type": "code",
      "execution_count": 1,
      "metadata": {
        "id": "I-zF5271S7mV"
      },
      "outputs": [],
      "source": [
        "import pandas as pd\n",
        "import numpy as np\n",
        "import re"
      ]
    },
    {
      "cell_type": "code",
      "source": [
        "from google.colab import drive\n",
        "drive.mount('/content/drive')"
      ],
      "metadata": {
        "colab": {
          "base_uri": "https://localhost:8080/"
        },
        "id": "3kiuxQYVsZPV",
        "outputId": "cbf7823e-7122-4e4f-d80e-c0c93e7aa685"
      },
      "execution_count": 2,
      "outputs": [
        {
          "output_type": "stream",
          "name": "stdout",
          "text": [
            "Drive already mounted at /content/drive; to attempt to forcibly remount, call drive.mount(\"/content/drive\", force_remount=True).\n"
          ]
        }
      ]
    },
    {
      "cell_type": "code",
      "source": [
        "import joblib\n",
        "from transformers import AutoModelForSequenceClassification, AutoTokenizer\n",
        "\n",
        "# Rutas a los archivos guardados\n",
        "# model_path = '/content/drive/My Drive/Javeriana/Medical_Error_Detection/Modelos/Pruebas_Rendimiento/Modelos_Descarga/Roberta_Base/roberta_base_model'\n",
        "# tokenizer_path = '/content/drive/My Drive/Javeriana/Medical_Error_Detection/Modelos/Pruebas_Rendimiento/Modelos_Descarga/Roberta_Base/roberta_base_tokenizer'\n",
        "\n",
        "model_path = '/content/drive/My Drive/Javeriana/Medical_Error_Detection/Modelos/Pruebas_Rendimiento/Modelos_Descarga/Bio_Clinical/bio_clinical_v0_model'\n",
        "tokenizer_path = '/content/drive/My Drive/Javeriana/Medical_Error_Detection/Modelos/Pruebas_Rendimiento/Modelos_Descarga/Bio_Clinical/bio_clinical_v0_tokenizer'\n",
        "\n",
        "# Cargar el modelo entrenado\n",
        "model = AutoModelForSequenceClassification.from_pretrained(model_path)\n",
        "\n",
        "# Cargar el tokenizador\n",
        "tokenizer = AutoTokenizer.from_pretrained(tokenizer_path)"
      ],
      "metadata": {
        "id": "MELQAAxdrvpg"
      },
      "execution_count": 3,
      "outputs": []
    },
    {
      "cell_type": "code",
      "execution_count": 4,
      "metadata": {
        "colab": {
          "base_uri": "https://localhost:8080/",
          "height": 73
        },
        "id": "NM5BF6fmS9pN",
        "outputId": "05c83cef-5419-4fb5-c351-be877c05efa5"
      },
      "outputs": [
        {
          "output_type": "display_data",
          "data": {
            "text/plain": [
              "<IPython.core.display.HTML object>"
            ],
            "text/html": [
              "\n",
              "     <input type=\"file\" id=\"files-c5eaed5a-5255-4ee4-92ff-576f2fd58afd\" name=\"files[]\" multiple disabled\n",
              "        style=\"border:none\" />\n",
              "     <output id=\"result-c5eaed5a-5255-4ee4-92ff-576f2fd58afd\">\n",
              "      Upload widget is only available when the cell has been executed in the\n",
              "      current browser session. Please rerun this cell to enable.\n",
              "      </output>\n",
              "      <script>// Copyright 2017 Google LLC\n",
              "//\n",
              "// Licensed under the Apache License, Version 2.0 (the \"License\");\n",
              "// you may not use this file except in compliance with the License.\n",
              "// You may obtain a copy of the License at\n",
              "//\n",
              "//      http://www.apache.org/licenses/LICENSE-2.0\n",
              "//\n",
              "// Unless required by applicable law or agreed to in writing, software\n",
              "// distributed under the License is distributed on an \"AS IS\" BASIS,\n",
              "// WITHOUT WARRANTIES OR CONDITIONS OF ANY KIND, either express or implied.\n",
              "// See the License for the specific language governing permissions and\n",
              "// limitations under the License.\n",
              "\n",
              "/**\n",
              " * @fileoverview Helpers for google.colab Python module.\n",
              " */\n",
              "(function(scope) {\n",
              "function span(text, styleAttributes = {}) {\n",
              "  const element = document.createElement('span');\n",
              "  element.textContent = text;\n",
              "  for (const key of Object.keys(styleAttributes)) {\n",
              "    element.style[key] = styleAttributes[key];\n",
              "  }\n",
              "  return element;\n",
              "}\n",
              "\n",
              "// Max number of bytes which will be uploaded at a time.\n",
              "const MAX_PAYLOAD_SIZE = 100 * 1024;\n",
              "\n",
              "function _uploadFiles(inputId, outputId) {\n",
              "  const steps = uploadFilesStep(inputId, outputId);\n",
              "  const outputElement = document.getElementById(outputId);\n",
              "  // Cache steps on the outputElement to make it available for the next call\n",
              "  // to uploadFilesContinue from Python.\n",
              "  outputElement.steps = steps;\n",
              "\n",
              "  return _uploadFilesContinue(outputId);\n",
              "}\n",
              "\n",
              "// This is roughly an async generator (not supported in the browser yet),\n",
              "// where there are multiple asynchronous steps and the Python side is going\n",
              "// to poll for completion of each step.\n",
              "// This uses a Promise to block the python side on completion of each step,\n",
              "// then passes the result of the previous step as the input to the next step.\n",
              "function _uploadFilesContinue(outputId) {\n",
              "  const outputElement = document.getElementById(outputId);\n",
              "  const steps = outputElement.steps;\n",
              "\n",
              "  const next = steps.next(outputElement.lastPromiseValue);\n",
              "  return Promise.resolve(next.value.promise).then((value) => {\n",
              "    // Cache the last promise value to make it available to the next\n",
              "    // step of the generator.\n",
              "    outputElement.lastPromiseValue = value;\n",
              "    return next.value.response;\n",
              "  });\n",
              "}\n",
              "\n",
              "/**\n",
              " * Generator function which is called between each async step of the upload\n",
              " * process.\n",
              " * @param {string} inputId Element ID of the input file picker element.\n",
              " * @param {string} outputId Element ID of the output display.\n",
              " * @return {!Iterable<!Object>} Iterable of next steps.\n",
              " */\n",
              "function* uploadFilesStep(inputId, outputId) {\n",
              "  const inputElement = document.getElementById(inputId);\n",
              "  inputElement.disabled = false;\n",
              "\n",
              "  const outputElement = document.getElementById(outputId);\n",
              "  outputElement.innerHTML = '';\n",
              "\n",
              "  const pickedPromise = new Promise((resolve) => {\n",
              "    inputElement.addEventListener('change', (e) => {\n",
              "      resolve(e.target.files);\n",
              "    });\n",
              "  });\n",
              "\n",
              "  const cancel = document.createElement('button');\n",
              "  inputElement.parentElement.appendChild(cancel);\n",
              "  cancel.textContent = 'Cancel upload';\n",
              "  const cancelPromise = new Promise((resolve) => {\n",
              "    cancel.onclick = () => {\n",
              "      resolve(null);\n",
              "    };\n",
              "  });\n",
              "\n",
              "  // Wait for the user to pick the files.\n",
              "  const files = yield {\n",
              "    promise: Promise.race([pickedPromise, cancelPromise]),\n",
              "    response: {\n",
              "      action: 'starting',\n",
              "    }\n",
              "  };\n",
              "\n",
              "  cancel.remove();\n",
              "\n",
              "  // Disable the input element since further picks are not allowed.\n",
              "  inputElement.disabled = true;\n",
              "\n",
              "  if (!files) {\n",
              "    return {\n",
              "      response: {\n",
              "        action: 'complete',\n",
              "      }\n",
              "    };\n",
              "  }\n",
              "\n",
              "  for (const file of files) {\n",
              "    const li = document.createElement('li');\n",
              "    li.append(span(file.name, {fontWeight: 'bold'}));\n",
              "    li.append(span(\n",
              "        `(${file.type || 'n/a'}) - ${file.size} bytes, ` +\n",
              "        `last modified: ${\n",
              "            file.lastModifiedDate ? file.lastModifiedDate.toLocaleDateString() :\n",
              "                                    'n/a'} - `));\n",
              "    const percent = span('0% done');\n",
              "    li.appendChild(percent);\n",
              "\n",
              "    outputElement.appendChild(li);\n",
              "\n",
              "    const fileDataPromise = new Promise((resolve) => {\n",
              "      const reader = new FileReader();\n",
              "      reader.onload = (e) => {\n",
              "        resolve(e.target.result);\n",
              "      };\n",
              "      reader.readAsArrayBuffer(file);\n",
              "    });\n",
              "    // Wait for the data to be ready.\n",
              "    let fileData = yield {\n",
              "      promise: fileDataPromise,\n",
              "      response: {\n",
              "        action: 'continue',\n",
              "      }\n",
              "    };\n",
              "\n",
              "    // Use a chunked sending to avoid message size limits. See b/62115660.\n",
              "    let position = 0;\n",
              "    do {\n",
              "      const length = Math.min(fileData.byteLength - position, MAX_PAYLOAD_SIZE);\n",
              "      const chunk = new Uint8Array(fileData, position, length);\n",
              "      position += length;\n",
              "\n",
              "      const base64 = btoa(String.fromCharCode.apply(null, chunk));\n",
              "      yield {\n",
              "        response: {\n",
              "          action: 'append',\n",
              "          file: file.name,\n",
              "          data: base64,\n",
              "        },\n",
              "      };\n",
              "\n",
              "      let percentDone = fileData.byteLength === 0 ?\n",
              "          100 :\n",
              "          Math.round((position / fileData.byteLength) * 100);\n",
              "      percent.textContent = `${percentDone}% done`;\n",
              "\n",
              "    } while (position < fileData.byteLength);\n",
              "  }\n",
              "\n",
              "  // All done.\n",
              "  yield {\n",
              "    response: {\n",
              "      action: 'complete',\n",
              "    }\n",
              "  };\n",
              "}\n",
              "\n",
              "scope.google = scope.google || {};\n",
              "scope.google.colab = scope.google.colab || {};\n",
              "scope.google.colab._files = {\n",
              "  _uploadFiles,\n",
              "  _uploadFilesContinue,\n",
              "};\n",
              "})(self);\n",
              "</script> "
            ]
          },
          "metadata": {}
        },
        {
          "output_type": "stream",
          "name": "stdout",
          "text": [
            "Saving MEDIQA-CORR-2024-MS-ValidationSet-1-Full.csv to MEDIQA-CORR-2024-MS-ValidationSet-1-Full.csv\n"
          ]
        }
      ],
      "source": [
        "from google.colab import files\n",
        "uploaded = files.upload()"
      ]
    },
    {
      "cell_type": "code",
      "execution_count": 5,
      "metadata": {
        "colab": {
          "base_uri": "https://localhost:8080/",
          "height": 310
        },
        "id": "4hW3axOITCDI",
        "outputId": "7a895196-6a3b-4a8a-af8a-67c9aa0d1ed1"
      },
      "outputs": [
        {
          "output_type": "execute_result",
          "data": {
            "text/plain": [
              "   Unnamed: 0   Text ID                                               Text  \\\n",
              "0           0  ms-val-0  A 24-year-old woman comes to the emergency dep...   \n",
              "1           1  ms-val-1  A 24-year-old woman comes to the emergency dep...   \n",
              "2           2  ms-val-2  A 43-year-old woman comes to the physician bec...   \n",
              "3           3  ms-val-3  A 4-year-old is brought into the emeregency ro...   \n",
              "4           4  ms-val-4  A previously healthy 25-year-old man comes to ...   \n",
              "\n",
              "                                           Sentences  Error Flag  \\\n",
              "0  0 A 24-year-old woman comes to the emergency d...           1   \n",
              "1  0 A 24-year-old woman comes to the emergency d...           0   \n",
              "2  0 A 43-year-old woman comes to the physician b...           1   \n",
              "3  0 A 4-year-old is brought into the emeregency ...           1   \n",
              "4  0 A previously healthy 25-year-old man comes t...           1   \n",
              "\n",
              "   Error Sentence ID                                     Error Sentence  \\\n",
              "0                  5      Culture tests indicate Neisseria gonorrhoeae.   \n",
              "1                 -1                                                NaN   \n",
              "2                 24  Pathology confirms Streptococcus pneumoniae is...   \n",
              "3                  4  Laboratory studies confirm that he has a respi...   \n",
              "4                  0  A previously healthy 25-year-old man comes to ...   \n",
              "\n",
              "                                  Corrected Sentence  \\\n",
              "0      Culture tests indicate Trichomonas vaginalis.   \n",
              "1                                                NaN   \n",
              "2  Pathology confirms Mycoplasma pneumoniae is th...   \n",
              "3  Laboratory studies confirm that he has parainf...   \n",
              "4  A previously healthy 25-year-old man comes to ...   \n",
              "\n",
              "                                      Corrected Text  \n",
              "0  A 24-year-old woman comes to the emergency dep...  \n",
              "1                                                NaN  \n",
              "2  A 43-year-old woman comes to the physician bec...  \n",
              "3  A 4-year-old is brought into the emeregency ro...  \n",
              "4  A previously healthy 25-year-old man comes to ...  "
            ],
            "text/html": [
              "\n",
              "  <div id=\"df-6578ae2a-e7ad-4be6-b2b9-6ffb7d7e09ac\" class=\"colab-df-container\">\n",
              "    <div>\n",
              "<style scoped>\n",
              "    .dataframe tbody tr th:only-of-type {\n",
              "        vertical-align: middle;\n",
              "    }\n",
              "\n",
              "    .dataframe tbody tr th {\n",
              "        vertical-align: top;\n",
              "    }\n",
              "\n",
              "    .dataframe thead th {\n",
              "        text-align: right;\n",
              "    }\n",
              "</style>\n",
              "<table border=\"1\" class=\"dataframe\">\n",
              "  <thead>\n",
              "    <tr style=\"text-align: right;\">\n",
              "      <th></th>\n",
              "      <th>Unnamed: 0</th>\n",
              "      <th>Text ID</th>\n",
              "      <th>Text</th>\n",
              "      <th>Sentences</th>\n",
              "      <th>Error Flag</th>\n",
              "      <th>Error Sentence ID</th>\n",
              "      <th>Error Sentence</th>\n",
              "      <th>Corrected Sentence</th>\n",
              "      <th>Corrected Text</th>\n",
              "    </tr>\n",
              "  </thead>\n",
              "  <tbody>\n",
              "    <tr>\n",
              "      <th>0</th>\n",
              "      <td>0</td>\n",
              "      <td>ms-val-0</td>\n",
              "      <td>A 24-year-old woman comes to the emergency dep...</td>\n",
              "      <td>0 A 24-year-old woman comes to the emergency d...</td>\n",
              "      <td>1</td>\n",
              "      <td>5</td>\n",
              "      <td>Culture tests indicate Neisseria gonorrhoeae.</td>\n",
              "      <td>Culture tests indicate Trichomonas vaginalis.</td>\n",
              "      <td>A 24-year-old woman comes to the emergency dep...</td>\n",
              "    </tr>\n",
              "    <tr>\n",
              "      <th>1</th>\n",
              "      <td>1</td>\n",
              "      <td>ms-val-1</td>\n",
              "      <td>A 24-year-old woman comes to the emergency dep...</td>\n",
              "      <td>0 A 24-year-old woman comes to the emergency d...</td>\n",
              "      <td>0</td>\n",
              "      <td>-1</td>\n",
              "      <td>NaN</td>\n",
              "      <td>NaN</td>\n",
              "      <td>NaN</td>\n",
              "    </tr>\n",
              "    <tr>\n",
              "      <th>2</th>\n",
              "      <td>2</td>\n",
              "      <td>ms-val-2</td>\n",
              "      <td>A 43-year-old woman comes to the physician bec...</td>\n",
              "      <td>0 A 43-year-old woman comes to the physician b...</td>\n",
              "      <td>1</td>\n",
              "      <td>24</td>\n",
              "      <td>Pathology confirms Streptococcus pneumoniae is...</td>\n",
              "      <td>Pathology confirms Mycoplasma pneumoniae is th...</td>\n",
              "      <td>A 43-year-old woman comes to the physician bec...</td>\n",
              "    </tr>\n",
              "    <tr>\n",
              "      <th>3</th>\n",
              "      <td>3</td>\n",
              "      <td>ms-val-3</td>\n",
              "      <td>A 4-year-old is brought into the emeregency ro...</td>\n",
              "      <td>0 A 4-year-old is brought into the emeregency ...</td>\n",
              "      <td>1</td>\n",
              "      <td>4</td>\n",
              "      <td>Laboratory studies confirm that he has a respi...</td>\n",
              "      <td>Laboratory studies confirm that he has parainf...</td>\n",
              "      <td>A 4-year-old is brought into the emeregency ro...</td>\n",
              "    </tr>\n",
              "    <tr>\n",
              "      <th>4</th>\n",
              "      <td>4</td>\n",
              "      <td>ms-val-4</td>\n",
              "      <td>A previously healthy 25-year-old man comes to ...</td>\n",
              "      <td>0 A previously healthy 25-year-old man comes t...</td>\n",
              "      <td>1</td>\n",
              "      <td>0</td>\n",
              "      <td>A previously healthy 25-year-old man comes to ...</td>\n",
              "      <td>A previously healthy 25-year-old man comes to ...</td>\n",
              "      <td>A previously healthy 25-year-old man comes to ...</td>\n",
              "    </tr>\n",
              "  </tbody>\n",
              "</table>\n",
              "</div>\n",
              "    <div class=\"colab-df-buttons\">\n",
              "\n",
              "  <div class=\"colab-df-container\">\n",
              "    <button class=\"colab-df-convert\" onclick=\"convertToInteractive('df-6578ae2a-e7ad-4be6-b2b9-6ffb7d7e09ac')\"\n",
              "            title=\"Convert this dataframe to an interactive table.\"\n",
              "            style=\"display:none;\">\n",
              "\n",
              "  <svg xmlns=\"http://www.w3.org/2000/svg\" height=\"24px\" viewBox=\"0 -960 960 960\">\n",
              "    <path d=\"M120-120v-720h720v720H120Zm60-500h600v-160H180v160Zm220 220h160v-160H400v160Zm0 220h160v-160H400v160ZM180-400h160v-160H180v160Zm440 0h160v-160H620v160ZM180-180h160v-160H180v160Zm440 0h160v-160H620v160Z\"/>\n",
              "  </svg>\n",
              "    </button>\n",
              "\n",
              "  <style>\n",
              "    .colab-df-container {\n",
              "      display:flex;\n",
              "      gap: 12px;\n",
              "    }\n",
              "\n",
              "    .colab-df-convert {\n",
              "      background-color: #E8F0FE;\n",
              "      border: none;\n",
              "      border-radius: 50%;\n",
              "      cursor: pointer;\n",
              "      display: none;\n",
              "      fill: #1967D2;\n",
              "      height: 32px;\n",
              "      padding: 0 0 0 0;\n",
              "      width: 32px;\n",
              "    }\n",
              "\n",
              "    .colab-df-convert:hover {\n",
              "      background-color: #E2EBFA;\n",
              "      box-shadow: 0px 1px 2px rgba(60, 64, 67, 0.3), 0px 1px 3px 1px rgba(60, 64, 67, 0.15);\n",
              "      fill: #174EA6;\n",
              "    }\n",
              "\n",
              "    .colab-df-buttons div {\n",
              "      margin-bottom: 4px;\n",
              "    }\n",
              "\n",
              "    [theme=dark] .colab-df-convert {\n",
              "      background-color: #3B4455;\n",
              "      fill: #D2E3FC;\n",
              "    }\n",
              "\n",
              "    [theme=dark] .colab-df-convert:hover {\n",
              "      background-color: #434B5C;\n",
              "      box-shadow: 0px 1px 3px 1px rgba(0, 0, 0, 0.15);\n",
              "      filter: drop-shadow(0px 1px 2px rgba(0, 0, 0, 0.3));\n",
              "      fill: #FFFFFF;\n",
              "    }\n",
              "  </style>\n",
              "\n",
              "    <script>\n",
              "      const buttonEl =\n",
              "        document.querySelector('#df-6578ae2a-e7ad-4be6-b2b9-6ffb7d7e09ac button.colab-df-convert');\n",
              "      buttonEl.style.display =\n",
              "        google.colab.kernel.accessAllowed ? 'block' : 'none';\n",
              "\n",
              "      async function convertToInteractive(key) {\n",
              "        const element = document.querySelector('#df-6578ae2a-e7ad-4be6-b2b9-6ffb7d7e09ac');\n",
              "        const dataTable =\n",
              "          await google.colab.kernel.invokeFunction('convertToInteractive',\n",
              "                                                    [key], {});\n",
              "        if (!dataTable) return;\n",
              "\n",
              "        const docLinkHtml = 'Like what you see? Visit the ' +\n",
              "          '<a target=\"_blank\" href=https://colab.research.google.com/notebooks/data_table.ipynb>data table notebook</a>'\n",
              "          + ' to learn more about interactive tables.';\n",
              "        element.innerHTML = '';\n",
              "        dataTable['output_type'] = 'display_data';\n",
              "        await google.colab.output.renderOutput(dataTable, element);\n",
              "        const docLink = document.createElement('div');\n",
              "        docLink.innerHTML = docLinkHtml;\n",
              "        element.appendChild(docLink);\n",
              "      }\n",
              "    </script>\n",
              "  </div>\n",
              "\n",
              "\n",
              "<div id=\"df-028bae20-6c95-4025-a544-8683f2cb0648\">\n",
              "  <button class=\"colab-df-quickchart\" onclick=\"quickchart('df-028bae20-6c95-4025-a544-8683f2cb0648')\"\n",
              "            title=\"Suggest charts\"\n",
              "            style=\"display:none;\">\n",
              "\n",
              "<svg xmlns=\"http://www.w3.org/2000/svg\" height=\"24px\"viewBox=\"0 0 24 24\"\n",
              "     width=\"24px\">\n",
              "    <g>\n",
              "        <path d=\"M19 3H5c-1.1 0-2 .9-2 2v14c0 1.1.9 2 2 2h14c1.1 0 2-.9 2-2V5c0-1.1-.9-2-2-2zM9 17H7v-7h2v7zm4 0h-2V7h2v10zm4 0h-2v-4h2v4z\"/>\n",
              "    </g>\n",
              "</svg>\n",
              "  </button>\n",
              "\n",
              "<style>\n",
              "  .colab-df-quickchart {\n",
              "      --bg-color: #E8F0FE;\n",
              "      --fill-color: #1967D2;\n",
              "      --hover-bg-color: #E2EBFA;\n",
              "      --hover-fill-color: #174EA6;\n",
              "      --disabled-fill-color: #AAA;\n",
              "      --disabled-bg-color: #DDD;\n",
              "  }\n",
              "\n",
              "  [theme=dark] .colab-df-quickchart {\n",
              "      --bg-color: #3B4455;\n",
              "      --fill-color: #D2E3FC;\n",
              "      --hover-bg-color: #434B5C;\n",
              "      --hover-fill-color: #FFFFFF;\n",
              "      --disabled-bg-color: #3B4455;\n",
              "      --disabled-fill-color: #666;\n",
              "  }\n",
              "\n",
              "  .colab-df-quickchart {\n",
              "    background-color: var(--bg-color);\n",
              "    border: none;\n",
              "    border-radius: 50%;\n",
              "    cursor: pointer;\n",
              "    display: none;\n",
              "    fill: var(--fill-color);\n",
              "    height: 32px;\n",
              "    padding: 0;\n",
              "    width: 32px;\n",
              "  }\n",
              "\n",
              "  .colab-df-quickchart:hover {\n",
              "    background-color: var(--hover-bg-color);\n",
              "    box-shadow: 0 1px 2px rgba(60, 64, 67, 0.3), 0 1px 3px 1px rgba(60, 64, 67, 0.15);\n",
              "    fill: var(--button-hover-fill-color);\n",
              "  }\n",
              "\n",
              "  .colab-df-quickchart-complete:disabled,\n",
              "  .colab-df-quickchart-complete:disabled:hover {\n",
              "    background-color: var(--disabled-bg-color);\n",
              "    fill: var(--disabled-fill-color);\n",
              "    box-shadow: none;\n",
              "  }\n",
              "\n",
              "  .colab-df-spinner {\n",
              "    border: 2px solid var(--fill-color);\n",
              "    border-color: transparent;\n",
              "    border-bottom-color: var(--fill-color);\n",
              "    animation:\n",
              "      spin 1s steps(1) infinite;\n",
              "  }\n",
              "\n",
              "  @keyframes spin {\n",
              "    0% {\n",
              "      border-color: transparent;\n",
              "      border-bottom-color: var(--fill-color);\n",
              "      border-left-color: var(--fill-color);\n",
              "    }\n",
              "    20% {\n",
              "      border-color: transparent;\n",
              "      border-left-color: var(--fill-color);\n",
              "      border-top-color: var(--fill-color);\n",
              "    }\n",
              "    30% {\n",
              "      border-color: transparent;\n",
              "      border-left-color: var(--fill-color);\n",
              "      border-top-color: var(--fill-color);\n",
              "      border-right-color: var(--fill-color);\n",
              "    }\n",
              "    40% {\n",
              "      border-color: transparent;\n",
              "      border-right-color: var(--fill-color);\n",
              "      border-top-color: var(--fill-color);\n",
              "    }\n",
              "    60% {\n",
              "      border-color: transparent;\n",
              "      border-right-color: var(--fill-color);\n",
              "    }\n",
              "    80% {\n",
              "      border-color: transparent;\n",
              "      border-right-color: var(--fill-color);\n",
              "      border-bottom-color: var(--fill-color);\n",
              "    }\n",
              "    90% {\n",
              "      border-color: transparent;\n",
              "      border-bottom-color: var(--fill-color);\n",
              "    }\n",
              "  }\n",
              "</style>\n",
              "\n",
              "  <script>\n",
              "    async function quickchart(key) {\n",
              "      const quickchartButtonEl =\n",
              "        document.querySelector('#' + key + ' button');\n",
              "      quickchartButtonEl.disabled = true;  // To prevent multiple clicks.\n",
              "      quickchartButtonEl.classList.add('colab-df-spinner');\n",
              "      try {\n",
              "        const charts = await google.colab.kernel.invokeFunction(\n",
              "            'suggestCharts', [key], {});\n",
              "      } catch (error) {\n",
              "        console.error('Error during call to suggestCharts:', error);\n",
              "      }\n",
              "      quickchartButtonEl.classList.remove('colab-df-spinner');\n",
              "      quickchartButtonEl.classList.add('colab-df-quickchart-complete');\n",
              "    }\n",
              "    (() => {\n",
              "      let quickchartButtonEl =\n",
              "        document.querySelector('#df-028bae20-6c95-4025-a544-8683f2cb0648 button');\n",
              "      quickchartButtonEl.style.display =\n",
              "        google.colab.kernel.accessAllowed ? 'block' : 'none';\n",
              "    })();\n",
              "  </script>\n",
              "</div>\n",
              "\n",
              "    </div>\n",
              "  </div>\n"
            ],
            "application/vnd.google.colaboratory.intrinsic+json": {
              "type": "dataframe",
              "variable_name": "df",
              "summary": "{\n  \"name\": \"df\",\n  \"rows\": 574,\n  \"fields\": [\n    {\n      \"column\": \"Unnamed: 0\",\n      \"properties\": {\n        \"dtype\": \"number\",\n        \"std\": 165,\n        \"min\": 0,\n        \"max\": 573,\n        \"num_unique_values\": 574,\n        \"samples\": [\n          514,\n          70,\n          131\n        ],\n        \"semantic_type\": \"\",\n        \"description\": \"\"\n      }\n    },\n    {\n      \"column\": \"Text ID\",\n      \"properties\": {\n        \"dtype\": \"string\",\n        \"num_unique_values\": 574,\n        \"samples\": [\n          \"ms-val-514\",\n          \"ms-val-70\",\n          \"ms-val-131\"\n        ],\n        \"semantic_type\": \"\",\n        \"description\": \"\"\n      }\n    },\n    {\n      \"column\": \"Text\",\n      \"properties\": {\n        \"dtype\": \"string\",\n        \"num_unique_values\": 574,\n        \"samples\": [\n          \"A 27-year-old woman is brought to the emergency department by her coworker after having a generalized seizure at work. Her coworker reports that she is at 30 weeks' gestation and has mentioned headache and right upper quadrant pain earlier that day. Her temperature is 37 C (98.6 F), pulse is 91/min, and blood pressure is 170/102 mm Hg. Pulmonary examination shows bilateral rales. There is diffuse edema in the lower extremities. Deep tendon reflexes are increased bilaterally. Lorazepam is prescribed. She is not oriented to person, place, and time. \",\n          \"A 23-year-old man is brought to the emergency department by his mother because of a change in his personality. The mother reports that over the past 7 months her son has become increasingly withdrawn; he has not answered any phone calls or visited his family and friends. He had always been a quiet boy, who needed some time on his own, but he used to meet with friends at least once a week. The patient says that he cannot leave the house because aliens are watching him and \\u00e2\\u20ac\\u0153stealing his thoughts\\u00e2\\u20ac\\u009d. He does not drink alcohol. He used to smoke marijuana occasionally but quit 1 year ago. His vital signs are within normal limits. Physical examination shows no abnormalities. On mental status examination, it is impossible to follow the patient's sequence of thoughts. He is anxious and has a flat affect. The patient is diagnosed with schizophreniform disorder.\",\n          \"Five days after undergoing an open abdominal aortic aneurysm repair, a 68-year-old woman has crampy abdominal pain. During this period, she has also had two episodes of loose, bloody stools. Her surgery was complicated by severe blood loss requiring the administration of vasopressors and multiple transfusions. Cefazolin was administered as a perioperative antibiotic. The patient has hypertension, hypercholesterolemia, and coronary artery disease. The patient has smoked 2 packs of cigarettes daily for 50 years and drinks 3\\u00e2\\u20ac\\u201c4 glasses of wine every week. Her current medications include hydrochlorothiazide, atorvastatin, amlodipine, aspirin, and metoprolol. She appears ill. Her temperature is 38.0 C (100.4 F), pulse is 110/min, and blood pressure is 96/58 mm Hg. Physical examination shows a distended abdomen with absent bowel sounds. The abdomen is exquisitely tender to palpation in all quadrants. The lungs are clear to auscultation. Cardiac examination shows an S4 gallop. An x-ray of the abdomen shows air-filled distended bowel. Patient was diagnosed with ischemic colitis. \"\n        ],\n        \"semantic_type\": \"\",\n        \"description\": \"\"\n      }\n    },\n    {\n      \"column\": \"Sentences\",\n      \"properties\": {\n        \"dtype\": \"string\",\n        \"num_unique_values\": 574,\n        \"samples\": [\n          \"0 A 27-year-old woman is brought to the emergency department by her coworker after having a generalized seizure at work.\\n1 Her coworker reports that she is at 30 weeks' gestation and has mentioned headache and right upper quadrant pain earlier that day.\\n2 Her temperature is 37 C (98.6 F), pulse is 91/min, and blood pressure is 170/102 mm\\n3 Hg.\\n4 Pulmonary examination shows bilateral rales.\\n5 There is diffuse edema in the lower extremities.\\n6 Deep tendon reflexes are increased bilaterally.\\n7 Lorazepam is prescribed.\\n8 She is not oriented to person, place, and time.\\n\",\n          \"0 A 23-year-old man is brought to the emergency department by his mother because of a change in his personality.\\n1 The mother reports that over the past 7 months her son has become increasingly withdrawn; he has not answered any phone calls or visited his family and friends.\\n2 He had always been a quiet boy, who needed some time on his own, but he used to meet with friends at least once a week.\\n3 The patient says that he cannot leave the house because aliens are watching him and \\u00e2\\u20ac\\u0153stealing his thoughts\\u00e2\\u20ac\\u009d.\\n4 He does not drink alcohol.\\n5 He used to smoke marijuana occasionally but quit 1 year ago.\\n6 His vital signs are within normal limits.\\n7 Physical examination shows no abnormalities.\\n8 On mental status examination, it is impossible to follow the patient's sequence of thoughts.\\n9 He is anxious and has a flat affect.\\n10 The patient is diagnosed with schizophreniform disorder.\\n\",\n          \"0 Five days after undergoing an open abdominal aortic aneurysm repair, a 68-year-old woman has crampy abdominal pain.\\n1 During this period, she has also had two episodes of loose, bloody stools.\\n2 Her surgery was complicated by severe blood loss requiring the administration of vasopressors and multiple transfusions.\\n3 Cefazolin was administered as a perioperative antibiotic.\\n4 The patient has hypertension, hypercholesterolemia, and coronary artery disease.\\n5 The patient has smoked 2 packs of cigarettes daily for 50 years and drinks 3\\u00e2\\u20ac\\u201c4 glasses of wine every week.\\n6 Her current medications include hydrochlorothiazide, atorvastatin, amlodipine, aspirin, and metoprolol.\\n7 She appears ill.\\n8 Her temperature is 38.0 C (100.4 F), pulse is 110/min, and blood pressure is 96/58 mm\\n9 Hg.\\n10 Based on exam and imaging findings, the patient was diagnosed with abdominal compartment syndrome. .\\n11 Physical examination showed a distended abdomen with absent bowel sounds.\\n12 The abdomen was exquisitely tender to palpation in all quadrants.\\n13 The lungs were clear to auscultation.\\n14 Cardiac examination showed an S4 gallop.\\n15 An x-ray of the abdomen showed air-filled distended bowel.\\n0 Five days after undergoing an open abdominal aortic aneurysm repair, a 68-year-old woman has crampy abdominal pain.\\n1 During this period, she has also had two episodes of loose, bloody stools.\\n2 Her surgery was complicated by severe blood loss requiring the administration of vasopressors and multiple transfusions.\\n3 Cefazolin was administered as a perioperative antibiotic.\\n4 The patient has hypertension, hypercholesterolemia, and coronary artery disease.\\n5 The patient has smoked 2 packs of cigarettes daily for 50 years and drinks 3\\u00e2\\u20ac\\u201c4 glasses of wine every week.\\n6 Her current medications include hydrochlorothiazide, atorvastatin, amlodipine, aspirin, and metoprolol.\\n7 She appears ill.\\n8 Her temperature is 38.0 C (100.4 F), pulse is 110/min, and blood pressure is 96/58 mm\\n9 Hg.\\n10 Physical examination shows a distended abdomen with absent bowel sounds.\\n11 The abdomen is exquisitely tender to palpation in all quadrants.\\n12 The lungs are clear to auscultation.\\n13 Cardiac examination shows an S4 gallop.\\n14 An x-ray of the abdomen shows air-filled distended bowel.\\n15 Patient was diagnosed with ischemic colitis.\\n\"\n        ],\n        \"semantic_type\": \"\",\n        \"description\": \"\"\n      }\n    },\n    {\n      \"column\": \"Error Flag\",\n      \"properties\": {\n        \"dtype\": \"number\",\n        \"std\": 0,\n        \"min\": 0,\n        \"max\": 1,\n        \"num_unique_values\": 2,\n        \"samples\": [\n          0,\n          1\n        ],\n        \"semantic_type\": \"\",\n        \"description\": \"\"\n      }\n    },\n    {\n      \"column\": \"Error Sentence ID\",\n      \"properties\": {\n        \"dtype\": \"number\",\n        \"std\": 6,\n        \"min\": -1,\n        \"max\": 34,\n        \"num_unique_values\": 34,\n        \"samples\": [\n          16,\n          30\n        ],\n        \"semantic_type\": \"\",\n        \"description\": \"\"\n      }\n    },\n    {\n      \"column\": \"Error Sentence\",\n      \"properties\": {\n        \"dtype\": \"string\",\n        \"num_unique_values\": 319,\n        \"samples\": [\n          \"Suspected of protein malnutrition.\",\n          \"Prednisone is prescribed to the patient after an initial radiograph of the hip is unremarkable.\"\n        ],\n        \"semantic_type\": \"\",\n        \"description\": \"\"\n      }\n    },\n    {\n      \"column\": \"Corrected Sentence\",\n      \"properties\": {\n        \"dtype\": \"string\",\n        \"num_unique_values\": 319,\n        \"samples\": [\n          \"Suspected of cystic fibrosis.\",\n          \"Ibuprofen is started after an initial radiograph of the hip is unremarkable.\"\n        ],\n        \"semantic_type\": \"\",\n        \"description\": \"\"\n      }\n    },\n    {\n      \"column\": \"Corrected Text\",\n      \"properties\": {\n        \"dtype\": \"string\",\n        \"num_unique_values\": 319,\n        \"samples\": [\n          \"A 14-year-old boy is brought to the physician because of increasing swelling of his legs and generalized fatigue for 1 month. During this period he has also had a productive cough and shortness of breath. He has been unable to carry out his daily activities. He has a history of recurrent respiratory tract infections and chronic nasal congestion since childhood. He has a 3-month history of foul-smelling and greasy stools. He is at 4th percentile for height and weight. His temperature is 37 C (98.6 F), pulse is 112/min, respirations are 23/min, and blood pressure is 104/64 mm Hg. Examination shows clubbing of his fingers and scoliosis. There is 2+ pitting edema of the lower extremities. Jugular venous distention is present. Inspiratory crackles are heard in the thorax. Cardiac examination shows a loud S2. The abdomen is mildly distended and the liver is palpated 2 cm below the right costal margin. Hepato-jugular reflux is present. Suspected of cystic fibrosis.\",\n          \"A 7-year-old boy presents with right hip pain for the past 2 days. He reports gradual onset of pain and states it hurts to walk. He had a recent cold last week but is otherwise healthy. His temperature is 98.2 F (36.8 C), blood pressure is 107/70 mm Hg, pulse is 90/min, respiratory rate is 19/min, and oxygen saturation is 98% on room air. Physical exam reveals no swelling or warmth surrounding the joint. The patient is sitting with the right hip flexed, abducted, and externally rotated. Passive range of motion of the hip causes discomfort. The patient is able to ambulate but states it hurts. Ibuprofen is started after an initial radiograph of the hip is unremarkable. The patient's CRP is 0.10 mg/L.\"\n        ],\n        \"semantic_type\": \"\",\n        \"description\": \"\"\n      }\n    }\n  ]\n}"
            }
          },
          "metadata": {},
          "execution_count": 5
        }
      ],
      "source": [
        "df = pd.read_csv('MEDIQA-CORR-2024-MS-ValidationSet-1-Full.csv', delimiter=',', encoding='utf-8')\n",
        "# df= df.drop(['Error Sentence ID', 'Error Sentence', 'Corrected Sentence', 'Corrected Text'], axis=1)\n",
        "df.head()"
      ]
    },
    {
      "cell_type": "code",
      "execution_count": 6,
      "metadata": {
        "colab": {
          "base_uri": "https://localhost:8080/"
        },
        "id": "9ejTL1FSS7mZ",
        "outputId": "324d58d6-a704-4abc-cbc4-81331589fe24"
      },
      "outputs": [
        {
          "output_type": "execute_result",
          "data": {
            "text/plain": [
              "(Unnamed: 0     int64\n",
              " Text ID       object\n",
              " Text          object\n",
              " Sentences     object\n",
              " Error Flag     int64\n",
              " dtype: object,\n",
              " Index(['Unnamed: 0', 'Text ID', 'Text', 'Sentences', 'Error Flag'], dtype='object'),\n",
              "    Unnamed: 0   Text ID                                               Text  \\\n",
              " 0           0  ms-val-0  A 24-year-old woman comes to the emergency dep...   \n",
              " 1           1  ms-val-1  A 24-year-old woman comes to the emergency dep...   \n",
              " 2           2  ms-val-2  A 43-year-old woman comes to the physician bec...   \n",
              " 3           3  ms-val-3  A 4-year-old is brought into the emeregency ro...   \n",
              " 4           4  ms-val-4  A previously healthy 25-year-old man comes to ...   \n",
              " \n",
              "                                            Sentences  Error Flag  \\\n",
              " 0  0 A 24-year-old woman comes to the emergency d...           1   \n",
              " 1  0 A 24-year-old woman comes to the emergency d...           0   \n",
              " 2  0 A 43-year-old woman comes to the physician b...           1   \n",
              " 3  0 A 4-year-old is brought into the emeregency ...           1   \n",
              " 4  0 A previously healthy 25-year-old man comes t...           1   \n",
              " \n",
              "    Error Sentence ID                                     Error Sentence  \\\n",
              " 0                  5      Culture tests indicate Neisseria gonorrhoeae.   \n",
              " 1                 -1                                                NaN   \n",
              " 2                 24  Pathology confirms Streptococcus pneumoniae is...   \n",
              " 3                  4  Laboratory studies confirm that he has a respi...   \n",
              " 4                  0  A previously healthy 25-year-old man comes to ...   \n",
              " \n",
              "                                   Corrected Sentence  \\\n",
              " 0      Culture tests indicate Trichomonas vaginalis.   \n",
              " 1                                                NaN   \n",
              " 2  Pathology confirms Mycoplasma pneumoniae is th...   \n",
              " 3  Laboratory studies confirm that he has parainf...   \n",
              " 4  A previously healthy 25-year-old man comes to ...   \n",
              " \n",
              "                                       Corrected Text  \n",
              " 0  A 24-year-old woman comes to the emergency dep...  \n",
              " 1                                                NaN  \n",
              " 2  A 43-year-old woman comes to the physician bec...  \n",
              " 3  A 4-year-old is brought into the emeregency ro...  \n",
              " 4  A previously healthy 25-year-old man comes to ...  )"
            ]
          },
          "metadata": {},
          "execution_count": 6
        }
      ],
      "source": [
        "# Analizamos las primeras 5 columnas para obtener sus tipos de datos y otras características\n",
        "column_info = df.dtypes\n",
        "\n",
        "# Analizamos los nombres de las columnas para identificar las primeras 5\n",
        "column_names = df.columns[:5]\n",
        "\n",
        "# Extraemos ejemplos de datos de las primeras 5 columnas para entender mejor su contenido\n",
        "sample_data = df.head()\n",
        "\n",
        "column_info[:5], column_names, sample_data"
      ]
    },
    {
      "cell_type": "code",
      "execution_count": 7,
      "metadata": {
        "colab": {
          "base_uri": "https://localhost:8080/"
        },
        "id": "9lGkJCrtS7ma",
        "outputId": "944b281e-fde6-4a54-8d43-5ae6d21b3ba4"
      },
      "outputs": [
        {
          "output_type": "stream",
          "name": "stdout",
          "text": [
            "Número de datos faltantes en Unnamed: 0: 0\n",
            "Número de datos faltantes en Text ID: 0\n",
            "Número de datos faltantes en Text: 0\n",
            "Número de datos faltantes en Sentences: 0\n",
            "Número de datos faltantes en Error Flag: 0\n"
          ]
        }
      ],
      "source": [
        "# Revisar los valores nulos\n",
        "df.replace('', np.nan, inplace=True)\n",
        "\n",
        "# Lista de columnas a revisar\n",
        "columns_to_check = ['Unnamed: 0', 'Text ID', 'Text', 'Sentences', 'Error Flag']\n",
        "\n",
        "#  Iterar sobre cada columna y contar los valores nulos\n",
        "for column in columns_to_check:\n",
        "    # Contar los valores nulos en la columna\n",
        "    missing_count = df[column].isnull().sum()\n",
        "    print(f'Número de datos faltantes en {column}: {missing_count}')\n"
      ]
    },
    {
      "cell_type": "code",
      "execution_count": 8,
      "metadata": {
        "colab": {
          "base_uri": "https://localhost:8080/"
        },
        "id": "J4NOH30PS7mb",
        "outputId": "13e03770-626d-4e46-d2ae-df583d4863a3"
      },
      "outputs": [
        {
          "output_type": "execute_result",
          "data": {
            "text/plain": [
              "Text ID       1148\n",
              "Text          6573\n",
              "Sentences    19822\n",
              "dtype: int64"
            ]
          },
          "metadata": {},
          "execution_count": 8
        }
      ],
      "source": [
        "import re\n",
        "\n",
        "special_char_pattern = re.compile(r'[^a-zA-Z0-9 \\.,!?]')\n",
        "\n",
        "# Re-definir la lista de columnas a revisar para caracteres especiales\n",
        "columns_to_check = ['Text ID', 'Text', 'Sentences']\n",
        "\n",
        "# Contar los caracteres especiales en las columnas de texto seleccionadas\n",
        "special_characters_counts = df[columns_to_check].applymap(lambda x: len(special_char_pattern.findall(x)) if pd.notnull(x) else 0)\n",
        "\n",
        "# Calcular el total de caracteres especiales por columna\n",
        "total_special_characters_per_column = special_characters_counts.sum()\n",
        "\n",
        "total_special_characters_per_column\n"
      ]
    },
    {
      "cell_type": "code",
      "execution_count": 9,
      "metadata": {
        "colab": {
          "base_uri": "https://localhost:8080/"
        },
        "id": "MDPSiEeZS7mb",
        "outputId": "e70bd020-9c0b-46ad-f88a-ac8657e2e3ef"
      },
      "outputs": [
        {
          "output_type": "execute_result",
          "data": {
            "text/plain": [
              "Counter({'-': 1944,\n",
              "         \"'\": 154,\n",
              "         '/': 1473,\n",
              "         '(': 451,\n",
              "         ')': 451,\n",
              "         ':': 230,\n",
              "         '\\n': 864,\n",
              "         '+': 117,\n",
              "         ';': 93,\n",
              "         'â': 171,\n",
              "         '‰': 4,\n",
              "         '¥': 4,\n",
              "         'Î': 22,\n",
              "         '¼': 16,\n",
              "         '=': 18,\n",
              "         '€': 159,\n",
              "         '“': 67,\n",
              "         '%': 163,\n",
              "         '^': 15,\n",
              "         '>': 5,\n",
              "         'œ': 39,\n",
              "         '\\x9d': 39,\n",
              "         'Ë': 2,\n",
              "         'š': 2,\n",
              "         '<': 16,\n",
              "         '\"': 6,\n",
              "         '™': 14,\n",
              "         '±': 6,\n",
              "         'Ã': 6,\n",
              "         '©': 1,\n",
              "         'ˆ': 8,\n",
              "         '’': 8,\n",
              "         'Ÿ': 5})"
            ]
          },
          "metadata": {},
          "execution_count": 9
        }
      ],
      "source": [
        "from collections import Counter\n",
        "\n",
        "# Extraer todos los caracteres especiales encontrados en la columna 'Text'\n",
        "all_special_characters_text_id = ''.join(df['Text'].apply(lambda x: ''.join(special_char_pattern.findall(x))))\n",
        "\n",
        "# Contar la frecuencia de cada caracter especial\n",
        "special_character_frequencies_text_id = Counter(all_special_characters_text_id)\n",
        "\n",
        "special_character_frequencies_text_id\n"
      ]
    },
    {
      "cell_type": "code",
      "execution_count": 10,
      "metadata": {
        "colab": {
          "base_uri": "https://localhost:8080/"
        },
        "id": "yD3RIJngS7mc",
        "outputId": "7d7aa29f-6e41-4adc-8344-26a7292baf76"
      },
      "outputs": [
        {
          "output_type": "execute_result",
          "data": {
            "text/plain": [
              "0    A 24-year-old woman comes to the emergency dep...\n",
              "1    A 24-year-old woman comes to the emergency dep...\n",
              "2    A 43-year-old woman comes to the physician bec...\n",
              "3    A 4-year-old is brought into the emeregency ro...\n",
              "4    A previously healthy 25-year-old man comes to ...\n",
              "Name: Text, dtype: object"
            ]
          },
          "metadata": {},
          "execution_count": 10
        }
      ],
      "source": [
        "# Reemplazar caracteres especiales por su equivalente en texto\n",
        "replacements = {\n",
        "    \"â€\\x9d\": \" \",\n",
        "    \".â€\\x9d\": \".\",\n",
        "    \"â€“\": \"-\",\n",
        "    \"â€œsomething\": \"something\",\n",
        "    \"patientâ€™s\": \"patients\",\n",
        "    \"â‰¥\": \"≥\",\n",
        "    \"\\n\": \",\",\n",
        "    \"â€œ\": \"\",\n",
        "    \"Waldenstromâ€™s\": \"Waldenströms\",\n",
        "    \"Âµmol/L\": \"µmol/L\",\n",
        "    \"â€œmemory\": \"memory\",\n",
        "    \"weeksâ€™\": \"weeks\",\n",
        "    \"74 Î¼m3\": \"74 μm^3\",\n",
        "    \"ÂµIU/L\": \"µIU/L\",\n",
        "    \"â‰¤\": \"≤\",\n",
        "    \"Clâˆ’\": \"Cl-\",\n",
        "    \"physicianâ€™s\": \"physicians\",\n",
        "    \"ÂºF\": \"ºF\",\n",
        "    \"âˆ’\": \"-\",\n",
        "    \"Â½\": \"½\",\n",
        "    \"Î¼g/dL\": \"μg/dL\",\n",
        "    \"pediatricianâ€™s\": \"pediatricians\",\n",
        "    \"yearsâ€™\": \"years\",\n",
        "    \"Âµg\": \"µg\",\n",
        "    \"â€\": \"\",\n",
        "    \"Kennedyâ€™s\": \"Kennedys\",\n",
        "    \"Kennedy™s\": \"Kennedys\",\n",
        "    \"can™t\": \"can't\",\n",
        "    \"Î²\": \"β\",\n",
        "    \"Ã—\": \"x\",\n",
        "    \"ÃŸ-hCG\": \"β-hCG\",\n",
        "    \"SÃ©quard\": \"Séquard\",\n",
        "    \"Î³\": \"γ\",\n",
        "    \"Î¼m3\": \"μm^3\",\n",
        "    \"Î±\": \"α\",\n",
        "    \"Î¼U/mL\": \"μU/mL\",\n",
        "    \"Î¼\": \"μ\",\n",
        "    \"'\": \" \",\n",
        "    \"\\\"\":\"\" #Este lo dejo a consideracion, dependiendo si les funciona o no\n",
        "}\n",
        "\n",
        "# Aplicar todas las sustituciones\n",
        "for old, new in replacements.items():\n",
        "    df['Text'] = df['Text'].str.replace(old, new, regex=False)\n",
        "\n",
        "# Verificar el reemplazo\n",
        "df['Text'].head()\n"
      ]
    },
    {
      "cell_type": "code",
      "source": [
        "import pandas as pd\n",
        "import re\n",
        "\n",
        "# Suponiendo que df es tu DataFrame\n",
        "\n",
        "# Función para aplicar todas las transformaciones no regex en una sola pasada\n",
        "def optimize_text(text):\n",
        "    # Aplicar transformaciones no regex\n",
        "    text = text.strip().replace(\"Cl- \", \"Cl \").replace(\"'\", \"\").replace(\"’\", \"\")\n",
        "    text = text.replace(\":,\", \":\").replace(',_', ',').replace('[', '').replace(']', '')\n",
        "    text = text.replace(';', ',').replace('.,', '.').replace('mg dl', 'mg/dl')\n",
        "    text = text.replace('é', 'e').replace('patient s', 'patients').replace('girl s', 'girls')\n",
        "    text = text.replace('gilbert s', 'gilberts').replace(\".'\", \".\").replace(\",'\", \",\")\n",
        "    text = text.replace(\"',\", \",\").lower()  # Convertir a minúsculas aquí para optimizar\n",
        "    return text\n",
        "\n",
        "# Aplicar optimizaciones no regex\n",
        "df['Text'] = df['Text'].apply(optimize_text)\n",
        "\n",
        "# Aplicar optimizaciones con regex\n",
        "df['Text'] = df['Text'].str.replace(r',,', ',', regex=True)\n",
        "df['Text'] = df['Text'].str.replace(r'  +', ' ', regex=True)\n",
        "df['Text'] = df['Text'].str.replace('mm hg', 'mmHg', flags=re.IGNORECASE, regex=True)"
      ],
      "metadata": {
        "id": "AGlCvH4GZViC"
      },
      "execution_count": 11,
      "outputs": []
    },
    {
      "cell_type": "code",
      "execution_count": 12,
      "metadata": {
        "colab": {
          "base_uri": "https://localhost:8080/"
        },
        "id": "R0-pHePtS7me",
        "outputId": "4fb67079-b183-43d8-bab1-b8f45790e30b"
      },
      "outputs": [
        {
          "output_type": "stream",
          "name": "stdout",
          "text": [
            "0      a 24-year-old woman comes to the emergency dep...\n",
            "1      a 24-year-old woman comes to the emergency dep...\n",
            "2      a 43-year-old woman comes to the physician bec...\n",
            "3      a 4-year-old is brought into the emeregency ro...\n",
            "4      a previously healthy 25-year-old man comes to ...\n",
            "                             ...                        \n",
            "569    a 20-year-old woman presents to the emergency ...\n",
            "570    a 20-year-old woman presents to the emergency ...\n",
            "571    a 26-year-old male comes into your clinic comp...\n",
            "572    a 56-year-old woman with a history of alcoholi...\n",
            "573    a 56-year-old woman with a history of alcoholi...\n",
            "Name: Text, Length: 574, dtype: object\n"
          ]
        }
      ],
      "source": [
        "print(df['Text'])"
      ]
    },
    {
      "cell_type": "code",
      "execution_count": 13,
      "metadata": {
        "colab": {
          "base_uri": "https://localhost:8080/",
          "height": 310
        },
        "id": "Oru2qKcmS7mf",
        "outputId": "de805cb3-528e-4a87-d122-44705441c92b"
      },
      "outputs": [
        {
          "output_type": "execute_result",
          "data": {
            "text/plain": [
              "   Unnamed: 0   Text ID                                               Text  \\\n",
              "0           0  ms-val-0  a 24-year-old woman comes to the emergency dep...   \n",
              "1           1  ms-val-1  a 24-year-old woman comes to the emergency dep...   \n",
              "2           2  ms-val-2  a 43-year-old woman comes to the physician bec...   \n",
              "3           3  ms-val-3  a 4-year-old is brought into the emeregency ro...   \n",
              "4           4  ms-val-4  a previously healthy 25-year-old man comes to ...   \n",
              "\n",
              "                                           Sentences  Error Flag  \\\n",
              "0  0 A 24-year-old woman comes to the emergency d...           1   \n",
              "1  0 A 24-year-old woman comes to the emergency d...           0   \n",
              "2  0 A 43-year-old woman comes to the physician b...           1   \n",
              "3  0 A 4-year-old is brought into the emeregency ...           1   \n",
              "4  0 A previously healthy 25-year-old man comes t...           1   \n",
              "\n",
              "   Error Sentence ID                                     Error Sentence  \\\n",
              "0                  5      Culture tests indicate Neisseria gonorrhoeae.   \n",
              "1                 -1                                                NaN   \n",
              "2                 24  Pathology confirms Streptococcus pneumoniae is...   \n",
              "3                  4  Laboratory studies confirm that he has a respi...   \n",
              "4                  0  A previously healthy 25-year-old man comes to ...   \n",
              "\n",
              "                                  Corrected Sentence  \\\n",
              "0      Culture tests indicate Trichomonas vaginalis.   \n",
              "1                                                NaN   \n",
              "2  Pathology confirms Mycoplasma pneumoniae is th...   \n",
              "3  Laboratory studies confirm that he has parainf...   \n",
              "4  A previously healthy 25-year-old man comes to ...   \n",
              "\n",
              "                                      Corrected Text  \n",
              "0  A 24-year-old woman comes to the emergency dep...  \n",
              "1                                                NaN  \n",
              "2  A 43-year-old woman comes to the physician bec...  \n",
              "3  A 4-year-old is brought into the emeregency ro...  \n",
              "4  A previously healthy 25-year-old man comes to ...  "
            ],
            "text/html": [
              "\n",
              "  <div id=\"df-b86ed03d-4ba8-433f-8107-24ae925b3a07\" class=\"colab-df-container\">\n",
              "    <div>\n",
              "<style scoped>\n",
              "    .dataframe tbody tr th:only-of-type {\n",
              "        vertical-align: middle;\n",
              "    }\n",
              "\n",
              "    .dataframe tbody tr th {\n",
              "        vertical-align: top;\n",
              "    }\n",
              "\n",
              "    .dataframe thead th {\n",
              "        text-align: right;\n",
              "    }\n",
              "</style>\n",
              "<table border=\"1\" class=\"dataframe\">\n",
              "  <thead>\n",
              "    <tr style=\"text-align: right;\">\n",
              "      <th></th>\n",
              "      <th>Unnamed: 0</th>\n",
              "      <th>Text ID</th>\n",
              "      <th>Text</th>\n",
              "      <th>Sentences</th>\n",
              "      <th>Error Flag</th>\n",
              "      <th>Error Sentence ID</th>\n",
              "      <th>Error Sentence</th>\n",
              "      <th>Corrected Sentence</th>\n",
              "      <th>Corrected Text</th>\n",
              "    </tr>\n",
              "  </thead>\n",
              "  <tbody>\n",
              "    <tr>\n",
              "      <th>0</th>\n",
              "      <td>0</td>\n",
              "      <td>ms-val-0</td>\n",
              "      <td>a 24-year-old woman comes to the emergency dep...</td>\n",
              "      <td>0 A 24-year-old woman comes to the emergency d...</td>\n",
              "      <td>1</td>\n",
              "      <td>5</td>\n",
              "      <td>Culture tests indicate Neisseria gonorrhoeae.</td>\n",
              "      <td>Culture tests indicate Trichomonas vaginalis.</td>\n",
              "      <td>A 24-year-old woman comes to the emergency dep...</td>\n",
              "    </tr>\n",
              "    <tr>\n",
              "      <th>1</th>\n",
              "      <td>1</td>\n",
              "      <td>ms-val-1</td>\n",
              "      <td>a 24-year-old woman comes to the emergency dep...</td>\n",
              "      <td>0 A 24-year-old woman comes to the emergency d...</td>\n",
              "      <td>0</td>\n",
              "      <td>-1</td>\n",
              "      <td>NaN</td>\n",
              "      <td>NaN</td>\n",
              "      <td>NaN</td>\n",
              "    </tr>\n",
              "    <tr>\n",
              "      <th>2</th>\n",
              "      <td>2</td>\n",
              "      <td>ms-val-2</td>\n",
              "      <td>a 43-year-old woman comes to the physician bec...</td>\n",
              "      <td>0 A 43-year-old woman comes to the physician b...</td>\n",
              "      <td>1</td>\n",
              "      <td>24</td>\n",
              "      <td>Pathology confirms Streptococcus pneumoniae is...</td>\n",
              "      <td>Pathology confirms Mycoplasma pneumoniae is th...</td>\n",
              "      <td>A 43-year-old woman comes to the physician bec...</td>\n",
              "    </tr>\n",
              "    <tr>\n",
              "      <th>3</th>\n",
              "      <td>3</td>\n",
              "      <td>ms-val-3</td>\n",
              "      <td>a 4-year-old is brought into the emeregency ro...</td>\n",
              "      <td>0 A 4-year-old is brought into the emeregency ...</td>\n",
              "      <td>1</td>\n",
              "      <td>4</td>\n",
              "      <td>Laboratory studies confirm that he has a respi...</td>\n",
              "      <td>Laboratory studies confirm that he has parainf...</td>\n",
              "      <td>A 4-year-old is brought into the emeregency ro...</td>\n",
              "    </tr>\n",
              "    <tr>\n",
              "      <th>4</th>\n",
              "      <td>4</td>\n",
              "      <td>ms-val-4</td>\n",
              "      <td>a previously healthy 25-year-old man comes to ...</td>\n",
              "      <td>0 A previously healthy 25-year-old man comes t...</td>\n",
              "      <td>1</td>\n",
              "      <td>0</td>\n",
              "      <td>A previously healthy 25-year-old man comes to ...</td>\n",
              "      <td>A previously healthy 25-year-old man comes to ...</td>\n",
              "      <td>A previously healthy 25-year-old man comes to ...</td>\n",
              "    </tr>\n",
              "  </tbody>\n",
              "</table>\n",
              "</div>\n",
              "    <div class=\"colab-df-buttons\">\n",
              "\n",
              "  <div class=\"colab-df-container\">\n",
              "    <button class=\"colab-df-convert\" onclick=\"convertToInteractive('df-b86ed03d-4ba8-433f-8107-24ae925b3a07')\"\n",
              "            title=\"Convert this dataframe to an interactive table.\"\n",
              "            style=\"display:none;\">\n",
              "\n",
              "  <svg xmlns=\"http://www.w3.org/2000/svg\" height=\"24px\" viewBox=\"0 -960 960 960\">\n",
              "    <path d=\"M120-120v-720h720v720H120Zm60-500h600v-160H180v160Zm220 220h160v-160H400v160Zm0 220h160v-160H400v160ZM180-400h160v-160H180v160Zm440 0h160v-160H620v160ZM180-180h160v-160H180v160Zm440 0h160v-160H620v160Z\"/>\n",
              "  </svg>\n",
              "    </button>\n",
              "\n",
              "  <style>\n",
              "    .colab-df-container {\n",
              "      display:flex;\n",
              "      gap: 12px;\n",
              "    }\n",
              "\n",
              "    .colab-df-convert {\n",
              "      background-color: #E8F0FE;\n",
              "      border: none;\n",
              "      border-radius: 50%;\n",
              "      cursor: pointer;\n",
              "      display: none;\n",
              "      fill: #1967D2;\n",
              "      height: 32px;\n",
              "      padding: 0 0 0 0;\n",
              "      width: 32px;\n",
              "    }\n",
              "\n",
              "    .colab-df-convert:hover {\n",
              "      background-color: #E2EBFA;\n",
              "      box-shadow: 0px 1px 2px rgba(60, 64, 67, 0.3), 0px 1px 3px 1px rgba(60, 64, 67, 0.15);\n",
              "      fill: #174EA6;\n",
              "    }\n",
              "\n",
              "    .colab-df-buttons div {\n",
              "      margin-bottom: 4px;\n",
              "    }\n",
              "\n",
              "    [theme=dark] .colab-df-convert {\n",
              "      background-color: #3B4455;\n",
              "      fill: #D2E3FC;\n",
              "    }\n",
              "\n",
              "    [theme=dark] .colab-df-convert:hover {\n",
              "      background-color: #434B5C;\n",
              "      box-shadow: 0px 1px 3px 1px rgba(0, 0, 0, 0.15);\n",
              "      filter: drop-shadow(0px 1px 2px rgba(0, 0, 0, 0.3));\n",
              "      fill: #FFFFFF;\n",
              "    }\n",
              "  </style>\n",
              "\n",
              "    <script>\n",
              "      const buttonEl =\n",
              "        document.querySelector('#df-b86ed03d-4ba8-433f-8107-24ae925b3a07 button.colab-df-convert');\n",
              "      buttonEl.style.display =\n",
              "        google.colab.kernel.accessAllowed ? 'block' : 'none';\n",
              "\n",
              "      async function convertToInteractive(key) {\n",
              "        const element = document.querySelector('#df-b86ed03d-4ba8-433f-8107-24ae925b3a07');\n",
              "        const dataTable =\n",
              "          await google.colab.kernel.invokeFunction('convertToInteractive',\n",
              "                                                    [key], {});\n",
              "        if (!dataTable) return;\n",
              "\n",
              "        const docLinkHtml = 'Like what you see? Visit the ' +\n",
              "          '<a target=\"_blank\" href=https://colab.research.google.com/notebooks/data_table.ipynb>data table notebook</a>'\n",
              "          + ' to learn more about interactive tables.';\n",
              "        element.innerHTML = '';\n",
              "        dataTable['output_type'] = 'display_data';\n",
              "        await google.colab.output.renderOutput(dataTable, element);\n",
              "        const docLink = document.createElement('div');\n",
              "        docLink.innerHTML = docLinkHtml;\n",
              "        element.appendChild(docLink);\n",
              "      }\n",
              "    </script>\n",
              "  </div>\n",
              "\n",
              "\n",
              "<div id=\"df-881f678c-5081-41c5-bf1e-1fd637acac1f\">\n",
              "  <button class=\"colab-df-quickchart\" onclick=\"quickchart('df-881f678c-5081-41c5-bf1e-1fd637acac1f')\"\n",
              "            title=\"Suggest charts\"\n",
              "            style=\"display:none;\">\n",
              "\n",
              "<svg xmlns=\"http://www.w3.org/2000/svg\" height=\"24px\"viewBox=\"0 0 24 24\"\n",
              "     width=\"24px\">\n",
              "    <g>\n",
              "        <path d=\"M19 3H5c-1.1 0-2 .9-2 2v14c0 1.1.9 2 2 2h14c1.1 0 2-.9 2-2V5c0-1.1-.9-2-2-2zM9 17H7v-7h2v7zm4 0h-2V7h2v10zm4 0h-2v-4h2v4z\"/>\n",
              "    </g>\n",
              "</svg>\n",
              "  </button>\n",
              "\n",
              "<style>\n",
              "  .colab-df-quickchart {\n",
              "      --bg-color: #E8F0FE;\n",
              "      --fill-color: #1967D2;\n",
              "      --hover-bg-color: #E2EBFA;\n",
              "      --hover-fill-color: #174EA6;\n",
              "      --disabled-fill-color: #AAA;\n",
              "      --disabled-bg-color: #DDD;\n",
              "  }\n",
              "\n",
              "  [theme=dark] .colab-df-quickchart {\n",
              "      --bg-color: #3B4455;\n",
              "      --fill-color: #D2E3FC;\n",
              "      --hover-bg-color: #434B5C;\n",
              "      --hover-fill-color: #FFFFFF;\n",
              "      --disabled-bg-color: #3B4455;\n",
              "      --disabled-fill-color: #666;\n",
              "  }\n",
              "\n",
              "  .colab-df-quickchart {\n",
              "    background-color: var(--bg-color);\n",
              "    border: none;\n",
              "    border-radius: 50%;\n",
              "    cursor: pointer;\n",
              "    display: none;\n",
              "    fill: var(--fill-color);\n",
              "    height: 32px;\n",
              "    padding: 0;\n",
              "    width: 32px;\n",
              "  }\n",
              "\n",
              "  .colab-df-quickchart:hover {\n",
              "    background-color: var(--hover-bg-color);\n",
              "    box-shadow: 0 1px 2px rgba(60, 64, 67, 0.3), 0 1px 3px 1px rgba(60, 64, 67, 0.15);\n",
              "    fill: var(--button-hover-fill-color);\n",
              "  }\n",
              "\n",
              "  .colab-df-quickchart-complete:disabled,\n",
              "  .colab-df-quickchart-complete:disabled:hover {\n",
              "    background-color: var(--disabled-bg-color);\n",
              "    fill: var(--disabled-fill-color);\n",
              "    box-shadow: none;\n",
              "  }\n",
              "\n",
              "  .colab-df-spinner {\n",
              "    border: 2px solid var(--fill-color);\n",
              "    border-color: transparent;\n",
              "    border-bottom-color: var(--fill-color);\n",
              "    animation:\n",
              "      spin 1s steps(1) infinite;\n",
              "  }\n",
              "\n",
              "  @keyframes spin {\n",
              "    0% {\n",
              "      border-color: transparent;\n",
              "      border-bottom-color: var(--fill-color);\n",
              "      border-left-color: var(--fill-color);\n",
              "    }\n",
              "    20% {\n",
              "      border-color: transparent;\n",
              "      border-left-color: var(--fill-color);\n",
              "      border-top-color: var(--fill-color);\n",
              "    }\n",
              "    30% {\n",
              "      border-color: transparent;\n",
              "      border-left-color: var(--fill-color);\n",
              "      border-top-color: var(--fill-color);\n",
              "      border-right-color: var(--fill-color);\n",
              "    }\n",
              "    40% {\n",
              "      border-color: transparent;\n",
              "      border-right-color: var(--fill-color);\n",
              "      border-top-color: var(--fill-color);\n",
              "    }\n",
              "    60% {\n",
              "      border-color: transparent;\n",
              "      border-right-color: var(--fill-color);\n",
              "    }\n",
              "    80% {\n",
              "      border-color: transparent;\n",
              "      border-right-color: var(--fill-color);\n",
              "      border-bottom-color: var(--fill-color);\n",
              "    }\n",
              "    90% {\n",
              "      border-color: transparent;\n",
              "      border-bottom-color: var(--fill-color);\n",
              "    }\n",
              "  }\n",
              "</style>\n",
              "\n",
              "  <script>\n",
              "    async function quickchart(key) {\n",
              "      const quickchartButtonEl =\n",
              "        document.querySelector('#' + key + ' button');\n",
              "      quickchartButtonEl.disabled = true;  // To prevent multiple clicks.\n",
              "      quickchartButtonEl.classList.add('colab-df-spinner');\n",
              "      try {\n",
              "        const charts = await google.colab.kernel.invokeFunction(\n",
              "            'suggestCharts', [key], {});\n",
              "      } catch (error) {\n",
              "        console.error('Error during call to suggestCharts:', error);\n",
              "      }\n",
              "      quickchartButtonEl.classList.remove('colab-df-spinner');\n",
              "      quickchartButtonEl.classList.add('colab-df-quickchart-complete');\n",
              "    }\n",
              "    (() => {\n",
              "      let quickchartButtonEl =\n",
              "        document.querySelector('#df-881f678c-5081-41c5-bf1e-1fd637acac1f button');\n",
              "      quickchartButtonEl.style.display =\n",
              "        google.colab.kernel.accessAllowed ? 'block' : 'none';\n",
              "    })();\n",
              "  </script>\n",
              "</div>\n",
              "\n",
              "    </div>\n",
              "  </div>\n"
            ],
            "application/vnd.google.colaboratory.intrinsic+json": {
              "type": "dataframe",
              "variable_name": "df",
              "summary": "{\n  \"name\": \"df\",\n  \"rows\": 574,\n  \"fields\": [\n    {\n      \"column\": \"Unnamed: 0\",\n      \"properties\": {\n        \"dtype\": \"number\",\n        \"std\": 165,\n        \"min\": 0,\n        \"max\": 573,\n        \"num_unique_values\": 574,\n        \"samples\": [\n          514,\n          70,\n          131\n        ],\n        \"semantic_type\": \"\",\n        \"description\": \"\"\n      }\n    },\n    {\n      \"column\": \"Text ID\",\n      \"properties\": {\n        \"dtype\": \"string\",\n        \"num_unique_values\": 574,\n        \"samples\": [\n          \"ms-val-514\",\n          \"ms-val-70\",\n          \"ms-val-131\"\n        ],\n        \"semantic_type\": \"\",\n        \"description\": \"\"\n      }\n    },\n    {\n      \"column\": \"Text\",\n      \"properties\": {\n        \"dtype\": \"string\",\n        \"num_unique_values\": 574,\n        \"samples\": [\n          \"a 27-year-old woman is brought to the emergency department by her coworker after having a generalized seizure at work. her coworker reports that she is at 30 weeks gestation and has mentioned headache and right upper quadrant pain earlier that day. her temperature is 37 c (98.6 f), pulse is 91/min, and blood pressure is 170/102 mmHg. pulmonary examination shows bilateral rales. there is diffuse edema in the lower extremities. deep tendon reflexes are increased bilaterally. lorazepam is prescribed. she is not oriented to person, place, and time.\",\n          \"a 23-year-old man is brought to the emergency department by his mother because of a change in his personality. the mother reports that over the past 7 months her son has become increasingly withdrawn, he has not answered any phone calls or visited his family and friends. he had always been a quiet boy, who needed some time on his own, but he used to meet with friends at least once a week. the patientsays that he cannot leave the house because aliens are watching him and stealing his thoughts . he does not drink alcohol. he used to smoke marijuana occasionally but quit 1 year ago. his vital signs are within normal limits. physical examination shows no abnormalities. on mental status examination, it is impossible to follow the patients sequence of thoughts. he is anxious and has a flat affect. the patient is diagnosed with schizophreniform disorder.\",\n          \"five days after undergoing an open abdominal aortic aneurysm repair, a 68-year-old woman has crampy abdominal pain. during this period, she has also had two episodes of loose, bloody stools. her surgery was complicated by severe blood loss requiring the administration of vasopressors and multiple transfusions. cefazolin was administered as a perioperative antibiotic. the patient has hypertension, hypercholesterolemia, and coronary artery disease. the patient has smoked 2 packs of cigarettes daily for 50 years and drinks 3-4 glasses of wine every week. her current medications include hydrochlorothiazide, atorvastatin, amlodipine, aspirin, and metoprolol. she appears ill. her temperature is 38.0 c (100.4 f), pulse is 110/min, and blood pressure is 96/58 mmHg. physical examination shows a distended abdomen with absent bowel sounds. the abdomen is exquisitely tender to palpation in all quadrants. the lungs are clear to auscultation. cardiac examination shows an s4 gallop. an x-ray of the abdomen shows air-filled distended bowel. patient was diagnosed with ischemic colitis.\"\n        ],\n        \"semantic_type\": \"\",\n        \"description\": \"\"\n      }\n    },\n    {\n      \"column\": \"Sentences\",\n      \"properties\": {\n        \"dtype\": \"string\",\n        \"num_unique_values\": 574,\n        \"samples\": [\n          \"0 A 27-year-old woman is brought to the emergency department by her coworker after having a generalized seizure at work.\\n1 Her coworker reports that she is at 30 weeks' gestation and has mentioned headache and right upper quadrant pain earlier that day.\\n2 Her temperature is 37 C (98.6 F), pulse is 91/min, and blood pressure is 170/102 mm\\n3 Hg.\\n4 Pulmonary examination shows bilateral rales.\\n5 There is diffuse edema in the lower extremities.\\n6 Deep tendon reflexes are increased bilaterally.\\n7 Lorazepam is prescribed.\\n8 She is not oriented to person, place, and time.\\n\",\n          \"0 A 23-year-old man is brought to the emergency department by his mother because of a change in his personality.\\n1 The mother reports that over the past 7 months her son has become increasingly withdrawn; he has not answered any phone calls or visited his family and friends.\\n2 He had always been a quiet boy, who needed some time on his own, but he used to meet with friends at least once a week.\\n3 The patient says that he cannot leave the house because aliens are watching him and \\u00e2\\u20ac\\u0153stealing his thoughts\\u00e2\\u20ac\\u009d.\\n4 He does not drink alcohol.\\n5 He used to smoke marijuana occasionally but quit 1 year ago.\\n6 His vital signs are within normal limits.\\n7 Physical examination shows no abnormalities.\\n8 On mental status examination, it is impossible to follow the patient's sequence of thoughts.\\n9 He is anxious and has a flat affect.\\n10 The patient is diagnosed with schizophreniform disorder.\\n\",\n          \"0 Five days after undergoing an open abdominal aortic aneurysm repair, a 68-year-old woman has crampy abdominal pain.\\n1 During this period, she has also had two episodes of loose, bloody stools.\\n2 Her surgery was complicated by severe blood loss requiring the administration of vasopressors and multiple transfusions.\\n3 Cefazolin was administered as a perioperative antibiotic.\\n4 The patient has hypertension, hypercholesterolemia, and coronary artery disease.\\n5 The patient has smoked 2 packs of cigarettes daily for 50 years and drinks 3\\u00e2\\u20ac\\u201c4 glasses of wine every week.\\n6 Her current medications include hydrochlorothiazide, atorvastatin, amlodipine, aspirin, and metoprolol.\\n7 She appears ill.\\n8 Her temperature is 38.0 C (100.4 F), pulse is 110/min, and blood pressure is 96/58 mm\\n9 Hg.\\n10 Based on exam and imaging findings, the patient was diagnosed with abdominal compartment syndrome. .\\n11 Physical examination showed a distended abdomen with absent bowel sounds.\\n12 The abdomen was exquisitely tender to palpation in all quadrants.\\n13 The lungs were clear to auscultation.\\n14 Cardiac examination showed an S4 gallop.\\n15 An x-ray of the abdomen showed air-filled distended bowel.\\n0 Five days after undergoing an open abdominal aortic aneurysm repair, a 68-year-old woman has crampy abdominal pain.\\n1 During this period, she has also had two episodes of loose, bloody stools.\\n2 Her surgery was complicated by severe blood loss requiring the administration of vasopressors and multiple transfusions.\\n3 Cefazolin was administered as a perioperative antibiotic.\\n4 The patient has hypertension, hypercholesterolemia, and coronary artery disease.\\n5 The patient has smoked 2 packs of cigarettes daily for 50 years and drinks 3\\u00e2\\u20ac\\u201c4 glasses of wine every week.\\n6 Her current medications include hydrochlorothiazide, atorvastatin, amlodipine, aspirin, and metoprolol.\\n7 She appears ill.\\n8 Her temperature is 38.0 C (100.4 F), pulse is 110/min, and blood pressure is 96/58 mm\\n9 Hg.\\n10 Physical examination shows a distended abdomen with absent bowel sounds.\\n11 The abdomen is exquisitely tender to palpation in all quadrants.\\n12 The lungs are clear to auscultation.\\n13 Cardiac examination shows an S4 gallop.\\n14 An x-ray of the abdomen shows air-filled distended bowel.\\n15 Patient was diagnosed with ischemic colitis.\\n\"\n        ],\n        \"semantic_type\": \"\",\n        \"description\": \"\"\n      }\n    },\n    {\n      \"column\": \"Error Flag\",\n      \"properties\": {\n        \"dtype\": \"number\",\n        \"std\": 0,\n        \"min\": 0,\n        \"max\": 1,\n        \"num_unique_values\": 2,\n        \"samples\": [\n          0,\n          1\n        ],\n        \"semantic_type\": \"\",\n        \"description\": \"\"\n      }\n    },\n    {\n      \"column\": \"Error Sentence ID\",\n      \"properties\": {\n        \"dtype\": \"number\",\n        \"std\": 6,\n        \"min\": -1,\n        \"max\": 34,\n        \"num_unique_values\": 34,\n        \"samples\": [\n          16,\n          30\n        ],\n        \"semantic_type\": \"\",\n        \"description\": \"\"\n      }\n    },\n    {\n      \"column\": \"Error Sentence\",\n      \"properties\": {\n        \"dtype\": \"string\",\n        \"num_unique_values\": 319,\n        \"samples\": [\n          \"Suspected of protein malnutrition.\",\n          \"Prednisone is prescribed to the patient after an initial radiograph of the hip is unremarkable.\"\n        ],\n        \"semantic_type\": \"\",\n        \"description\": \"\"\n      }\n    },\n    {\n      \"column\": \"Corrected Sentence\",\n      \"properties\": {\n        \"dtype\": \"string\",\n        \"num_unique_values\": 319,\n        \"samples\": [\n          \"Suspected of cystic fibrosis.\",\n          \"Ibuprofen is started after an initial radiograph of the hip is unremarkable.\"\n        ],\n        \"semantic_type\": \"\",\n        \"description\": \"\"\n      }\n    },\n    {\n      \"column\": \"Corrected Text\",\n      \"properties\": {\n        \"dtype\": \"string\",\n        \"num_unique_values\": 319,\n        \"samples\": [\n          \"A 14-year-old boy is brought to the physician because of increasing swelling of his legs and generalized fatigue for 1 month. During this period he has also had a productive cough and shortness of breath. He has been unable to carry out his daily activities. He has a history of recurrent respiratory tract infections and chronic nasal congestion since childhood. He has a 3-month history of foul-smelling and greasy stools. He is at 4th percentile for height and weight. His temperature is 37 C (98.6 F), pulse is 112/min, respirations are 23/min, and blood pressure is 104/64 mm Hg. Examination shows clubbing of his fingers and scoliosis. There is 2+ pitting edema of the lower extremities. Jugular venous distention is present. Inspiratory crackles are heard in the thorax. Cardiac examination shows a loud S2. The abdomen is mildly distended and the liver is palpated 2 cm below the right costal margin. Hepato-jugular reflux is present. Suspected of cystic fibrosis.\",\n          \"A 7-year-old boy presents with right hip pain for the past 2 days. He reports gradual onset of pain and states it hurts to walk. He had a recent cold last week but is otherwise healthy. His temperature is 98.2 F (36.8 C), blood pressure is 107/70 mm Hg, pulse is 90/min, respiratory rate is 19/min, and oxygen saturation is 98% on room air. Physical exam reveals no swelling or warmth surrounding the joint. The patient is sitting with the right hip flexed, abducted, and externally rotated. Passive range of motion of the hip causes discomfort. The patient is able to ambulate but states it hurts. Ibuprofen is started after an initial radiograph of the hip is unremarkable. The patient's CRP is 0.10 mg/L.\"\n        ],\n        \"semantic_type\": \"\",\n        \"description\": \"\"\n      }\n    }\n  ]\n}"
            }
          },
          "metadata": {},
          "execution_count": 13
        }
      ],
      "source": [
        "df.head()"
      ]
    },
    {
      "cell_type": "code",
      "execution_count": 14,
      "metadata": {
        "colab": {
          "base_uri": "https://localhost:8080/"
        },
        "id": "uP3uINM_S7mf",
        "outputId": "baa62c37-2729-4bd5-8d6e-50a42f155a5a"
      },
      "outputs": [
        {
          "output_type": "execute_result",
          "data": {
            "text/plain": [
              "count    574.000000\n",
              "mean     286.500000\n",
              "std      165.843802\n",
              "min        0.000000\n",
              "25%      143.250000\n",
              "50%      286.500000\n",
              "75%      429.750000\n",
              "max      573.000000\n",
              "Name: Unnamed: 0, dtype: float64"
            ]
          },
          "metadata": {},
          "execution_count": 14
        }
      ],
      "source": [
        "# Estadísticas para 'Unnamed: 0' (siendo numérica, pero solo representa un índice)\n",
        "unnamed_stats = df['Unnamed: 0'].describe()\n",
        "unnamed_stats"
      ]
    },
    {
      "cell_type": "code",
      "execution_count": 15,
      "metadata": {
        "colab": {
          "base_uri": "https://localhost:8080/"
        },
        "id": "VuHnFvZ2S7mg",
        "outputId": "f4035917-c4c3-423f-8fd4-351396511a41"
      },
      "outputs": [
        {
          "output_type": "execute_result",
          "data": {
            "text/plain": [
              "count          574\n",
              "unique         574\n",
              "top       ms-val-0\n",
              "freq             1\n",
              "Name: Text ID, dtype: object"
            ]
          },
          "metadata": {},
          "execution_count": 15
        }
      ],
      "source": [
        "# Estadísticas para 'Text ID' (resumen categórico)\n",
        "text_id_stats = df['Text ID'].describe()\n",
        "text_id_stats\n"
      ]
    },
    {
      "cell_type": "code",
      "execution_count": 16,
      "metadata": {
        "colab": {
          "base_uri": "https://localhost:8080/"
        },
        "id": "9H8XrfVbS7mi",
        "outputId": "da0626d0-c316-4dee-8bf7-0f17e9b6ebf6"
      },
      "outputs": [
        {
          "output_type": "execute_result",
          "data": {
            "text/plain": [
              "count                                                   574\n",
              "unique                                                  574\n",
              "top       a 24-year-old woman comes to the emergency dep...\n",
              "freq                                                      1\n",
              "Name: Text, dtype: object"
            ]
          },
          "metadata": {},
          "execution_count": 16
        }
      ],
      "source": [
        "# Estadísticas para 'Text' (resumen categórico)\n",
        "text_stats = df['Text'].describe()\n",
        "\n",
        "text_stats\n"
      ]
    },
    {
      "cell_type": "code",
      "execution_count": 17,
      "metadata": {
        "colab": {
          "base_uri": "https://localhost:8080/"
        },
        "id": "62XjkfL9S7mj",
        "outputId": "85a0017d-d280-4e0b-b444-113e2ee0d2f4"
      },
      "outputs": [
        {
          "output_type": "execute_result",
          "data": {
            "text/plain": [
              "count                                                   574\n",
              "unique                                                  574\n",
              "top       0 A 24-year-old woman comes to the emergency d...\n",
              "freq                                                      1\n",
              "Name: Sentences, dtype: object"
            ]
          },
          "metadata": {},
          "execution_count": 17
        }
      ],
      "source": [
        "# Estadísticas para 'Sentences' (resumen categórico)\n",
        "sentences_stats = df['Sentences'].describe()\n",
        "\n",
        "sentences_stats"
      ]
    },
    {
      "cell_type": "code",
      "execution_count": 18,
      "metadata": {
        "colab": {
          "base_uri": "https://localhost:8080/"
        },
        "id": "7LUA5Da5S7mj",
        "outputId": "f7ce9943-ebc4-4ad9-e678-dc646cf1f3ea"
      },
      "outputs": [
        {
          "output_type": "execute_result",
          "data": {
            "text/plain": [
              "(227    a 47-year-old woman comes to the physician for...\n",
              " 202    a 48-year-old woman comes to the emergency dep...\n",
              " 146    a 25-year-old woman comes to the physician for...\n",
              " 242    a 27-year-old woman, gravida 2, para 1, at 37 ...\n",
              " 244    a 3500-g (7.7-lbs) girl is delivered at 39 wee...\n",
              " 445    a 62-year-old man comes to the emergency depar...\n",
              " 393    a 7-year-old boy presents with right hip pain ...\n",
              " 156    a 13-year-old boy is brought to the physician ...\n",
              " 305    a previously healthy 18-year-old army recruit ...\n",
              " 495    a 60-year-old man with a 1-year history of rec...\n",
              " 169    a 32-year-old woman with cluster headaches com...\n",
              " 405    a 6-month-old male presents to the emergency d...\n",
              " 108    a 3175-g (7-lb) female newborn is delivered at...\n",
              " 161    a 17-year-old rugby player limped into the eme...\n",
              " 518    a 52-year-old man comes to the physician becau...\n",
              " 423    a 43-year-old man is brought to the emergency ...\n",
              " 269    a 12-year-old boy is brought to his pediatrici...\n",
              " 165    a 29-year-old primigravid woman at 18 weeks ge...\n",
              " 171    a 29-year-old woman is brought to the physicia...\n",
              " 253    a 5-year-old male presents to the pediatrician...\n",
              " Name: Text, dtype: object,\n",
              " 410    a 27-year-old woman, gravida 2, para 1, at 38 ...\n",
              " 71     a 23-year-old man is brought to the emergency ...\n",
              " 241    a 74-year-old man undergoes an open cholecyste...\n",
              " 245    a 3500-g (7.7-lbs) girl is delivered at 39 wee...\n",
              " 505    a 68-year-old man with hypertension comes to t...\n",
              " 235    a previously healthy 30-year-old woman comes t...\n",
              " 358    a 19-month-old girl is brought for a well-chil...\n",
              " 57     a 14-year-old boy is brought to the physician ...\n",
              " 550    a 68-year-old man presents to his primary care...\n",
              " 418    two days after delivery, a 4300-g (9-lb 8-oz) ...\n",
              " 573    a 56-year-old woman with a history of alcoholi...\n",
              " 139    a 36-year-old man presents to the emergency ro...\n",
              " 11     a 59-year-old man comes to the emergency depar...\n",
              " 509    a 50-year-old man comes to the physician becau...\n",
              " 96     a 37-year-old woman, gravida 4, para 3, at 35 ...\n",
              " 380    a 53-year-old woman with type 2 diabetes melli...\n",
              " 296    a 39-year-old woman comes to the physician bec...\n",
              " 112    a 53-year-old man is brought to the emergency ...\n",
              " 283    a 53-year-old woman comes to the physician for...\n",
              " 310    a 53-year-old man is brought to the emergency ...\n",
              " Name: Text, dtype: object)"
            ]
          },
          "metadata": {},
          "execution_count": 18
        }
      ],
      "source": [
        "# Seleccionando solo la columna 'Text' para ejemplos donde Error Flag es 1\n",
        "error_flag_1_text_examples = df[df['Error Flag'] == 1]['Text'].sample(n=20, random_state=1)\n",
        "\n",
        "# Seleccionando solo la columna 'Text' para ejemplos donde Error Flag es 0\n",
        "error_flag_0_text_examples = df[df['Error Flag'] == 0]['Text'].sample(n=20, random_state=1)\n",
        "\n",
        "# Mostrando los ejemplos\n",
        "error_flag_1_text_examples, error_flag_0_text_examples\n"
      ]
    },
    {
      "cell_type": "code",
      "execution_count": 19,
      "metadata": {
        "id": "kufG6h6CS7mk"
      },
      "outputs": [],
      "source": [
        "from sklearn.feature_extraction.text import TfidfVectorizer"
      ]
    },
    {
      "cell_type": "code",
      "source": [
        "from transformers import pipeline\n",
        "import numpy as np\n",
        "from sklearn.metrics import accuracy_score, precision_score, recall_score, f1_score\n",
        "\n",
        "\n",
        "texts = df['Text'].values\n",
        "labels = df['Error Flag'].values\n",
        "\n",
        "\n",
        "# Preparar una pipeline para clasificación\n",
        "nlp_pipeline = pipeline(\"text-classification\", model=model, tokenizer=tokenizer, return_all_scores=True)\n",
        "\n",
        "# Procesar los textos (esto puede tomar tiempo dependiendo de la longitud de 'df')\n",
        "results = nlp_pipeline(texts.tolist())\n",
        "\n",
        "# Obtener la clase con la probabilidad más alta para cada texto\n",
        "predictions = [np.argmax(result[0]['score']) for result in results]\n",
        "\n",
        "# Convertir las predicciones a un array de numpy para calcular métricas\n",
        "predictions = np.array(predictions)\n",
        "\n",
        "# Calcular y mostrar métricas de evaluación\n",
        "accuracy = accuracy_score(labels, predictions)\n",
        "precision = precision_score(labels, predictions, average='weighted')\n",
        "recall = recall_score(labels, predictions, average='weighted')\n",
        "f1 = f1_score(labels, predictions, average='weighted')\n",
        "\n",
        "print(f\"Accuracy on new data: {accuracy}\")\n",
        "print(f\"Precision on new data: {precision}\")\n",
        "print(f\"Recall on new data: {recall}\")\n",
        "print(f\"F1 Score on new data: {f1}\")\n"
      ],
      "metadata": {
        "colab": {
          "base_uri": "https://localhost:8080/"
        },
        "id": "cRmeOQNYvb11",
        "outputId": "ea002888-43af-4d3e-ddaa-3bdd54d8f204"
      },
      "execution_count": 20,
      "outputs": [
        {
          "output_type": "stream",
          "name": "stderr",
          "text": [
            "/usr/local/lib/python3.10/dist-packages/transformers/pipelines/text_classification.py:104: UserWarning: `return_all_scores` is now deprecated,  if want a similar functionality use `top_k=None` instead of `return_all_scores=True` or `top_k=1` instead of `return_all_scores=False`.\n",
            "  warnings.warn(\n"
          ]
        },
        {
          "output_type": "stream",
          "name": "stdout",
          "text": [
            "Accuracy on new data: 0.4442508710801394\n",
            "Precision on new data: 0.19735883645546262\n",
            "Recall on new data: 0.4442508710801394\n",
            "F1 Score on new data: 0.27330270717837285\n"
          ]
        },
        {
          "output_type": "stream",
          "name": "stderr",
          "text": [
            "/usr/local/lib/python3.10/dist-packages/sklearn/metrics/_classification.py:1344: UndefinedMetricWarning: Precision is ill-defined and being set to 0.0 in labels with no predicted samples. Use `zero_division` parameter to control this behavior.\n",
            "  _warn_prf(average, modifier, msg_start, len(result))\n"
          ]
        }
      ]
    },
    {
      "cell_type": "code",
      "source": [
        "# Procesar los textos\n",
        "results = nlp_pipeline(texts.tolist())\n",
        "\n",
        "# Corrección: Calcular la clase con la probabilidad más alta para cada texto correctamente\n",
        "predictions = [np.argmax([score['score'] for score in result]) for result in results]\n",
        "\n",
        "\n",
        "# Asegúrate de que 'labels' y 'predictions' están en el formato adecuado antes de calcular las métricas\n",
        "accuracy = accuracy_score(labels, predictions)\n",
        "precision = precision_score(labels, predictions, average='weighted')\n",
        "recall = recall_score(labels, predictions, average='weighted')\n",
        "f1 = f1_score(labels, predictions, average='weighted')\n",
        "\n",
        "print(f\"Accuracy on new data: {accuracy}\")\n",
        "print(f\"Precision on new data: {precision}\")\n",
        "print(f\"Recall on new data: {recall}\")\n",
        "print(f\"F1 Score on new data: {f1}\")\n"
      ],
      "metadata": {
        "colab": {
          "base_uri": "https://localhost:8080/"
        },
        "id": "-B7_7m5nNeOO",
        "outputId": "1890d243-0859-4d98-e3b9-3943c287dffd"
      },
      "execution_count": 21,
      "outputs": [
        {
          "output_type": "stream",
          "name": "stdout",
          "text": [
            "Accuracy on new data: 0.5592334494773519\n",
            "Precision on new data: 0.5454306427527738\n",
            "Recall on new data: 0.5592334494773519\n",
            "F1 Score on new data: 0.5287287024149392\n"
          ]
        }
      ]
    },
    {
      "cell_type": "code",
      "source": [
        "from transformers import pipeline\n",
        "import numpy as np\n",
        "from sklearn.metrics import accuracy_score, precision_score, recall_score, f1_score, roc_curve, auc\n",
        "import matplotlib.pyplot as plt\n",
        "\n",
        "# Suponiendo que 'df' es tu DataFrame y 'model' y 'tokenizer' están previamente definidos\n",
        "texts = df['Text'].values\n",
        "labels = df['Error Flag'].values\n",
        "\n",
        "# Preparar una pipeline para clasificación\n",
        "nlp_pipeline = pipeline(\"text-classification\", model=model, tokenizer=tokenizer, return_all_scores=True)\n",
        "\n",
        "# Procesar los textos (esto puede tomar tiempo dependiendo de la longitud de 'df')\n",
        "results = nlp_pipeline(texts.tolist())\n",
        "\n",
        "# Inicializar listas para almacenar predicciones y probabilidades de la clase positiva\n",
        "predictions = []\n",
        "positive_class_probabilities = []\n",
        "\n",
        "# Extraer predicciones y probabilidades\n",
        "for result in results:\n",
        "    scores = [score['score'] for score in result]\n",
        "    max_index = np.argmax(scores)\n",
        "    predictions.append(max_index)  # La clase predicha\n",
        "\n",
        "    # Asumiendo que la clase positiva está etiquetada como \"LABEL_1\"\n",
        "    for score in result:\n",
        "        if score['label'] == \"LABEL_1\":\n",
        "            positive_class_probabilities.append(score['score'])\n",
        "            break\n",
        "\n",
        "# Convertir las predicciones a un array de numpy para calcular métricas\n",
        "predictions = np.array(predictions)\n",
        "labels = np.array(labels)  # Asegurarse de que 'labels' también sea un array de numpy\n",
        "\n",
        "# Calcular y mostrar métricas de evaluación\n",
        "accuracy = accuracy_score(labels, predictions)\n",
        "precision = precision_score(labels, predictions, average='weighted')\n",
        "recall = recall_score(labels, predictions, average='weighted')\n",
        "f1 = f1_score(labels, predictions, average='weighted')\n",
        "\n",
        "print(f\"Accuracy on new data: {accuracy}\")\n",
        "print(f\"Precision on new data: {precision}\")\n",
        "print(f\"Recall on new data: {recall}\")\n",
        "print(f\"F1 Score on new data: {f1}\")\n",
        "\n",
        "# Calcular la curva ROC y el AUC\n",
        "fpr, tpr, thresholds = roc_curve(labels, positive_class_probabilities)\n",
        "roc_auc = auc(fpr, tpr)\n",
        "\n",
        "# Graficar la curva ROC\n",
        "plt.figure()\n",
        "plt.plot(fpr, tpr, color='darkorange', lw=2, label='ROC curve (area = %0.2f)' % roc_auc)\n",
        "plt.plot([0, 1], [0, 1], color='navy', lw=2, linestyle='--')\n",
        "plt.xlim([0.0, 1.0])\n",
        "plt.ylim([0.0, 1.05])\n",
        "plt.xlabel('False Positive Rate')\n",
        "plt.ylabel('True Positive Rate')\n",
        "plt.title('Receiver Operating Characteristic')\n",
        "plt.legend(loc=\"lower right\")\n",
        "plt.show()\n"
      ],
      "metadata": {
        "colab": {
          "base_uri": "https://localhost:8080/",
          "height": 596
        },
        "id": "P7p6pf5mx8_k",
        "outputId": "39890bd6-237a-46c7-80e3-5d464c86dba9"
      },
      "execution_count": 26,
      "outputs": [
        {
          "output_type": "stream",
          "name": "stderr",
          "text": [
            "/usr/local/lib/python3.10/dist-packages/transformers/pipelines/text_classification.py:104: UserWarning: `return_all_scores` is now deprecated,  if want a similar functionality use `top_k=None` instead of `return_all_scores=True` or `top_k=1` instead of `return_all_scores=False`.\n",
            "  warnings.warn(\n"
          ]
        },
        {
          "output_type": "stream",
          "name": "stdout",
          "text": [
            "Accuracy on new data: 0.5592334494773519\n",
            "Precision on new data: 0.5454306427527738\n",
            "Recall on new data: 0.5592334494773519\n",
            "F1 Score on new data: 0.5287287024149392\n"
          ]
        },
        {
          "output_type": "display_data",
          "data": {
            "text/plain": [
              "<Figure size 640x480 with 1 Axes>"
            ],
            "image/png": "[encoded data removed]"
          },
          "metadata": {}
        }
      ]
    },
    {
      "cell_type": "code",
      "source": [
        "df= df.drop(['Error Flag'], axis=1)\n",
        "\n",
        "# Añadir las predicciones al DataFrame\n",
        "df['Error Flag Pred'] = predictions\n",
        "\n",
        "# Renombrar la columna 'Error Flag Pred' a 'Error Flag'\n",
        "df.rename(columns={'Error Flag Pred': 'Error Flag'}, inplace=True)\n",
        "\n",
        "# Seleccionar y conservar únicamente las columnas deseadas\n",
        "df_final = df[['Text ID', 'Error Flag', 'Error Sentence ID', 'Corrected Sentence']]\n",
        "\n",
        "# Mostrar las primeras filas del DataFrame final para verificar\n",
        "print(df_final.head())\n"
      ],
      "metadata": {
        "colab": {
          "base_uri": "https://localhost:8080/"
        },
        "id": "0o9QcG_G4Tdi",
        "outputId": "a9259eb2-8e97-4a1e-bba2-3827d4a8d5df"
      },
      "execution_count": 27,
      "outputs": [
        {
          "output_type": "stream",
          "name": "stdout",
          "text": [
            "    Text ID  Error Flag  Error Sentence ID  \\\n",
            "0  ms-val-0           0                  5   \n",
            "1  ms-val-1           1                 -1   \n",
            "2  ms-val-2           1                 24   \n",
            "3  ms-val-3           1                  4   \n",
            "4  ms-val-4           1                  0   \n",
            "\n",
            "                                  Corrected Sentence  \n",
            "0      Culture tests indicate Trichomonas vaginalis.  \n",
            "1                                                NaN  \n",
            "2  Pathology confirms Mycoplasma pneumoniae is th...  \n",
            "3  Laboratory studies confirm that he has parainf...  \n",
            "4  A previously healthy 25-year-old man comes to ...  \n"
          ]
        }
      ]
    },
    {
      "cell_type": "code",
      "source": [
        "df_final['Error Flag'].value_counts()"
      ],
      "metadata": {
        "colab": {
          "base_uri": "https://localhost:8080/"
        },
        "id": "ssxe-gnt4Tbr",
        "outputId": "4a56b20c-4c25-499b-e10f-470255caaef4"
      },
      "execution_count": 28,
      "outputs": [
        {
          "output_type": "execute_result",
          "data": {
            "text/plain": [
              "1    434\n",
              "0    140\n",
              "Name: Error Flag, dtype: int64"
            ]
          },
          "metadata": {},
          "execution_count": 28
        }
      ]
    },
    {
      "cell_type": "code",
      "source": [
        "df_final['formatted'] = df_final.apply(lambda row: ' '.join(row.values.astype(str)), axis=1)\n",
        "\n",
        "# Asegurar un solo espacio entre palabras, incluso si hay múltiples espacios originalmente\n",
        "df_final['formatted'] = df_final['formatted'].apply(lambda x: ' '.join(x.split()))\n",
        "\n",
        "# Guardar el DataFrame modificado a un archivo de texto sin comillas y con un solo espacio\n",
        "with open('prediction_bio_clinical.txt', 'w', encoding='utf-8') as file:\n",
        "    for item in df_final['formatted']:\n",
        "        file.write(\"%s\\n\" % item)\n",
        "\n",
        "# Importar la función de descarga de archivos de Colab\n",
        "from google.colab import files\n",
        "\n",
        "# Descargar el archivo de texto a tu computadora\n",
        "files.download('prediction_bio_clinical.txt')"
      ],
      "metadata": {
        "colab": {
          "base_uri": "https://localhost:8080/",
          "height": 225
        },
        "id": "Koyo4zHf4TZO",
        "outputId": "5d6d94c3-6798-44aa-f217-d11bb872b238"
      },
      "execution_count": 29,
      "outputs": [
        {
          "output_type": "stream",
          "name": "stderr",
          "text": [
            "<ipython-input-29-c512572bdd3d>:1: SettingWithCopyWarning: \n",
            "A value is trying to be set on a copy of a slice from a DataFrame.\n",
            "Try using .loc[row_indexer,col_indexer] = value instead\n",
            "\n",
            "See the caveats in the documentation: https://pandas.pydata.org/pandas-docs/stable/user_guide/indexing.html#returning-a-view-versus-a-copy\n",
            "  df_final['formatted'] = df_final.apply(lambda row: ' '.join(row.values.astype(str)), axis=1)\n",
            "<ipython-input-29-c512572bdd3d>:4: SettingWithCopyWarning: \n",
            "A value is trying to be set on a copy of a slice from a DataFrame.\n",
            "Try using .loc[row_indexer,col_indexer] = value instead\n",
            "\n",
            "See the caveats in the documentation: https://pandas.pydata.org/pandas-docs/stable/user_guide/indexing.html#returning-a-view-versus-a-copy\n",
            "  df_final['formatted'] = df_final['formatted'].apply(lambda x: ' '.join(x.split()))\n"
          ]
        },
        {
          "output_type": "display_data",
          "data": {
            "text/plain": [
              "<IPython.core.display.Javascript object>"
            ],
            "application/javascript": [
              "\n",
              "    async function download(id, filename, size) {\n",
              "      if (!google.colab.kernel.accessAllowed) {\n",
              "        return;\n",
              "      }\n",
              "      const div = document.createElement('div');\n",
              "      const label = document.createElement('label');\n",
              "      label.textContent = `Downloading \"${filename}\": `;\n",
              "      div.appendChild(label);\n",
              "      const progress = document.createElement('progress');\n",
              "      progress.max = size;\n",
              "      div.appendChild(progress);\n",
              "      document.body.appendChild(div);\n",
              "\n",
              "      const buffers = [];\n",
              "      let downloaded = 0;\n",
              "\n",
              "      const channel = await google.colab.kernel.comms.open(id);\n",
              "      // Send a message to notify the kernel that we're ready.\n",
              "      channel.send({})\n",
              "\n",
              "      for await (const message of channel.messages) {\n",
              "        // Send a message to notify the kernel that we're ready.\n",
              "        channel.send({})\n",
              "        if (message.buffers) {\n",
              "          for (const buffer of message.buffers) {\n",
              "            buffers.push(buffer);\n",
              "            downloaded += buffer.byteLength;\n",
              "            progress.value = downloaded;\n",
              "          }\n",
              "        }\n",
              "      }\n",
              "      const blob = new Blob(buffers, {type: 'application/binary'});\n",
              "      const a = document.createElement('a');\n",
              "      a.href = window.URL.createObjectURL(blob);\n",
              "      a.download = filename;\n",
              "      div.appendChild(a);\n",
              "      a.click();\n",
              "      div.remove();\n",
              "    }\n",
              "  "
            ]
          },
          "metadata": {}
        },
        {
          "output_type": "display_data",
          "data": {
            "text/plain": [
              "<IPython.core.display.Javascript object>"
            ],
            "application/javascript": [
              "download(\"download_1f77924e-75f2-49dc-afb6-5045772213f5\", \"prediction_bio_clinical.txt\", 30589)"
            ]
          },
          "metadata": {}
        }
      ]
    },
    {
      "cell_type": "code",
      "source": [],
      "metadata": {
        "id": "iwUSMOsS4TW7"
      },
      "execution_count": null,
      "outputs": []
    }
  ],
  "metadata": {
    "colab": {
      "provenance": []
    },
    "kernelspec": {
      "display_name": "Python 3",
      "name": "python3"
    },
    "language_info": {
      "codemirror_mode": {
        "name": "ipython",
        "version": 3
      },
      "file_extension": ".py",
      "mimetype": "text/x-python",
      "name": "python",
      "nbconvert_exporter": "python",
      "pygments_lexer": "ipython3",
      "version": "3.12.0"
    }
  },
  "nbformat": 4,
  "nbformat_minor": 0
}