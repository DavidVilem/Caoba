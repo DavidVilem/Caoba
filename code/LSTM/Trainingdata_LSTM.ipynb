{
 "cells": [
  {
   "cell_type": "code",
   "execution_count": 52,
   "metadata": {},
   "outputs": [],
   "source": [
    "import pandas as pd\n",
    "import numpy as np\n",
    "import tensorflow as tf\n",
    "from sklearn.metrics import accuracy_score, precision_score, recall_score, f1_score\n",
    "from tensorflow.keras.layers.experimental.preprocessing import TextVectorization\n",
    "from sklearn.model_selection import train_test_split\n",
    "import random\n",
    "from tensorflow.keras import models, layers, optimizers\n",
    "from tensorflow.keras.callbacks import EarlyStopping\n",
    "from sklearn.metrics import accuracy_score\n",
    "from tensorflow.keras.layers import Embedding, LSTM, Dense, Dropout, PReLU, Bidirectional\n",
    "from tensorflow.keras.models import Model, Sequential\n",
    "import os\n",
    "import sys\n",
    "from sklearn.metrics import roc_curve, auc\n",
    "import matplotlib.pyplot as plt\n",
    "import json"
   ]
  },
  {
   "cell_type": "markdown",
   "metadata": {},
   "source": [
    "### Cargar datos limpios"
   ]
  },
  {
   "cell_type": "code",
   "execution_count": 54,
   "metadata": {},
   "outputs": [
    {
     "data": {
      "text/plain": [
       "'c:\\\\Users\\\\USER\\\\Documents\\\\Maestria\\\\CAOBA\\\\data\\\\'"
      ]
     },
     "execution_count": 54,
     "metadata": {},
     "output_type": "execute_result"
    }
   ],
   "source": [
    "sep = os.path.sep\n",
    "dir_actual = os.path.abspath('')\n",
    "PATH = sep.join(dir_actual.split(sep)[:-1])\n",
    "DIR_DATA = PATH + '{0}data{0}'.format(os.sep)\n",
    "sys.path.append(PATH) if PATH not in list(sys.path) else None\n",
    "DIR_DATA"
   ]
  },
  {
   "cell_type": "code",
   "execution_count": 55,
   "metadata": {},
   "outputs": [],
   "source": [
    "data = 'C:/Users/USER/Documents/Maestria/CAOBA/Laura/data/data_clean.csv'\n",
    "data = pd.read_csv(data)\n",
    "\n",
    "# Renombrar columna\n",
    "data.rename(columns={'Error Flag': 'Error_Flag'}, inplace=True)\n",
    "\n",
    "# Extraer los arrays de numpy\n",
    "texto = np.array(data['Text'])\n",
    "labels = np.array(data['Error_Flag'])"
   ]
  },
  {
   "cell_type": "code",
   "execution_count": 56,
   "metadata": {},
   "outputs": [],
   "source": [
    "train_sentences, val_sentences, train_labels, val_labels = train_test_split(texto, labels, test_size= 0.2, random_state= 42)"
   ]
  },
  {
   "cell_type": "code",
   "execution_count": 57,
   "metadata": {},
   "outputs": [
    {
     "data": {
      "text/plain": [
       "((1751,), (438,), (1751,), (438,))"
      ]
     },
     "execution_count": 57,
     "metadata": {},
     "output_type": "execute_result"
    }
   ],
   "source": [
    "train_sentences.shape, val_sentences.shape, train_labels.shape, val_labels.shape"
   ]
  },
  {
   "cell_type": "code",
   "execution_count": 58,
   "metadata": {},
   "outputs": [],
   "source": [
    "max_vocab_len = 20000\n",
    "\n",
    "text_vector = TextVectorization(max_tokens = max_vocab_len, \n",
    "                                standardize = \"lower_and_strip_punctuation\",\n",
    "                                split = 'whitespace',\n",
    "                                ngrams = 3,\n",
    "                                output_mode = 'int',\n",
    "                                output_sequence_length = 124,\n",
    "                                pad_to_max_tokens = True,\n",
    "                                vocabulary = None)"
   ]
  },
  {
   "cell_type": "code",
   "execution_count": 59,
   "metadata": {},
   "outputs": [],
   "source": [
    "text_vector.adapt(train_sentences)"
   ]
  },
  {
   "cell_type": "code",
   "execution_count": 60,
   "metadata": {},
   "outputs": [
    {
     "name": "stdout",
     "output_type": "stream",
     "text": [
      "Original: \n",
      " a 22-year-old woman comes to the physician for the evaluation of irregular menstrual bleeding. menses have occurred at 45- to 90-day intervals since menarche at the age of 15 years. her last menstrual period was 5 weeks ago. the patient reports that she was too embarrassed to discuss this issue with anyone until now. over the past two years, she was unable to become pregnant despite having unprotected sexual intercourse with her husband on a regular basis. there is no personal or family history of serious illness. she is 170 cm (5 ft 7 in) tall and weighs 85 kg (187 lb); bmi is 29.4 kg/m2. her vital signs are within normal limits. examination shows oily skin and severe facial acne. there is abnormal pigmented hair on the upper lip and around both nipples. the patient wishes to have children. in addition to recommending lifestyle modifications, clomiphene therapy was recommended.  \n",
      " \n",
      " Vector: \n",
      " [[    5  1813    66    49     7     2    32    13     2   369     6  1046\n",
      "    755   585   967   181  1400    30   942     7     1  1047   283  2619\n",
      "     30     2   431     6   594    89    12   147   755   282    20   136\n",
      "     91    45     2    21   172    26     9    20 10676  6842     7 14560\n",
      "    184 18196    14 14902  3562   729    69     2    59   186    89     9\n",
      "     20   603     7   995  2600  1272  1006  7980  1256  1710    14    12\n",
      "    598    22     5   810 12232    67     3    24  1485    86   406    39\n",
      "      6   254   237     9     3  3113   192   136   392   765    16   411\n",
      "      4   367  1956   322     1   383   350     3     1   363    12   142\n",
      "    127    19   111    64   133    17    15 17441   214     4   264  1109\n",
      "   2368    67     3  3509]]\n"
     ]
    }
   ],
   "source": [
    "random_sentence = random.choice(train_sentences)\n",
    "print(f\"Original: \\n {random_sentence}  \\n \\n Vector: \\n {text_vector([random_sentence])}\")"
   ]
  },
  {
   "cell_type": "code",
   "execution_count": 61,
   "metadata": {},
   "outputs": [
    {
     "name": "stdout",
     "output_type": "stream",
     "text": [
      " 5 most common words : ['', '[UNK]', 'the', 'is', 'and'] \n",
      " \n",
      " 5 least common words : ['cannot recall any', 'cannot be scraped', 'cancer a', 'can t', 'came back']\n"
     ]
    }
   ],
   "source": [
    "print(f\" 5 most common words : {text_vector.get_vocabulary()[:5]} \\n \\n 5 least common words : {text_vector.get_vocabulary()[-5:]}\")"
   ]
  },
  {
   "cell_type": "code",
   "execution_count": 62,
   "metadata": {},
   "outputs": [],
   "source": [
    "embedding = layers.Embedding(input_dim = max_vocab_len, output_dim = 16, embeddings_initializer= 'uniform', input_length = 124)"
   ]
  },
  {
   "cell_type": "code",
   "execution_count": 63,
   "metadata": {},
   "outputs": [
    {
     "name": "stdout",
     "output_type": "stream",
     "text": [
      "original: \n",
      " a 22-year-old woman comes to the physician for the evaluation of irregular menstrual bleeding. menses have occurred at 45- to 90-day intervals since menarche at the age of 15 years. her last menstrual period was 5 weeks ago. the patient reports that she was too embarrassed to discuss this issue with anyone until now. over the past two years, she was unable to become pregnant despite having unprotected sexual intercourse with her husband on a regular basis. there is no personal or family history of serious illness. she is 170 cm (5 ft 7 in) tall and weighs 85 kg (187 lb); bmi is 29.4 kg/m2. her vital signs are within normal limits. examination shows oily skin and severe facial acne. there is abnormal pigmented hair on the upper lip and around both nipples. the patient wishes to have children. in addition to recommending lifestyle modifications, clomiphene therapy was recommended. \n",
      "\n",
      " Embedded : \n",
      "[[[-0.03836261  0.02729437  0.0026627  ... -0.02517726  0.01304357\n",
      "    0.03351441]\n",
      "  [-0.04884959  0.02121947 -0.02036135 ...  0.02628269  0.00020026\n",
      "    0.03644167]\n",
      "  [ 0.00358571 -0.02169812 -0.01220031 ...  0.02756436 -0.04770628\n",
      "   -0.03016381]\n",
      "  ...\n",
      "  [-0.01973232  0.01907128  0.00523305 ...  0.04788777 -0.03341994\n",
      "    0.037819  ]\n",
      "  [-0.01999215  0.02723392  0.03009592 ... -0.00819784  0.04390258\n",
      "    0.00500182]\n",
      "  [ 0.04751078 -0.02442016 -0.02616116 ... -0.03379743  0.01602646\n",
      "    0.00425583]]]\n"
     ]
    }
   ],
   "source": [
    "print(f\"original: \\n {random_sentence} \\n\\n Embedded : \\n{embedding(text_vector([random_sentence]))}\")"
   ]
  },
  {
   "cell_type": "markdown",
   "metadata": {},
   "source": [
    "## LSTM"
   ]
  },
  {
   "cell_type": "code",
   "execution_count": 111,
   "metadata": {},
   "outputs": [],
   "source": [
    "early_stopping = EarlyStopping(monitor='val_loss', patience=10, restore_best_weights=True)"
   ]
  },
  {
   "cell_type": "code",
   "execution_count": 112,
   "metadata": {},
   "outputs": [],
   "source": [
    "modelo = Sequential([\n",
    "    text_vector,\n",
    "    Embedding(input_dim=20000, output_dim=16),\n",
    "    Bidirectional(LSTM(64, return_sequences=True)),\n",
    "    Dropout(0.5),\n",
    "    Bidirectional(LSTM(32)),\n",
    "    Dense(64),  # Elimina el argumento de activación aquí\n",
    "    PReLU(),    # Añade PReLU como una capa separada\n",
    "    Dropout(0.5),\n",
    "    Dense(1, activation='sigmoid')\n",
    "])"
   ]
  },
  {
   "cell_type": "code",
   "execution_count": 113,
   "metadata": {},
   "outputs": [],
   "source": [
    "modelo.compile(optimizer='adam', loss='binary_crossentropy', metrics=['accuracy'])\n"
   ]
  },
  {
   "cell_type": "code",
   "execution_count": 114,
   "metadata": {},
   "outputs": [
    {
     "name": "stdout",
     "output_type": "stream",
     "text": [
      "Epoch 1/5\n",
      "28/28 [==============================] - 12s 231ms/step - loss: 0.6882 - accuracy: 0.5545 - val_loss: 0.6918 - val_accuracy: 0.5365\n",
      "Epoch 2/5\n",
      "28/28 [==============================] - 5s 176ms/step - loss: 0.6854 - accuracy: 0.5608 - val_loss: 0.6912 - val_accuracy: 0.5365\n",
      "Epoch 3/5\n",
      "28/28 [==============================] - 5s 173ms/step - loss: 0.6871 - accuracy: 0.5642 - val_loss: 0.6949 - val_accuracy: 0.5365\n",
      "Epoch 4/5\n",
      "28/28 [==============================] - 5s 178ms/step - loss: 0.6828 - accuracy: 0.5620 - val_loss: 0.7121 - val_accuracy: 0.5365\n",
      "Epoch 5/5\n",
      "28/28 [==============================] - 5s 175ms/step - loss: 0.6611 - accuracy: 0.5797 - val_loss: 0.7735 - val_accuracy: 0.3402\n"
     ]
    }
   ],
   "source": [
    "history = modelo.fit(train_sentences, train_labels, epochs=5, validation_data=(val_sentences, val_labels), callbacks=[early_stopping], batch_size=64)"
   ]
  },
  {
   "cell_type": "code",
   "execution_count": 115,
   "metadata": {},
   "outputs": [
    {
     "name": "stdout",
     "output_type": "stream",
     "text": [
      "55/55 [==============================] - 4s 53ms/step\n"
     ]
    }
   ],
   "source": [
    "train_predictions = modelo.predict(train_sentences)\n",
    "train_predicted_labels = np.round(train_predictions).astype(int).flatten()"
   ]
  },
  {
   "cell_type": "code",
   "execution_count": 116,
   "metadata": {},
   "outputs": [
    {
     "name": "stdout",
     "output_type": "stream",
     "text": [
      "14/14 [==============================] - 1s 45ms/step\n"
     ]
    }
   ],
   "source": [
    "val_predictions = modelo.predict(val_sentences)\n",
    "val_predicted_labels = np.round(val_predictions).astype(int).flatten()"
   ]
  },
  {
   "cell_type": "code",
   "execution_count": 117,
   "metadata": {},
   "outputs": [
    {
     "name": "stdout",
     "output_type": "stream",
     "text": [
      "Training Metrics:\n",
      "Accuracy: 0.6881781838949171\n",
      "Precision: 0.705578065422272\n",
      "Recall: 0.6881781838949171\n",
      "F1 Score: 0.6887000448966876\n",
      "\n",
      "Validation/Test Metrics:\n",
      "Accuracy: 0.3401826484018265\n"
     ]
    }
   ],
   "source": [
    "# Métricas para el conjunto de entrenamiento\n",
    "train_accuracy = accuracy_score(train_labels, train_predicted_labels)\n",
    "train_precision = precision_score(train_labels, train_predicted_labels, average='weighted')\n",
    "train_recall = recall_score(train_labels, train_predicted_labels, average='weighted')\n",
    "train_f1 = f1_score(train_labels, train_predicted_labels, average='weighted')\n",
    "\n",
    "# Métricas para el conjunto de validación/test\n",
    "val_accuracy = accuracy_score(val_labels, val_predicted_labels)\n",
    "val_precision = precision_score(val_labels, val_predicted_labels, average='weighted')\n",
    "val_recall = recall_score(val_labels, val_predicted_labels, average='weighted')\n",
    "val_f1 = f1_score(val_labels, val_predicted_labels, average='weighted')\n",
    "\n",
    "# Imprimir las métricas\n",
    "print(\"Training Metrics:\")\n",
    "print(f\"Accuracy: {train_accuracy}\")\n",
    "print(f\"Precision: {train_precision}\")\n",
    "print(f\"Recall: {train_recall}\")\n",
    "print(f\"F1 Score: {train_f1}\")\n",
    "\n",
    "print(\"\\nValidation/Test Metrics:\")\n",
    "print(f\"Accuracy: {val_accuracy}\")"
   ]
  },
  {
   "cell_type": "code",
   "execution_count": 118,
   "metadata": {},
   "outputs": [
    {
     "data": {
      "image/png": "[encoded data removed]",
      "text/plain": [
       "<Figure size 432x288 with 1 Axes>"
      ]
     },
     "metadata": {
      "needs_background": "light"
     },
     "output_type": "display_data"
    }
   ],
   "source": [
    "# Calcular las tasas de verdaderos y falsos positivos y el umbral\n",
    "fpr, tpr, thresholds = roc_curve(val_labels, val_predictions)\n",
    "\n",
    "# Calcular el área bajo la curva ROC (AUC)\n",
    "roc_auc = auc(fpr, tpr)\n",
    "\n",
    "# Generar la curva ROC\n",
    "plt.figure()\n",
    "plt.plot(fpr, tpr, color='darkorange', lw=2, label='ROC curve (area = %0.2f)' % roc_auc)\n",
    "plt.plot([0, 1], [0, 1], color='navy', lw=2, linestyle='--')\n",
    "plt.xlim([0.0, 1.0])\n",
    "plt.ylim([0.0, 1.05])\n",
    "plt.xlabel('False Positive Rate')\n",
    "plt.ylabel('True Positive Rate')\n",
    "plt.title('Receiver Operating Characteristic')\n",
    "plt.legend(loc=\"lower right\")\n",
    "plt.show()"
   ]
  },
  {
   "cell_type": "code",
   "execution_count": 119,
   "metadata": {},
   "outputs": [
    {
     "data": {
      "image/png": "[encoded data removed]",
      "text/plain": [
       "<Figure size 432x288 with 1 Axes>"
      ]
     },
     "metadata": {
      "needs_background": "light"
     },
     "output_type": "display_data"
    }
   ],
   "source": [
    "# Extraer la pérdida de entrenamiento y validación de la historia del entrenamiento\n",
    "train_loss = history.history['loss']\n",
    "val_loss = history.history['val_loss']\n",
    "\n",
    "# Determinar el número de épocas\n",
    "epochs = range(1, len(train_loss) + 1)\n",
    "\n",
    "# Crear el gráfico\n",
    "plt.plot(epochs, train_loss, 'bo', label='Training loss')\n",
    "plt.plot(epochs, val_loss, 'b', label='Validation loss')\n",
    "plt.title('Training and Validation Loss')\n",
    "plt.xlabel('Epochs')\n",
    "plt.ylabel('Loss')\n",
    "plt.legend()\n",
    "plt.show()"
   ]
  },
  {
   "cell_type": "code",
   "execution_count": 120,
   "metadata": {},
   "outputs": [
    {
     "data": {
      "image/png": "[encoded data removed]",
      "text/plain": [
       "<Figure size 432x288 with 1 Axes>"
      ]
     },
     "metadata": {
      "needs_background": "light"
     },
     "output_type": "display_data"
    }
   ],
   "source": [
    "# Graficar la pérdida de entrenamiento y validación\n",
    "plt.plot(history.history['loss'], label='Train Loss')\n",
    "plt.plot(history.history['val_loss'], label='Validation Loss')\n",
    "plt.title('Model Loss Progression During Training/Validation')\n",
    "plt.ylabel('Loss')\n",
    "plt.xlabel('Epoch')\n",
    "plt.legend()\n",
    "plt.show()"
   ]
  },
  {
   "cell_type": "code",
   "execution_count": 121,
   "metadata": {},
   "outputs": [],
   "source": [
    "# Adaptar el vectorizador a tus datos de entrenamiento\n",
    "text_vector.adapt(train_sentences)\n",
    "\n",
    "# Obtener el vocabulario del vectorizador\n",
    "vocab = text_vector.get_vocabulary()\n",
    "\n",
    "# Guardar el vocabulario en un archivo\n",
    "vocab_path = 'C:/Users/USER/Documents/Maestria/CAOBA/Laura/data/text_vocab.json'\n",
    "with open(vocab_path, 'w') as f:\n",
    "    json.dump(vocab, f)\n"
   ]
  },
  {
   "cell_type": "code",
   "execution_count": 122,
   "metadata": {},
   "outputs": [
    {
     "name": "stdout",
     "output_type": "stream",
     "text": [
      "INFO:tensorflow:Assets written to: C:/Users/USER/Documents/Maestria/CAOBA/Laura/data/my_nlp_model_tf\\assets\n"
     ]
    },
    {
     "name": "stderr",
     "output_type": "stream",
     "text": [
      "INFO:tensorflow:Assets written to: C:/Users/USER/Documents/Maestria/CAOBA/Laura/data/my_nlp_model_tf\\assets\n"
     ]
    }
   ],
   "source": [
    "model_path = 'C:/Users/USER/Documents/Maestria/CAOBA/Laura/data/my_nlp_model_tf'\n",
    "modelo.save(model_path, save_format='tf')"
   ]
  }
 ],
 "metadata": {
  "kernelspec": {
   "display_name": "Python 3",
   "language": "python",
   "name": "python3"
  },
  "language_info": {
   "codemirror_mode": {
    "name": "ipython",
    "version": 3
   },
   "file_extension": ".py",
   "mimetype": "text/x-python",
   "name": "python",
   "nbconvert_exporter": "python",
   "pygments_lexer": "ipython3",
   "version": "3.8.5"
  }
 },
 "nbformat": 4,
 "nbformat_minor": 2
}
