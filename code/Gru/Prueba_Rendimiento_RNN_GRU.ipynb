{
  "cells": [
    {
      "cell_type": "code",
      "execution_count": 2,
      "metadata": {
        "id": "I-zF5271S7mV"
      },
      "outputs": [],
      "source": [
        "import pandas as pd\n",
        "import numpy as np\n",
        "import re"
      ]
    },
    {
      "cell_type": "code",
      "source": [
        "from google.colab import drive\n",
        "drive.mount('/content/drive')\n"
      ],
      "metadata": {
        "colab": {
          "base_uri": "https://localhost:8080/"
        },
        "id": "pkeWhYUkYO_n",
        "outputId": "602b2c68-1db5-4fe0-d989-17b2ddae87e2"
      },
      "execution_count": 1,
      "outputs": [
        {
          "output_type": "stream",
          "name": "stdout",
          "text": [
            "Mounted at /content/drive\n"
          ]
        }
      ]
    },
    {
      "cell_type": "code",
      "source": [
        "import tensorflow as tf\n",
        "\n",
        "model_path = '/content/drive/My Drive/Javeriana/Medical_Error_Detection/Modelos/Pruebas_Rendimiento/Modelos_Descarga/TF_Models/my_nlp_model_tf'\n",
        "model = tf.keras.models.load_model(model_path)\n"
      ],
      "metadata": {
        "id": "uBQXdoC3GQFG"
      },
      "execution_count": 3,
      "outputs": []
    },
    {
      "cell_type": "code",
      "source": [
        "import json\n",
        "from tensorflow.keras.preprocessing.text import tokenizer_from_json\n",
        "\n",
        "tokenizer_path = '/content/drive/My Drive/Javeriana/Medical_Error_Detection/Modelos/Pruebas_Rendimiento/Modelos_Descarga/TF_Models/gru_v5.json'\n",
        "\n",
        "with open(tokenizer_path) as f:\n",
        "    data = json.load(f)\n",
        "    tokenizer = tokenizer_from_json(data)\n"
      ],
      "metadata": {
        "id": "qNRzILMR2K5v"
      },
      "execution_count": 4,
      "outputs": []
    },
    {
      "cell_type": "code",
      "source": [
        "from google.colab import files\n",
        "uploaded = files.upload()"
      ],
      "metadata": {
        "colab": {
          "base_uri": "https://localhost:8080/",
          "height": 73
        },
        "id": "8qGv5gPaasPp",
        "outputId": "5bcc8edf-b7c3-46c5-a220-fcf31038893d"
      },
      "execution_count": 5,
      "outputs": [
        {
          "output_type": "display_data",
          "data": {
            "text/plain": [
              "<IPython.core.display.HTML object>"
            ],
            "text/html": [
              "\n",
              "     <input type=\"file\" id=\"files-ac12d58f-0bb7-4d96-97ac-802b9ed19f6f\" name=\"files[]\" multiple disabled\n",
              "        style=\"border:none\" />\n",
              "     <output id=\"result-ac12d58f-0bb7-4d96-97ac-802b9ed19f6f\">\n",
              "      Upload widget is only available when the cell has been executed in the\n",
              "      current browser session. Please rerun this cell to enable.\n",
              "      </output>\n",
              "      <script>// Copyright 2017 Google LLC\n",
              "//\n",
              "// Licensed under the Apache License, Version 2.0 (the \"License\");\n",
              "// you may not use this file except in compliance with the License.\n",
              "// You may obtain a copy of the License at\n",
              "//\n",
              "//      http://www.apache.org/licenses/LICENSE-2.0\n",
              "//\n",
              "// Unless required by applicable law or agreed to in writing, software\n",
              "// distributed under the License is distributed on an \"AS IS\" BASIS,\n",
              "// WITHOUT WARRANTIES OR CONDITIONS OF ANY KIND, either express or implied.\n",
              "// See the License for the specific language governing permissions and\n",
              "// limitations under the License.\n",
              "\n",
              "/**\n",
              " * @fileoverview Helpers for google.colab Python module.\n",
              " */\n",
              "(function(scope) {\n",
              "function span(text, styleAttributes = {}) {\n",
              "  const element = document.createElement('span');\n",
              "  element.textContent = text;\n",
              "  for (const key of Object.keys(styleAttributes)) {\n",
              "    element.style[key] = styleAttributes[key];\n",
              "  }\n",
              "  return element;\n",
              "}\n",
              "\n",
              "// Max number of bytes which will be uploaded at a time.\n",
              "const MAX_PAYLOAD_SIZE = 100 * 1024;\n",
              "\n",
              "function _uploadFiles(inputId, outputId) {\n",
              "  const steps = uploadFilesStep(inputId, outputId);\n",
              "  const outputElement = document.getElementById(outputId);\n",
              "  // Cache steps on the outputElement to make it available for the next call\n",
              "  // to uploadFilesContinue from Python.\n",
              "  outputElement.steps = steps;\n",
              "\n",
              "  return _uploadFilesContinue(outputId);\n",
              "}\n",
              "\n",
              "// This is roughly an async generator (not supported in the browser yet),\n",
              "// where there are multiple asynchronous steps and the Python side is going\n",
              "// to poll for completion of each step.\n",
              "// This uses a Promise to block the python side on completion of each step,\n",
              "// then passes the result of the previous step as the input to the next step.\n",
              "function _uploadFilesContinue(outputId) {\n",
              "  const outputElement = document.getElementById(outputId);\n",
              "  const steps = outputElement.steps;\n",
              "\n",
              "  const next = steps.next(outputElement.lastPromiseValue);\n",
              "  return Promise.resolve(next.value.promise).then((value) => {\n",
              "    // Cache the last promise value to make it available to the next\n",
              "    // step of the generator.\n",
              "    outputElement.lastPromiseValue = value;\n",
              "    return next.value.response;\n",
              "  });\n",
              "}\n",
              "\n",
              "/**\n",
              " * Generator function which is called between each async step of the upload\n",
              " * process.\n",
              " * @param {string} inputId Element ID of the input file picker element.\n",
              " * @param {string} outputId Element ID of the output display.\n",
              " * @return {!Iterable<!Object>} Iterable of next steps.\n",
              " */\n",
              "function* uploadFilesStep(inputId, outputId) {\n",
              "  const inputElement = document.getElementById(inputId);\n",
              "  inputElement.disabled = false;\n",
              "\n",
              "  const outputElement = document.getElementById(outputId);\n",
              "  outputElement.innerHTML = '';\n",
              "\n",
              "  const pickedPromise = new Promise((resolve) => {\n",
              "    inputElement.addEventListener('change', (e) => {\n",
              "      resolve(e.target.files);\n",
              "    });\n",
              "  });\n",
              "\n",
              "  const cancel = document.createElement('button');\n",
              "  inputElement.parentElement.appendChild(cancel);\n",
              "  cancel.textContent = 'Cancel upload';\n",
              "  const cancelPromise = new Promise((resolve) => {\n",
              "    cancel.onclick = () => {\n",
              "      resolve(null);\n",
              "    };\n",
              "  });\n",
              "\n",
              "  // Wait for the user to pick the files.\n",
              "  const files = yield {\n",
              "    promise: Promise.race([pickedPromise, cancelPromise]),\n",
              "    response: {\n",
              "      action: 'starting',\n",
              "    }\n",
              "  };\n",
              "\n",
              "  cancel.remove();\n",
              "\n",
              "  // Disable the input element since further picks are not allowed.\n",
              "  inputElement.disabled = true;\n",
              "\n",
              "  if (!files) {\n",
              "    return {\n",
              "      response: {\n",
              "        action: 'complete',\n",
              "      }\n",
              "    };\n",
              "  }\n",
              "\n",
              "  for (const file of files) {\n",
              "    const li = document.createElement('li');\n",
              "    li.append(span(file.name, {fontWeight: 'bold'}));\n",
              "    li.append(span(\n",
              "        `(${file.type || 'n/a'}) - ${file.size} bytes, ` +\n",
              "        `last modified: ${\n",
              "            file.lastModifiedDate ? file.lastModifiedDate.toLocaleDateString() :\n",
              "                                    'n/a'} - `));\n",
              "    const percent = span('0% done');\n",
              "    li.appendChild(percent);\n",
              "\n",
              "    outputElement.appendChild(li);\n",
              "\n",
              "    const fileDataPromise = new Promise((resolve) => {\n",
              "      const reader = new FileReader();\n",
              "      reader.onload = (e) => {\n",
              "        resolve(e.target.result);\n",
              "      };\n",
              "      reader.readAsArrayBuffer(file);\n",
              "    });\n",
              "    // Wait for the data to be ready.\n",
              "    let fileData = yield {\n",
              "      promise: fileDataPromise,\n",
              "      response: {\n",
              "        action: 'continue',\n",
              "      }\n",
              "    };\n",
              "\n",
              "    // Use a chunked sending to avoid message size limits. See b/62115660.\n",
              "    let position = 0;\n",
              "    do {\n",
              "      const length = Math.min(fileData.byteLength - position, MAX_PAYLOAD_SIZE);\n",
              "      const chunk = new Uint8Array(fileData, position, length);\n",
              "      position += length;\n",
              "\n",
              "      const base64 = btoa(String.fromCharCode.apply(null, chunk));\n",
              "      yield {\n",
              "        response: {\n",
              "          action: 'append',\n",
              "          file: file.name,\n",
              "          data: base64,\n",
              "        },\n",
              "      };\n",
              "\n",
              "      let percentDone = fileData.byteLength === 0 ?\n",
              "          100 :\n",
              "          Math.round((position / fileData.byteLength) * 100);\n",
              "      percent.textContent = `${percentDone}% done`;\n",
              "\n",
              "    } while (position < fileData.byteLength);\n",
              "  }\n",
              "\n",
              "  // All done.\n",
              "  yield {\n",
              "    response: {\n",
              "      action: 'complete',\n",
              "    }\n",
              "  };\n",
              "}\n",
              "\n",
              "scope.google = scope.google || {};\n",
              "scope.google.colab = scope.google.colab || {};\n",
              "scope.google.colab._files = {\n",
              "  _uploadFiles,\n",
              "  _uploadFilesContinue,\n",
              "};\n",
              "})(self);\n",
              "</script> "
            ]
          },
          "metadata": {}
        },
        {
          "output_type": "stream",
          "name": "stdout",
          "text": [
            "Saving MEDIQA-CORR-2024-MS-ValidationSet-1-Full.csv to MEDIQA-CORR-2024-MS-ValidationSet-1-Full.csv\n"
          ]
        }
      ]
    },
    {
      "cell_type": "code",
      "source": [
        "df = pd.read_csv('MEDIQA-CORR-2024-MS-ValidationSet-1-Full.csv', delimiter=',', encoding='utf-8')\n",
        "# df= df.drop(['Error Sentence ID', 'Error Sentence', 'Corrected Sentence', 'Corrected Text'], axis=1)\n",
        "df.head()"
      ],
      "metadata": {
        "colab": {
          "base_uri": "https://localhost:8080/",
          "height": 310
        },
        "id": "euPS2kw7asNv",
        "outputId": "fab44b6d-2bba-4e40-ad15-7c3ec8a33279"
      },
      "execution_count": 6,
      "outputs": [
        {
          "output_type": "execute_result",
          "data": {
            "text/plain": [
              "   Unnamed: 0   Text ID                                               Text  \\\n",
              "0           0  ms-val-0  A 24-year-old woman comes to the emergency dep...   \n",
              "1           1  ms-val-1  A 24-year-old woman comes to the emergency dep...   \n",
              "2           2  ms-val-2  A 43-year-old woman comes to the physician bec...   \n",
              "3           3  ms-val-3  A 4-year-old is brought into the emeregency ro...   \n",
              "4           4  ms-val-4  A previously healthy 25-year-old man comes to ...   \n",
              "\n",
              "                                           Sentences  Error Flag  \\\n",
              "0  0 A 24-year-old woman comes to the emergency d...           1   \n",
              "1  0 A 24-year-old woman comes to the emergency d...           0   \n",
              "2  0 A 43-year-old woman comes to the physician b...           1   \n",
              "3  0 A 4-year-old is brought into the emeregency ...           1   \n",
              "4  0 A previously healthy 25-year-old man comes t...           1   \n",
              "\n",
              "   Error Sentence ID                                     Error Sentence  \\\n",
              "0                  5      Culture tests indicate Neisseria gonorrhoeae.   \n",
              "1                 -1                                                NaN   \n",
              "2                 24  Pathology confirms Streptococcus pneumoniae is...   \n",
              "3                  4  Laboratory studies confirm that he has a respi...   \n",
              "4                  0  A previously healthy 25-year-old man comes to ...   \n",
              "\n",
              "                                  Corrected Sentence  \\\n",
              "0      Culture tests indicate Trichomonas vaginalis.   \n",
              "1                                                NaN   \n",
              "2  Pathology confirms Mycoplasma pneumoniae is th...   \n",
              "3  Laboratory studies confirm that he has parainf...   \n",
              "4  A previously healthy 25-year-old man comes to ...   \n",
              "\n",
              "                                      Corrected Text  \n",
              "0  A 24-year-old woman comes to the emergency dep...  \n",
              "1                                                NaN  \n",
              "2  A 43-year-old woman comes to the physician bec...  \n",
              "3  A 4-year-old is brought into the emeregency ro...  \n",
              "4  A previously healthy 25-year-old man comes to ...  "
            ],
            "text/html": [
              "\n",
              "  <div id=\"df-17329942-a601-4e02-8c79-85538d8c43ed\" class=\"colab-df-container\">\n",
              "    <div>\n",
              "<style scoped>\n",
              "    .dataframe tbody tr th:only-of-type {\n",
              "        vertical-align: middle;\n",
              "    }\n",
              "\n",
              "    .dataframe tbody tr th {\n",
              "        vertical-align: top;\n",
              "    }\n",
              "\n",
              "    .dataframe thead th {\n",
              "        text-align: right;\n",
              "    }\n",
              "</style>\n",
              "<table border=\"1\" class=\"dataframe\">\n",
              "  <thead>\n",
              "    <tr style=\"text-align: right;\">\n",
              "      <th></th>\n",
              "      <th>Unnamed: 0</th>\n",
              "      <th>Text ID</th>\n",
              "      <th>Text</th>\n",
              "      <th>Sentences</th>\n",
              "      <th>Error Flag</th>\n",
              "      <th>Error Sentence ID</th>\n",
              "      <th>Error Sentence</th>\n",
              "      <th>Corrected Sentence</th>\n",
              "      <th>Corrected Text</th>\n",
              "    </tr>\n",
              "  </thead>\n",
              "  <tbody>\n",
              "    <tr>\n",
              "      <th>0</th>\n",
              "      <td>0</td>\n",
              "      <td>ms-val-0</td>\n",
              "      <td>A 24-year-old woman comes to the emergency dep...</td>\n",
              "      <td>0 A 24-year-old woman comes to the emergency d...</td>\n",
              "      <td>1</td>\n",
              "      <td>5</td>\n",
              "      <td>Culture tests indicate Neisseria gonorrhoeae.</td>\n",
              "      <td>Culture tests indicate Trichomonas vaginalis.</td>\n",
              "      <td>A 24-year-old woman comes to the emergency dep...</td>\n",
              "    </tr>\n",
              "    <tr>\n",
              "      <th>1</th>\n",
              "      <td>1</td>\n",
              "      <td>ms-val-1</td>\n",
              "      <td>A 24-year-old woman comes to the emergency dep...</td>\n",
              "      <td>0 A 24-year-old woman comes to the emergency d...</td>\n",
              "      <td>0</td>\n",
              "      <td>-1</td>\n",
              "      <td>NaN</td>\n",
              "      <td>NaN</td>\n",
              "      <td>NaN</td>\n",
              "    </tr>\n",
              "    <tr>\n",
              "      <th>2</th>\n",
              "      <td>2</td>\n",
              "      <td>ms-val-2</td>\n",
              "      <td>A 43-year-old woman comes to the physician bec...</td>\n",
              "      <td>0 A 43-year-old woman comes to the physician b...</td>\n",
              "      <td>1</td>\n",
              "      <td>24</td>\n",
              "      <td>Pathology confirms Streptococcus pneumoniae is...</td>\n",
              "      <td>Pathology confirms Mycoplasma pneumoniae is th...</td>\n",
              "      <td>A 43-year-old woman comes to the physician bec...</td>\n",
              "    </tr>\n",
              "    <tr>\n",
              "      <th>3</th>\n",
              "      <td>3</td>\n",
              "      <td>ms-val-3</td>\n",
              "      <td>A 4-year-old is brought into the emeregency ro...</td>\n",
              "      <td>0 A 4-year-old is brought into the emeregency ...</td>\n",
              "      <td>1</td>\n",
              "      <td>4</td>\n",
              "      <td>Laboratory studies confirm that he has a respi...</td>\n",
              "      <td>Laboratory studies confirm that he has parainf...</td>\n",
              "      <td>A 4-year-old is brought into the emeregency ro...</td>\n",
              "    </tr>\n",
              "    <tr>\n",
              "      <th>4</th>\n",
              "      <td>4</td>\n",
              "      <td>ms-val-4</td>\n",
              "      <td>A previously healthy 25-year-old man comes to ...</td>\n",
              "      <td>0 A previously healthy 25-year-old man comes t...</td>\n",
              "      <td>1</td>\n",
              "      <td>0</td>\n",
              "      <td>A previously healthy 25-year-old man comes to ...</td>\n",
              "      <td>A previously healthy 25-year-old man comes to ...</td>\n",
              "      <td>A previously healthy 25-year-old man comes to ...</td>\n",
              "    </tr>\n",
              "  </tbody>\n",
              "</table>\n",
              "</div>\n",
              "    <div class=\"colab-df-buttons\">\n",
              "\n",
              "  <div class=\"colab-df-container\">\n",
              "    <button class=\"colab-df-convert\" onclick=\"convertToInteractive('df-17329942-a601-4e02-8c79-85538d8c43ed')\"\n",
              "            title=\"Convert this dataframe to an interactive table.\"\n",
              "            style=\"display:none;\">\n",
              "\n",
              "  <svg xmlns=\"http://www.w3.org/2000/svg\" height=\"24px\" viewBox=\"0 -960 960 960\">\n",
              "    <path d=\"M120-120v-720h720v720H120Zm60-500h600v-160H180v160Zm220 220h160v-160H400v160Zm0 220h160v-160H400v160ZM180-400h160v-160H180v160Zm440 0h160v-160H620v160ZM180-180h160v-160H180v160Zm440 0h160v-160H620v160Z\"/>\n",
              "  </svg>\n",
              "    </button>\n",
              "\n",
              "  <style>\n",
              "    .colab-df-container {\n",
              "      display:flex;\n",
              "      gap: 12px;\n",
              "    }\n",
              "\n",
              "    .colab-df-convert {\n",
              "      background-color: #E8F0FE;\n",
              "      border: none;\n",
              "      border-radius: 50%;\n",
              "      cursor: pointer;\n",
              "      display: none;\n",
              "      fill: #1967D2;\n",
              "      height: 32px;\n",
              "      padding: 0 0 0 0;\n",
              "      width: 32px;\n",
              "    }\n",
              "\n",
              "    .colab-df-convert:hover {\n",
              "      background-color: #E2EBFA;\n",
              "      box-shadow: 0px 1px 2px rgba(60, 64, 67, 0.3), 0px 1px 3px 1px rgba(60, 64, 67, 0.15);\n",
              "      fill: #174EA6;\n",
              "    }\n",
              "\n",
              "    .colab-df-buttons div {\n",
              "      margin-bottom: 4px;\n",
              "    }\n",
              "\n",
              "    [theme=dark] .colab-df-convert {\n",
              "      background-color: #3B4455;\n",
              "      fill: #D2E3FC;\n",
              "    }\n",
              "\n",
              "    [theme=dark] .colab-df-convert:hover {\n",
              "      background-color: #434B5C;\n",
              "      box-shadow: 0px 1px 3px 1px rgba(0, 0, 0, 0.15);\n",
              "      filter: drop-shadow(0px 1px 2px rgba(0, 0, 0, 0.3));\n",
              "      fill: #FFFFFF;\n",
              "    }\n",
              "  </style>\n",
              "\n",
              "    <script>\n",
              "      const buttonEl =\n",
              "        document.querySelector('#df-17329942-a601-4e02-8c79-85538d8c43ed button.colab-df-convert');\n",
              "      buttonEl.style.display =\n",
              "        google.colab.kernel.accessAllowed ? 'block' : 'none';\n",
              "\n",
              "      async function convertToInteractive(key) {\n",
              "        const element = document.querySelector('#df-17329942-a601-4e02-8c79-85538d8c43ed');\n",
              "        const dataTable =\n",
              "          await google.colab.kernel.invokeFunction('convertToInteractive',\n",
              "                                                    [key], {});\n",
              "        if (!dataTable) return;\n",
              "\n",
              "        const docLinkHtml = 'Like what you see? Visit the ' +\n",
              "          '<a target=\"_blank\" href=https://colab.research.google.com/notebooks/data_table.ipynb>data table notebook</a>'\n",
              "          + ' to learn more about interactive tables.';\n",
              "        element.innerHTML = '';\n",
              "        dataTable['output_type'] = 'display_data';\n",
              "        await google.colab.output.renderOutput(dataTable, element);\n",
              "        const docLink = document.createElement('div');\n",
              "        docLink.innerHTML = docLinkHtml;\n",
              "        element.appendChild(docLink);\n",
              "      }\n",
              "    </script>\n",
              "  </div>\n",
              "\n",
              "\n",
              "<div id=\"df-4b61fab3-31fa-4a51-9bb1-9d837d30a7da\">\n",
              "  <button class=\"colab-df-quickchart\" onclick=\"quickchart('df-4b61fab3-31fa-4a51-9bb1-9d837d30a7da')\"\n",
              "            title=\"Suggest charts\"\n",
              "            style=\"display:none;\">\n",
              "\n",
              "<svg xmlns=\"http://www.w3.org/2000/svg\" height=\"24px\"viewBox=\"0 0 24 24\"\n",
              "     width=\"24px\">\n",
              "    <g>\n",
              "        <path d=\"M19 3H5c-1.1 0-2 .9-2 2v14c0 1.1.9 2 2 2h14c1.1 0 2-.9 2-2V5c0-1.1-.9-2-2-2zM9 17H7v-7h2v7zm4 0h-2V7h2v10zm4 0h-2v-4h2v4z\"/>\n",
              "    </g>\n",
              "</svg>\n",
              "  </button>\n",
              "\n",
              "<style>\n",
              "  .colab-df-quickchart {\n",
              "      --bg-color: #E8F0FE;\n",
              "      --fill-color: #1967D2;\n",
              "      --hover-bg-color: #E2EBFA;\n",
              "      --hover-fill-color: #174EA6;\n",
              "      --disabled-fill-color: #AAA;\n",
              "      --disabled-bg-color: #DDD;\n",
              "  }\n",
              "\n",
              "  [theme=dark] .colab-df-quickchart {\n",
              "      --bg-color: #3B4455;\n",
              "      --fill-color: #D2E3FC;\n",
              "      --hover-bg-color: #434B5C;\n",
              "      --hover-fill-color: #FFFFFF;\n",
              "      --disabled-bg-color: #3B4455;\n",
              "      --disabled-fill-color: #666;\n",
              "  }\n",
              "\n",
              "  .colab-df-quickchart {\n",
              "    background-color: var(--bg-color);\n",
              "    border: none;\n",
              "    border-radius: 50%;\n",
              "    cursor: pointer;\n",
              "    display: none;\n",
              "    fill: var(--fill-color);\n",
              "    height: 32px;\n",
              "    padding: 0;\n",
              "    width: 32px;\n",
              "  }\n",
              "\n",
              "  .colab-df-quickchart:hover {\n",
              "    background-color: var(--hover-bg-color);\n",
              "    box-shadow: 0 1px 2px rgba(60, 64, 67, 0.3), 0 1px 3px 1px rgba(60, 64, 67, 0.15);\n",
              "    fill: var(--button-hover-fill-color);\n",
              "  }\n",
              "\n",
              "  .colab-df-quickchart-complete:disabled,\n",
              "  .colab-df-quickchart-complete:disabled:hover {\n",
              "    background-color: var(--disabled-bg-color);\n",
              "    fill: var(--disabled-fill-color);\n",
              "    box-shadow: none;\n",
              "  }\n",
              "\n",
              "  .colab-df-spinner {\n",
              "    border: 2px solid var(--fill-color);\n",
              "    border-color: transparent;\n",
              "    border-bottom-color: var(--fill-color);\n",
              "    animation:\n",
              "      spin 1s steps(1) infinite;\n",
              "  }\n",
              "\n",
              "  @keyframes spin {\n",
              "    0% {\n",
              "      border-color: transparent;\n",
              "      border-bottom-color: var(--fill-color);\n",
              "      border-left-color: var(--fill-color);\n",
              "    }\n",
              "    20% {\n",
              "      border-color: transparent;\n",
              "      border-left-color: var(--fill-color);\n",
              "      border-top-color: var(--fill-color);\n",
              "    }\n",
              "    30% {\n",
              "      border-color: transparent;\n",
              "      border-left-color: var(--fill-color);\n",
              "      border-top-color: var(--fill-color);\n",
              "      border-right-color: var(--fill-color);\n",
              "    }\n",
              "    40% {\n",
              "      border-color: transparent;\n",
              "      border-right-color: var(--fill-color);\n",
              "      border-top-color: var(--fill-color);\n",
              "    }\n",
              "    60% {\n",
              "      border-color: transparent;\n",
              "      border-right-color: var(--fill-color);\n",
              "    }\n",
              "    80% {\n",
              "      border-color: transparent;\n",
              "      border-right-color: var(--fill-color);\n",
              "      border-bottom-color: var(--fill-color);\n",
              "    }\n",
              "    90% {\n",
              "      border-color: transparent;\n",
              "      border-bottom-color: var(--fill-color);\n",
              "    }\n",
              "  }\n",
              "</style>\n",
              "\n",
              "  <script>\n",
              "    async function quickchart(key) {\n",
              "      const quickchartButtonEl =\n",
              "        document.querySelector('#' + key + ' button');\n",
              "      quickchartButtonEl.disabled = true;  // To prevent multiple clicks.\n",
              "      quickchartButtonEl.classList.add('colab-df-spinner');\n",
              "      try {\n",
              "        const charts = await google.colab.kernel.invokeFunction(\n",
              "            'suggestCharts', [key], {});\n",
              "      } catch (error) {\n",
              "        console.error('Error during call to suggestCharts:', error);\n",
              "      }\n",
              "      quickchartButtonEl.classList.remove('colab-df-spinner');\n",
              "      quickchartButtonEl.classList.add('colab-df-quickchart-complete');\n",
              "    }\n",
              "    (() => {\n",
              "      let quickchartButtonEl =\n",
              "        document.querySelector('#df-4b61fab3-31fa-4a51-9bb1-9d837d30a7da button');\n",
              "      quickchartButtonEl.style.display =\n",
              "        google.colab.kernel.accessAllowed ? 'block' : 'none';\n",
              "    })();\n",
              "  </script>\n",
              "</div>\n",
              "\n",
              "    </div>\n",
              "  </div>\n"
            ],
            "application/vnd.google.colaboratory.intrinsic+json": {
              "type": "dataframe",
              "variable_name": "df",
              "summary": "{\n  \"name\": \"df\",\n  \"rows\": 574,\n  \"fields\": [\n    {\n      \"column\": \"Unnamed: 0\",\n      \"properties\": {\n        \"dtype\": \"number\",\n        \"std\": 165,\n        \"min\": 0,\n        \"max\": 573,\n        \"num_unique_values\": 574,\n        \"samples\": [\n          514,\n          70,\n          131\n        ],\n        \"semantic_type\": \"\",\n        \"description\": \"\"\n      }\n    },\n    {\n      \"column\": \"Text ID\",\n      \"properties\": {\n        \"dtype\": \"string\",\n        \"num_unique_values\": 574,\n        \"samples\": [\n          \"ms-val-514\",\n          \"ms-val-70\",\n          \"ms-val-131\"\n        ],\n        \"semantic_type\": \"\",\n        \"description\": \"\"\n      }\n    },\n    {\n      \"column\": \"Text\",\n      \"properties\": {\n        \"dtype\": \"string\",\n        \"num_unique_values\": 574,\n        \"samples\": [\n          \"A 27-year-old woman is brought to the emergency department by her coworker after having a generalized seizure at work. Her coworker reports that she is at 30 weeks' gestation and has mentioned headache and right upper quadrant pain earlier that day. Her temperature is 37 C (98.6 F), pulse is 91/min, and blood pressure is 170/102 mm Hg. Pulmonary examination shows bilateral rales. There is diffuse edema in the lower extremities. Deep tendon reflexes are increased bilaterally. Lorazepam is prescribed. She is not oriented to person, place, and time. \",\n          \"A 23-year-old man is brought to the emergency department by his mother because of a change in his personality. The mother reports that over the past 7 months her son has become increasingly withdrawn; he has not answered any phone calls or visited his family and friends. He had always been a quiet boy, who needed some time on his own, but he used to meet with friends at least once a week. The patient says that he cannot leave the house because aliens are watching him and \\u00e2\\u20ac\\u0153stealing his thoughts\\u00e2\\u20ac\\u009d. He does not drink alcohol. He used to smoke marijuana occasionally but quit 1 year ago. His vital signs are within normal limits. Physical examination shows no abnormalities. On mental status examination, it is impossible to follow the patient's sequence of thoughts. He is anxious and has a flat affect. The patient is diagnosed with schizophreniform disorder.\",\n          \"Five days after undergoing an open abdominal aortic aneurysm repair, a 68-year-old woman has crampy abdominal pain. During this period, she has also had two episodes of loose, bloody stools. Her surgery was complicated by severe blood loss requiring the administration of vasopressors and multiple transfusions. Cefazolin was administered as a perioperative antibiotic. The patient has hypertension, hypercholesterolemia, and coronary artery disease. The patient has smoked 2 packs of cigarettes daily for 50 years and drinks 3\\u00e2\\u20ac\\u201c4 glasses of wine every week. Her current medications include hydrochlorothiazide, atorvastatin, amlodipine, aspirin, and metoprolol. She appears ill. Her temperature is 38.0 C (100.4 F), pulse is 110/min, and blood pressure is 96/58 mm Hg. Physical examination shows a distended abdomen with absent bowel sounds. The abdomen is exquisitely tender to palpation in all quadrants. The lungs are clear to auscultation. Cardiac examination shows an S4 gallop. An x-ray of the abdomen shows air-filled distended bowel. Patient was diagnosed with ischemic colitis. \"\n        ],\n        \"semantic_type\": \"\",\n        \"description\": \"\"\n      }\n    },\n    {\n      \"column\": \"Sentences\",\n      \"properties\": {\n        \"dtype\": \"string\",\n        \"num_unique_values\": 574,\n        \"samples\": [\n          \"0 A 27-year-old woman is brought to the emergency department by her coworker after having a generalized seizure at work.\\n1 Her coworker reports that she is at 30 weeks' gestation and has mentioned headache and right upper quadrant pain earlier that day.\\n2 Her temperature is 37 C (98.6 F), pulse is 91/min, and blood pressure is 170/102 mm\\n3 Hg.\\n4 Pulmonary examination shows bilateral rales.\\n5 There is diffuse edema in the lower extremities.\\n6 Deep tendon reflexes are increased bilaterally.\\n7 Lorazepam is prescribed.\\n8 She is not oriented to person, place, and time.\\n\",\n          \"0 A 23-year-old man is brought to the emergency department by his mother because of a change in his personality.\\n1 The mother reports that over the past 7 months her son has become increasingly withdrawn; he has not answered any phone calls or visited his family and friends.\\n2 He had always been a quiet boy, who needed some time on his own, but he used to meet with friends at least once a week.\\n3 The patient says that he cannot leave the house because aliens are watching him and \\u00e2\\u20ac\\u0153stealing his thoughts\\u00e2\\u20ac\\u009d.\\n4 He does not drink alcohol.\\n5 He used to smoke marijuana occasionally but quit 1 year ago.\\n6 His vital signs are within normal limits.\\n7 Physical examination shows no abnormalities.\\n8 On mental status examination, it is impossible to follow the patient's sequence of thoughts.\\n9 He is anxious and has a flat affect.\\n10 The patient is diagnosed with schizophreniform disorder.\\n\",\n          \"0 Five days after undergoing an open abdominal aortic aneurysm repair, a 68-year-old woman has crampy abdominal pain.\\n1 During this period, she has also had two episodes of loose, bloody stools.\\n2 Her surgery was complicated by severe blood loss requiring the administration of vasopressors and multiple transfusions.\\n3 Cefazolin was administered as a perioperative antibiotic.\\n4 The patient has hypertension, hypercholesterolemia, and coronary artery disease.\\n5 The patient has smoked 2 packs of cigarettes daily for 50 years and drinks 3\\u00e2\\u20ac\\u201c4 glasses of wine every week.\\n6 Her current medications include hydrochlorothiazide, atorvastatin, amlodipine, aspirin, and metoprolol.\\n7 She appears ill.\\n8 Her temperature is 38.0 C (100.4 F), pulse is 110/min, and blood pressure is 96/58 mm\\n9 Hg.\\n10 Based on exam and imaging findings, the patient was diagnosed with abdominal compartment syndrome. .\\n11 Physical examination showed a distended abdomen with absent bowel sounds.\\n12 The abdomen was exquisitely tender to palpation in all quadrants.\\n13 The lungs were clear to auscultation.\\n14 Cardiac examination showed an S4 gallop.\\n15 An x-ray of the abdomen showed air-filled distended bowel.\\n0 Five days after undergoing an open abdominal aortic aneurysm repair, a 68-year-old woman has crampy abdominal pain.\\n1 During this period, she has also had two episodes of loose, bloody stools.\\n2 Her surgery was complicated by severe blood loss requiring the administration of vasopressors and multiple transfusions.\\n3 Cefazolin was administered as a perioperative antibiotic.\\n4 The patient has hypertension, hypercholesterolemia, and coronary artery disease.\\n5 The patient has smoked 2 packs of cigarettes daily for 50 years and drinks 3\\u00e2\\u20ac\\u201c4 glasses of wine every week.\\n6 Her current medications include hydrochlorothiazide, atorvastatin, amlodipine, aspirin, and metoprolol.\\n7 She appears ill.\\n8 Her temperature is 38.0 C (100.4 F), pulse is 110/min, and blood pressure is 96/58 mm\\n9 Hg.\\n10 Physical examination shows a distended abdomen with absent bowel sounds.\\n11 The abdomen is exquisitely tender to palpation in all quadrants.\\n12 The lungs are clear to auscultation.\\n13 Cardiac examination shows an S4 gallop.\\n14 An x-ray of the abdomen shows air-filled distended bowel.\\n15 Patient was diagnosed with ischemic colitis.\\n\"\n        ],\n        \"semantic_type\": \"\",\n        \"description\": \"\"\n      }\n    },\n    {\n      \"column\": \"Error Flag\",\n      \"properties\": {\n        \"dtype\": \"number\",\n        \"std\": 0,\n        \"min\": 0,\n        \"max\": 1,\n        \"num_unique_values\": 2,\n        \"samples\": [\n          0,\n          1\n        ],\n        \"semantic_type\": \"\",\n        \"description\": \"\"\n      }\n    },\n    {\n      \"column\": \"Error Sentence ID\",\n      \"properties\": {\n        \"dtype\": \"number\",\n        \"std\": 6,\n        \"min\": -1,\n        \"max\": 34,\n        \"num_unique_values\": 34,\n        \"samples\": [\n          16,\n          30\n        ],\n        \"semantic_type\": \"\",\n        \"description\": \"\"\n      }\n    },\n    {\n      \"column\": \"Error Sentence\",\n      \"properties\": {\n        \"dtype\": \"string\",\n        \"num_unique_values\": 319,\n        \"samples\": [\n          \"Suspected of protein malnutrition.\",\n          \"Prednisone is prescribed to the patient after an initial radiograph of the hip is unremarkable.\"\n        ],\n        \"semantic_type\": \"\",\n        \"description\": \"\"\n      }\n    },\n    {\n      \"column\": \"Corrected Sentence\",\n      \"properties\": {\n        \"dtype\": \"string\",\n        \"num_unique_values\": 319,\n        \"samples\": [\n          \"Suspected of cystic fibrosis.\",\n          \"Ibuprofen is started after an initial radiograph of the hip is unremarkable.\"\n        ],\n        \"semantic_type\": \"\",\n        \"description\": \"\"\n      }\n    },\n    {\n      \"column\": \"Corrected Text\",\n      \"properties\": {\n        \"dtype\": \"string\",\n        \"num_unique_values\": 319,\n        \"samples\": [\n          \"A 14-year-old boy is brought to the physician because of increasing swelling of his legs and generalized fatigue for 1 month. During this period he has also had a productive cough and shortness of breath. He has been unable to carry out his daily activities. He has a history of recurrent respiratory tract infections and chronic nasal congestion since childhood. He has a 3-month history of foul-smelling and greasy stools. He is at 4th percentile for height and weight. His temperature is 37 C (98.6 F), pulse is 112/min, respirations are 23/min, and blood pressure is 104/64 mm Hg. Examination shows clubbing of his fingers and scoliosis. There is 2+ pitting edema of the lower extremities. Jugular venous distention is present. Inspiratory crackles are heard in the thorax. Cardiac examination shows a loud S2. The abdomen is mildly distended and the liver is palpated 2 cm below the right costal margin. Hepato-jugular reflux is present. Suspected of cystic fibrosis.\",\n          \"A 7-year-old boy presents with right hip pain for the past 2 days. He reports gradual onset of pain and states it hurts to walk. He had a recent cold last week but is otherwise healthy. His temperature is 98.2 F (36.8 C), blood pressure is 107/70 mm Hg, pulse is 90/min, respiratory rate is 19/min, and oxygen saturation is 98% on room air. Physical exam reveals no swelling or warmth surrounding the joint. The patient is sitting with the right hip flexed, abducted, and externally rotated. Passive range of motion of the hip causes discomfort. The patient is able to ambulate but states it hurts. Ibuprofen is started after an initial radiograph of the hip is unremarkable. The patient's CRP is 0.10 mg/L.\"\n        ],\n        \"semantic_type\": \"\",\n        \"description\": \"\"\n      }\n    }\n  ]\n}"
            }
          },
          "metadata": {},
          "execution_count": 6
        }
      ]
    },
    {
      "cell_type": "code",
      "source": [
        "from gensim.models import KeyedVectors\n",
        "\n",
        "bioWordVecPath = '/content/drive/My Drive/Javeriana/Medical_Error_Detection/Modelos/Red_Neuronal_GRU/BioWordVec_PubMed_MIMICIII_d200.vec.bin'\n",
        "model_bioWordVec = KeyedVectors.load_word2vec_format(bioWordVecPath, binary=True)"
      ],
      "metadata": {
        "id": "VLL85mcz9Zs2"
      },
      "execution_count": 7,
      "outputs": []
    },
    {
      "cell_type": "code",
      "source": [
        "import numpy as np\n",
        "from tensorflow.keras.preprocessing.sequence import pad_sequences\n",
        "\n",
        "# Preparar los textos para el modelo\n",
        "texts = df['Text'].values\n",
        "labels = df['Error Flag'].values"
      ],
      "metadata": {
        "id": "5-4EpH9_7PQ1"
      },
      "execution_count": 8,
      "outputs": []
    },
    {
      "cell_type": "code",
      "source": [
        "def map_to_bioWordVec(sequence, tokenizer, model_bioWordVec, max_length):\n",
        "    embeddings = np.zeros((max_length, 200))  # Ajusta 200 según la dimensión de tu BioWordVec\n",
        "    for i, word_index in enumerate(sequence):\n",
        "        if i >= max_length:\n",
        "            break\n",
        "        word = tokenizer.index_word.get(word_index, None)\n",
        "        if word and word in model_bioWordVec:\n",
        "            embeddings[i] = model_bioWordVec[word]\n",
        "        else:\n",
        "            embeddings[i] = np.zeros(200)  # Vector de ceros para palabras fuera del vocabulario\n",
        "    return embeddings"
      ],
      "metadata": {
        "id": "39tPd0fa9GHY"
      },
      "execution_count": 9,
      "outputs": []
    },
    {
      "cell_type": "code",
      "source": [
        "sequences = tokenizer.texts_to_sequences(texts)\n",
        "padded_sequences = pad_sequences(sequences, maxlen=200, padding='post', truncating='post')  # Asegúrate de que `maxlen` corresponde al usado durante el entrenamiento"
      ],
      "metadata": {
        "id": "MV2oCj0S7Qci"
      },
      "execution_count": 10,
      "outputs": []
    },
    {
      "cell_type": "code",
      "source": [
        "# Transformar a vectores BioWordVec\n",
        "X_new_bioWordVec = np.array([map_to_bioWordVec(seq, tokenizer, model_bioWordVec, max_length=200) for seq in padded_sequences])  # Asegúrate de que `max_length` sea el correcto\n"
      ],
      "metadata": {
        "id": "_PR36py39MF_"
      },
      "execution_count": 11,
      "outputs": []
    },
    {
      "cell_type": "code",
      "source": [
        "# Realizar predicciones\n",
        "predictions = model.predict(X_new_bioWordVec)\n"
      ],
      "metadata": {
        "colab": {
          "base_uri": "https://localhost:8080/"
        },
        "id": "hDN91xdB8jGF",
        "outputId": "e59c2d01-af14-4ed7-e6d7-3e0551c1a8be"
      },
      "execution_count": 13,
      "outputs": [
        {
          "output_type": "stream",
          "name": "stdout",
          "text": [
            "18/18 [==============================] - 3s 99ms/step\n"
          ]
        }
      ]
    },
    {
      "cell_type": "code",
      "source": [
        "from sklearn.metrics import accuracy_score, precision_score, recall_score, f1_score\n",
        "\n",
        "import numpy as np\n",
        "\n",
        "predicted_labels = np.round(predictions).astype(int)\n",
        "\n",
        "# Asegurarte de que las etiquetas verdaderas también sean enteros si no lo son ya\n",
        "true_labels = labels.astype(int)\n",
        "\n",
        "# Ahora calcular las métricas\n",
        "accuracy = accuracy_score(true_labels, predicted_labels)\n",
        "precision = precision_score(true_labels, predicted_labels, average='weighted')\n",
        "recall = recall_score(true_labels, predicted_labels, average='weighted')\n",
        "f1 = f1_score(true_labels, predicted_labels, average='weighted')\n",
        "\n",
        "print(f\"Accuracy on new data: {accuracy}\")\n",
        "print(f\"Precision on new data: {precision}\")\n",
        "print(f\"Recall on new data: {recall}\")\n",
        "print(f\"F1 Score on new data: {f1}\")\n"
      ],
      "metadata": {
        "colab": {
          "base_uri": "https://localhost:8080/"
        },
        "id": "U_3oKZjD_uvu",
        "outputId": "4b59b645-d975-4426-c55b-9b2abf23efb2"
      },
      "execution_count": 14,
      "outputs": [
        {
          "output_type": "stream",
          "name": "stdout",
          "text": [
            "Accuracy on new data: 0.5557491289198606\n",
            "Precision on new data: 0.5316440785150098\n",
            "Recall on new data: 0.5557491289198606\n",
            "F1 Score on new data: 0.41485731278714855\n"
          ]
        }
      ]
    },
    {
      "cell_type": "code",
      "source": [
        "import numpy as np\n",
        "from sklearn.metrics import roc_curve, auc\n",
        "import matplotlib.pyplot as plt\n",
        "\n",
        "# Calcular la tasa de verdaderos positivos (TPR), la tasa de falsos positivos (FPR), y los umbrales\n",
        "fpr, tpr, thresholds = roc_curve(true_labels, predictions)\n",
        "\n",
        "# Calcular el área bajo la curva ROC (AUC)\n",
        "roc_auc = auc(fpr, tpr)\n",
        "\n",
        "# Generar la gráfica\n",
        "plt.figure()\n",
        "plt.plot(fpr, tpr, color='darkorange', lw=2, label='ROC curve (area = %0.2f)' % roc_auc)\n",
        "plt.plot([0, 1], [0, 1], color='navy', lw=2, linestyle='--')\n",
        "plt.xlim([0.0, 1.0])\n",
        "plt.ylim([0.0, 1.05])\n",
        "plt.xlabel('False Positive Rate')\n",
        "plt.ylabel('True Positive Rate')\n",
        "plt.title('Receiver Operating Characteristic')\n",
        "plt.legend(loc=\"lower right\")\n",
        "plt.show()\n"
      ],
      "metadata": {
        "id": "iwa0fMdN2bgK",
        "colab": {
          "base_uri": "https://localhost:8080/",
          "height": 472
        },
        "outputId": "1b51268e-b51b-48df-e758-48b07fa33dcd"
      },
      "execution_count": 15,
      "outputs": [
        {
          "output_type": "display_data",
          "data": {
            "text/plain": [
              "<Figure size 640x480 with 1 Axes>"
            ],
            "image/png": "[encoded data removed]"
          },
          "metadata": {}
        }
      ]
    },
    {
      "cell_type": "code",
      "source": [
        "df= df.drop(['Error Flag'], axis=1)\n",
        "\n",
        "# Convertir probabilidades en etiquetas binarias usando un umbral de 0.5\n",
        "df['Error Flag Pred'] = (predictions >= 0.5).astype(int)\n",
        "\n",
        "# Renombrar la columna 'Error Flag Pred' a 'Error Flag'\n",
        "df.rename(columns={'Error Flag Pred': 'Error Flag'}, inplace=True)\n",
        "\n",
        "# Seleccionar y conservar únicamente las columnas deseadas\n",
        "df_final = df[['Text ID', 'Error Flag', 'Error Sentence ID', 'Corrected Sentence']]\n",
        "\n",
        "# Mostrar las primeras filas del DataFrame final para verificar\n",
        "print(df_final.head())\n"
      ],
      "metadata": {
        "colab": {
          "base_uri": "https://localhost:8080/"
        },
        "id": "iNmRGHUNAP07",
        "outputId": "6e524127-b76b-496f-cfb6-9c6534319c54"
      },
      "execution_count": 18,
      "outputs": [
        {
          "output_type": "stream",
          "name": "stdout",
          "text": [
            "    Text ID  Error Flag  Error Sentence ID  \\\n",
            "0  ms-val-0           1                  5   \n",
            "1  ms-val-1           1                 -1   \n",
            "2  ms-val-2           1                 24   \n",
            "3  ms-val-3           1                  4   \n",
            "4  ms-val-4           1                  0   \n",
            "\n",
            "                                  Corrected Sentence  \n",
            "0      Culture tests indicate Trichomonas vaginalis.  \n",
            "1                                                NaN  \n",
            "2  Pathology confirms Mycoplasma pneumoniae is th...  \n",
            "3  Laboratory studies confirm that he has parainf...  \n",
            "4  A previously healthy 25-year-old man comes to ...  \n"
          ]
        }
      ]
    },
    {
      "cell_type": "code",
      "source": [
        "df_final['Error Flag'].value_counts()"
      ],
      "metadata": {
        "colab": {
          "base_uri": "https://localhost:8080/"
        },
        "id": "ocedOiAUAV6c",
        "outputId": "7347c280-83c4-438a-9d92-a1dc9261a957"
      },
      "execution_count": 21,
      "outputs": [
        {
          "output_type": "execute_result",
          "data": {
            "text/plain": [
              "1    562\n",
              "0     12\n",
              "Name: Error Flag, dtype: int64"
            ]
          },
          "metadata": {},
          "execution_count": 21
        }
      ]
    },
    {
      "cell_type": "code",
      "source": [
        "df_final['formatted'] = df_final.apply(lambda row: ' '.join(row.values.astype(str)), axis=1)\n",
        "\n",
        "# Asegurar un solo espacio entre palabras, incluso si hay múltiples espacios originalmente\n",
        "df_final['formatted'] = df_final['formatted'].apply(lambda x: ' '.join(x.split()))\n",
        "\n",
        "# Guardar el DataFrame modificado a un archivo de texto sin comillas y con un solo espacio\n",
        "with open('prediction_Gru.txt', 'w', encoding='utf-8') as file:\n",
        "    for item in df_final['formatted']:\n",
        "        file.write(\"%s\\n\" % item)\n",
        "\n",
        "# Importar la función de descarga de archivos de Colab\n",
        "from google.colab import files\n",
        "\n",
        "# Descargar el archivo de texto a tu computadora\n",
        "files.download('prediction_Gru.txt')"
      ],
      "metadata": {
        "colab": {
          "base_uri": "https://localhost:8080/",
          "height": 225
        },
        "id": "7c-RPC6YA-Xs",
        "outputId": "41a44a26-37e0-4e66-e523-27b025b498ad"
      },
      "execution_count": 22,
      "outputs": [
        {
          "output_type": "stream",
          "name": "stderr",
          "text": [
            "<ipython-input-22-878568ad3ac1>:1: SettingWithCopyWarning: \n",
            "A value is trying to be set on a copy of a slice from a DataFrame.\n",
            "Try using .loc[row_indexer,col_indexer] = value instead\n",
            "\n",
            "See the caveats in the documentation: https://pandas.pydata.org/pandas-docs/stable/user_guide/indexing.html#returning-a-view-versus-a-copy\n",
            "  df_final['formatted'] = df_final.apply(lambda row: ' '.join(row.values.astype(str)), axis=1)\n",
            "<ipython-input-22-878568ad3ac1>:4: SettingWithCopyWarning: \n",
            "A value is trying to be set on a copy of a slice from a DataFrame.\n",
            "Try using .loc[row_indexer,col_indexer] = value instead\n",
            "\n",
            "See the caveats in the documentation: https://pandas.pydata.org/pandas-docs/stable/user_guide/indexing.html#returning-a-view-versus-a-copy\n",
            "  df_final['formatted'] = df_final['formatted'].apply(lambda x: ' '.join(x.split()))\n"
          ]
        },
        {
          "output_type": "display_data",
          "data": {
            "text/plain": [
              "<IPython.core.display.Javascript object>"
            ],
            "application/javascript": [
              "\n",
              "    async function download(id, filename, size) {\n",
              "      if (!google.colab.kernel.accessAllowed) {\n",
              "        return;\n",
              "      }\n",
              "      const div = document.createElement('div');\n",
              "      const label = document.createElement('label');\n",
              "      label.textContent = `Downloading \"${filename}\": `;\n",
              "      div.appendChild(label);\n",
              "      const progress = document.createElement('progress');\n",
              "      progress.max = size;\n",
              "      div.appendChild(progress);\n",
              "      document.body.appendChild(div);\n",
              "\n",
              "      const buffers = [];\n",
              "      let downloaded = 0;\n",
              "\n",
              "      const channel = await google.colab.kernel.comms.open(id);\n",
              "      // Send a message to notify the kernel that we're ready.\n",
              "      channel.send({})\n",
              "\n",
              "      for await (const message of channel.messages) {\n",
              "        // Send a message to notify the kernel that we're ready.\n",
              "        channel.send({})\n",
              "        if (message.buffers) {\n",
              "          for (const buffer of message.buffers) {\n",
              "            buffers.push(buffer);\n",
              "            downloaded += buffer.byteLength;\n",
              "            progress.value = downloaded;\n",
              "          }\n",
              "        }\n",
              "      }\n",
              "      const blob = new Blob(buffers, {type: 'application/binary'});\n",
              "      const a = document.createElement('a');\n",
              "      a.href = window.URL.createObjectURL(blob);\n",
              "      a.download = filename;\n",
              "      div.appendChild(a);\n",
              "      a.click();\n",
              "      div.remove();\n",
              "    }\n",
              "  "
            ]
          },
          "metadata": {}
        },
        {
          "output_type": "display_data",
          "data": {
            "text/plain": [
              "<IPython.core.display.Javascript object>"
            ],
            "application/javascript": [
              "download(\"download_03dbc4bd-b007-4839-91c0-4b7e82e7c1bb\", \"prediction_Gru.txt\", 30589)"
            ]
          },
          "metadata": {}
        }
      ]
    }
  ],
  "metadata": {
    "colab": {
      "provenance": [],
      "machine_shape": "hm"
    },
    "kernelspec": {
      "display_name": "Python 3",
      "name": "python3"
    },
    "language_info": {
      "codemirror_mode": {
        "name": "ipython",
        "version": 3
      },
      "file_extension": ".py",
      "mimetype": "text/x-python",
      "name": "python",
      "nbconvert_exporter": "python",
      "pygments_lexer": "ipython3",
      "version": "3.12.0"
    }
  },
  "nbformat": 4,
  "nbformat_minor": 0
}