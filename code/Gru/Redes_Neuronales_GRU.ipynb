{
  "cells": [
    {
      "cell_type": "code",
      "execution_count": 1,
      "metadata": {
        "id": "I-zF5271S7mV"
      },
      "outputs": [],
      "source": [
        "import pandas as pd\n",
        "import numpy as np\n",
        "import re"
      ]
    },
    {
      "cell_type": "code",
      "execution_count": 2,
      "metadata": {
        "id": "NM5BF6fmS9pN",
        "colab": {
          "base_uri": "https://localhost:8080/",
          "height": 73
        },
        "outputId": "f024bf99-6b78-444b-95b4-64ec642fde83"
      },
      "outputs": [
        {
          "output_type": "display_data",
          "data": {
            "text/plain": [
              "<IPython.core.display.HTML object>"
            ],
            "text/html": [
              "\n",
              "     <input type=\"file\" id=\"files-7ad45fc5-a32b-4932-9983-75d9af7adf21\" name=\"files[]\" multiple disabled\n",
              "        style=\"border:none\" />\n",
              "     <output id=\"result-7ad45fc5-a32b-4932-9983-75d9af7adf21\">\n",
              "      Upload widget is only available when the cell has been executed in the\n",
              "      current browser session. Please rerun this cell to enable.\n",
              "      </output>\n",
              "      <script>// Copyright 2017 Google LLC\n",
              "//\n",
              "// Licensed under the Apache License, Version 2.0 (the \"License\");\n",
              "// you may not use this file except in compliance with the License.\n",
              "// You may obtain a copy of the License at\n",
              "//\n",
              "//      http://www.apache.org/licenses/LICENSE-2.0\n",
              "//\n",
              "// Unless required by applicable law or agreed to in writing, software\n",
              "// distributed under the License is distributed on an \"AS IS\" BASIS,\n",
              "// WITHOUT WARRANTIES OR CONDITIONS OF ANY KIND, either express or implied.\n",
              "// See the License for the specific language governing permissions and\n",
              "// limitations under the License.\n",
              "\n",
              "/**\n",
              " * @fileoverview Helpers for google.colab Python module.\n",
              " */\n",
              "(function(scope) {\n",
              "function span(text, styleAttributes = {}) {\n",
              "  const element = document.createElement('span');\n",
              "  element.textContent = text;\n",
              "  for (const key of Object.keys(styleAttributes)) {\n",
              "    element.style[key] = styleAttributes[key];\n",
              "  }\n",
              "  return element;\n",
              "}\n",
              "\n",
              "// Max number of bytes which will be uploaded at a time.\n",
              "const MAX_PAYLOAD_SIZE = 100 * 1024;\n",
              "\n",
              "function _uploadFiles(inputId, outputId) {\n",
              "  const steps = uploadFilesStep(inputId, outputId);\n",
              "  const outputElement = document.getElementById(outputId);\n",
              "  // Cache steps on the outputElement to make it available for the next call\n",
              "  // to uploadFilesContinue from Python.\n",
              "  outputElement.steps = steps;\n",
              "\n",
              "  return _uploadFilesContinue(outputId);\n",
              "}\n",
              "\n",
              "// This is roughly an async generator (not supported in the browser yet),\n",
              "// where there are multiple asynchronous steps and the Python side is going\n",
              "// to poll for completion of each step.\n",
              "// This uses a Promise to block the python side on completion of each step,\n",
              "// then passes the result of the previous step as the input to the next step.\n",
              "function _uploadFilesContinue(outputId) {\n",
              "  const outputElement = document.getElementById(outputId);\n",
              "  const steps = outputElement.steps;\n",
              "\n",
              "  const next = steps.next(outputElement.lastPromiseValue);\n",
              "  return Promise.resolve(next.value.promise).then((value) => {\n",
              "    // Cache the last promise value to make it available to the next\n",
              "    // step of the generator.\n",
              "    outputElement.lastPromiseValue = value;\n",
              "    return next.value.response;\n",
              "  });\n",
              "}\n",
              "\n",
              "/**\n",
              " * Generator function which is called between each async step of the upload\n",
              " * process.\n",
              " * @param {string} inputId Element ID of the input file picker element.\n",
              " * @param {string} outputId Element ID of the output display.\n",
              " * @return {!Iterable<!Object>} Iterable of next steps.\n",
              " */\n",
              "function* uploadFilesStep(inputId, outputId) {\n",
              "  const inputElement = document.getElementById(inputId);\n",
              "  inputElement.disabled = false;\n",
              "\n",
              "  const outputElement = document.getElementById(outputId);\n",
              "  outputElement.innerHTML = '';\n",
              "\n",
              "  const pickedPromise = new Promise((resolve) => {\n",
              "    inputElement.addEventListener('change', (e) => {\n",
              "      resolve(e.target.files);\n",
              "    });\n",
              "  });\n",
              "\n",
              "  const cancel = document.createElement('button');\n",
              "  inputElement.parentElement.appendChild(cancel);\n",
              "  cancel.textContent = 'Cancel upload';\n",
              "  const cancelPromise = new Promise((resolve) => {\n",
              "    cancel.onclick = () => {\n",
              "      resolve(null);\n",
              "    };\n",
              "  });\n",
              "\n",
              "  // Wait for the user to pick the files.\n",
              "  const files = yield {\n",
              "    promise: Promise.race([pickedPromise, cancelPromise]),\n",
              "    response: {\n",
              "      action: 'starting',\n",
              "    }\n",
              "  };\n",
              "\n",
              "  cancel.remove();\n",
              "\n",
              "  // Disable the input element since further picks are not allowed.\n",
              "  inputElement.disabled = true;\n",
              "\n",
              "  if (!files) {\n",
              "    return {\n",
              "      response: {\n",
              "        action: 'complete',\n",
              "      }\n",
              "    };\n",
              "  }\n",
              "\n",
              "  for (const file of files) {\n",
              "    const li = document.createElement('li');\n",
              "    li.append(span(file.name, {fontWeight: 'bold'}));\n",
              "    li.append(span(\n",
              "        `(${file.type || 'n/a'}) - ${file.size} bytes, ` +\n",
              "        `last modified: ${\n",
              "            file.lastModifiedDate ? file.lastModifiedDate.toLocaleDateString() :\n",
              "                                    'n/a'} - `));\n",
              "    const percent = span('0% done');\n",
              "    li.appendChild(percent);\n",
              "\n",
              "    outputElement.appendChild(li);\n",
              "\n",
              "    const fileDataPromise = new Promise((resolve) => {\n",
              "      const reader = new FileReader();\n",
              "      reader.onload = (e) => {\n",
              "        resolve(e.target.result);\n",
              "      };\n",
              "      reader.readAsArrayBuffer(file);\n",
              "    });\n",
              "    // Wait for the data to be ready.\n",
              "    let fileData = yield {\n",
              "      promise: fileDataPromise,\n",
              "      response: {\n",
              "        action: 'continue',\n",
              "      }\n",
              "    };\n",
              "\n",
              "    // Use a chunked sending to avoid message size limits. See b/62115660.\n",
              "    let position = 0;\n",
              "    do {\n",
              "      const length = Math.min(fileData.byteLength - position, MAX_PAYLOAD_SIZE);\n",
              "      const chunk = new Uint8Array(fileData, position, length);\n",
              "      position += length;\n",
              "\n",
              "      const base64 = btoa(String.fromCharCode.apply(null, chunk));\n",
              "      yield {\n",
              "        response: {\n",
              "          action: 'append',\n",
              "          file: file.name,\n",
              "          data: base64,\n",
              "        },\n",
              "      };\n",
              "\n",
              "      let percentDone = fileData.byteLength === 0 ?\n",
              "          100 :\n",
              "          Math.round((position / fileData.byteLength) * 100);\n",
              "      percent.textContent = `${percentDone}% done`;\n",
              "\n",
              "    } while (position < fileData.byteLength);\n",
              "  }\n",
              "\n",
              "  // All done.\n",
              "  yield {\n",
              "    response: {\n",
              "      action: 'complete',\n",
              "    }\n",
              "  };\n",
              "}\n",
              "\n",
              "scope.google = scope.google || {};\n",
              "scope.google.colab = scope.google.colab || {};\n",
              "scope.google.colab._files = {\n",
              "  _uploadFiles,\n",
              "  _uploadFilesContinue,\n",
              "};\n",
              "})(self);\n",
              "</script> "
            ]
          },
          "metadata": {}
        },
        {
          "output_type": "stream",
          "name": "stdout",
          "text": [
            "Saving MEDIQA-CORR-2024-MS-TrainingData.csv to MEDIQA-CORR-2024-MS-TrainingData.csv\n"
          ]
        }
      ],
      "source": [
        "from google.colab import files\n",
        "uploaded = files.upload()"
      ]
    },
    {
      "cell_type": "markdown",
      "source": [],
      "metadata": {
        "id": "B3vUe5oA2hrs"
      }
    },
    {
      "cell_type": "code",
      "execution_count": 3,
      "metadata": {
        "id": "4hW3axOITCDI",
        "colab": {
          "base_uri": "https://localhost:8080/",
          "height": 206
        },
        "outputId": "db04f396-91ee-48a4-aaa8-61bff8c64615"
      },
      "outputs": [
        {
          "output_type": "execute_result",
          "data": {
            "text/plain": [
              "   Unnamed: 0     Text ID                                               Text  \\\n",
              "0           0  ms-train-0  A 53-year-old man comes to the physician becau...   \n",
              "1           1  ms-train-1  A 53-year-old man comes to the physician becau...   \n",
              "2           2  ms-train-2  A 9-year-old girl is brought to the pediatrici...   \n",
              "3           3  ms-train-3  A 9-year-old girl is brought to the pediatrici...   \n",
              "4           4  ms-train-4  Blood cultures are sent to the laboratory. Int...   \n",
              "\n",
              "                                           Sentences  Error Flag  \n",
              "0  0 A 53-year-old man comes to the physician bec...           1  \n",
              "1  0 A 53-year-old man comes to the physician bec...           0  \n",
              "2  0 A 9-year-old girl is brought to the pediatri...           1  \n",
              "3  0 A 9-year-old girl is brought to the pediatri...           0  \n",
              "4  0 Blood cultures are sent to the laboratory.\\n...           1  "
            ],
            "text/html": [
              "\n",
              "  <div id=\"df-00ce4f94-77b1-4a4a-af27-c779cbb5a88a\" class=\"colab-df-container\">\n",
              "    <div>\n",
              "<style scoped>\n",
              "    .dataframe tbody tr th:only-of-type {\n",
              "        vertical-align: middle;\n",
              "    }\n",
              "\n",
              "    .dataframe tbody tr th {\n",
              "        vertical-align: top;\n",
              "    }\n",
              "\n",
              "    .dataframe thead th {\n",
              "        text-align: right;\n",
              "    }\n",
              "</style>\n",
              "<table border=\"1\" class=\"dataframe\">\n",
              "  <thead>\n",
              "    <tr style=\"text-align: right;\">\n",
              "      <th></th>\n",
              "      <th>Unnamed: 0</th>\n",
              "      <th>Text ID</th>\n",
              "      <th>Text</th>\n",
              "      <th>Sentences</th>\n",
              "      <th>Error Flag</th>\n",
              "    </tr>\n",
              "  </thead>\n",
              "  <tbody>\n",
              "    <tr>\n",
              "      <th>0</th>\n",
              "      <td>0</td>\n",
              "      <td>ms-train-0</td>\n",
              "      <td>A 53-year-old man comes to the physician becau...</td>\n",
              "      <td>0 A 53-year-old man comes to the physician bec...</td>\n",
              "      <td>1</td>\n",
              "    </tr>\n",
              "    <tr>\n",
              "      <th>1</th>\n",
              "      <td>1</td>\n",
              "      <td>ms-train-1</td>\n",
              "      <td>A 53-year-old man comes to the physician becau...</td>\n",
              "      <td>0 A 53-year-old man comes to the physician bec...</td>\n",
              "      <td>0</td>\n",
              "    </tr>\n",
              "    <tr>\n",
              "      <th>2</th>\n",
              "      <td>2</td>\n",
              "      <td>ms-train-2</td>\n",
              "      <td>A 9-year-old girl is brought to the pediatrici...</td>\n",
              "      <td>0 A 9-year-old girl is brought to the pediatri...</td>\n",
              "      <td>1</td>\n",
              "    </tr>\n",
              "    <tr>\n",
              "      <th>3</th>\n",
              "      <td>3</td>\n",
              "      <td>ms-train-3</td>\n",
              "      <td>A 9-year-old girl is brought to the pediatrici...</td>\n",
              "      <td>0 A 9-year-old girl is brought to the pediatri...</td>\n",
              "      <td>0</td>\n",
              "    </tr>\n",
              "    <tr>\n",
              "      <th>4</th>\n",
              "      <td>4</td>\n",
              "      <td>ms-train-4</td>\n",
              "      <td>Blood cultures are sent to the laboratory. Int...</td>\n",
              "      <td>0 Blood cultures are sent to the laboratory.\\n...</td>\n",
              "      <td>1</td>\n",
              "    </tr>\n",
              "  </tbody>\n",
              "</table>\n",
              "</div>\n",
              "    <div class=\"colab-df-buttons\">\n",
              "\n",
              "  <div class=\"colab-df-container\">\n",
              "    <button class=\"colab-df-convert\" onclick=\"convertToInteractive('df-00ce4f94-77b1-4a4a-af27-c779cbb5a88a')\"\n",
              "            title=\"Convert this dataframe to an interactive table.\"\n",
              "            style=\"display:none;\">\n",
              "\n",
              "  <svg xmlns=\"http://www.w3.org/2000/svg\" height=\"24px\" viewBox=\"0 -960 960 960\">\n",
              "    <path d=\"M120-120v-720h720v720H120Zm60-500h600v-160H180v160Zm220 220h160v-160H400v160Zm0 220h160v-160H400v160ZM180-400h160v-160H180v160Zm440 0h160v-160H620v160ZM180-180h160v-160H180v160Zm440 0h160v-160H620v160Z\"/>\n",
              "  </svg>\n",
              "    </button>\n",
              "\n",
              "  <style>\n",
              "    .colab-df-container {\n",
              "      display:flex;\n",
              "      gap: 12px;\n",
              "    }\n",
              "\n",
              "    .colab-df-convert {\n",
              "      background-color: #E8F0FE;\n",
              "      border: none;\n",
              "      border-radius: 50%;\n",
              "      cursor: pointer;\n",
              "      display: none;\n",
              "      fill: #1967D2;\n",
              "      height: 32px;\n",
              "      padding: 0 0 0 0;\n",
              "      width: 32px;\n",
              "    }\n",
              "\n",
              "    .colab-df-convert:hover {\n",
              "      background-color: #E2EBFA;\n",
              "      box-shadow: 0px 1px 2px rgba(60, 64, 67, 0.3), 0px 1px 3px 1px rgba(60, 64, 67, 0.15);\n",
              "      fill: #174EA6;\n",
              "    }\n",
              "\n",
              "    .colab-df-buttons div {\n",
              "      margin-bottom: 4px;\n",
              "    }\n",
              "\n",
              "    [theme=dark] .colab-df-convert {\n",
              "      background-color: #3B4455;\n",
              "      fill: #D2E3FC;\n",
              "    }\n",
              "\n",
              "    [theme=dark] .colab-df-convert:hover {\n",
              "      background-color: #434B5C;\n",
              "      box-shadow: 0px 1px 3px 1px rgba(0, 0, 0, 0.15);\n",
              "      filter: drop-shadow(0px 1px 2px rgba(0, 0, 0, 0.3));\n",
              "      fill: #FFFFFF;\n",
              "    }\n",
              "  </style>\n",
              "\n",
              "    <script>\n",
              "      const buttonEl =\n",
              "        document.querySelector('#df-00ce4f94-77b1-4a4a-af27-c779cbb5a88a button.colab-df-convert');\n",
              "      buttonEl.style.display =\n",
              "        google.colab.kernel.accessAllowed ? 'block' : 'none';\n",
              "\n",
              "      async function convertToInteractive(key) {\n",
              "        const element = document.querySelector('#df-00ce4f94-77b1-4a4a-af27-c779cbb5a88a');\n",
              "        const dataTable =\n",
              "          await google.colab.kernel.invokeFunction('convertToInteractive',\n",
              "                                                    [key], {});\n",
              "        if (!dataTable) return;\n",
              "\n",
              "        const docLinkHtml = 'Like what you see? Visit the ' +\n",
              "          '<a target=\"_blank\" href=https://colab.research.google.com/notebooks/data_table.ipynb>data table notebook</a>'\n",
              "          + ' to learn more about interactive tables.';\n",
              "        element.innerHTML = '';\n",
              "        dataTable['output_type'] = 'display_data';\n",
              "        await google.colab.output.renderOutput(dataTable, element);\n",
              "        const docLink = document.createElement('div');\n",
              "        docLink.innerHTML = docLinkHtml;\n",
              "        element.appendChild(docLink);\n",
              "      }\n",
              "    </script>\n",
              "  </div>\n",
              "\n",
              "\n",
              "<div id=\"df-9286bb9d-279e-4a94-bf15-4b05aef2dfae\">\n",
              "  <button class=\"colab-df-quickchart\" onclick=\"quickchart('df-9286bb9d-279e-4a94-bf15-4b05aef2dfae')\"\n",
              "            title=\"Suggest charts\"\n",
              "            style=\"display:none;\">\n",
              "\n",
              "<svg xmlns=\"http://www.w3.org/2000/svg\" height=\"24px\"viewBox=\"0 0 24 24\"\n",
              "     width=\"24px\">\n",
              "    <g>\n",
              "        <path d=\"M19 3H5c-1.1 0-2 .9-2 2v14c0 1.1.9 2 2 2h14c1.1 0 2-.9 2-2V5c0-1.1-.9-2-2-2zM9 17H7v-7h2v7zm4 0h-2V7h2v10zm4 0h-2v-4h2v4z\"/>\n",
              "    </g>\n",
              "</svg>\n",
              "  </button>\n",
              "\n",
              "<style>\n",
              "  .colab-df-quickchart {\n",
              "      --bg-color: #E8F0FE;\n",
              "      --fill-color: #1967D2;\n",
              "      --hover-bg-color: #E2EBFA;\n",
              "      --hover-fill-color: #174EA6;\n",
              "      --disabled-fill-color: #AAA;\n",
              "      --disabled-bg-color: #DDD;\n",
              "  }\n",
              "\n",
              "  [theme=dark] .colab-df-quickchart {\n",
              "      --bg-color: #3B4455;\n",
              "      --fill-color: #D2E3FC;\n",
              "      --hover-bg-color: #434B5C;\n",
              "      --hover-fill-color: #FFFFFF;\n",
              "      --disabled-bg-color: #3B4455;\n",
              "      --disabled-fill-color: #666;\n",
              "  }\n",
              "\n",
              "  .colab-df-quickchart {\n",
              "    background-color: var(--bg-color);\n",
              "    border: none;\n",
              "    border-radius: 50%;\n",
              "    cursor: pointer;\n",
              "    display: none;\n",
              "    fill: var(--fill-color);\n",
              "    height: 32px;\n",
              "    padding: 0;\n",
              "    width: 32px;\n",
              "  }\n",
              "\n",
              "  .colab-df-quickchart:hover {\n",
              "    background-color: var(--hover-bg-color);\n",
              "    box-shadow: 0 1px 2px rgba(60, 64, 67, 0.3), 0 1px 3px 1px rgba(60, 64, 67, 0.15);\n",
              "    fill: var(--button-hover-fill-color);\n",
              "  }\n",
              "\n",
              "  .colab-df-quickchart-complete:disabled,\n",
              "  .colab-df-quickchart-complete:disabled:hover {\n",
              "    background-color: var(--disabled-bg-color);\n",
              "    fill: var(--disabled-fill-color);\n",
              "    box-shadow: none;\n",
              "  }\n",
              "\n",
              "  .colab-df-spinner {\n",
              "    border: 2px solid var(--fill-color);\n",
              "    border-color: transparent;\n",
              "    border-bottom-color: var(--fill-color);\n",
              "    animation:\n",
              "      spin 1s steps(1) infinite;\n",
              "  }\n",
              "\n",
              "  @keyframes spin {\n",
              "    0% {\n",
              "      border-color: transparent;\n",
              "      border-bottom-color: var(--fill-color);\n",
              "      border-left-color: var(--fill-color);\n",
              "    }\n",
              "    20% {\n",
              "      border-color: transparent;\n",
              "      border-left-color: var(--fill-color);\n",
              "      border-top-color: var(--fill-color);\n",
              "    }\n",
              "    30% {\n",
              "      border-color: transparent;\n",
              "      border-left-color: var(--fill-color);\n",
              "      border-top-color: var(--fill-color);\n",
              "      border-right-color: var(--fill-color);\n",
              "    }\n",
              "    40% {\n",
              "      border-color: transparent;\n",
              "      border-right-color: var(--fill-color);\n",
              "      border-top-color: var(--fill-color);\n",
              "    }\n",
              "    60% {\n",
              "      border-color: transparent;\n",
              "      border-right-color: var(--fill-color);\n",
              "    }\n",
              "    80% {\n",
              "      border-color: transparent;\n",
              "      border-right-color: var(--fill-color);\n",
              "      border-bottom-color: var(--fill-color);\n",
              "    }\n",
              "    90% {\n",
              "      border-color: transparent;\n",
              "      border-bottom-color: var(--fill-color);\n",
              "    }\n",
              "  }\n",
              "</style>\n",
              "\n",
              "  <script>\n",
              "    async function quickchart(key) {\n",
              "      const quickchartButtonEl =\n",
              "        document.querySelector('#' + key + ' button');\n",
              "      quickchartButtonEl.disabled = true;  // To prevent multiple clicks.\n",
              "      quickchartButtonEl.classList.add('colab-df-spinner');\n",
              "      try {\n",
              "        const charts = await google.colab.kernel.invokeFunction(\n",
              "            'suggestCharts', [key], {});\n",
              "      } catch (error) {\n",
              "        console.error('Error during call to suggestCharts:', error);\n",
              "      }\n",
              "      quickchartButtonEl.classList.remove('colab-df-spinner');\n",
              "      quickchartButtonEl.classList.add('colab-df-quickchart-complete');\n",
              "    }\n",
              "    (() => {\n",
              "      let quickchartButtonEl =\n",
              "        document.querySelector('#df-9286bb9d-279e-4a94-bf15-4b05aef2dfae button');\n",
              "      quickchartButtonEl.style.display =\n",
              "        google.colab.kernel.accessAllowed ? 'block' : 'none';\n",
              "    })();\n",
              "  </script>\n",
              "</div>\n",
              "\n",
              "    </div>\n",
              "  </div>\n"
            ],
            "application/vnd.google.colaboratory.intrinsic+json": {
              "type": "dataframe",
              "variable_name": "df",
              "summary": "{\n  \"name\": \"df\",\n  \"rows\": 2189,\n  \"fields\": [\n    {\n      \"column\": \"Unnamed: 0\",\n      \"properties\": {\n        \"dtype\": \"number\",\n        \"std\": 632,\n        \"min\": 0,\n        \"max\": 2188,\n        \"num_unique_values\": 2189,\n        \"samples\": [\n          289,\n          1691,\n          2028\n        ],\n        \"semantic_type\": \"\",\n        \"description\": \"\"\n      }\n    },\n    {\n      \"column\": \"Text ID\",\n      \"properties\": {\n        \"dtype\": \"string\",\n        \"num_unique_values\": 2189,\n        \"samples\": [\n          \"ms-train-289\",\n          \"ms-train-1691\",\n          \"ms-train-2028\"\n        ],\n        \"semantic_type\": \"\",\n        \"description\": \"\"\n      }\n    },\n    {\n      \"column\": \"Text\",\n      \"properties\": {\n        \"dtype\": \"string\",\n        \"num_unique_values\": 2189,\n        \"samples\": [\n          \"A concerned mother presents to clinic stating that her 14-year-old son has not gone through his growth spurt. She states that, although shorter, he had been growing at the same rate as his peers until the past year. There is no evidence of delayed puberty in the mother, but the father's history is unknown. The patient has no complaints. On physical exam, the patient is a healthy-appearing 14-year-old boy whose height is below the third percentile and whose weight is at the 50th percentile. His bone age is determined to be 11 years. Suspected of growth hormone deficiency. A laboratory workup, including thyroid stimulating hormone (TSH), is unremarkable. \",\n          \"An 82-year-old woman comes to the physician because of difficulty sleeping and increasing fatigue. Over the past 3 months she has been waking up early and having trouble falling asleep at night. During this period, she has had a decreased appetite and a 3.2-kg (7-lb) weight loss. Since the death of her husband one year ago, she has been living with her son and his wife. She is worried and feels guilty because she does not want to impose on them. She has stopped going to meetings at the senior center because she does not enjoy them anymore and also because she feels uncomfortable asking her son to give her a ride, especially since her son has had a great deal of stress lately. She is 155 cm (5 ft 1 in) tall and weighs 51 kg (110 lb); BMI is 21 kg/m2. Vital signs are within normal limits. After examining the patient, she was assessed for suicidal ideation. Physical examination showed no abnormalities. On mental status examination, she was tired and had a flattened affect. Cognition was intact. \",\n          \"A 56 year old female comes to the ED complaining of moderate right eye pain, headache, and acute onset of blurry vision, which she describes as colored halos around lights. She was watching a movie at home with her husband about an hour ago when the pain began. On physical exam of her right eye, her pupil is mid-dilated and unresponsive to light. Her right eyeball is firm to pressure. Patient is scheduled to have a laser peripheral iridotomy after intraocular pressure (IOP) measured with tonometer was elevated at 36mmHg.\"\n        ],\n        \"semantic_type\": \"\",\n        \"description\": \"\"\n      }\n    },\n    {\n      \"column\": \"Sentences\",\n      \"properties\": {\n        \"dtype\": \"string\",\n        \"num_unique_values\": 2189,\n        \"samples\": [\n          \"0 A concerned mother presents to clinic stating that her 14-year-old son has not gone through his growth spurt.\\n1 She states that, although shorter, he had been growing at the same rate as his peers until the past year.\\n2 There is no evidence of delayed puberty in the mother, but the father's history is unknown.\\n3 The patient has no complaints.\\n4 On physical exam, the patient is a healthy-appearing 14-year-old boy whose height is below the third percentile and whose weight is at the 50th percentile.\\n5 His bone age is determined to be 11 years.\\n6 Suspected of growth hormone deficiency.\\n7 A laboratory workup, including thyroid stimulating hormone (TSH), is unremarkable.\\n\",\n          \"0 An 82-year-old woman comes to the physician because of difficulty sleeping and increasing fatigue.\\n1 Over the past 3 months she has been waking up early and having trouble falling asleep at night.\\n2 During this period, she has had a decreased appetite and a 3.2-kg (7-lb) weight loss.\\n3 Since the death of her husband one year ago, she has been living with her son and his wife.\\n4 She is worried and feels guilty because she does not want to impose on them.\\n5 She has stopped going to meetings at the senior center because she does not enjoy them anymore and also because she feels uncomfortable asking her son to give her a ride, especially since her son has had a great deal of stress lately.\\n6 She is 155 cm (5 ft 1 in) tall and weighs 51 kg (110 lb); BMI is 21 kg/m2.\\n7 Vital signs are within normal limits.\\n8 Physical examination shows no abnormalities.\\n9 On mental status examination, she is tired and has a flattened affect.\\n10 Cognition is intact.\\n11 Mirtazapine therapy was initiated.\\n0 An 82-year-old woman comes to the physician because of difficulty sleeping and increasing fatigue.\\n1 Over the past 3 months she has been waking up early and having trouble falling asleep at night.\\n2 During this period, she has had a decreased appetite and a 3.2-kg (7-lb) weight loss.\\n3 Since the death of her husband one year ago, she has been living with her son and his wife.\\n4 She is worried and feels guilty because she does not want to impose on them.\\n5 She has stopped going to meetings at the senior center because she does not enjoy them anymore and also because she feels uncomfortable asking her son to give her a ride, especially since her son has had a great deal of stress lately.\\n6 She is 155 cm (5 ft 1 in) tall and weighs 51 kg (110 lb); BMI is 21 kg/m2.\\n7 Vital signs are within normal limits.\\n8 After examining the patient, she was assessed for suicidal ideation.\\n9 Physical examination showed no abnormalities.\\n10 On mental status examination, she was tired and had a flattened affect.\\n11 Cognition was intact.\\n\",\n          \"0 A 56 year old female comes to the ED complaining of moderate right eye pain, headache, and acute onset of blurry vision, which she describes as colored halos around lights.\\n1 She was watching a movie at home with her husband about an hour ago when the pain began.\\n2 On physical exam of her right eye, her pupil is mid-dilated and unresponsive to light.\\n3 Her right eyeball is firm to pressure.\\n4 Patient is scheduled to have a laser peripheral iridotomy after intraocular pressure (IOP) measured with tonometer was elevated at 36mmHg.\\n\"\n        ],\n        \"semantic_type\": \"\",\n        \"description\": \"\"\n      }\n    },\n    {\n      \"column\": \"Error Flag\",\n      \"properties\": {\n        \"dtype\": \"number\",\n        \"std\": 0,\n        \"min\": 0,\n        \"max\": 1,\n        \"num_unique_values\": 2,\n        \"samples\": [\n          0,\n          1\n        ],\n        \"semantic_type\": \"\",\n        \"description\": \"\"\n      }\n    }\n  ]\n}"
            }
          },
          "metadata": {},
          "execution_count": 3
        }
      ],
      "source": [
        "df = pd.read_csv('MEDIQA-CORR-2024-MS-TrainingData.csv', delimiter=',', encoding='utf-8')\n",
        "df= df.drop(['Error Sentence ID', 'Error Sentence', 'Corrected Sentence', 'Corrected Text'], axis=1)\n",
        "df.head()"
      ]
    },
    {
      "cell_type": "code",
      "execution_count": 4,
      "metadata": {
        "id": "9ejTL1FSS7mZ",
        "colab": {
          "base_uri": "https://localhost:8080/"
        },
        "outputId": "3f574e42-b6ba-443d-ad22-00743137db11"
      },
      "outputs": [
        {
          "output_type": "execute_result",
          "data": {
            "text/plain": [
              "(Unnamed: 0     int64\n",
              " Text ID       object\n",
              " Text          object\n",
              " Sentences     object\n",
              " Error Flag     int64\n",
              " dtype: object,\n",
              " Index(['Unnamed: 0', 'Text ID', 'Text', 'Sentences', 'Error Flag'], dtype='object'),\n",
              "    Unnamed: 0     Text ID                                               Text  \\\n",
              " 0           0  ms-train-0  A 53-year-old man comes to the physician becau...   \n",
              " 1           1  ms-train-1  A 53-year-old man comes to the physician becau...   \n",
              " 2           2  ms-train-2  A 9-year-old girl is brought to the pediatrici...   \n",
              " 3           3  ms-train-3  A 9-year-old girl is brought to the pediatrici...   \n",
              " 4           4  ms-train-4  Blood cultures are sent to the laboratory. Int...   \n",
              " \n",
              "                                            Sentences  Error Flag  \n",
              " 0  0 A 53-year-old man comes to the physician bec...           1  \n",
              " 1  0 A 53-year-old man comes to the physician bec...           0  \n",
              " 2  0 A 9-year-old girl is brought to the pediatri...           1  \n",
              " 3  0 A 9-year-old girl is brought to the pediatri...           0  \n",
              " 4  0 Blood cultures are sent to the laboratory.\\n...           1  )"
            ]
          },
          "metadata": {},
          "execution_count": 4
        }
      ],
      "source": [
        "# Analizamos las primeras 5 columnas para obtener sus tipos de datos y otras características\n",
        "column_info = df.dtypes\n",
        "\n",
        "# Analizamos los nombres de las columnas para identificar las primeras 5\n",
        "column_names = df.columns[:5]\n",
        "\n",
        "# Extraemos ejemplos de datos de las primeras 5 columnas para entender mejor su contenido\n",
        "sample_data = df.head()\n",
        "\n",
        "column_info[:5], column_names, sample_data"
      ]
    },
    {
      "cell_type": "code",
      "execution_count": 5,
      "metadata": {
        "id": "9lGkJCrtS7ma",
        "colab": {
          "base_uri": "https://localhost:8080/"
        },
        "outputId": "8b3246cf-f2b7-4d8f-be78-86cd53461638"
      },
      "outputs": [
        {
          "output_type": "stream",
          "name": "stdout",
          "text": [
            "Número de datos faltantes en Unnamed: 0: 0\n",
            "Número de datos faltantes en Text ID: 0\n",
            "Número de datos faltantes en Text: 0\n",
            "Número de datos faltantes en Sentences: 0\n",
            "Número de datos faltantes en Error Flag: 0\n"
          ]
        }
      ],
      "source": [
        "# Revisar los valores nulos\n",
        "df.replace('', np.nan, inplace=True)\n",
        "\n",
        "# Lista de columnas a revisar\n",
        "columns_to_check = ['Unnamed: 0', 'Text ID', 'Text', 'Sentences', 'Error Flag']\n",
        "\n",
        "#  Iterar sobre cada columna y contar los valores nulos\n",
        "for column in columns_to_check:\n",
        "    # Contar los valores nulos en la columna\n",
        "    missing_count = df[column].isnull().sum()\n",
        "    print(f'Número de datos faltantes en {column}: {missing_count}')\n"
      ]
    },
    {
      "cell_type": "code",
      "source": [
        "special_char_pattern = re.compile(r'[^a-zA-Z0-9\\s]')"
      ],
      "metadata": {
        "id": "CCXnMZoZNTAY"
      },
      "execution_count": 6,
      "outputs": []
    },
    {
      "cell_type": "code",
      "execution_count": 7,
      "metadata": {
        "id": "yD3RIJngS7mc",
        "colab": {
          "base_uri": "https://localhost:8080/"
        },
        "outputId": "8c4aca9a-abd9-4522-98ad-42545769369d"
      },
      "outputs": [
        {
          "output_type": "execute_result",
          "data": {
            "text/plain": [
              "0    A 53-year-old man comes to the physician becau...\n",
              "1    A 53-year-old man comes to the physician becau...\n",
              "2    A 9-year-old girl is brought to the pediatrici...\n",
              "3    A 9-year-old girl is brought to the pediatrici...\n",
              "4    Blood cultures are sent to the laboratory. Int...\n",
              "Name: Text, dtype: object"
            ]
          },
          "metadata": {},
          "execution_count": 7
        }
      ],
      "source": [
        "# Reemplazar caracteres especiales por su equivalente en texto\n",
        "replacements = {\n",
        "    \"â€\\x9d\": \" \",\n",
        "    \".â€\\x9d\": \".\",\n",
        "    \"â€“\": \"-\",\n",
        "    \"â€œsomething\": \"something\",\n",
        "    \"patientâ€™s\": \"patients\",\n",
        "    \"â‰¥\": \"≥\",\n",
        "    \"\\n\": \",\",\n",
        "    \"â€œ\": \"\",\n",
        "    \"Waldenstromâ€™s\": \"Waldenströms\",\n",
        "    \"Âµmol/L\": \"µmol/L\",\n",
        "    \"â€œmemory\": \"memory\",\n",
        "    \"weeksâ€™\": \"weeks\",\n",
        "    \"74 Î¼m3\": \"74 μm^3\",\n",
        "    \"ÂµIU/L\": \"µIU/L\",\n",
        "    \"â‰¤\": \"≤\",\n",
        "    \"Clâˆ’\": \"Cl-\",\n",
        "    \"physicianâ€™s\": \"physicians\",\n",
        "    \"ÂºF\": \"ºF\",\n",
        "    \"âˆ’\": \"-\",\n",
        "    \"Â½\": \"½\",\n",
        "    \"Î¼g/dL\": \"μg/dL\",\n",
        "    \"pediatricianâ€™s\": \"pediatricians\",\n",
        "    \"yearsâ€™\": \"years\",\n",
        "    \"Âµg\": \"µg\",\n",
        "    \"â€\": \"\",\n",
        "    \"Kennedyâ€™s\": \"Kennedys\",\n",
        "    \"Kennedy™s\": \"Kennedys\",\n",
        "    \"can™t\": \"can't\",\n",
        "    \"Î²\": \"β\",\n",
        "    \"Ã—\": \"x\",\n",
        "    \"ÃŸ-hCG\": \"β-hCG\",\n",
        "    \"SÃ©quard\": \"Séquard\",\n",
        "    \"Î³\": \"γ\",\n",
        "    \"Î¼m3\": \"μm^3\",\n",
        "    \"Î±\": \"α\",\n",
        "    \"Î¼U/mL\": \"μU/mL\",\n",
        "    \"Î¼\": \"μ\",\n",
        "    \"'\": \" \",\n",
        "    \"\\\"\":\"\" #Este lo dejo a consideracion, dependiendo si les funciona o no\n",
        "}\n",
        "\n",
        "# Aplicar todas las sustituciones\n",
        "for old, new in replacements.items():\n",
        "    df['Text'] = df['Text'].str.replace(old, new, regex=False)\n",
        "\n",
        "# Verificar el reemplazo\n",
        "df['Text'].head()\n"
      ]
    },
    {
      "cell_type": "code",
      "source": [
        "import pandas as pd\n",
        "import re\n",
        "\n",
        "# Suponiendo que df es tu DataFrame\n",
        "\n",
        "# Función para aplicar todas las transformaciones no regex en una sola pasada\n",
        "def optimize_text(text):\n",
        "    # Aplicar transformaciones no regex\n",
        "    text = text.strip().replace(\"Cl- \", \"Cl \").replace(\"'\", \"\").replace(\"’\", \"\")\n",
        "    text = text.replace(\":,\", \":\").replace(',_', ',').replace('[', '').replace(']', '')\n",
        "    text = text.replace(';', ',').replace('.,', '.').replace('mg dl', 'mg/dl')\n",
        "    text = text.replace('é', 'e').replace('patient s', 'patients').replace('girl s', 'girls')\n",
        "    text = text.replace('gilbert s', 'gilberts').replace(\".'\", \".\").replace(\",'\", \",\")\n",
        "    text = text.replace(\"',\", \",\").lower()  # Convertir a minúsculas aquí para optimizar\n",
        "    return text\n",
        "\n",
        "# Aplicar optimizaciones no regex\n",
        "df['Text'] = df['Text'].apply(optimize_text)\n",
        "\n",
        "# Aplicar optimizaciones con regex\n",
        "df['Text'] = df['Text'].str.replace(r',,', ',', regex=True)\n",
        "df['Text'] = df['Text'].str.replace(r'  +', ' ', regex=True)\n",
        "df['Text'] = df['Text'].str.replace('mm hg', 'mmHg', flags=re.IGNORECASE, regex=True)\n"
      ],
      "metadata": {
        "id": "fpX1vRuGNbiE"
      },
      "execution_count": 8,
      "outputs": []
    },
    {
      "cell_type": "code",
      "execution_count": 9,
      "metadata": {
        "id": "uP3uINM_S7mf",
        "colab": {
          "base_uri": "https://localhost:8080/"
        },
        "outputId": "01304574-4008-4094-cb41-f903aaf01165"
      },
      "outputs": [
        {
          "output_type": "execute_result",
          "data": {
            "text/plain": [
              "count    2189.000000\n",
              "mean     1094.000000\n",
              "std       632.054191\n",
              "min         0.000000\n",
              "25%       547.000000\n",
              "50%      1094.000000\n",
              "75%      1641.000000\n",
              "max      2188.000000\n",
              "Name: Unnamed: 0, dtype: float64"
            ]
          },
          "metadata": {},
          "execution_count": 9
        }
      ],
      "source": [
        "# Estadísticas para 'Unnamed: 0' (siendo numérica, pero solo representa un índice)\n",
        "unnamed_stats = df['Unnamed: 0'].describe()\n",
        "unnamed_stats"
      ]
    },
    {
      "cell_type": "code",
      "execution_count": 10,
      "metadata": {
        "id": "VuHnFvZ2S7mg",
        "colab": {
          "base_uri": "https://localhost:8080/"
        },
        "outputId": "8b26cee4-7b7b-4a60-e4b8-500e8b2e4dea"
      },
      "outputs": [
        {
          "output_type": "execute_result",
          "data": {
            "text/plain": [
              "count           2189\n",
              "unique          2189\n",
              "top       ms-train-0\n",
              "freq               1\n",
              "Name: Text ID, dtype: object"
            ]
          },
          "metadata": {},
          "execution_count": 10
        }
      ],
      "source": [
        "# Estadísticas para 'Text ID' (resumen categórico)\n",
        "text_id_stats = df['Text ID'].describe()\n",
        "text_id_stats\n"
      ]
    },
    {
      "cell_type": "code",
      "execution_count": 11,
      "metadata": {
        "id": "9H8XrfVbS7mi",
        "colab": {
          "base_uri": "https://localhost:8080/"
        },
        "outputId": "a6c52309-57ab-4e76-cb6d-b8273dcb038b"
      },
      "outputs": [
        {
          "output_type": "execute_result",
          "data": {
            "text/plain": [
              "count                                                  2189\n",
              "unique                                                 2189\n",
              "top       a 53-year-old man comes to the physician becau...\n",
              "freq                                                      1\n",
              "Name: Text, dtype: object"
            ]
          },
          "metadata": {},
          "execution_count": 11
        }
      ],
      "source": [
        "# Estadísticas para 'Text' (resumen categórico)\n",
        "text_stats = df['Text'].describe()\n",
        "\n",
        "text_stats\n"
      ]
    },
    {
      "cell_type": "code",
      "execution_count": 12,
      "metadata": {
        "id": "62XjkfL9S7mj",
        "colab": {
          "base_uri": "https://localhost:8080/"
        },
        "outputId": "77c2c7c7-7e03-4382-bbb7-8c34c634b371"
      },
      "outputs": [
        {
          "output_type": "execute_result",
          "data": {
            "text/plain": [
              "count                                                  2189\n",
              "unique                                                 2189\n",
              "top       0 A 53-year-old man comes to the physician bec...\n",
              "freq                                                      1\n",
              "Name: Sentences, dtype: object"
            ]
          },
          "metadata": {},
          "execution_count": 12
        }
      ],
      "source": [
        "# Estadísticas para 'Sentences' (resumen categórico)\n",
        "sentences_stats = df['Sentences'].describe()\n",
        "\n",
        "sentences_stats"
      ]
    },
    {
      "cell_type": "code",
      "source": [
        "from gensim.models import Word2Vec\n",
        "import numpy as np\n",
        "import matplotlib.pyplot as plt\n",
        "from tensorflow.keras.regularizers import l2\n",
        "from gensim.models import KeyedVectors\n",
        "from tensorflow.keras.preprocessing.text import Tokenizer\n",
        "from tensorflow.keras.preprocessing.sequence import pad_sequences\n",
        "from sklearn.preprocessing import MultiLabelBinarizer\n",
        "from sklearn.model_selection import train_test_split\n",
        "from sklearn.metrics import roc_auc_score\n",
        "from tensorflow.keras.models import Sequential\n",
        "from tensorflow.keras.layers import Dense, LSTM, Dropout, GRU\n",
        "from tensorflow.keras.optimizers import Adam\n",
        "from tensorflow.keras.callbacks import EarlyStopping, ReduceLROnPlateau\n",
        "from tensorflow.keras.layers import PReLU\n",
        "from tensorflow.keras.metrics import AUC"
      ],
      "metadata": {
        "id": "j-4YsspJxvd-"
      },
      "execution_count": 13,
      "outputs": []
    },
    {
      "cell_type": "code",
      "source": [
        "import numpy as np\n",
        "import pandas as pd\n",
        "from gensim.models.keyedvectors import KeyedVectors\n",
        "import tensorflow as tf\n",
        "from tensorflow.keras.preprocessing.text import Tokenizer\n",
        "from tensorflow.keras.preprocessing.sequence import pad_sequences\n",
        "from sklearn.model_selection import train_test_split\n",
        "from tensorflow.keras.optimizers import Adam\n",
        "from tensorflow.keras.layers import GRU, Dense, Dropout, Input\n",
        "from tensorflow.keras.callbacks import EarlyStopping, ReduceLROnPlateau\n",
        "from tensorflow.keras.models import Sequential\n",
        "from tensorflow.keras.metrics import AUC\n",
        "from sklearn.utils.class_weight import compute_class_weight\n",
        "\n",
        "# Cargar tu DataFrame aquí\n",
        "# df = pd.read_csv('ruta/a/tu/dataset.csv')\n",
        "texts = df['Text'].values\n",
        "labels = df['Error Flag'].values\n"
      ],
      "metadata": {
        "id": "z_IraDa95Of6"
      },
      "execution_count": 14,
      "outputs": []
    },
    {
      "cell_type": "code",
      "source": [
        "from google.colab import drive\n",
        "drive.mount('/content/drive')\n"
      ],
      "metadata": {
        "id": "FZCYDB7W6J9s",
        "colab": {
          "base_uri": "https://localhost:8080/"
        },
        "outputId": "e8091437-8123-4d3d-eac2-bb07a48ce0fc"
      },
      "execution_count": 15,
      "outputs": [
        {
          "output_type": "stream",
          "name": "stdout",
          "text": [
            "Mounted at /content/drive\n"
          ]
        }
      ]
    },
    {
      "cell_type": "code",
      "source": [
        "bioWordVecPath = '/content/drive/My Drive/Javeriana/Medical_Error_Detection/Modelos/Red_Neuronal_GRU/BioWordVec_PubMed_MIMICIII_d200.vec.bin'\n",
        "model_bioWordVec = KeyedVectors.load_word2vec_format(bioWordVecPath, binary=True)"
      ],
      "metadata": {
        "id": "CJGGCAyg6J6N"
      },
      "execution_count": 16,
      "outputs": []
    },
    {
      "cell_type": "code",
      "source": [
        "def map_to_bioWordVec(sequence):\n",
        "    embeddings = np.zeros((max_length, 200))  # Asumiendo 200 como la dimensión de los vectores en BioWordVec\n",
        "    for i, word in enumerate(sequence.split()):\n",
        "        if i >= max_length:\n",
        "            break\n",
        "        if word in model_bioWordVec:\n",
        "            embeddings[i] = model_bioWordVec[word]\n",
        "        else:\n",
        "            embeddings[i] = np.zeros(200)  # Para palabras fuera del vocabulario\n",
        "    return embeddings\n",
        "\n",
        "vocab_size = 20000  # Ajustar según sea necesario\n",
        "max_length = 200\n",
        "oov_tok = '<OOV>'\n",
        "padding_type = 'post'\n",
        "trunc_type = 'post'\n",
        "\n",
        "tokenizer = Tokenizer(num_words=vocab_size, oov_token=oov_tok)\n",
        "tokenizer.fit_on_texts(texts)\n",
        "sequences = tokenizer.texts_to_sequences(texts)\n",
        "padded_sequences = pad_sequences(sequences, maxlen=max_length, padding=padding_type, truncating=trunc_type)\n",
        "\n",
        "X_bioWordVec = np.array([map_to_bioWordVec(text) for text in texts])\n"
      ],
      "metadata": {
        "id": "LF1ygZLv5OY7"
      },
      "execution_count": 17,
      "outputs": []
    },
    {
      "cell_type": "code",
      "source": [
        "X_train, X_test, y_train, y_test = train_test_split(X_bioWordVec, labels, test_size=0.3, random_state=42)\n",
        "\n",
        "# Calcular los pesos de clase para el desbalance\n",
        "classes = np.unique(y_train)\n",
        "weights = compute_class_weight('balanced', classes=classes, y=y_train)\n",
        "class_weights = dict(zip(classes, weights))\n",
        "\n",
        "outputClasses = 1  # Asumiendo clasificación binaria\n",
        "\n",
        "model = Sequential([\n",
        "    GRU(256, return_sequences=False, input_shape=(max_length, 200)),\n",
        "    Dropout(0.5),\n",
        "    Dense(256, activation='selu'),\n",
        "    Dropout(0.5),\n",
        "    Dense(outputClasses, activation='sigmoid')\n",
        "])\n",
        "\n",
        "model.compile(optimizer=Adam(learning_rate=0.001), loss='binary_crossentropy', metrics=[AUC(name='auc')])\n",
        "\n",
        "reduce_lr = ReduceLROnPlateau(monitor='val_loss', factor=0.1, patience=10, min_lr=0.00001, verbose=1)\n",
        "early_stop = EarlyStopping(monitor='val_loss', patience=30, restore_best_weights=True)\n",
        "\n",
        "history = model.fit(\n",
        "    X_train, y_train,\n",
        "    epochs=500,\n",
        "    batch_size=64,\n",
        "    validation_data=(X_test, y_test),\n",
        "    callbacks=[early_stop, reduce_lr],\n",
        "    class_weight=class_weights,\n",
        "    verbose=2\n",
        ")\n"
      ],
      "metadata": {
        "id": "YNa6Mq1J5OWu",
        "colab": {
          "base_uri": "https://localhost:8080/"
        },
        "outputId": "a2865ee3-7035-4357-d0f7-5b1c39dab819"
      },
      "execution_count": 18,
      "outputs": [
        {
          "output_type": "stream",
          "name": "stdout",
          "text": [
            "Epoch 1/500\n",
            "24/24 - 15s - loss: 0.7011 - auc: 0.5006 - val_loss: 0.6943 - val_auc: 0.4983 - lr: 0.0010 - 15s/epoch - 631ms/step\n",
            "Epoch 2/500\n",
            "24/24 - 11s - loss: 0.6933 - auc: 0.5136 - val_loss: 0.7008 - val_auc: 0.4879 - lr: 0.0010 - 11s/epoch - 470ms/step\n",
            "Epoch 3/500\n",
            "24/24 - 11s - loss: 0.6925 - auc: 0.5040 - val_loss: 0.6978 - val_auc: 0.4909 - lr: 0.0010 - 11s/epoch - 475ms/step\n",
            "Epoch 4/500\n",
            "24/24 - 11s - loss: 0.6862 - auc: 0.5158 - val_loss: 0.7065 - val_auc: 0.4814 - lr: 0.0010 - 11s/epoch - 468ms/step\n",
            "Epoch 5/500\n",
            "24/24 - 11s - loss: 0.6916 - auc: 0.5030 - val_loss: 0.7086 - val_auc: 0.5090 - lr: 0.0010 - 11s/epoch - 468ms/step\n",
            "Epoch 6/500\n",
            "24/24 - 11s - loss: 0.6875 - auc: 0.5138 - val_loss: 0.7047 - val_auc: 0.4974 - lr: 0.0010 - 11s/epoch - 464ms/step\n",
            "Epoch 7/500\n",
            "24/24 - 12s - loss: 0.6781 - auc: 0.5243 - val_loss: 0.7161 - val_auc: 0.4980 - lr: 0.0010 - 12s/epoch - 505ms/step\n",
            "Epoch 8/500\n",
            "24/24 - 12s - loss: 0.6757 - auc: 0.5365 - val_loss: 0.7095 - val_auc: 0.4953 - lr: 0.0010 - 12s/epoch - 502ms/step\n",
            "Epoch 9/500\n",
            "24/24 - 11s - loss: 0.6783 - auc: 0.5308 - val_loss: 0.7115 - val_auc: 0.4988 - lr: 0.0010 - 11s/epoch - 476ms/step\n",
            "Epoch 10/500\n",
            "24/24 - 11s - loss: 0.6742 - auc: 0.5252 - val_loss: 0.7126 - val_auc: 0.4844 - lr: 0.0010 - 11s/epoch - 475ms/step\n",
            "Epoch 11/500\n",
            "\n",
            "Epoch 11: ReduceLROnPlateau reducing learning rate to 0.00010000000474974513.\n",
            "24/24 - 12s - loss: 0.6698 - auc: 0.5482 - val_loss: 0.7163 - val_auc: 0.5006 - lr: 0.0010 - 12s/epoch - 486ms/step\n",
            "Epoch 12/500\n",
            "24/24 - 12s - loss: 0.6670 - auc: 0.5594 - val_loss: 0.7110 - val_auc: 0.4981 - lr: 1.0000e-04 - 12s/epoch - 503ms/step\n",
            "Epoch 13/500\n",
            "24/24 - 11s - loss: 0.6666 - auc: 0.5437 - val_loss: 0.7097 - val_auc: 0.4898 - lr: 1.0000e-04 - 11s/epoch - 478ms/step\n",
            "Epoch 14/500\n",
            "24/24 - 12s - loss: 0.6643 - auc: 0.5380 - val_loss: 0.7124 - val_auc: 0.5053 - lr: 1.0000e-04 - 12s/epoch - 486ms/step\n",
            "Epoch 15/500\n",
            "24/24 - 12s - loss: 0.6662 - auc: 0.5216 - val_loss: 0.7126 - val_auc: 0.5018 - lr: 1.0000e-04 - 12s/epoch - 511ms/step\n",
            "Epoch 16/500\n",
            "24/24 - 12s - loss: 0.6641 - auc: 0.5510 - val_loss: 0.7119 - val_auc: 0.4865 - lr: 1.0000e-04 - 12s/epoch - 509ms/step\n",
            "Epoch 17/500\n",
            "24/24 - 12s - loss: 0.6639 - auc: 0.5434 - val_loss: 0.7145 - val_auc: 0.5033 - lr: 1.0000e-04 - 12s/epoch - 503ms/step\n",
            "Epoch 18/500\n",
            "24/24 - 11s - loss: 0.6645 - auc: 0.5320 - val_loss: 0.7145 - val_auc: 0.4823 - lr: 1.0000e-04 - 11s/epoch - 465ms/step\n",
            "Epoch 19/500\n",
            "24/24 - 12s - loss: 0.6627 - auc: 0.5384 - val_loss: 0.7138 - val_auc: 0.4959 - lr: 1.0000e-04 - 12s/epoch - 506ms/step\n",
            "Epoch 20/500\n",
            "24/24 - 13s - loss: 0.6616 - auc: 0.5363 - val_loss: 0.7146 - val_auc: 0.4952 - lr: 1.0000e-04 - 13s/epoch - 540ms/step\n",
            "Epoch 21/500\n",
            "\n",
            "Epoch 21: ReduceLROnPlateau reducing learning rate to 1.0000000474974514e-05.\n",
            "24/24 - 15s - loss: 0.6609 - auc: 0.5455 - val_loss: 0.7154 - val_auc: 0.4933 - lr: 1.0000e-04 - 15s/epoch - 619ms/step\n",
            "Epoch 22/500\n",
            "24/24 - 15s - loss: 0.6575 - auc: 0.5804 - val_loss: 0.7151 - val_auc: 0.4912 - lr: 1.0000e-05 - 15s/epoch - 612ms/step\n",
            "Epoch 23/500\n",
            "24/24 - 12s - loss: 0.6585 - auc: 0.5710 - val_loss: 0.7151 - val_auc: 0.5004 - lr: 1.0000e-05 - 12s/epoch - 500ms/step\n",
            "Epoch 24/500\n",
            "24/24 - 12s - loss: 0.6616 - auc: 0.5372 - val_loss: 0.7151 - val_auc: 0.4881 - lr: 1.0000e-05 - 12s/epoch - 483ms/step\n",
            "Epoch 25/500\n",
            "24/24 - 12s - loss: 0.6599 - auc: 0.5524 - val_loss: 0.7152 - val_auc: 0.4971 - lr: 1.0000e-05 - 12s/epoch - 505ms/step\n",
            "Epoch 26/500\n",
            "24/24 - 12s - loss: 0.6602 - auc: 0.5573 - val_loss: 0.7152 - val_auc: 0.4930 - lr: 1.0000e-05 - 12s/epoch - 514ms/step\n",
            "Epoch 27/500\n",
            "24/24 - 11s - loss: 0.6591 - auc: 0.5584 - val_loss: 0.7153 - val_auc: 0.4947 - lr: 1.0000e-05 - 11s/epoch - 474ms/step\n",
            "Epoch 28/500\n",
            "24/24 - 11s - loss: 0.6586 - auc: 0.5701 - val_loss: 0.7151 - val_auc: 0.4922 - lr: 1.0000e-05 - 11s/epoch - 471ms/step\n",
            "Epoch 29/500\n",
            "24/24 - 12s - loss: 0.6585 - auc: 0.5518 - val_loss: 0.7150 - val_auc: 0.4933 - lr: 1.0000e-05 - 12s/epoch - 483ms/step\n",
            "Epoch 30/500\n",
            "24/24 - 12s - loss: 0.6599 - auc: 0.5424 - val_loss: 0.7151 - val_auc: 0.4899 - lr: 1.0000e-05 - 12s/epoch - 512ms/step\n",
            "Epoch 31/500\n",
            "\n",
            "Epoch 31: ReduceLROnPlateau reducing learning rate to 1e-05.\n",
            "24/24 - 12s - loss: 0.6589 - auc: 0.5534 - val_loss: 0.7155 - val_auc: 0.4920 - lr: 1.0000e-05 - 12s/epoch - 515ms/step\n"
          ]
        }
      ]
    },
    {
      "cell_type": "code",
      "source": [
        "import matplotlib.pyplot as plt\n",
        "\n",
        "# Graficar la pérdida de entrenamiento y validación\n",
        "plt.plot(history.history['loss'], label='Train Loss')\n",
        "plt.plot(history.history['val_loss'], label='Validation Loss')\n",
        "plt.title('Model Loss Progression During Training/Validation')\n",
        "plt.ylabel('Loss')\n",
        "plt.xlabel('Epoch')\n",
        "plt.legend()\n",
        "plt.show()"
      ],
      "metadata": {
        "id": "9D-sLJhd5OUk",
        "colab": {
          "base_uri": "https://localhost:8080/",
          "height": 472
        },
        "outputId": "e8ccc8d3-166e-4bd0-c7f0-e4a95388bfae"
      },
      "execution_count": 19,
      "outputs": [
        {
          "output_type": "display_data",
          "data": {
            "text/plain": [
              "<Figure size 640x480 with 1 Axes>"
            ],
            "image/png": "[encoded data removed]"
          },
          "metadata": {}
        }
      ]
    },
    {
      "cell_type": "code",
      "source": [
        "from sklearn.metrics import roc_auc_score\n",
        "from sklearn.metrics import precision_score, recall_score, f1_score, accuracy_score\n",
        "\n",
        "# Función para calcular el AUC-ROC y mostrarla junto a otras métricas de evaluación\n",
        "def evaluate_model_with_auc(model, X_train, y_train, X_test, y_test):\n",
        "    # Obtener la probabilidad de la clase positiva\n",
        "    y_train_prob = model.predict(X_train)\n",
        "    y_test_prob = model.predict(X_test)\n",
        "\n",
        "    # Calcular AUC-ROC\n",
        "    auc_train = roc_auc_score(y_train, y_train_prob)\n",
        "    auc_test = roc_auc_score(y_test, y_test_prob)\n",
        "\n",
        "    # Calcular otras métricas\n",
        "    y_train_pred = (y_train_prob > 0.5).astype(\"int32\")\n",
        "    y_test_pred = (y_test_prob > 0.5).astype(\"int32\")\n",
        "\n",
        "    accuracy_train = accuracy_score(y_train, y_train_pred)\n",
        "    precision_train = precision_score(y_train, y_train_pred, average='binary')\n",
        "    recall_train = recall_score(y_train, y_train_pred, average='binary')\n",
        "    f1_train = f1_score(y_train, y_train_pred, average='binary')\n",
        "\n",
        "    accuracy_test = accuracy_score(y_test, y_test_pred)\n",
        "    precision_test = precision_score(y_test, y_test_pred, average='binary')\n",
        "    recall_test = recall_score(y_test, y_test_pred, average='binary')\n",
        "    f1_test = f1_score(y_test, y_test_pred, average='binary')\n",
        "\n",
        "    print(f\"TRAIN Metrics - Accuracy: {accuracy_train:.4f}, Precision: {precision_train:.4f}, Recall: {recall_train:.4f}, F1: {f1_train:.4f}, AUC: {auc_train:.4f}\")\n",
        "    print(f\"TEST Metrics - Accuracy: {accuracy_test:.4f}, Precision: {precision_test:.4f}, Recall: {recall_test:.4f}, F1: {f1_test:.4f}, AUC: {auc_test:.4f}\")\n",
        "\n",
        "# Llamar a la función de evaluación con AUC\n",
        "evaluate_model_with_auc(model, X_train, y_train, X_test, y_test)\n"
      ],
      "metadata": {
        "id": "ZFhQP2xJ5OSG",
        "colab": {
          "base_uri": "https://localhost:8080/"
        },
        "outputId": "2531aa0b-b5d4-4f0d-9796-7a417d65cd33"
      },
      "execution_count": 20,
      "outputs": [
        {
          "output_type": "stream",
          "name": "stdout",
          "text": [
            "48/48 [==============================] - 6s 117ms/step\n",
            "21/21 [==============================] - 2s 111ms/step\n",
            "TRAIN Metrics - Accuracy: 0.5672, Precision: 0.5665, Recall: 0.9907, F1: 0.7208, AUC: 0.5014\n",
            "TEST Metrics - Accuracy: 0.5388, Precision: 0.5400, Recall: 0.9887, F1: 0.6985, AUC: 0.5162\n"
          ]
        }
      ]
    },
    {
      "cell_type": "code",
      "source": [
        "# Definir las rutas de guardado para el modelo, ajustadas para el nuevo formato y ruta deseada\n",
        "model_path = '/content/drive/My Drive/Javeriana/Medical_Error_Detection/Modelos/Pruebas_Rendimiento/Modelos_Descarga/TF_Models/my_nlp_model_tf'\n",
        "\n",
        "# Guardar el modelo entrenado en el nuevo formato\n",
        "model.save(model_path, save_format='tf')\n"
      ],
      "metadata": {
        "id": "o8VGYG5z3C5W"
      },
      "execution_count": 23,
      "outputs": []
    },
    {
      "cell_type": "code",
      "source": [
        "import json\n",
        "\n",
        "# Definir la ruta de guardado para el tokenizer\n",
        "tokenizer_path = '/content/drive/My Drive/Javeriana/Medical_Error_Detection/Modelos/Pruebas_Rendimiento/Modelos_Descarga/TF_Models/gru_v5.json'\n",
        "\n",
        "# Guardar el tokenizer\n",
        "tokenizer_json = tokenizer.to_json()\n",
        "with open(tokenizer_path, 'w', encoding='utf-8') as f:\n",
        "    f.write(json.dumps(tokenizer_json, ensure_ascii=False))"
      ],
      "metadata": {
        "id": "jMEaaaX-3jLF"
      },
      "execution_count": 25,
      "outputs": []
    },
    {
      "cell_type": "code",
      "source": [
        "# # Definir las rutas de guardado para el modelo\n",
        "# model_path = '/content/drive/My Drive/Javeriana/Medical_Error_Detection/Modelos/Pruebas_Rendimiento/Modelos_Descarga/GRU_RNN/gru_5/gru_v5.h5'\n",
        "\n",
        "\n",
        "# # Guardar el modelo entrenado\n",
        "# model.save(model_path)"
      ],
      "metadata": {
        "id": "c2pWzj0S5OPz"
      },
      "execution_count": 21,
      "outputs": []
    },
    {
      "cell_type": "code",
      "source": [
        "# import json\n",
        "\n",
        "# # Definir la ruta de guardado para el tokenizer\n",
        "# tokenizer_path = '/content/drive/My Drive/Javeriana/Medical_Error_Detection/Modelos/Pruebas_Rendimiento/Modelos_Descarga/GRU_RNN/gru_5/gru_v5.json'\n",
        "\n",
        "# # Guardar el tokenizer\n",
        "# tokenizer_json = tokenizer.to_json()\n",
        "# with open(tokenizer_path, 'w', encoding='utf-8') as f:\n",
        "#     f.write(json.dumps(tokenizer_json, ensure_ascii=False))\n"
      ],
      "metadata": {
        "id": "bHgoC_5Dv9Bb"
      },
      "execution_count": 22,
      "outputs": []
    },
    {
      "cell_type": "code",
      "source": [],
      "metadata": {
        "id": "LKcFFYUZv8_G"
      },
      "execution_count": 22,
      "outputs": []
    }
  ],
  "metadata": {
    "colab": {
      "provenance": [],
      "machine_shape": "hm"
    },
    "kernelspec": {
      "display_name": "Python 3",
      "name": "python3"
    },
    "language_info": {
      "codemirror_mode": {
        "name": "ipython",
        "version": 3
      },
      "file_extension": ".py",
      "mimetype": "text/x-python",
      "name": "python",
      "nbconvert_exporter": "python",
      "pygments_lexer": "ipython3",
      "version": "3.12.0"
    }
  },
  "nbformat": 4,
  "nbformat_minor": 0
}