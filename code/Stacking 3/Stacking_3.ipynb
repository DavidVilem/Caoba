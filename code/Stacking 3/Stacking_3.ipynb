{
  "cells": [
    {
      "cell_type": "code",
      "execution_count": null,
      "metadata": {
        "id": "I-zF5271S7mV"
      },
      "outputs": [],
      "source": [
        "import pandas as pd\n",
        "import numpy as np\n",
        "import re"
      ]
    },
    {
      "cell_type": "code",
      "execution_count": null,
      "metadata": {
        "colab": {
          "base_uri": "https://localhost:8080/",
          "height": 73
        },
        "id": "NM5BF6fmS9pN",
        "outputId": "f65d7121-3eb1-4e9a-8f44-65f46bf0745f"
      },
      "outputs": [
        {
          "output_type": "display_data",
          "data": {
            "text/plain": [
              "<IPython.core.display.HTML object>"
            ],
            "text/html": [
              "\n",
              "     <input type=\"file\" id=\"files-4c846a7d-1e62-4423-9ffd-9ee047d9d7f6\" name=\"files[]\" multiple disabled\n",
              "        style=\"border:none\" />\n",
              "     <output id=\"result-4c846a7d-1e62-4423-9ffd-9ee047d9d7f6\">\n",
              "      Upload widget is only available when the cell has been executed in the\n",
              "      current browser session. Please rerun this cell to enable.\n",
              "      </output>\n",
              "      <script>// Copyright 2017 Google LLC\n",
              "//\n",
              "// Licensed under the Apache License, Version 2.0 (the \"License\");\n",
              "// you may not use this file except in compliance with the License.\n",
              "// You may obtain a copy of the License at\n",
              "//\n",
              "//      http://www.apache.org/licenses/LICENSE-2.0\n",
              "//\n",
              "// Unless required by applicable law or agreed to in writing, software\n",
              "// distributed under the License is distributed on an \"AS IS\" BASIS,\n",
              "// WITHOUT WARRANTIES OR CONDITIONS OF ANY KIND, either express or implied.\n",
              "// See the License for the specific language governing permissions and\n",
              "// limitations under the License.\n",
              "\n",
              "/**\n",
              " * @fileoverview Helpers for google.colab Python module.\n",
              " */\n",
              "(function(scope) {\n",
              "function span(text, styleAttributes = {}) {\n",
              "  const element = document.createElement('span');\n",
              "  element.textContent = text;\n",
              "  for (const key of Object.keys(styleAttributes)) {\n",
              "    element.style[key] = styleAttributes[key];\n",
              "  }\n",
              "  return element;\n",
              "}\n",
              "\n",
              "// Max number of bytes which will be uploaded at a time.\n",
              "const MAX_PAYLOAD_SIZE = 100 * 1024;\n",
              "\n",
              "function _uploadFiles(inputId, outputId) {\n",
              "  const steps = uploadFilesStep(inputId, outputId);\n",
              "  const outputElement = document.getElementById(outputId);\n",
              "  // Cache steps on the outputElement to make it available for the next call\n",
              "  // to uploadFilesContinue from Python.\n",
              "  outputElement.steps = steps;\n",
              "\n",
              "  return _uploadFilesContinue(outputId);\n",
              "}\n",
              "\n",
              "// This is roughly an async generator (not supported in the browser yet),\n",
              "// where there are multiple asynchronous steps and the Python side is going\n",
              "// to poll for completion of each step.\n",
              "// This uses a Promise to block the python side on completion of each step,\n",
              "// then passes the result of the previous step as the input to the next step.\n",
              "function _uploadFilesContinue(outputId) {\n",
              "  const outputElement = document.getElementById(outputId);\n",
              "  const steps = outputElement.steps;\n",
              "\n",
              "  const next = steps.next(outputElement.lastPromiseValue);\n",
              "  return Promise.resolve(next.value.promise).then((value) => {\n",
              "    // Cache the last promise value to make it available to the next\n",
              "    // step of the generator.\n",
              "    outputElement.lastPromiseValue = value;\n",
              "    return next.value.response;\n",
              "  });\n",
              "}\n",
              "\n",
              "/**\n",
              " * Generator function which is called between each async step of the upload\n",
              " * process.\n",
              " * @param {string} inputId Element ID of the input file picker element.\n",
              " * @param {string} outputId Element ID of the output display.\n",
              " * @return {!Iterable<!Object>} Iterable of next steps.\n",
              " */\n",
              "function* uploadFilesStep(inputId, outputId) {\n",
              "  const inputElement = document.getElementById(inputId);\n",
              "  inputElement.disabled = false;\n",
              "\n",
              "  const outputElement = document.getElementById(outputId);\n",
              "  outputElement.innerHTML = '';\n",
              "\n",
              "  const pickedPromise = new Promise((resolve) => {\n",
              "    inputElement.addEventListener('change', (e) => {\n",
              "      resolve(e.target.files);\n",
              "    });\n",
              "  });\n",
              "\n",
              "  const cancel = document.createElement('button');\n",
              "  inputElement.parentElement.appendChild(cancel);\n",
              "  cancel.textContent = 'Cancel upload';\n",
              "  const cancelPromise = new Promise((resolve) => {\n",
              "    cancel.onclick = () => {\n",
              "      resolve(null);\n",
              "    };\n",
              "  });\n",
              "\n",
              "  // Wait for the user to pick the files.\n",
              "  const files = yield {\n",
              "    promise: Promise.race([pickedPromise, cancelPromise]),\n",
              "    response: {\n",
              "      action: 'starting',\n",
              "    }\n",
              "  };\n",
              "\n",
              "  cancel.remove();\n",
              "\n",
              "  // Disable the input element since further picks are not allowed.\n",
              "  inputElement.disabled = true;\n",
              "\n",
              "  if (!files) {\n",
              "    return {\n",
              "      response: {\n",
              "        action: 'complete',\n",
              "      }\n",
              "    };\n",
              "  }\n",
              "\n",
              "  for (const file of files) {\n",
              "    const li = document.createElement('li');\n",
              "    li.append(span(file.name, {fontWeight: 'bold'}));\n",
              "    li.append(span(\n",
              "        `(${file.type || 'n/a'}) - ${file.size} bytes, ` +\n",
              "        `last modified: ${\n",
              "            file.lastModifiedDate ? file.lastModifiedDate.toLocaleDateString() :\n",
              "                                    'n/a'} - `));\n",
              "    const percent = span('0% done');\n",
              "    li.appendChild(percent);\n",
              "\n",
              "    outputElement.appendChild(li);\n",
              "\n",
              "    const fileDataPromise = new Promise((resolve) => {\n",
              "      const reader = new FileReader();\n",
              "      reader.onload = (e) => {\n",
              "        resolve(e.target.result);\n",
              "      };\n",
              "      reader.readAsArrayBuffer(file);\n",
              "    });\n",
              "    // Wait for the data to be ready.\n",
              "    let fileData = yield {\n",
              "      promise: fileDataPromise,\n",
              "      response: {\n",
              "        action: 'continue',\n",
              "      }\n",
              "    };\n",
              "\n",
              "    // Use a chunked sending to avoid message size limits. See b/62115660.\n",
              "    let position = 0;\n",
              "    do {\n",
              "      const length = Math.min(fileData.byteLength - position, MAX_PAYLOAD_SIZE);\n",
              "      const chunk = new Uint8Array(fileData, position, length);\n",
              "      position += length;\n",
              "\n",
              "      const base64 = btoa(String.fromCharCode.apply(null, chunk));\n",
              "      yield {\n",
              "        response: {\n",
              "          action: 'append',\n",
              "          file: file.name,\n",
              "          data: base64,\n",
              "        },\n",
              "      };\n",
              "\n",
              "      let percentDone = fileData.byteLength === 0 ?\n",
              "          100 :\n",
              "          Math.round((position / fileData.byteLength) * 100);\n",
              "      percent.textContent = `${percentDone}% done`;\n",
              "\n",
              "    } while (position < fileData.byteLength);\n",
              "  }\n",
              "\n",
              "  // All done.\n",
              "  yield {\n",
              "    response: {\n",
              "      action: 'complete',\n",
              "    }\n",
              "  };\n",
              "}\n",
              "\n",
              "scope.google = scope.google || {};\n",
              "scope.google.colab = scope.google.colab || {};\n",
              "scope.google.colab._files = {\n",
              "  _uploadFiles,\n",
              "  _uploadFilesContinue,\n",
              "};\n",
              "})(self);\n",
              "</script> "
            ]
          },
          "metadata": {}
        },
        {
          "output_type": "stream",
          "name": "stdout",
          "text": [
            "Saving MEDIQA-CORR-2024-MS-TrainingData.csv to MEDIQA-CORR-2024-MS-TrainingData.csv\n"
          ]
        }
      ],
      "source": [
        "from google.colab import files\n",
        "uploaded = files.upload()"
      ]
    },
    {
      "cell_type": "code",
      "execution_count": null,
      "metadata": {
        "id": "4hW3axOITCDI",
        "colab": {
          "base_uri": "https://localhost:8080/",
          "height": 206
        },
        "outputId": "8b53a410-e0aa-42fb-de79-92c10ee0bb01"
      },
      "outputs": [
        {
          "output_type": "execute_result",
          "data": {
            "text/plain": [
              "   Unnamed: 0     Text ID                                               Text  \\\n",
              "0           0  ms-train-0  A 53-year-old man comes to the physician becau...   \n",
              "1           1  ms-train-1  A 53-year-old man comes to the physician becau...   \n",
              "2           2  ms-train-2  A 9-year-old girl is brought to the pediatrici...   \n",
              "3           3  ms-train-3  A 9-year-old girl is brought to the pediatrici...   \n",
              "4           4  ms-train-4  Blood cultures are sent to the laboratory. Int...   \n",
              "\n",
              "                                           Sentences  Error Flag  \n",
              "0  0 A 53-year-old man comes to the physician bec...           1  \n",
              "1  0 A 53-year-old man comes to the physician bec...           0  \n",
              "2  0 A 9-year-old girl is brought to the pediatri...           1  \n",
              "3  0 A 9-year-old girl is brought to the pediatri...           0  \n",
              "4  0 Blood cultures are sent to the laboratory.\\n...           1  "
            ],
            "text/html": [
              "\n",
              "  <div id=\"df-496a11a3-447a-444a-95c6-7bb399d6e98c\" class=\"colab-df-container\">\n",
              "    <div>\n",
              "<style scoped>\n",
              "    .dataframe tbody tr th:only-of-type {\n",
              "        vertical-align: middle;\n",
              "    }\n",
              "\n",
              "    .dataframe tbody tr th {\n",
              "        vertical-align: top;\n",
              "    }\n",
              "\n",
              "    .dataframe thead th {\n",
              "        text-align: right;\n",
              "    }\n",
              "</style>\n",
              "<table border=\"1\" class=\"dataframe\">\n",
              "  <thead>\n",
              "    <tr style=\"text-align: right;\">\n",
              "      <th></th>\n",
              "      <th>Unnamed: 0</th>\n",
              "      <th>Text ID</th>\n",
              "      <th>Text</th>\n",
              "      <th>Sentences</th>\n",
              "      <th>Error Flag</th>\n",
              "    </tr>\n",
              "  </thead>\n",
              "  <tbody>\n",
              "    <tr>\n",
              "      <th>0</th>\n",
              "      <td>0</td>\n",
              "      <td>ms-train-0</td>\n",
              "      <td>A 53-year-old man comes to the physician becau...</td>\n",
              "      <td>0 A 53-year-old man comes to the physician bec...</td>\n",
              "      <td>1</td>\n",
              "    </tr>\n",
              "    <tr>\n",
              "      <th>1</th>\n",
              "      <td>1</td>\n",
              "      <td>ms-train-1</td>\n",
              "      <td>A 53-year-old man comes to the physician becau...</td>\n",
              "      <td>0 A 53-year-old man comes to the physician bec...</td>\n",
              "      <td>0</td>\n",
              "    </tr>\n",
              "    <tr>\n",
              "      <th>2</th>\n",
              "      <td>2</td>\n",
              "      <td>ms-train-2</td>\n",
              "      <td>A 9-year-old girl is brought to the pediatrici...</td>\n",
              "      <td>0 A 9-year-old girl is brought to the pediatri...</td>\n",
              "      <td>1</td>\n",
              "    </tr>\n",
              "    <tr>\n",
              "      <th>3</th>\n",
              "      <td>3</td>\n",
              "      <td>ms-train-3</td>\n",
              "      <td>A 9-year-old girl is brought to the pediatrici...</td>\n",
              "      <td>0 A 9-year-old girl is brought to the pediatri...</td>\n",
              "      <td>0</td>\n",
              "    </tr>\n",
              "    <tr>\n",
              "      <th>4</th>\n",
              "      <td>4</td>\n",
              "      <td>ms-train-4</td>\n",
              "      <td>Blood cultures are sent to the laboratory. Int...</td>\n",
              "      <td>0 Blood cultures are sent to the laboratory.\\n...</td>\n",
              "      <td>1</td>\n",
              "    </tr>\n",
              "  </tbody>\n",
              "</table>\n",
              "</div>\n",
              "    <div class=\"colab-df-buttons\">\n",
              "\n",
              "  <div class=\"colab-df-container\">\n",
              "    <button class=\"colab-df-convert\" onclick=\"convertToInteractive('df-496a11a3-447a-444a-95c6-7bb399d6e98c')\"\n",
              "            title=\"Convert this dataframe to an interactive table.\"\n",
              "            style=\"display:none;\">\n",
              "\n",
              "  <svg xmlns=\"http://www.w3.org/2000/svg\" height=\"24px\" viewBox=\"0 -960 960 960\">\n",
              "    <path d=\"M120-120v-720h720v720H120Zm60-500h600v-160H180v160Zm220 220h160v-160H400v160Zm0 220h160v-160H400v160ZM180-400h160v-160H180v160Zm440 0h160v-160H620v160ZM180-180h160v-160H180v160Zm440 0h160v-160H620v160Z\"/>\n",
              "  </svg>\n",
              "    </button>\n",
              "\n",
              "  <style>\n",
              "    .colab-df-container {\n",
              "      display:flex;\n",
              "      gap: 12px;\n",
              "    }\n",
              "\n",
              "    .colab-df-convert {\n",
              "      background-color: #E8F0FE;\n",
              "      border: none;\n",
              "      border-radius: 50%;\n",
              "      cursor: pointer;\n",
              "      display: none;\n",
              "      fill: #1967D2;\n",
              "      height: 32px;\n",
              "      padding: 0 0 0 0;\n",
              "      width: 32px;\n",
              "    }\n",
              "\n",
              "    .colab-df-convert:hover {\n",
              "      background-color: #E2EBFA;\n",
              "      box-shadow: 0px 1px 2px rgba(60, 64, 67, 0.3), 0px 1px 3px 1px rgba(60, 64, 67, 0.15);\n",
              "      fill: #174EA6;\n",
              "    }\n",
              "\n",
              "    .colab-df-buttons div {\n",
              "      margin-bottom: 4px;\n",
              "    }\n",
              "\n",
              "    [theme=dark] .colab-df-convert {\n",
              "      background-color: #3B4455;\n",
              "      fill: #D2E3FC;\n",
              "    }\n",
              "\n",
              "    [theme=dark] .colab-df-convert:hover {\n",
              "      background-color: #434B5C;\n",
              "      box-shadow: 0px 1px 3px 1px rgba(0, 0, 0, 0.15);\n",
              "      filter: drop-shadow(0px 1px 2px rgba(0, 0, 0, 0.3));\n",
              "      fill: #FFFFFF;\n",
              "    }\n",
              "  </style>\n",
              "\n",
              "    <script>\n",
              "      const buttonEl =\n",
              "        document.querySelector('#df-496a11a3-447a-444a-95c6-7bb399d6e98c button.colab-df-convert');\n",
              "      buttonEl.style.display =\n",
              "        google.colab.kernel.accessAllowed ? 'block' : 'none';\n",
              "\n",
              "      async function convertToInteractive(key) {\n",
              "        const element = document.querySelector('#df-496a11a3-447a-444a-95c6-7bb399d6e98c');\n",
              "        const dataTable =\n",
              "          await google.colab.kernel.invokeFunction('convertToInteractive',\n",
              "                                                    [key], {});\n",
              "        if (!dataTable) return;\n",
              "\n",
              "        const docLinkHtml = 'Like what you see? Visit the ' +\n",
              "          '<a target=\"_blank\" href=https://colab.research.google.com/notebooks/data_table.ipynb>data table notebook</a>'\n",
              "          + ' to learn more about interactive tables.';\n",
              "        element.innerHTML = '';\n",
              "        dataTable['output_type'] = 'display_data';\n",
              "        await google.colab.output.renderOutput(dataTable, element);\n",
              "        const docLink = document.createElement('div');\n",
              "        docLink.innerHTML = docLinkHtml;\n",
              "        element.appendChild(docLink);\n",
              "      }\n",
              "    </script>\n",
              "  </div>\n",
              "\n",
              "\n",
              "<div id=\"df-77ccf548-c447-43db-9f00-28ce2ac8864b\">\n",
              "  <button class=\"colab-df-quickchart\" onclick=\"quickchart('df-77ccf548-c447-43db-9f00-28ce2ac8864b')\"\n",
              "            title=\"Suggest charts\"\n",
              "            style=\"display:none;\">\n",
              "\n",
              "<svg xmlns=\"http://www.w3.org/2000/svg\" height=\"24px\"viewBox=\"0 0 24 24\"\n",
              "     width=\"24px\">\n",
              "    <g>\n",
              "        <path d=\"M19 3H5c-1.1 0-2 .9-2 2v14c0 1.1.9 2 2 2h14c1.1 0 2-.9 2-2V5c0-1.1-.9-2-2-2zM9 17H7v-7h2v7zm4 0h-2V7h2v10zm4 0h-2v-4h2v4z\"/>\n",
              "    </g>\n",
              "</svg>\n",
              "  </button>\n",
              "\n",
              "<style>\n",
              "  .colab-df-quickchart {\n",
              "      --bg-color: #E8F0FE;\n",
              "      --fill-color: #1967D2;\n",
              "      --hover-bg-color: #E2EBFA;\n",
              "      --hover-fill-color: #174EA6;\n",
              "      --disabled-fill-color: #AAA;\n",
              "      --disabled-bg-color: #DDD;\n",
              "  }\n",
              "\n",
              "  [theme=dark] .colab-df-quickchart {\n",
              "      --bg-color: #3B4455;\n",
              "      --fill-color: #D2E3FC;\n",
              "      --hover-bg-color: #434B5C;\n",
              "      --hover-fill-color: #FFFFFF;\n",
              "      --disabled-bg-color: #3B4455;\n",
              "      --disabled-fill-color: #666;\n",
              "  }\n",
              "\n",
              "  .colab-df-quickchart {\n",
              "    background-color: var(--bg-color);\n",
              "    border: none;\n",
              "    border-radius: 50%;\n",
              "    cursor: pointer;\n",
              "    display: none;\n",
              "    fill: var(--fill-color);\n",
              "    height: 32px;\n",
              "    padding: 0;\n",
              "    width: 32px;\n",
              "  }\n",
              "\n",
              "  .colab-df-quickchart:hover {\n",
              "    background-color: var(--hover-bg-color);\n",
              "    box-shadow: 0 1px 2px rgba(60, 64, 67, 0.3), 0 1px 3px 1px rgba(60, 64, 67, 0.15);\n",
              "    fill: var(--button-hover-fill-color);\n",
              "  }\n",
              "\n",
              "  .colab-df-quickchart-complete:disabled,\n",
              "  .colab-df-quickchart-complete:disabled:hover {\n",
              "    background-color: var(--disabled-bg-color);\n",
              "    fill: var(--disabled-fill-color);\n",
              "    box-shadow: none;\n",
              "  }\n",
              "\n",
              "  .colab-df-spinner {\n",
              "    border: 2px solid var(--fill-color);\n",
              "    border-color: transparent;\n",
              "    border-bottom-color: var(--fill-color);\n",
              "    animation:\n",
              "      spin 1s steps(1) infinite;\n",
              "  }\n",
              "\n",
              "  @keyframes spin {\n",
              "    0% {\n",
              "      border-color: transparent;\n",
              "      border-bottom-color: var(--fill-color);\n",
              "      border-left-color: var(--fill-color);\n",
              "    }\n",
              "    20% {\n",
              "      border-color: transparent;\n",
              "      border-left-color: var(--fill-color);\n",
              "      border-top-color: var(--fill-color);\n",
              "    }\n",
              "    30% {\n",
              "      border-color: transparent;\n",
              "      border-left-color: var(--fill-color);\n",
              "      border-top-color: var(--fill-color);\n",
              "      border-right-color: var(--fill-color);\n",
              "    }\n",
              "    40% {\n",
              "      border-color: transparent;\n",
              "      border-right-color: var(--fill-color);\n",
              "      border-top-color: var(--fill-color);\n",
              "    }\n",
              "    60% {\n",
              "      border-color: transparent;\n",
              "      border-right-color: var(--fill-color);\n",
              "    }\n",
              "    80% {\n",
              "      border-color: transparent;\n",
              "      border-right-color: var(--fill-color);\n",
              "      border-bottom-color: var(--fill-color);\n",
              "    }\n",
              "    90% {\n",
              "      border-color: transparent;\n",
              "      border-bottom-color: var(--fill-color);\n",
              "    }\n",
              "  }\n",
              "</style>\n",
              "\n",
              "  <script>\n",
              "    async function quickchart(key) {\n",
              "      const quickchartButtonEl =\n",
              "        document.querySelector('#' + key + ' button');\n",
              "      quickchartButtonEl.disabled = true;  // To prevent multiple clicks.\n",
              "      quickchartButtonEl.classList.add('colab-df-spinner');\n",
              "      try {\n",
              "        const charts = await google.colab.kernel.invokeFunction(\n",
              "            'suggestCharts', [key], {});\n",
              "      } catch (error) {\n",
              "        console.error('Error during call to suggestCharts:', error);\n",
              "      }\n",
              "      quickchartButtonEl.classList.remove('colab-df-spinner');\n",
              "      quickchartButtonEl.classList.add('colab-df-quickchart-complete');\n",
              "    }\n",
              "    (() => {\n",
              "      let quickchartButtonEl =\n",
              "        document.querySelector('#df-77ccf548-c447-43db-9f00-28ce2ac8864b button');\n",
              "      quickchartButtonEl.style.display =\n",
              "        google.colab.kernel.accessAllowed ? 'block' : 'none';\n",
              "    })();\n",
              "  </script>\n",
              "</div>\n",
              "\n",
              "    </div>\n",
              "  </div>\n"
            ],
            "application/vnd.google.colaboratory.intrinsic+json": {
              "type": "dataframe",
              "variable_name": "df",
              "summary": "{\n  \"name\": \"df\",\n  \"rows\": 2189,\n  \"fields\": [\n    {\n      \"column\": \"Unnamed: 0\",\n      \"properties\": {\n        \"dtype\": \"number\",\n        \"std\": 632,\n        \"min\": 0,\n        \"max\": 2188,\n        \"num_unique_values\": 2189,\n        \"samples\": [\n          289,\n          1691,\n          2028\n        ],\n        \"semantic_type\": \"\",\n        \"description\": \"\"\n      }\n    },\n    {\n      \"column\": \"Text ID\",\n      \"properties\": {\n        \"dtype\": \"string\",\n        \"num_unique_values\": 2189,\n        \"samples\": [\n          \"ms-train-289\",\n          \"ms-train-1691\",\n          \"ms-train-2028\"\n        ],\n        \"semantic_type\": \"\",\n        \"description\": \"\"\n      }\n    },\n    {\n      \"column\": \"Text\",\n      \"properties\": {\n        \"dtype\": \"string\",\n        \"num_unique_values\": 2189,\n        \"samples\": [\n          \"A concerned mother presents to clinic stating that her 14-year-old son has not gone through his growth spurt. She states that, although shorter, he had been growing at the same rate as his peers until the past year. There is no evidence of delayed puberty in the mother, but the father's history is unknown. The patient has no complaints. On physical exam, the patient is a healthy-appearing 14-year-old boy whose height is below the third percentile and whose weight is at the 50th percentile. His bone age is determined to be 11 years. Suspected of growth hormone deficiency. A laboratory workup, including thyroid stimulating hormone (TSH), is unremarkable. \",\n          \"An 82-year-old woman comes to the physician because of difficulty sleeping and increasing fatigue. Over the past 3 months she has been waking up early and having trouble falling asleep at night. During this period, she has had a decreased appetite and a 3.2-kg (7-lb) weight loss. Since the death of her husband one year ago, she has been living with her son and his wife. She is worried and feels guilty because she does not want to impose on them. She has stopped going to meetings at the senior center because she does not enjoy them anymore and also because she feels uncomfortable asking her son to give her a ride, especially since her son has had a great deal of stress lately. She is 155 cm (5 ft 1 in) tall and weighs 51 kg (110 lb); BMI is 21 kg/m2. Vital signs are within normal limits. After examining the patient, she was assessed for suicidal ideation. Physical examination showed no abnormalities. On mental status examination, she was tired and had a flattened affect. Cognition was intact. \",\n          \"A 56 year old female comes to the ED complaining of moderate right eye pain, headache, and acute onset of blurry vision, which she describes as colored halos around lights. She was watching a movie at home with her husband about an hour ago when the pain began. On physical exam of her right eye, her pupil is mid-dilated and unresponsive to light. Her right eyeball is firm to pressure. Patient is scheduled to have a laser peripheral iridotomy after intraocular pressure (IOP) measured with tonometer was elevated at 36mmHg.\"\n        ],\n        \"semantic_type\": \"\",\n        \"description\": \"\"\n      }\n    },\n    {\n      \"column\": \"Sentences\",\n      \"properties\": {\n        \"dtype\": \"string\",\n        \"num_unique_values\": 2189,\n        \"samples\": [\n          \"0 A concerned mother presents to clinic stating that her 14-year-old son has not gone through his growth spurt.\\n1 She states that, although shorter, he had been growing at the same rate as his peers until the past year.\\n2 There is no evidence of delayed puberty in the mother, but the father's history is unknown.\\n3 The patient has no complaints.\\n4 On physical exam, the patient is a healthy-appearing 14-year-old boy whose height is below the third percentile and whose weight is at the 50th percentile.\\n5 His bone age is determined to be 11 years.\\n6 Suspected of growth hormone deficiency.\\n7 A laboratory workup, including thyroid stimulating hormone (TSH), is unremarkable.\\n\",\n          \"0 An 82-year-old woman comes to the physician because of difficulty sleeping and increasing fatigue.\\n1 Over the past 3 months she has been waking up early and having trouble falling asleep at night.\\n2 During this period, she has had a decreased appetite and a 3.2-kg (7-lb) weight loss.\\n3 Since the death of her husband one year ago, she has been living with her son and his wife.\\n4 She is worried and feels guilty because she does not want to impose on them.\\n5 She has stopped going to meetings at the senior center because she does not enjoy them anymore and also because she feels uncomfortable asking her son to give her a ride, especially since her son has had a great deal of stress lately.\\n6 She is 155 cm (5 ft 1 in) tall and weighs 51 kg (110 lb); BMI is 21 kg/m2.\\n7 Vital signs are within normal limits.\\n8 Physical examination shows no abnormalities.\\n9 On mental status examination, she is tired and has a flattened affect.\\n10 Cognition is intact.\\n11 Mirtazapine therapy was initiated.\\n0 An 82-year-old woman comes to the physician because of difficulty sleeping and increasing fatigue.\\n1 Over the past 3 months she has been waking up early and having trouble falling asleep at night.\\n2 During this period, she has had a decreased appetite and a 3.2-kg (7-lb) weight loss.\\n3 Since the death of her husband one year ago, she has been living with her son and his wife.\\n4 She is worried and feels guilty because she does not want to impose on them.\\n5 She has stopped going to meetings at the senior center because she does not enjoy them anymore and also because she feels uncomfortable asking her son to give her a ride, especially since her son has had a great deal of stress lately.\\n6 She is 155 cm (5 ft 1 in) tall and weighs 51 kg (110 lb); BMI is 21 kg/m2.\\n7 Vital signs are within normal limits.\\n8 After examining the patient, she was assessed for suicidal ideation.\\n9 Physical examination showed no abnormalities.\\n10 On mental status examination, she was tired and had a flattened affect.\\n11 Cognition was intact.\\n\",\n          \"0 A 56 year old female comes to the ED complaining of moderate right eye pain, headache, and acute onset of blurry vision, which she describes as colored halos around lights.\\n1 She was watching a movie at home with her husband about an hour ago when the pain began.\\n2 On physical exam of her right eye, her pupil is mid-dilated and unresponsive to light.\\n3 Her right eyeball is firm to pressure.\\n4 Patient is scheduled to have a laser peripheral iridotomy after intraocular pressure (IOP) measured with tonometer was elevated at 36mmHg.\\n\"\n        ],\n        \"semantic_type\": \"\",\n        \"description\": \"\"\n      }\n    },\n    {\n      \"column\": \"Error Flag\",\n      \"properties\": {\n        \"dtype\": \"number\",\n        \"std\": 0,\n        \"min\": 0,\n        \"max\": 1,\n        \"num_unique_values\": 2,\n        \"samples\": [\n          0,\n          1\n        ],\n        \"semantic_type\": \"\",\n        \"description\": \"\"\n      }\n    }\n  ]\n}"
            }
          },
          "metadata": {},
          "execution_count": 3
        }
      ],
      "source": [
        "df = pd.read_csv('MEDIQA-CORR-2024-MS-TrainingData.csv', delimiter=',', encoding='utf-8')\n",
        "df= df.drop(['Error Sentence ID', 'Error Sentence', 'Corrected Sentence', 'Corrected Text'], axis=1)\n",
        "df.head()"
      ]
    },
    {
      "cell_type": "code",
      "execution_count": null,
      "metadata": {
        "id": "9ejTL1FSS7mZ",
        "colab": {
          "base_uri": "https://localhost:8080/"
        },
        "outputId": "c18cc537-6e7e-45e8-bc16-f684f3ad9599"
      },
      "outputs": [
        {
          "output_type": "execute_result",
          "data": {
            "text/plain": [
              "(Unnamed: 0     int64\n",
              " Text ID       object\n",
              " Text          object\n",
              " Sentences     object\n",
              " Error Flag     int64\n",
              " dtype: object,\n",
              " Index(['Unnamed: 0', 'Text ID', 'Text', 'Sentences', 'Error Flag'], dtype='object'),\n",
              "    Unnamed: 0     Text ID                                               Text  \\\n",
              " 0           0  ms-train-0  A 53-year-old man comes to the physician becau...   \n",
              " 1           1  ms-train-1  A 53-year-old man comes to the physician becau...   \n",
              " 2           2  ms-train-2  A 9-year-old girl is brought to the pediatrici...   \n",
              " 3           3  ms-train-3  A 9-year-old girl is brought to the pediatrici...   \n",
              " 4           4  ms-train-4  Blood cultures are sent to the laboratory. Int...   \n",
              " \n",
              "                                            Sentences  Error Flag  \n",
              " 0  0 A 53-year-old man comes to the physician bec...           1  \n",
              " 1  0 A 53-year-old man comes to the physician bec...           0  \n",
              " 2  0 A 9-year-old girl is brought to the pediatri...           1  \n",
              " 3  0 A 9-year-old girl is brought to the pediatri...           0  \n",
              " 4  0 Blood cultures are sent to the laboratory.\\n...           1  )"
            ]
          },
          "metadata": {},
          "execution_count": 4
        }
      ],
      "source": [
        "# Analizamos las primeras 5 columnas para obtener sus tipos de datos y otras características\n",
        "column_info = df.dtypes\n",
        "\n",
        "# Analizamos los nombres de las columnas para identificar las primeras 5\n",
        "column_names = df.columns[:5]\n",
        "\n",
        "# Extraemos ejemplos de datos de las primeras 5 columnas para entender mejor su contenido\n",
        "sample_data = df.head()\n",
        "\n",
        "column_info[:5], column_names, sample_data"
      ]
    },
    {
      "cell_type": "code",
      "execution_count": null,
      "metadata": {
        "id": "9lGkJCrtS7ma",
        "colab": {
          "base_uri": "https://localhost:8080/"
        },
        "outputId": "35731e5e-cb12-4806-c043-1bcef57441ec"
      },
      "outputs": [
        {
          "output_type": "stream",
          "name": "stdout",
          "text": [
            "Número de datos faltantes en Unnamed: 0: 0\n",
            "Número de datos faltantes en Text ID: 0\n",
            "Número de datos faltantes en Text: 0\n",
            "Número de datos faltantes en Sentences: 0\n",
            "Número de datos faltantes en Error Flag: 0\n"
          ]
        }
      ],
      "source": [
        "# Revisar los valores nulos\n",
        "df.replace('', np.nan, inplace=True)\n",
        "\n",
        "# Lista de columnas a revisar\n",
        "columns_to_check = ['Unnamed: 0', 'Text ID', 'Text', 'Sentences', 'Error Flag']\n",
        "\n",
        "#  Iterar sobre cada columna y contar los valores nulos\n",
        "for column in columns_to_check:\n",
        "    # Contar los valores nulos en la columna\n",
        "    missing_count = df[column].isnull().sum()\n",
        "    print(f'Número de datos faltantes en {column}: {missing_count}')\n"
      ]
    },
    {
      "cell_type": "code",
      "source": [
        "special_char_pattern = re.compile(r'[^a-zA-Z0-9\\s]')"
      ],
      "metadata": {
        "id": "CCXnMZoZNTAY"
      },
      "execution_count": null,
      "outputs": []
    },
    {
      "cell_type": "code",
      "execution_count": null,
      "metadata": {
        "id": "yD3RIJngS7mc",
        "colab": {
          "base_uri": "https://localhost:8080/"
        },
        "outputId": "c2da7cc5-3679-4c63-9252-5d6cd1441d2d"
      },
      "outputs": [
        {
          "output_type": "execute_result",
          "data": {
            "text/plain": [
              "0    A 53-year-old man comes to the physician becau...\n",
              "1    A 53-year-old man comes to the physician becau...\n",
              "2    A 9-year-old girl is brought to the pediatrici...\n",
              "3    A 9-year-old girl is brought to the pediatrici...\n",
              "4    Blood cultures are sent to the laboratory. Int...\n",
              "Name: Text, dtype: object"
            ]
          },
          "metadata": {},
          "execution_count": 7
        }
      ],
      "source": [
        "# Reemplazar caracteres especiales por su equivalente en texto\n",
        "replacements = {\n",
        "    \"â€\\x9d\": \" \",\n",
        "    \".â€\\x9d\": \".\",\n",
        "    \"â€“\": \"-\",\n",
        "    \"â€œsomething\": \"something\",\n",
        "    \"patientâ€™s\": \"patients\",\n",
        "    \"â‰¥\": \"≥\",\n",
        "    \"\\n\": \",\",\n",
        "    \"â€œ\": \"\",\n",
        "    \"Waldenstromâ€™s\": \"Waldenströms\",\n",
        "    \"Âµmol/L\": \"µmol/L\",\n",
        "    \"â€œmemory\": \"memory\",\n",
        "    \"weeksâ€™\": \"weeks\",\n",
        "    \"74 Î¼m3\": \"74 μm^3\",\n",
        "    \"ÂµIU/L\": \"µIU/L\",\n",
        "    \"â‰¤\": \"≤\",\n",
        "    \"Clâˆ’\": \"Cl-\",\n",
        "    \"physicianâ€™s\": \"physicians\",\n",
        "    \"ÂºF\": \"ºF\",\n",
        "    \"âˆ’\": \"-\",\n",
        "    \"Â½\": \"½\",\n",
        "    \"Î¼g/dL\": \"μg/dL\",\n",
        "    \"pediatricianâ€™s\": \"pediatricians\",\n",
        "    \"yearsâ€™\": \"years\",\n",
        "    \"Âµg\": \"µg\",\n",
        "    \"â€\": \"\",\n",
        "    \"Kennedyâ€™s\": \"Kennedys\",\n",
        "    \"Kennedy™s\": \"Kennedys\",\n",
        "    \"can™t\": \"can't\",\n",
        "    \"Î²\": \"β\",\n",
        "    \"Ã—\": \"x\",\n",
        "    \"ÃŸ-hCG\": \"β-hCG\",\n",
        "    \"SÃ©quard\": \"Séquard\",\n",
        "    \"Î³\": \"γ\",\n",
        "    \"Î¼m3\": \"μm^3\",\n",
        "    \"Î±\": \"α\",\n",
        "    \"Î¼U/mL\": \"μU/mL\",\n",
        "    \"Î¼\": \"μ\",\n",
        "    \"'\": \"\",\n",
        "    \"\\\"\":\"\" #Este lo dejo a consideracion, dependiendo si les funciona o no\n",
        "}\n",
        "\n",
        "# Aplicar todas las sustituciones\n",
        "for old, new in replacements.items():\n",
        "    df['Text'] = df['Text'].str.replace(old, new, regex=False)\n",
        "\n",
        "# Verificar el reemplazo\n",
        "df['Text'].head()\n"
      ]
    },
    {
      "cell_type": "code",
      "source": [
        "import pandas as pd\n",
        "import re\n",
        "\n",
        "# Función para aplicar todas las transformaciones no regex en una sola pasada\n",
        "def optimize_text(text):\n",
        "    # Aplicar transformaciones no regex\n",
        "    text = text.strip().replace(\"Cl- \", \"Cl \").replace(\"'\", \"\").replace(\"’\", \"\")\n",
        "    text = text.replace(\":,\", \":\").replace(',_', ',').replace('[', '').replace(']', '')\n",
        "    text = text.replace(';', ',').replace('.,', '.').replace('mg dl', 'mg/dl')\n",
        "    text = text.replace('é', 'e').replace('patient s', 'patients').replace('girl s', 'girls')\n",
        "    text = text.replace('gilbert s', 'gilberts').replace(\".'\", \".\").replace(\",'\", \",\")\n",
        "    text = text.replace(\"',\", \",\").lower()  # Convertir a minúsculas aquí para optimizar\n",
        "    return text\n",
        "\n",
        "# Aplicar optimizaciones no regex\n",
        "df['Text'] = df['Text'].apply(optimize_text)\n",
        "\n",
        "# Aplicar optimizaciones con regex\n",
        "df['Text'] = df['Text'].str.replace(r',,', ',', regex=True)\n",
        "df['Text'] = df['Text'].str.replace(r'  +', ' ', regex=True)\n",
        "df['Text'] = df['Text'].str.replace('mm hg', 'mmHg', flags=re.IGNORECASE, regex=True)\n"
      ],
      "metadata": {
        "id": "fpX1vRuGNbiE"
      },
      "execution_count": null,
      "outputs": []
    },
    {
      "cell_type": "code",
      "execution_count": null,
      "metadata": {
        "id": "uP3uINM_S7mf",
        "colab": {
          "base_uri": "https://localhost:8080/"
        },
        "outputId": "47d367fc-fe94-4a44-8433-0b945e67c89b"
      },
      "outputs": [
        {
          "output_type": "execute_result",
          "data": {
            "text/plain": [
              "count    2189.000000\n",
              "mean     1094.000000\n",
              "std       632.054191\n",
              "min         0.000000\n",
              "25%       547.000000\n",
              "50%      1094.000000\n",
              "75%      1641.000000\n",
              "max      2188.000000\n",
              "Name: Unnamed: 0, dtype: float64"
            ]
          },
          "metadata": {},
          "execution_count": 9
        }
      ],
      "source": [
        "# Estadísticas para 'Unnamed: 0' (siendo numérica, pero solo representa un índice)\n",
        "unnamed_stats = df['Unnamed: 0'].describe()\n",
        "unnamed_stats"
      ]
    },
    {
      "cell_type": "code",
      "execution_count": null,
      "metadata": {
        "id": "VuHnFvZ2S7mg",
        "colab": {
          "base_uri": "https://localhost:8080/"
        },
        "outputId": "711051a6-a631-4e73-a33f-acf581ec9775"
      },
      "outputs": [
        {
          "output_type": "execute_result",
          "data": {
            "text/plain": [
              "count           2189\n",
              "unique          2189\n",
              "top       ms-train-0\n",
              "freq               1\n",
              "Name: Text ID, dtype: object"
            ]
          },
          "metadata": {},
          "execution_count": 10
        }
      ],
      "source": [
        "# Estadísticas para 'Text ID' (resumen categórico)\n",
        "text_id_stats = df['Text ID'].describe()\n",
        "text_id_stats\n"
      ]
    },
    {
      "cell_type": "code",
      "execution_count": null,
      "metadata": {
        "id": "9H8XrfVbS7mi",
        "colab": {
          "base_uri": "https://localhost:8080/"
        },
        "outputId": "eae6d8de-96d0-4a66-ac9b-1db85da1c244"
      },
      "outputs": [
        {
          "output_type": "execute_result",
          "data": {
            "text/plain": [
              "count                                                  2189\n",
              "unique                                                 2189\n",
              "top       a 53-year-old man comes to the physician becau...\n",
              "freq                                                      1\n",
              "Name: Text, dtype: object"
            ]
          },
          "metadata": {},
          "execution_count": 11
        }
      ],
      "source": [
        "# Estadísticas para 'Text' (resumen categórico)\n",
        "text_stats = df['Text'].describe()\n",
        "\n",
        "text_stats\n"
      ]
    },
    {
      "cell_type": "code",
      "execution_count": null,
      "metadata": {
        "id": "62XjkfL9S7mj",
        "colab": {
          "base_uri": "https://localhost:8080/"
        },
        "outputId": "b862717c-1d92-428e-bf27-28d0e289ff35"
      },
      "outputs": [
        {
          "output_type": "execute_result",
          "data": {
            "text/plain": [
              "count                                                  2189\n",
              "unique                                                 2189\n",
              "top       0 A 53-year-old man comes to the physician bec...\n",
              "freq                                                      1\n",
              "Name: Sentences, dtype: object"
            ]
          },
          "metadata": {},
          "execution_count": 12
        }
      ],
      "source": [
        "# Estadísticas para 'Sentences' (resumen categórico)\n",
        "sentences_stats = df['Sentences'].describe()\n",
        "\n",
        "sentences_stats"
      ]
    },
    {
      "cell_type": "markdown",
      "source": [
        "Model"
      ],
      "metadata": {
        "id": "T-eCuNHl3sJg"
      }
    },
    {
      "cell_type": "code",
      "source": [],
      "metadata": {
        "id": "LWKOGNea_3oQ"
      },
      "execution_count": null,
      "outputs": []
    },
    {
      "cell_type": "code",
      "source": [
        "pip install spacy"
      ],
      "metadata": {
        "id": "zfnBcengsV6y",
        "colab": {
          "base_uri": "https://localhost:8080/"
        },
        "outputId": "7d21b005-c97d-4c29-cbbe-7bae938dcfed"
      },
      "execution_count": null,
      "outputs": [
        {
          "output_type": "stream",
          "name": "stdout",
          "text": [
            "Requirement already satisfied: spacy in /usr/local/lib/python3.10/dist-packages (3.7.4)\n",
            "Requirement already satisfied: spacy-legacy<3.1.0,>=3.0.11 in /usr/local/lib/python3.10/dist-packages (from spacy) (3.0.12)\n",
            "Requirement already satisfied: spacy-loggers<2.0.0,>=1.0.0 in /usr/local/lib/python3.10/dist-packages (from spacy) (1.0.5)\n",
            "Requirement already satisfied: murmurhash<1.1.0,>=0.28.0 in /usr/local/lib/python3.10/dist-packages (from spacy) (1.0.10)\n",
            "Requirement already satisfied: cymem<2.1.0,>=2.0.2 in /usr/local/lib/python3.10/dist-packages (from spacy) (2.0.8)\n",
            "Requirement already satisfied: preshed<3.1.0,>=3.0.2 in /usr/local/lib/python3.10/dist-packages (from spacy) (3.0.9)\n",
            "Requirement already satisfied: thinc<8.3.0,>=8.2.2 in /usr/local/lib/python3.10/dist-packages (from spacy) (8.2.3)\n",
            "Requirement already satisfied: wasabi<1.2.0,>=0.9.1 in /usr/local/lib/python3.10/dist-packages (from spacy) (1.1.2)\n",
            "Requirement already satisfied: srsly<3.0.0,>=2.4.3 in /usr/local/lib/python3.10/dist-packages (from spacy) (2.4.8)\n",
            "Requirement already satisfied: catalogue<2.1.0,>=2.0.6 in /usr/local/lib/python3.10/dist-packages (from spacy) (2.0.10)\n",
            "Requirement already satisfied: weasel<0.4.0,>=0.1.0 in /usr/local/lib/python3.10/dist-packages (from spacy) (0.3.4)\n",
            "Requirement already satisfied: typer<0.10.0,>=0.3.0 in /usr/local/lib/python3.10/dist-packages (from spacy) (0.9.0)\n",
            "Requirement already satisfied: smart-open<7.0.0,>=5.2.1 in /usr/local/lib/python3.10/dist-packages (from spacy) (6.4.0)\n",
            "Requirement already satisfied: tqdm<5.0.0,>=4.38.0 in /usr/local/lib/python3.10/dist-packages (from spacy) (4.66.2)\n",
            "Requirement already satisfied: requests<3.0.0,>=2.13.0 in /usr/local/lib/python3.10/dist-packages (from spacy) (2.31.0)\n",
            "Requirement already satisfied: pydantic!=1.8,!=1.8.1,<3.0.0,>=1.7.4 in /usr/local/lib/python3.10/dist-packages (from spacy) (2.6.3)\n",
            "Requirement already satisfied: jinja2 in /usr/local/lib/python3.10/dist-packages (from spacy) (3.1.3)\n",
            "Requirement already satisfied: setuptools in /usr/local/lib/python3.10/dist-packages (from spacy) (67.7.2)\n",
            "Requirement already satisfied: packaging>=20.0 in /usr/local/lib/python3.10/dist-packages (from spacy) (23.2)\n",
            "Requirement already satisfied: langcodes<4.0.0,>=3.2.0 in /usr/local/lib/python3.10/dist-packages (from spacy) (3.3.0)\n",
            "Requirement already satisfied: numpy>=1.19.0 in /usr/local/lib/python3.10/dist-packages (from spacy) (1.25.2)\n",
            "Requirement already satisfied: annotated-types>=0.4.0 in /usr/local/lib/python3.10/dist-packages (from pydantic!=1.8,!=1.8.1,<3.0.0,>=1.7.4->spacy) (0.6.0)\n",
            "Requirement already satisfied: pydantic-core==2.16.3 in /usr/local/lib/python3.10/dist-packages (from pydantic!=1.8,!=1.8.1,<3.0.0,>=1.7.4->spacy) (2.16.3)\n",
            "Requirement already satisfied: typing-extensions>=4.6.1 in /usr/local/lib/python3.10/dist-packages (from pydantic!=1.8,!=1.8.1,<3.0.0,>=1.7.4->spacy) (4.10.0)\n",
            "Requirement already satisfied: charset-normalizer<4,>=2 in /usr/local/lib/python3.10/dist-packages (from requests<3.0.0,>=2.13.0->spacy) (3.3.2)\n",
            "Requirement already satisfied: idna<4,>=2.5 in /usr/local/lib/python3.10/dist-packages (from requests<3.0.0,>=2.13.0->spacy) (3.6)\n",
            "Requirement already satisfied: urllib3<3,>=1.21.1 in /usr/local/lib/python3.10/dist-packages (from requests<3.0.0,>=2.13.0->spacy) (2.0.7)\n",
            "Requirement already satisfied: certifi>=2017.4.17 in /usr/local/lib/python3.10/dist-packages (from requests<3.0.0,>=2.13.0->spacy) (2024.2.2)\n",
            "Requirement already satisfied: blis<0.8.0,>=0.7.8 in /usr/local/lib/python3.10/dist-packages (from thinc<8.3.0,>=8.2.2->spacy) (0.7.11)\n",
            "Requirement already satisfied: confection<1.0.0,>=0.0.1 in /usr/local/lib/python3.10/dist-packages (from thinc<8.3.0,>=8.2.2->spacy) (0.1.4)\n",
            "Requirement already satisfied: click<9.0.0,>=7.1.1 in /usr/local/lib/python3.10/dist-packages (from typer<0.10.0,>=0.3.0->spacy) (8.1.7)\n",
            "Requirement already satisfied: cloudpathlib<0.17.0,>=0.7.0 in /usr/local/lib/python3.10/dist-packages (from weasel<0.4.0,>=0.1.0->spacy) (0.16.0)\n",
            "Requirement already satisfied: MarkupSafe>=2.0 in /usr/local/lib/python3.10/dist-packages (from jinja2->spacy) (2.1.5)\n"
          ]
        }
      ]
    },
    {
      "cell_type": "code",
      "source": [
        "!python -m spacy download en_core_web_sm"
      ],
      "metadata": {
        "id": "RLDeMcdMsgoE",
        "colab": {
          "base_uri": "https://localhost:8080/"
        },
        "outputId": "0292d7cb-ffac-4498-be78-2f261f202801"
      },
      "execution_count": null,
      "outputs": [
        {
          "output_type": "stream",
          "name": "stdout",
          "text": [
            "Collecting en-core-web-sm==3.7.1\n",
            "  Downloading https://github.com/explosion/spacy-models/releases/download/en_core_web_sm-3.7.1/en_core_web_sm-3.7.1-py3-none-any.whl (12.8 MB)\n",
            "\u001b[2K     \u001b[90m━━━━━━━━━━━━━━━━━━━━━━━━━━━━━━━━━━━━━━━━\u001b[0m \u001b[32m12.8/12.8 MB\u001b[0m \u001b[31m14.8 MB/s\u001b[0m eta \u001b[36m0:00:00\u001b[0m\n",
            "\u001b[?25hRequirement already satisfied: spacy<3.8.0,>=3.7.2 in /usr/local/lib/python3.10/dist-packages (from en-core-web-sm==3.7.1) (3.7.4)\n",
            "Requirement already satisfied: spacy-legacy<3.1.0,>=3.0.11 in /usr/local/lib/python3.10/dist-packages (from spacy<3.8.0,>=3.7.2->en-core-web-sm==3.7.1) (3.0.12)\n",
            "Requirement already satisfied: spacy-loggers<2.0.0,>=1.0.0 in /usr/local/lib/python3.10/dist-packages (from spacy<3.8.0,>=3.7.2->en-core-web-sm==3.7.1) (1.0.5)\n",
            "Requirement already satisfied: murmurhash<1.1.0,>=0.28.0 in /usr/local/lib/python3.10/dist-packages (from spacy<3.8.0,>=3.7.2->en-core-web-sm==3.7.1) (1.0.10)\n",
            "Requirement already satisfied: cymem<2.1.0,>=2.0.2 in /usr/local/lib/python3.10/dist-packages (from spacy<3.8.0,>=3.7.2->en-core-web-sm==3.7.1) (2.0.8)\n",
            "Requirement already satisfied: preshed<3.1.0,>=3.0.2 in /usr/local/lib/python3.10/dist-packages (from spacy<3.8.0,>=3.7.2->en-core-web-sm==3.7.1) (3.0.9)\n",
            "Requirement already satisfied: thinc<8.3.0,>=8.2.2 in /usr/local/lib/python3.10/dist-packages (from spacy<3.8.0,>=3.7.2->en-core-web-sm==3.7.1) (8.2.3)\n",
            "Requirement already satisfied: wasabi<1.2.0,>=0.9.1 in /usr/local/lib/python3.10/dist-packages (from spacy<3.8.0,>=3.7.2->en-core-web-sm==3.7.1) (1.1.2)\n",
            "Requirement already satisfied: srsly<3.0.0,>=2.4.3 in /usr/local/lib/python3.10/dist-packages (from spacy<3.8.0,>=3.7.2->en-core-web-sm==3.7.1) (2.4.8)\n",
            "Requirement already satisfied: catalogue<2.1.0,>=2.0.6 in /usr/local/lib/python3.10/dist-packages (from spacy<3.8.0,>=3.7.2->en-core-web-sm==3.7.1) (2.0.10)\n",
            "Requirement already satisfied: weasel<0.4.0,>=0.1.0 in /usr/local/lib/python3.10/dist-packages (from spacy<3.8.0,>=3.7.2->en-core-web-sm==3.7.1) (0.3.4)\n",
            "Requirement already satisfied: typer<0.10.0,>=0.3.0 in /usr/local/lib/python3.10/dist-packages (from spacy<3.8.0,>=3.7.2->en-core-web-sm==3.7.1) (0.9.0)\n",
            "Requirement already satisfied: smart-open<7.0.0,>=5.2.1 in /usr/local/lib/python3.10/dist-packages (from spacy<3.8.0,>=3.7.2->en-core-web-sm==3.7.1) (6.4.0)\n",
            "Requirement already satisfied: tqdm<5.0.0,>=4.38.0 in /usr/local/lib/python3.10/dist-packages (from spacy<3.8.0,>=3.7.2->en-core-web-sm==3.7.1) (4.66.2)\n",
            "Requirement already satisfied: requests<3.0.0,>=2.13.0 in /usr/local/lib/python3.10/dist-packages (from spacy<3.8.0,>=3.7.2->en-core-web-sm==3.7.1) (2.31.0)\n",
            "Requirement already satisfied: pydantic!=1.8,!=1.8.1,<3.0.0,>=1.7.4 in /usr/local/lib/python3.10/dist-packages (from spacy<3.8.0,>=3.7.2->en-core-web-sm==3.7.1) (2.6.3)\n",
            "Requirement already satisfied: jinja2 in /usr/local/lib/python3.10/dist-packages (from spacy<3.8.0,>=3.7.2->en-core-web-sm==3.7.1) (3.1.3)\n",
            "Requirement already satisfied: setuptools in /usr/local/lib/python3.10/dist-packages (from spacy<3.8.0,>=3.7.2->en-core-web-sm==3.7.1) (67.7.2)\n",
            "Requirement already satisfied: packaging>=20.0 in /usr/local/lib/python3.10/dist-packages (from spacy<3.8.0,>=3.7.2->en-core-web-sm==3.7.1) (23.2)\n",
            "Requirement already satisfied: langcodes<4.0.0,>=3.2.0 in /usr/local/lib/python3.10/dist-packages (from spacy<3.8.0,>=3.7.2->en-core-web-sm==3.7.1) (3.3.0)\n",
            "Requirement already satisfied: numpy>=1.19.0 in /usr/local/lib/python3.10/dist-packages (from spacy<3.8.0,>=3.7.2->en-core-web-sm==3.7.1) (1.25.2)\n",
            "Requirement already satisfied: annotated-types>=0.4.0 in /usr/local/lib/python3.10/dist-packages (from pydantic!=1.8,!=1.8.1,<3.0.0,>=1.7.4->spacy<3.8.0,>=3.7.2->en-core-web-sm==3.7.1) (0.6.0)\n",
            "Requirement already satisfied: pydantic-core==2.16.3 in /usr/local/lib/python3.10/dist-packages (from pydantic!=1.8,!=1.8.1,<3.0.0,>=1.7.4->spacy<3.8.0,>=3.7.2->en-core-web-sm==3.7.1) (2.16.3)\n",
            "Requirement already satisfied: typing-extensions>=4.6.1 in /usr/local/lib/python3.10/dist-packages (from pydantic!=1.8,!=1.8.1,<3.0.0,>=1.7.4->spacy<3.8.0,>=3.7.2->en-core-web-sm==3.7.1) (4.10.0)\n",
            "Requirement already satisfied: charset-normalizer<4,>=2 in /usr/local/lib/python3.10/dist-packages (from requests<3.0.0,>=2.13.0->spacy<3.8.0,>=3.7.2->en-core-web-sm==3.7.1) (3.3.2)\n",
            "Requirement already satisfied: idna<4,>=2.5 in /usr/local/lib/python3.10/dist-packages (from requests<3.0.0,>=2.13.0->spacy<3.8.0,>=3.7.2->en-core-web-sm==3.7.1) (3.6)\n",
            "Requirement already satisfied: urllib3<3,>=1.21.1 in /usr/local/lib/python3.10/dist-packages (from requests<3.0.0,>=2.13.0->spacy<3.8.0,>=3.7.2->en-core-web-sm==3.7.1) (2.0.7)\n",
            "Requirement already satisfied: certifi>=2017.4.17 in /usr/local/lib/python3.10/dist-packages (from requests<3.0.0,>=2.13.0->spacy<3.8.0,>=3.7.2->en-core-web-sm==3.7.1) (2024.2.2)\n",
            "Requirement already satisfied: blis<0.8.0,>=0.7.8 in /usr/local/lib/python3.10/dist-packages (from thinc<8.3.0,>=8.2.2->spacy<3.8.0,>=3.7.2->en-core-web-sm==3.7.1) (0.7.11)\n",
            "Requirement already satisfied: confection<1.0.0,>=0.0.1 in /usr/local/lib/python3.10/dist-packages (from thinc<8.3.0,>=8.2.2->spacy<3.8.0,>=3.7.2->en-core-web-sm==3.7.1) (0.1.4)\n",
            "Requirement already satisfied: click<9.0.0,>=7.1.1 in /usr/local/lib/python3.10/dist-packages (from typer<0.10.0,>=0.3.0->spacy<3.8.0,>=3.7.2->en-core-web-sm==3.7.1) (8.1.7)\n",
            "Requirement already satisfied: cloudpathlib<0.17.0,>=0.7.0 in /usr/local/lib/python3.10/dist-packages (from weasel<0.4.0,>=0.1.0->spacy<3.8.0,>=3.7.2->en-core-web-sm==3.7.1) (0.16.0)\n",
            "Requirement already satisfied: MarkupSafe>=2.0 in /usr/local/lib/python3.10/dist-packages (from jinja2->spacy<3.8.0,>=3.7.2->en-core-web-sm==3.7.1) (2.1.5)\n",
            "\u001b[38;5;2m✔ Download and installation successful\u001b[0m\n",
            "You can now load the package via spacy.load('en_core_web_sm')\n",
            "\u001b[38;5;3m⚠ Restart to reload dependencies\u001b[0m\n",
            "If you are in a Jupyter or Colab notebook, you may need to restart Python in\n",
            "order to load all the package's dependencies. You can do this by selecting the\n",
            "'Restart kernel' or 'Restart runtime' option.\n"
          ]
        }
      ]
    },
    {
      "cell_type": "code",
      "source": [
        "from sklearn.datasets import fetch_20newsgroups\n",
        "from sklearn.feature_extraction.text import TfidfVectorizer\n",
        "from sklearn.model_selection import train_test_split, GridSearchCV\n",
        "from sklearn.linear_model import LogisticRegression\n",
        "from sklearn.tree import DecisionTreeClassifier\n",
        "from sklearn.svm import SVC\n",
        "from sklearn.ensemble import StackingClassifier\n",
        "from sklearn.metrics import accuracy_score\n",
        "from sklearn.metrics import precision_score, recall_score, f1_score, accuracy_score"
      ],
      "metadata": {
        "id": "cWl28UkWmJn2"
      },
      "execution_count": null,
      "outputs": []
    },
    {
      "cell_type": "code",
      "source": [
        "from sklearn.ensemble import StackingClassifier\n",
        "from sklearn.linear_model import LogisticRegression\n",
        "from sklearn.tree import DecisionTreeClassifier\n",
        "from sklearn.svm import SVC\n",
        "\n",
        "texts = df['Text'].values\n",
        "labels = df['Error Flag'].values\n",
        "\n",
        "# Preprocesamiento de texto\n",
        "tfidf_vectorizer = TfidfVectorizer(stop_words='english', max_features=1000)\n",
        "X = tfidf_vectorizer.fit_transform(texts)\n",
        "\n",
        "# División del conjunto de datos\n",
        "X_train, X_test, y_train, y_test = train_test_split(X, labels, test_size=0.2, random_state=42)\n",
        "\n",
        "# Definir los modelos base con los mejores parámetros encontrados\n",
        "lr_best = LogisticRegression(C=0.1, max_iter=1000)\n",
        "dt_best = DecisionTreeClassifier(max_depth=10, min_samples_leaf=2)\n",
        "svc_best = SVC(C=0.1, kernel='linear', probability=True)\n",
        "\n",
        "base_learners_best = [\n",
        "    ('lr_best', lr_best),\n",
        "    ('dt_best', dt_best),\n",
        "    ('svc_best', svc_best)\n",
        "]\n",
        "\n",
        "# Estimador final con los parámetros especificados\n",
        "final_estimator_best = LogisticRegression(C=1.0, class_weight=None, dual=False, fit_intercept=True,\n",
        "                                          intercept_scaling=1, l1_ratio=None, max_iter=100, multi_class='auto',\n",
        "                                          n_jobs=None, penalty='l2', random_state=None, solver='lbfgs',\n",
        "                                          tol=0.0001, verbose=0, warm_start=False)\n",
        "\n",
        "# Crear el modelo de Stacking con los mejores estimadores\n",
        "stack_model_best = StackingClassifier(estimators=base_learners_best, final_estimator=final_estimator_best, cv=5)\n",
        "\n",
        "# Entrenar el modelo de Stacking con el conjunto de entrenamiento\n",
        "stack_model_best.fit(X_train, y_train)\n",
        "\n",
        "# Evaluar el modelo de Stacking en el conjunto de prueba\n",
        "y_pred_best = stack_model_best.predict(X_test)\n",
        "accuracy_best = accuracy_score(y_test, y_pred_best)\n",
        "f1_best = f1_score(y_test, y_pred_best, average='weighted')\n",
        "recall_best = recall_score(y_test, y_pred_best, average='weighted')\n",
        "precision_best = precision_score(y_test, y_pred_best, average='weighted')\n",
        "\n",
        "print(f\"Accuracy of Optimized Stacking Model: {accuracy_best}\")\n",
        "print(f\"F1 Score of Optimized Stacking Model: {f1_best}\")\n",
        "print(f\"Recall of Optimized Stacking Model: {recall_best}\")\n",
        "print(f\"Precision of Optimized Stacking Model: {precision_best}\")\n"
      ],
      "metadata": {
        "id": "35PJfz9dx5gY",
        "colab": {
          "base_uri": "https://localhost:8080/"
        },
        "outputId": "2341d3a3-751e-4dbf-df02-77a72ab56d0c"
      },
      "execution_count": null,
      "outputs": [
        {
          "output_type": "stream",
          "name": "stdout",
          "text": [
            "Accuracy of Optimized Stacking Model: 0.7511415525114156\n",
            "F1 Score of Optimized Stacking Model: 0.7514727248070104\n",
            "Recall of Optimized Stacking Model: 0.7511415525114156\n",
            "Precision of Optimized Stacking Model: 0.7540662690750665\n"
          ]
        }
      ]
    },
    {
      "cell_type": "code",
      "source": [
        "# Predicciones en el conjunto de entrenamiento para calcular métricas\n",
        "y_train_pred = stack_model_best.predict(X_train)\n",
        "\n",
        "# Calculando métricas para el conjunto de entrenamiento\n",
        "accuracy_train = accuracy_score(y_train, y_train_pred)\n",
        "f1_train = f1_score(y_train, y_train_pred, average='weighted')\n",
        "recall_train = recall_score(y_train, y_train_pred, average='weighted')\n",
        "precision_train = precision_score(y_train, y_train_pred, average='weighted')\n",
        "\n",
        "# Mostrar métricas para el conjunto de entrenamiento\n",
        "print(\"Training Metrics:\")\n",
        "print(f\"Accuracy: {accuracy_train}\")\n",
        "print(f\"F1 Score: {f1_train}\")\n",
        "print(f\"Recall: {recall_train}\")\n",
        "print(f\"Precision: {precision_train}\")\n",
        "\n",
        "# Mostrar métricas para el conjunto de prueba\n",
        "print(\"\\nTest Metrics:\")\n",
        "print(f\"Accuracy: {accuracy_best}\")\n",
        "print(f\"F1 Score: {f1_best}\")\n",
        "print(f\"Recall: {recall_best}\")\n",
        "print(f\"Precision: {precision_best}\")\n"
      ],
      "metadata": {
        "colab": {
          "base_uri": "https://localhost:8080/"
        },
        "id": "5YISI6TMJYbT",
        "outputId": "f7e6825b-d2c8-476b-ac16-122ab304c589"
      },
      "execution_count": null,
      "outputs": [
        {
          "output_type": "stream",
          "name": "stdout",
          "text": [
            "Training Metrics:\n",
            "Accuracy: 0.35979440319817246\n",
            "F1 Score: 0.36096616014779936\n",
            "Recall: 0.35979440319817246\n",
            "Precision: 0.3704299388964377\n",
            "\n",
            "Test Metrics:\n",
            "Accuracy: 0.7511415525114156\n",
            "F1 Score: 0.7514727248070104\n",
            "Recall: 0.7511415525114156\n",
            "Precision: 0.7540662690750665\n"
          ]
        }
      ]
    },
    {
      "cell_type": "code",
      "source": [
        "from sklearn.metrics import roc_curve, roc_auc_score\n",
        "import matplotlib.pyplot as plt\n",
        "\n",
        "# Asegurarte de que tu modelo final (SVC) está configurado para devolver probabilidades\n",
        "# Obtener las probabilidades de la clase positiva\n",
        "y_proba = stack_model_best.predict_proba(X_test)[:, 1]\n",
        "\n",
        "# Calcular FPR, TPR, y umbrales para la curva ROC\n",
        "fpr, tpr, thresholds = roc_curve(y_test, y_proba)\n",
        "\n",
        "# Calcular el AUC\n",
        "roc_auc = roc_auc_score(y_test, y_proba)\n",
        "\n",
        "# Graficar la curva ROC\n",
        "plt.figure()\n",
        "plt.plot(fpr, tpr, color='darkorange', lw=2, label=f'Curva ROC (AUC = {roc_auc:.2f})')\n",
        "plt.plot([0, 1], [0, 1], color='navy', lw=2, linestyle='--')\n",
        "plt.xlim([0.0, 1.0])\n",
        "plt.ylim([0.0, 1.05])\n",
        "plt.xlabel('Tasa de Falsos Positivos')\n",
        "plt.ylabel('Tasa de Verdaderos Positivos')\n",
        "plt.title('Característica Operativa del Receptor (ROC)')\n",
        "plt.legend(loc=\"lower right\")\n",
        "plt.show()\n"
      ],
      "metadata": {
        "id": "vEJP4vQYCveZ",
        "colab": {
          "base_uri": "https://localhost:8080/",
          "height": 472
        },
        "outputId": "0af3d314-3a6c-43c9-80d9-13d6567f1fad"
      },
      "execution_count": null,
      "outputs": [
        {
          "output_type": "display_data",
          "data": {
            "text/plain": [
              "<Figure size 640x480 with 1 Axes>"
            ],
            "image/png": "[encoded data removed]"
          },
          "metadata": {}
        }
      ]
    },
    {
      "cell_type": "code",
      "source": [
        "from google.colab import drive\n",
        "drive.mount('/content/drive')"
      ],
      "metadata": {
        "colab": {
          "base_uri": "https://localhost:8080/"
        },
        "id": "Py2GncpCnJj1",
        "outputId": "a5deba72-b2f0-4236-adec-99b8c3e43e3a"
      },
      "execution_count": null,
      "outputs": [
        {
          "output_type": "stream",
          "name": "stdout",
          "text": [
            "Drive already mounted at /content/drive; to attempt to forcibly remount, call drive.mount(\"/content/drive\", force_remount=True).\n"
          ]
        }
      ]
    },
    {
      "cell_type": "code",
      "source": [
        "import joblib\n",
        "\n",
        "# Especificar la ruta y el nombre de archivo para guardar el modelo de Stacking y el vectorizador TF-IDF\n",
        "model_filename = '/content/drive/My Drive/Javeriana/Medical_Error_Detection/Modelos/Pruebas_Rendimiento/Modelos_Descarga/Stacking_3/stack_model_best.joblib'\n",
        "vectorizer_filename = '/content/drive/My Drive/Javeriana/Medical_Error_Detection/Modelos/Pruebas_Rendimiento/Modelos_Descarga/Stacking_3/tfidf_vectorizer_best.joblib'\n",
        "\n",
        "# Guardar el modelo de Stacking\n",
        "joblib.dump(stack_model_best, model_filename)\n",
        "\n",
        "# Guardar el vectorizador TF-IDF\n",
        "joblib.dump(tfidf_vectorizer, vectorizer_filename)\n"
      ],
      "metadata": {
        "id": "7jlkFQUbCvZ-",
        "colab": {
          "base_uri": "https://localhost:8080/"
        },
        "outputId": "386d4e1e-a207-4457-951b-f23377b47c75"
      },
      "execution_count": null,
      "outputs": [
        {
          "output_type": "execute_result",
          "data": {
            "text/plain": [
              "['/content/drive/My Drive/Javeriana/Medical_Error_Detection/Modelos/Pruebas_Rendimiento/Modelos_Descarga/Stacking_3/tfidf_vectorizer_best.joblib']"
            ]
          },
          "metadata": {},
          "execution_count": 31
        }
      ]
    }
  ],
  "metadata": {
    "colab": {
      "provenance": []
    },
    "kernelspec": {
      "display_name": "Python 3",
      "name": "python3"
    },
    "language_info": {
      "codemirror_mode": {
        "name": "ipython",
        "version": 3
      },
      "file_extension": ".py",
      "mimetype": "text/x-python",
      "name": "python",
      "nbconvert_exporter": "python",
      "pygments_lexer": "ipython3",
      "version": "3.12.0"
    }
  },
  "nbformat": 4,
  "nbformat_minor": 0
}