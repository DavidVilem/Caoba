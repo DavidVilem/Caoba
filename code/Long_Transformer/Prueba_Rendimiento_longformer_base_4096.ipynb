{
  "cells": [
    {
      "cell_type": "code",
      "execution_count": 1,
      "metadata": {
        "id": "I-zF5271S7mV"
      },
      "outputs": [],
      "source": [
        "import pandas as pd\n",
        "import numpy as np\n",
        "import re"
      ]
    },
    {
      "cell_type": "code",
      "source": [
        "from google.colab import drive\n",
        "drive.mount('/content/drive')"
      ],
      "metadata": {
        "colab": {
          "base_uri": "https://localhost:8080/"
        },
        "id": "hHGBaIW1j1AR",
        "outputId": "e46d84d5-578f-49f7-af5c-8d7ba7f612e7"
      },
      "execution_count": 2,
      "outputs": [
        {
          "output_type": "stream",
          "name": "stdout",
          "text": [
            "Drive already mounted at /content/drive; to attempt to forcibly remount, call drive.mount(\"/content/drive\", force_remount=True).\n"
          ]
        }
      ]
    },
    {
      "cell_type": "code",
      "source": [
        "import joblib\n",
        "from transformers import LongformerForSequenceClassification, LongformerTokenizer\n",
        "\n",
        "# Rutas a los archivos guardados\n",
        "model_path = '/content/drive/My Drive/Javeriana/Medical_Error_Detection/Modelos/Pruebas_Rendimiento/Modelos_Descarga/Long/long_model'\n",
        "tokenizer_path = '/content/drive/My Drive/Javeriana/Medical_Error_Detection/Modelos/Pruebas_Rendimiento/Modelos_Descarga/Long/long_tokenizer'\n",
        "\n",
        "# Cargar el modelo entrenado\n",
        "model = LongformerForSequenceClassification.from_pretrained(model_path)\n",
        "\n",
        "# Cargar el tokenizador\n",
        "tokenizer = LongformerTokenizer.from_pretrained(tokenizer_path)"
      ],
      "metadata": {
        "id": "BFr0bMTJj08j"
      },
      "execution_count": 3,
      "outputs": []
    },
    {
      "cell_type": "code",
      "execution_count": 4,
      "metadata": {
        "colab": {
          "base_uri": "https://localhost:8080/",
          "height": 73
        },
        "id": "NM5BF6fmS9pN",
        "outputId": "8b85a9dd-de6e-47da-e4da-f09d61f73dac"
      },
      "outputs": [
        {
          "output_type": "display_data",
          "data": {
            "text/plain": [
              "<IPython.core.display.HTML object>"
            ],
            "text/html": [
              "\n",
              "     <input type=\"file\" id=\"files-833b62fa-3815-4d38-a5d3-83df35a6d94e\" name=\"files[]\" multiple disabled\n",
              "        style=\"border:none\" />\n",
              "     <output id=\"result-833b62fa-3815-4d38-a5d3-83df35a6d94e\">\n",
              "      Upload widget is only available when the cell has been executed in the\n",
              "      current browser session. Please rerun this cell to enable.\n",
              "      </output>\n",
              "      <script>// Copyright 2017 Google LLC\n",
              "//\n",
              "// Licensed under the Apache License, Version 2.0 (the \"License\");\n",
              "// you may not use this file except in compliance with the License.\n",
              "// You may obtain a copy of the License at\n",
              "//\n",
              "//      http://www.apache.org/licenses/LICENSE-2.0\n",
              "//\n",
              "// Unless required by applicable law or agreed to in writing, software\n",
              "// distributed under the License is distributed on an \"AS IS\" BASIS,\n",
              "// WITHOUT WARRANTIES OR CONDITIONS OF ANY KIND, either express or implied.\n",
              "// See the License for the specific language governing permissions and\n",
              "// limitations under the License.\n",
              "\n",
              "/**\n",
              " * @fileoverview Helpers for google.colab Python module.\n",
              " */\n",
              "(function(scope) {\n",
              "function span(text, styleAttributes = {}) {\n",
              "  const element = document.createElement('span');\n",
              "  element.textContent = text;\n",
              "  for (const key of Object.keys(styleAttributes)) {\n",
              "    element.style[key] = styleAttributes[key];\n",
              "  }\n",
              "  return element;\n",
              "}\n",
              "\n",
              "// Max number of bytes which will be uploaded at a time.\n",
              "const MAX_PAYLOAD_SIZE = 100 * 1024;\n",
              "\n",
              "function _uploadFiles(inputId, outputId) {\n",
              "  const steps = uploadFilesStep(inputId, outputId);\n",
              "  const outputElement = document.getElementById(outputId);\n",
              "  // Cache steps on the outputElement to make it available for the next call\n",
              "  // to uploadFilesContinue from Python.\n",
              "  outputElement.steps = steps;\n",
              "\n",
              "  return _uploadFilesContinue(outputId);\n",
              "}\n",
              "\n",
              "// This is roughly an async generator (not supported in the browser yet),\n",
              "// where there are multiple asynchronous steps and the Python side is going\n",
              "// to poll for completion of each step.\n",
              "// This uses a Promise to block the python side on completion of each step,\n",
              "// then passes the result of the previous step as the input to the next step.\n",
              "function _uploadFilesContinue(outputId) {\n",
              "  const outputElement = document.getElementById(outputId);\n",
              "  const steps = outputElement.steps;\n",
              "\n",
              "  const next = steps.next(outputElement.lastPromiseValue);\n",
              "  return Promise.resolve(next.value.promise).then((value) => {\n",
              "    // Cache the last promise value to make it available to the next\n",
              "    // step of the generator.\n",
              "    outputElement.lastPromiseValue = value;\n",
              "    return next.value.response;\n",
              "  });\n",
              "}\n",
              "\n",
              "/**\n",
              " * Generator function which is called between each async step of the upload\n",
              " * process.\n",
              " * @param {string} inputId Element ID of the input file picker element.\n",
              " * @param {string} outputId Element ID of the output display.\n",
              " * @return {!Iterable<!Object>} Iterable of next steps.\n",
              " */\n",
              "function* uploadFilesStep(inputId, outputId) {\n",
              "  const inputElement = document.getElementById(inputId);\n",
              "  inputElement.disabled = false;\n",
              "\n",
              "  const outputElement = document.getElementById(outputId);\n",
              "  outputElement.innerHTML = '';\n",
              "\n",
              "  const pickedPromise = new Promise((resolve) => {\n",
              "    inputElement.addEventListener('change', (e) => {\n",
              "      resolve(e.target.files);\n",
              "    });\n",
              "  });\n",
              "\n",
              "  const cancel = document.createElement('button');\n",
              "  inputElement.parentElement.appendChild(cancel);\n",
              "  cancel.textContent = 'Cancel upload';\n",
              "  const cancelPromise = new Promise((resolve) => {\n",
              "    cancel.onclick = () => {\n",
              "      resolve(null);\n",
              "    };\n",
              "  });\n",
              "\n",
              "  // Wait for the user to pick the files.\n",
              "  const files = yield {\n",
              "    promise: Promise.race([pickedPromise, cancelPromise]),\n",
              "    response: {\n",
              "      action: 'starting',\n",
              "    }\n",
              "  };\n",
              "\n",
              "  cancel.remove();\n",
              "\n",
              "  // Disable the input element since further picks are not allowed.\n",
              "  inputElement.disabled = true;\n",
              "\n",
              "  if (!files) {\n",
              "    return {\n",
              "      response: {\n",
              "        action: 'complete',\n",
              "      }\n",
              "    };\n",
              "  }\n",
              "\n",
              "  for (const file of files) {\n",
              "    const li = document.createElement('li');\n",
              "    li.append(span(file.name, {fontWeight: 'bold'}));\n",
              "    li.append(span(\n",
              "        `(${file.type || 'n/a'}) - ${file.size} bytes, ` +\n",
              "        `last modified: ${\n",
              "            file.lastModifiedDate ? file.lastModifiedDate.toLocaleDateString() :\n",
              "                                    'n/a'} - `));\n",
              "    const percent = span('0% done');\n",
              "    li.appendChild(percent);\n",
              "\n",
              "    outputElement.appendChild(li);\n",
              "\n",
              "    const fileDataPromise = new Promise((resolve) => {\n",
              "      const reader = new FileReader();\n",
              "      reader.onload = (e) => {\n",
              "        resolve(e.target.result);\n",
              "      };\n",
              "      reader.readAsArrayBuffer(file);\n",
              "    });\n",
              "    // Wait for the data to be ready.\n",
              "    let fileData = yield {\n",
              "      promise: fileDataPromise,\n",
              "      response: {\n",
              "        action: 'continue',\n",
              "      }\n",
              "    };\n",
              "\n",
              "    // Use a chunked sending to avoid message size limits. See b/62115660.\n",
              "    let position = 0;\n",
              "    do {\n",
              "      const length = Math.min(fileData.byteLength - position, MAX_PAYLOAD_SIZE);\n",
              "      const chunk = new Uint8Array(fileData, position, length);\n",
              "      position += length;\n",
              "\n",
              "      const base64 = btoa(String.fromCharCode.apply(null, chunk));\n",
              "      yield {\n",
              "        response: {\n",
              "          action: 'append',\n",
              "          file: file.name,\n",
              "          data: base64,\n",
              "        },\n",
              "      };\n",
              "\n",
              "      let percentDone = fileData.byteLength === 0 ?\n",
              "          100 :\n",
              "          Math.round((position / fileData.byteLength) * 100);\n",
              "      percent.textContent = `${percentDone}% done`;\n",
              "\n",
              "    } while (position < fileData.byteLength);\n",
              "  }\n",
              "\n",
              "  // All done.\n",
              "  yield {\n",
              "    response: {\n",
              "      action: 'complete',\n",
              "    }\n",
              "  };\n",
              "}\n",
              "\n",
              "scope.google = scope.google || {};\n",
              "scope.google.colab = scope.google.colab || {};\n",
              "scope.google.colab._files = {\n",
              "  _uploadFiles,\n",
              "  _uploadFilesContinue,\n",
              "};\n",
              "})(self);\n",
              "</script> "
            ]
          },
          "metadata": {}
        },
        {
          "output_type": "stream",
          "name": "stdout",
          "text": [
            "Saving MEDIQA-CORR-2024-MS-ValidationSet-1-Full.csv to MEDIQA-CORR-2024-MS-ValidationSet-1-Full (1).csv\n"
          ]
        }
      ],
      "source": [
        "from google.colab import files\n",
        "uploaded = files.upload()"
      ]
    },
    {
      "cell_type": "code",
      "execution_count": 5,
      "metadata": {
        "colab": {
          "base_uri": "https://localhost:8080/",
          "height": 310
        },
        "id": "4hW3axOITCDI",
        "outputId": "8864f895-bf6e-4d8f-eb7a-cf3050c1f475"
      },
      "outputs": [
        {
          "output_type": "execute_result",
          "data": {
            "text/plain": [
              "   Unnamed: 0   Text ID                                               Text  \\\n",
              "0           0  ms-val-0  A 24-year-old woman comes to the emergency dep...   \n",
              "1           1  ms-val-1  A 24-year-old woman comes to the emergency dep...   \n",
              "2           2  ms-val-2  A 43-year-old woman comes to the physician bec...   \n",
              "3           3  ms-val-3  A 4-year-old is brought into the emeregency ro...   \n",
              "4           4  ms-val-4  A previously healthy 25-year-old man comes to ...   \n",
              "\n",
              "                                           Sentences  Error Flag  \\\n",
              "0  0 A 24-year-old woman comes to the emergency d...           1   \n",
              "1  0 A 24-year-old woman comes to the emergency d...           0   \n",
              "2  0 A 43-year-old woman comes to the physician b...           1   \n",
              "3  0 A 4-year-old is brought into the emeregency ...           1   \n",
              "4  0 A previously healthy 25-year-old man comes t...           1   \n",
              "\n",
              "   Error Sentence ID                                     Error Sentence  \\\n",
              "0                  5      Culture tests indicate Neisseria gonorrhoeae.   \n",
              "1                 -1                                                NaN   \n",
              "2                 24  Pathology confirms Streptococcus pneumoniae is...   \n",
              "3                  4  Laboratory studies confirm that he has a respi...   \n",
              "4                  0  A previously healthy 25-year-old man comes to ...   \n",
              "\n",
              "                                  Corrected Sentence  \\\n",
              "0      Culture tests indicate Trichomonas vaginalis.   \n",
              "1                                                NaN   \n",
              "2  Pathology confirms Mycoplasma pneumoniae is th...   \n",
              "3  Laboratory studies confirm that he has parainf...   \n",
              "4  A previously healthy 25-year-old man comes to ...   \n",
              "\n",
              "                                      Corrected Text  \n",
              "0  A 24-year-old woman comes to the emergency dep...  \n",
              "1                                                NaN  \n",
              "2  A 43-year-old woman comes to the physician bec...  \n",
              "3  A 4-year-old is brought into the emeregency ro...  \n",
              "4  A previously healthy 25-year-old man comes to ...  "
            ],
            "text/html": [
              "\n",
              "  <div id=\"df-9f20ea1f-a38e-488c-9c02-4dbadadcfd52\" class=\"colab-df-container\">\n",
              "    <div>\n",
              "<style scoped>\n",
              "    .dataframe tbody tr th:only-of-type {\n",
              "        vertical-align: middle;\n",
              "    }\n",
              "\n",
              "    .dataframe tbody tr th {\n",
              "        vertical-align: top;\n",
              "    }\n",
              "\n",
              "    .dataframe thead th {\n",
              "        text-align: right;\n",
              "    }\n",
              "</style>\n",
              "<table border=\"1\" class=\"dataframe\">\n",
              "  <thead>\n",
              "    <tr style=\"text-align: right;\">\n",
              "      <th></th>\n",
              "      <th>Unnamed: 0</th>\n",
              "      <th>Text ID</th>\n",
              "      <th>Text</th>\n",
              "      <th>Sentences</th>\n",
              "      <th>Error Flag</th>\n",
              "      <th>Error Sentence ID</th>\n",
              "      <th>Error Sentence</th>\n",
              "      <th>Corrected Sentence</th>\n",
              "      <th>Corrected Text</th>\n",
              "    </tr>\n",
              "  </thead>\n",
              "  <tbody>\n",
              "    <tr>\n",
              "      <th>0</th>\n",
              "      <td>0</td>\n",
              "      <td>ms-val-0</td>\n",
              "      <td>A 24-year-old woman comes to the emergency dep...</td>\n",
              "      <td>0 A 24-year-old woman comes to the emergency d...</td>\n",
              "      <td>1</td>\n",
              "      <td>5</td>\n",
              "      <td>Culture tests indicate Neisseria gonorrhoeae.</td>\n",
              "      <td>Culture tests indicate Trichomonas vaginalis.</td>\n",
              "      <td>A 24-year-old woman comes to the emergency dep...</td>\n",
              "    </tr>\n",
              "    <tr>\n",
              "      <th>1</th>\n",
              "      <td>1</td>\n",
              "      <td>ms-val-1</td>\n",
              "      <td>A 24-year-old woman comes to the emergency dep...</td>\n",
              "      <td>0 A 24-year-old woman comes to the emergency d...</td>\n",
              "      <td>0</td>\n",
              "      <td>-1</td>\n",
              "      <td>NaN</td>\n",
              "      <td>NaN</td>\n",
              "      <td>NaN</td>\n",
              "    </tr>\n",
              "    <tr>\n",
              "      <th>2</th>\n",
              "      <td>2</td>\n",
              "      <td>ms-val-2</td>\n",
              "      <td>A 43-year-old woman comes to the physician bec...</td>\n",
              "      <td>0 A 43-year-old woman comes to the physician b...</td>\n",
              "      <td>1</td>\n",
              "      <td>24</td>\n",
              "      <td>Pathology confirms Streptococcus pneumoniae is...</td>\n",
              "      <td>Pathology confirms Mycoplasma pneumoniae is th...</td>\n",
              "      <td>A 43-year-old woman comes to the physician bec...</td>\n",
              "    </tr>\n",
              "    <tr>\n",
              "      <th>3</th>\n",
              "      <td>3</td>\n",
              "      <td>ms-val-3</td>\n",
              "      <td>A 4-year-old is brought into the emeregency ro...</td>\n",
              "      <td>0 A 4-year-old is brought into the emeregency ...</td>\n",
              "      <td>1</td>\n",
              "      <td>4</td>\n",
              "      <td>Laboratory studies confirm that he has a respi...</td>\n",
              "      <td>Laboratory studies confirm that he has parainf...</td>\n",
              "      <td>A 4-year-old is brought into the emeregency ro...</td>\n",
              "    </tr>\n",
              "    <tr>\n",
              "      <th>4</th>\n",
              "      <td>4</td>\n",
              "      <td>ms-val-4</td>\n",
              "      <td>A previously healthy 25-year-old man comes to ...</td>\n",
              "      <td>0 A previously healthy 25-year-old man comes t...</td>\n",
              "      <td>1</td>\n",
              "      <td>0</td>\n",
              "      <td>A previously healthy 25-year-old man comes to ...</td>\n",
              "      <td>A previously healthy 25-year-old man comes to ...</td>\n",
              "      <td>A previously healthy 25-year-old man comes to ...</td>\n",
              "    </tr>\n",
              "  </tbody>\n",
              "</table>\n",
              "</div>\n",
              "    <div class=\"colab-df-buttons\">\n",
              "\n",
              "  <div class=\"colab-df-container\">\n",
              "    <button class=\"colab-df-convert\" onclick=\"convertToInteractive('df-9f20ea1f-a38e-488c-9c02-4dbadadcfd52')\"\n",
              "            title=\"Convert this dataframe to an interactive table.\"\n",
              "            style=\"display:none;\">\n",
              "\n",
              "  <svg xmlns=\"http://www.w3.org/2000/svg\" height=\"24px\" viewBox=\"0 -960 960 960\">\n",
              "    <path d=\"M120-120v-720h720v720H120Zm60-500h600v-160H180v160Zm220 220h160v-160H400v160Zm0 220h160v-160H400v160ZM180-400h160v-160H180v160Zm440 0h160v-160H620v160ZM180-180h160v-160H180v160Zm440 0h160v-160H620v160Z\"/>\n",
              "  </svg>\n",
              "    </button>\n",
              "\n",
              "  <style>\n",
              "    .colab-df-container {\n",
              "      display:flex;\n",
              "      gap: 12px;\n",
              "    }\n",
              "\n",
              "    .colab-df-convert {\n",
              "      background-color: #E8F0FE;\n",
              "      border: none;\n",
              "      border-radius: 50%;\n",
              "      cursor: pointer;\n",
              "      display: none;\n",
              "      fill: #1967D2;\n",
              "      height: 32px;\n",
              "      padding: 0 0 0 0;\n",
              "      width: 32px;\n",
              "    }\n",
              "\n",
              "    .colab-df-convert:hover {\n",
              "      background-color: #E2EBFA;\n",
              "      box-shadow: 0px 1px 2px rgba(60, 64, 67, 0.3), 0px 1px 3px 1px rgba(60, 64, 67, 0.15);\n",
              "      fill: #174EA6;\n",
              "    }\n",
              "\n",
              "    .colab-df-buttons div {\n",
              "      margin-bottom: 4px;\n",
              "    }\n",
              "\n",
              "    [theme=dark] .colab-df-convert {\n",
              "      background-color: #3B4455;\n",
              "      fill: #D2E3FC;\n",
              "    }\n",
              "\n",
              "    [theme=dark] .colab-df-convert:hover {\n",
              "      background-color: #434B5C;\n",
              "      box-shadow: 0px 1px 3px 1px rgba(0, 0, 0, 0.15);\n",
              "      filter: drop-shadow(0px 1px 2px rgba(0, 0, 0, 0.3));\n",
              "      fill: #FFFFFF;\n",
              "    }\n",
              "  </style>\n",
              "\n",
              "    <script>\n",
              "      const buttonEl =\n",
              "        document.querySelector('#df-9f20ea1f-a38e-488c-9c02-4dbadadcfd52 button.colab-df-convert');\n",
              "      buttonEl.style.display =\n",
              "        google.colab.kernel.accessAllowed ? 'block' : 'none';\n",
              "\n",
              "      async function convertToInteractive(key) {\n",
              "        const element = document.querySelector('#df-9f20ea1f-a38e-488c-9c02-4dbadadcfd52');\n",
              "        const dataTable =\n",
              "          await google.colab.kernel.invokeFunction('convertToInteractive',\n",
              "                                                    [key], {});\n",
              "        if (!dataTable) return;\n",
              "\n",
              "        const docLinkHtml = 'Like what you see? Visit the ' +\n",
              "          '<a target=\"_blank\" href=https://colab.research.google.com/notebooks/data_table.ipynb>data table notebook</a>'\n",
              "          + ' to learn more about interactive tables.';\n",
              "        element.innerHTML = '';\n",
              "        dataTable['output_type'] = 'display_data';\n",
              "        await google.colab.output.renderOutput(dataTable, element);\n",
              "        const docLink = document.createElement('div');\n",
              "        docLink.innerHTML = docLinkHtml;\n",
              "        element.appendChild(docLink);\n",
              "      }\n",
              "    </script>\n",
              "  </div>\n",
              "\n",
              "\n",
              "<div id=\"df-206e15bd-802c-40ad-82fa-ede429b8cada\">\n",
              "  <button class=\"colab-df-quickchart\" onclick=\"quickchart('df-206e15bd-802c-40ad-82fa-ede429b8cada')\"\n",
              "            title=\"Suggest charts\"\n",
              "            style=\"display:none;\">\n",
              "\n",
              "<svg xmlns=\"http://www.w3.org/2000/svg\" height=\"24px\"viewBox=\"0 0 24 24\"\n",
              "     width=\"24px\">\n",
              "    <g>\n",
              "        <path d=\"M19 3H5c-1.1 0-2 .9-2 2v14c0 1.1.9 2 2 2h14c1.1 0 2-.9 2-2V5c0-1.1-.9-2-2-2zM9 17H7v-7h2v7zm4 0h-2V7h2v10zm4 0h-2v-4h2v4z\"/>\n",
              "    </g>\n",
              "</svg>\n",
              "  </button>\n",
              "\n",
              "<style>\n",
              "  .colab-df-quickchart {\n",
              "      --bg-color: #E8F0FE;\n",
              "      --fill-color: #1967D2;\n",
              "      --hover-bg-color: #E2EBFA;\n",
              "      --hover-fill-color: #174EA6;\n",
              "      --disabled-fill-color: #AAA;\n",
              "      --disabled-bg-color: #DDD;\n",
              "  }\n",
              "\n",
              "  [theme=dark] .colab-df-quickchart {\n",
              "      --bg-color: #3B4455;\n",
              "      --fill-color: #D2E3FC;\n",
              "      --hover-bg-color: #434B5C;\n",
              "      --hover-fill-color: #FFFFFF;\n",
              "      --disabled-bg-color: #3B4455;\n",
              "      --disabled-fill-color: #666;\n",
              "  }\n",
              "\n",
              "  .colab-df-quickchart {\n",
              "    background-color: var(--bg-color);\n",
              "    border: none;\n",
              "    border-radius: 50%;\n",
              "    cursor: pointer;\n",
              "    display: none;\n",
              "    fill: var(--fill-color);\n",
              "    height: 32px;\n",
              "    padding: 0;\n",
              "    width: 32px;\n",
              "  }\n",
              "\n",
              "  .colab-df-quickchart:hover {\n",
              "    background-color: var(--hover-bg-color);\n",
              "    box-shadow: 0 1px 2px rgba(60, 64, 67, 0.3), 0 1px 3px 1px rgba(60, 64, 67, 0.15);\n",
              "    fill: var(--button-hover-fill-color);\n",
              "  }\n",
              "\n",
              "  .colab-df-quickchart-complete:disabled,\n",
              "  .colab-df-quickchart-complete:disabled:hover {\n",
              "    background-color: var(--disabled-bg-color);\n",
              "    fill: var(--disabled-fill-color);\n",
              "    box-shadow: none;\n",
              "  }\n",
              "\n",
              "  .colab-df-spinner {\n",
              "    border: 2px solid var(--fill-color);\n",
              "    border-color: transparent;\n",
              "    border-bottom-color: var(--fill-color);\n",
              "    animation:\n",
              "      spin 1s steps(1) infinite;\n",
              "  }\n",
              "\n",
              "  @keyframes spin {\n",
              "    0% {\n",
              "      border-color: transparent;\n",
              "      border-bottom-color: var(--fill-color);\n",
              "      border-left-color: var(--fill-color);\n",
              "    }\n",
              "    20% {\n",
              "      border-color: transparent;\n",
              "      border-left-color: var(--fill-color);\n",
              "      border-top-color: var(--fill-color);\n",
              "    }\n",
              "    30% {\n",
              "      border-color: transparent;\n",
              "      border-left-color: var(--fill-color);\n",
              "      border-top-color: var(--fill-color);\n",
              "      border-right-color: var(--fill-color);\n",
              "    }\n",
              "    40% {\n",
              "      border-color: transparent;\n",
              "      border-right-color: var(--fill-color);\n",
              "      border-top-color: var(--fill-color);\n",
              "    }\n",
              "    60% {\n",
              "      border-color: transparent;\n",
              "      border-right-color: var(--fill-color);\n",
              "    }\n",
              "    80% {\n",
              "      border-color: transparent;\n",
              "      border-right-color: var(--fill-color);\n",
              "      border-bottom-color: var(--fill-color);\n",
              "    }\n",
              "    90% {\n",
              "      border-color: transparent;\n",
              "      border-bottom-color: var(--fill-color);\n",
              "    }\n",
              "  }\n",
              "</style>\n",
              "\n",
              "  <script>\n",
              "    async function quickchart(key) {\n",
              "      const quickchartButtonEl =\n",
              "        document.querySelector('#' + key + ' button');\n",
              "      quickchartButtonEl.disabled = true;  // To prevent multiple clicks.\n",
              "      quickchartButtonEl.classList.add('colab-df-spinner');\n",
              "      try {\n",
              "        const charts = await google.colab.kernel.invokeFunction(\n",
              "            'suggestCharts', [key], {});\n",
              "      } catch (error) {\n",
              "        console.error('Error during call to suggestCharts:', error);\n",
              "      }\n",
              "      quickchartButtonEl.classList.remove('colab-df-spinner');\n",
              "      quickchartButtonEl.classList.add('colab-df-quickchart-complete');\n",
              "    }\n",
              "    (() => {\n",
              "      let quickchartButtonEl =\n",
              "        document.querySelector('#df-206e15bd-802c-40ad-82fa-ede429b8cada button');\n",
              "      quickchartButtonEl.style.display =\n",
              "        google.colab.kernel.accessAllowed ? 'block' : 'none';\n",
              "    })();\n",
              "  </script>\n",
              "</div>\n",
              "\n",
              "    </div>\n",
              "  </div>\n"
            ],
            "application/vnd.google.colaboratory.intrinsic+json": {
              "type": "dataframe",
              "variable_name": "df",
              "summary": "{\n  \"name\": \"df\",\n  \"rows\": 574,\n  \"fields\": [\n    {\n      \"column\": \"Unnamed: 0\",\n      \"properties\": {\n        \"dtype\": \"number\",\n        \"std\": 165,\n        \"min\": 0,\n        \"max\": 573,\n        \"num_unique_values\": 574,\n        \"samples\": [\n          514,\n          70,\n          131\n        ],\n        \"semantic_type\": \"\",\n        \"description\": \"\"\n      }\n    },\n    {\n      \"column\": \"Text ID\",\n      \"properties\": {\n        \"dtype\": \"string\",\n        \"num_unique_values\": 574,\n        \"samples\": [\n          \"ms-val-514\",\n          \"ms-val-70\",\n          \"ms-val-131\"\n        ],\n        \"semantic_type\": \"\",\n        \"description\": \"\"\n      }\n    },\n    {\n      \"column\": \"Text\",\n      \"properties\": {\n        \"dtype\": \"string\",\n        \"num_unique_values\": 574,\n        \"samples\": [\n          \"A 27-year-old woman is brought to the emergency department by her coworker after having a generalized seizure at work. Her coworker reports that she is at 30 weeks' gestation and has mentioned headache and right upper quadrant pain earlier that day. Her temperature is 37 C (98.6 F), pulse is 91/min, and blood pressure is 170/102 mm Hg. Pulmonary examination shows bilateral rales. There is diffuse edema in the lower extremities. Deep tendon reflexes are increased bilaterally. Lorazepam is prescribed. She is not oriented to person, place, and time. \",\n          \"A 23-year-old man is brought to the emergency department by his mother because of a change in his personality. The mother reports that over the past 7 months her son has become increasingly withdrawn; he has not answered any phone calls or visited his family and friends. He had always been a quiet boy, who needed some time on his own, but he used to meet with friends at least once a week. The patient says that he cannot leave the house because aliens are watching him and \\u00e2\\u20ac\\u0153stealing his thoughts\\u00e2\\u20ac\\u009d. He does not drink alcohol. He used to smoke marijuana occasionally but quit 1 year ago. His vital signs are within normal limits. Physical examination shows no abnormalities. On mental status examination, it is impossible to follow the patient's sequence of thoughts. He is anxious and has a flat affect. The patient is diagnosed with schizophreniform disorder.\",\n          \"Five days after undergoing an open abdominal aortic aneurysm repair, a 68-year-old woman has crampy abdominal pain. During this period, she has also had two episodes of loose, bloody stools. Her surgery was complicated by severe blood loss requiring the administration of vasopressors and multiple transfusions. Cefazolin was administered as a perioperative antibiotic. The patient has hypertension, hypercholesterolemia, and coronary artery disease. The patient has smoked 2 packs of cigarettes daily for 50 years and drinks 3\\u00e2\\u20ac\\u201c4 glasses of wine every week. Her current medications include hydrochlorothiazide, atorvastatin, amlodipine, aspirin, and metoprolol. She appears ill. Her temperature is 38.0 C (100.4 F), pulse is 110/min, and blood pressure is 96/58 mm Hg. Physical examination shows a distended abdomen with absent bowel sounds. The abdomen is exquisitely tender to palpation in all quadrants. The lungs are clear to auscultation. Cardiac examination shows an S4 gallop. An x-ray of the abdomen shows air-filled distended bowel. Patient was diagnosed with ischemic colitis. \"\n        ],\n        \"semantic_type\": \"\",\n        \"description\": \"\"\n      }\n    },\n    {\n      \"column\": \"Sentences\",\n      \"properties\": {\n        \"dtype\": \"string\",\n        \"num_unique_values\": 574,\n        \"samples\": [\n          \"0 A 27-year-old woman is brought to the emergency department by her coworker after having a generalized seizure at work.\\n1 Her coworker reports that she is at 30 weeks' gestation and has mentioned headache and right upper quadrant pain earlier that day.\\n2 Her temperature is 37 C (98.6 F), pulse is 91/min, and blood pressure is 170/102 mm\\n3 Hg.\\n4 Pulmonary examination shows bilateral rales.\\n5 There is diffuse edema in the lower extremities.\\n6 Deep tendon reflexes are increased bilaterally.\\n7 Lorazepam is prescribed.\\n8 She is not oriented to person, place, and time.\\n\",\n          \"0 A 23-year-old man is brought to the emergency department by his mother because of a change in his personality.\\n1 The mother reports that over the past 7 months her son has become increasingly withdrawn; he has not answered any phone calls or visited his family and friends.\\n2 He had always been a quiet boy, who needed some time on his own, but he used to meet with friends at least once a week.\\n3 The patient says that he cannot leave the house because aliens are watching him and \\u00e2\\u20ac\\u0153stealing his thoughts\\u00e2\\u20ac\\u009d.\\n4 He does not drink alcohol.\\n5 He used to smoke marijuana occasionally but quit 1 year ago.\\n6 His vital signs are within normal limits.\\n7 Physical examination shows no abnormalities.\\n8 On mental status examination, it is impossible to follow the patient's sequence of thoughts.\\n9 He is anxious and has a flat affect.\\n10 The patient is diagnosed with schizophreniform disorder.\\n\",\n          \"0 Five days after undergoing an open abdominal aortic aneurysm repair, a 68-year-old woman has crampy abdominal pain.\\n1 During this period, she has also had two episodes of loose, bloody stools.\\n2 Her surgery was complicated by severe blood loss requiring the administration of vasopressors and multiple transfusions.\\n3 Cefazolin was administered as a perioperative antibiotic.\\n4 The patient has hypertension, hypercholesterolemia, and coronary artery disease.\\n5 The patient has smoked 2 packs of cigarettes daily for 50 years and drinks 3\\u00e2\\u20ac\\u201c4 glasses of wine every week.\\n6 Her current medications include hydrochlorothiazide, atorvastatin, amlodipine, aspirin, and metoprolol.\\n7 She appears ill.\\n8 Her temperature is 38.0 C (100.4 F), pulse is 110/min, and blood pressure is 96/58 mm\\n9 Hg.\\n10 Based on exam and imaging findings, the patient was diagnosed with abdominal compartment syndrome. .\\n11 Physical examination showed a distended abdomen with absent bowel sounds.\\n12 The abdomen was exquisitely tender to palpation in all quadrants.\\n13 The lungs were clear to auscultation.\\n14 Cardiac examination showed an S4 gallop.\\n15 An x-ray of the abdomen showed air-filled distended bowel.\\n0 Five days after undergoing an open abdominal aortic aneurysm repair, a 68-year-old woman has crampy abdominal pain.\\n1 During this period, she has also had two episodes of loose, bloody stools.\\n2 Her surgery was complicated by severe blood loss requiring the administration of vasopressors and multiple transfusions.\\n3 Cefazolin was administered as a perioperative antibiotic.\\n4 The patient has hypertension, hypercholesterolemia, and coronary artery disease.\\n5 The patient has smoked 2 packs of cigarettes daily for 50 years and drinks 3\\u00e2\\u20ac\\u201c4 glasses of wine every week.\\n6 Her current medications include hydrochlorothiazide, atorvastatin, amlodipine, aspirin, and metoprolol.\\n7 She appears ill.\\n8 Her temperature is 38.0 C (100.4 F), pulse is 110/min, and blood pressure is 96/58 mm\\n9 Hg.\\n10 Physical examination shows a distended abdomen with absent bowel sounds.\\n11 The abdomen is exquisitely tender to palpation in all quadrants.\\n12 The lungs are clear to auscultation.\\n13 Cardiac examination shows an S4 gallop.\\n14 An x-ray of the abdomen shows air-filled distended bowel.\\n15 Patient was diagnosed with ischemic colitis.\\n\"\n        ],\n        \"semantic_type\": \"\",\n        \"description\": \"\"\n      }\n    },\n    {\n      \"column\": \"Error Flag\",\n      \"properties\": {\n        \"dtype\": \"number\",\n        \"std\": 0,\n        \"min\": 0,\n        \"max\": 1,\n        \"num_unique_values\": 2,\n        \"samples\": [\n          0,\n          1\n        ],\n        \"semantic_type\": \"\",\n        \"description\": \"\"\n      }\n    },\n    {\n      \"column\": \"Error Sentence ID\",\n      \"properties\": {\n        \"dtype\": \"number\",\n        \"std\": 6,\n        \"min\": -1,\n        \"max\": 34,\n        \"num_unique_values\": 34,\n        \"samples\": [\n          16,\n          30\n        ],\n        \"semantic_type\": \"\",\n        \"description\": \"\"\n      }\n    },\n    {\n      \"column\": \"Error Sentence\",\n      \"properties\": {\n        \"dtype\": \"string\",\n        \"num_unique_values\": 319,\n        \"samples\": [\n          \"Suspected of protein malnutrition.\",\n          \"Prednisone is prescribed to the patient after an initial radiograph of the hip is unremarkable.\"\n        ],\n        \"semantic_type\": \"\",\n        \"description\": \"\"\n      }\n    },\n    {\n      \"column\": \"Corrected Sentence\",\n      \"properties\": {\n        \"dtype\": \"string\",\n        \"num_unique_values\": 319,\n        \"samples\": [\n          \"Suspected of cystic fibrosis.\",\n          \"Ibuprofen is started after an initial radiograph of the hip is unremarkable.\"\n        ],\n        \"semantic_type\": \"\",\n        \"description\": \"\"\n      }\n    },\n    {\n      \"column\": \"Corrected Text\",\n      \"properties\": {\n        \"dtype\": \"string\",\n        \"num_unique_values\": 319,\n        \"samples\": [\n          \"A 14-year-old boy is brought to the physician because of increasing swelling of his legs and generalized fatigue for 1 month. During this period he has also had a productive cough and shortness of breath. He has been unable to carry out his daily activities. He has a history of recurrent respiratory tract infections and chronic nasal congestion since childhood. He has a 3-month history of foul-smelling and greasy stools. He is at 4th percentile for height and weight. His temperature is 37 C (98.6 F), pulse is 112/min, respirations are 23/min, and blood pressure is 104/64 mm Hg. Examination shows clubbing of his fingers and scoliosis. There is 2+ pitting edema of the lower extremities. Jugular venous distention is present. Inspiratory crackles are heard in the thorax. Cardiac examination shows a loud S2. The abdomen is mildly distended and the liver is palpated 2 cm below the right costal margin. Hepato-jugular reflux is present. Suspected of cystic fibrosis.\",\n          \"A 7-year-old boy presents with right hip pain for the past 2 days. He reports gradual onset of pain and states it hurts to walk. He had a recent cold last week but is otherwise healthy. His temperature is 98.2 F (36.8 C), blood pressure is 107/70 mm Hg, pulse is 90/min, respiratory rate is 19/min, and oxygen saturation is 98% on room air. Physical exam reveals no swelling or warmth surrounding the joint. The patient is sitting with the right hip flexed, abducted, and externally rotated. Passive range of motion of the hip causes discomfort. The patient is able to ambulate but states it hurts. Ibuprofen is started after an initial radiograph of the hip is unremarkable. The patient's CRP is 0.10 mg/L.\"\n        ],\n        \"semantic_type\": \"\",\n        \"description\": \"\"\n      }\n    }\n  ]\n}"
            }
          },
          "metadata": {},
          "execution_count": 5
        }
      ],
      "source": [
        "df = pd.read_csv('MEDIQA-CORR-2024-MS-ValidationSet-1-Full.csv', delimiter=',', encoding='utf-8')\n",
        "# df= df.drop(['Error Sentence ID', 'Error Sentence', 'Corrected Sentence', 'Corrected Text'], axis=1)\n",
        "df.head()"
      ]
    },
    {
      "cell_type": "code",
      "execution_count": 6,
      "metadata": {
        "colab": {
          "base_uri": "https://localhost:8080/"
        },
        "id": "9ejTL1FSS7mZ",
        "outputId": "57815739-78c7-4cfb-d59d-872264ce49d1"
      },
      "outputs": [
        {
          "output_type": "execute_result",
          "data": {
            "text/plain": [
              "(Unnamed: 0     int64\n",
              " Text ID       object\n",
              " Text          object\n",
              " Sentences     object\n",
              " Error Flag     int64\n",
              " dtype: object,\n",
              " Index(['Unnamed: 0', 'Text ID', 'Text', 'Sentences', 'Error Flag'], dtype='object'),\n",
              "    Unnamed: 0   Text ID                                               Text  \\\n",
              " 0           0  ms-val-0  A 24-year-old woman comes to the emergency dep...   \n",
              " 1           1  ms-val-1  A 24-year-old woman comes to the emergency dep...   \n",
              " 2           2  ms-val-2  A 43-year-old woman comes to the physician bec...   \n",
              " 3           3  ms-val-3  A 4-year-old is brought into the emeregency ro...   \n",
              " 4           4  ms-val-4  A previously healthy 25-year-old man comes to ...   \n",
              " \n",
              "                                            Sentences  Error Flag  \\\n",
              " 0  0 A 24-year-old woman comes to the emergency d...           1   \n",
              " 1  0 A 24-year-old woman comes to the emergency d...           0   \n",
              " 2  0 A 43-year-old woman comes to the physician b...           1   \n",
              " 3  0 A 4-year-old is brought into the emeregency ...           1   \n",
              " 4  0 A previously healthy 25-year-old man comes t...           1   \n",
              " \n",
              "    Error Sentence ID                                     Error Sentence  \\\n",
              " 0                  5      Culture tests indicate Neisseria gonorrhoeae.   \n",
              " 1                 -1                                                NaN   \n",
              " 2                 24  Pathology confirms Streptococcus pneumoniae is...   \n",
              " 3                  4  Laboratory studies confirm that he has a respi...   \n",
              " 4                  0  A previously healthy 25-year-old man comes to ...   \n",
              " \n",
              "                                   Corrected Sentence  \\\n",
              " 0      Culture tests indicate Trichomonas vaginalis.   \n",
              " 1                                                NaN   \n",
              " 2  Pathology confirms Mycoplasma pneumoniae is th...   \n",
              " 3  Laboratory studies confirm that he has parainf...   \n",
              " 4  A previously healthy 25-year-old man comes to ...   \n",
              " \n",
              "                                       Corrected Text  \n",
              " 0  A 24-year-old woman comes to the emergency dep...  \n",
              " 1                                                NaN  \n",
              " 2  A 43-year-old woman comes to the physician bec...  \n",
              " 3  A 4-year-old is brought into the emeregency ro...  \n",
              " 4  A previously healthy 25-year-old man comes to ...  )"
            ]
          },
          "metadata": {},
          "execution_count": 6
        }
      ],
      "source": [
        "# Analizamos las primeras 5 columnas para obtener sus tipos de datos y otras características\n",
        "column_info = df.dtypes\n",
        "\n",
        "# Analizamos los nombres de las columnas para identificar las primeras 5\n",
        "column_names = df.columns[:5]\n",
        "\n",
        "# Extraemos ejemplos de datos de las primeras 5 columnas para entender mejor su contenido\n",
        "sample_data = df.head()\n",
        "\n",
        "column_info[:5], column_names, sample_data"
      ]
    },
    {
      "cell_type": "code",
      "execution_count": 7,
      "metadata": {
        "colab": {
          "base_uri": "https://localhost:8080/"
        },
        "id": "9lGkJCrtS7ma",
        "outputId": "0a94ddf2-445e-4953-8304-c1771938b50b"
      },
      "outputs": [
        {
          "output_type": "stream",
          "name": "stdout",
          "text": [
            "Número de datos faltantes en Unnamed: 0: 0\n",
            "Número de datos faltantes en Text ID: 0\n",
            "Número de datos faltantes en Text: 0\n",
            "Número de datos faltantes en Sentences: 0\n",
            "Número de datos faltantes en Error Flag: 0\n"
          ]
        }
      ],
      "source": [
        "# Revisar los valores nulos\n",
        "df.replace('', np.nan, inplace=True)\n",
        "\n",
        "# Lista de columnas a revisar\n",
        "columns_to_check = ['Unnamed: 0', 'Text ID', 'Text', 'Sentences', 'Error Flag']\n",
        "\n",
        "#  Iterar sobre cada columna y contar los valores nulos\n",
        "for column in columns_to_check:\n",
        "    # Contar los valores nulos en la columna\n",
        "    missing_count = df[column].isnull().sum()\n",
        "    print(f'Número de datos faltantes en {column}: {missing_count}')\n"
      ]
    },
    {
      "cell_type": "code",
      "execution_count": 8,
      "metadata": {
        "colab": {
          "base_uri": "https://localhost:8080/"
        },
        "id": "J4NOH30PS7mb",
        "outputId": "bb2496c4-576c-4b0b-e739-369a73c86726"
      },
      "outputs": [
        {
          "output_type": "execute_result",
          "data": {
            "text/plain": [
              "Text ID       1148\n",
              "Text          6573\n",
              "Sentences    19822\n",
              "dtype: int64"
            ]
          },
          "metadata": {},
          "execution_count": 8
        }
      ],
      "source": [
        "import re\n",
        "\n",
        "special_char_pattern = re.compile(r'[^a-zA-Z0-9 \\.,!?]')\n",
        "\n",
        "# Re-definir la lista de columnas a revisar para caracteres especiales\n",
        "columns_to_check = ['Text ID', 'Text', 'Sentences']\n",
        "\n",
        "# Contar los caracteres especiales en las columnas de texto seleccionadas\n",
        "special_characters_counts = df[columns_to_check].applymap(lambda x: len(special_char_pattern.findall(x)) if pd.notnull(x) else 0)\n",
        "\n",
        "# Calcular el total de caracteres especiales por columna\n",
        "total_special_characters_per_column = special_characters_counts.sum()\n",
        "\n",
        "total_special_characters_per_column\n"
      ]
    },
    {
      "cell_type": "code",
      "execution_count": 9,
      "metadata": {
        "colab": {
          "base_uri": "https://localhost:8080/"
        },
        "id": "MDPSiEeZS7mb",
        "outputId": "3d45f50a-b791-40ec-98ba-68d4ebd6082c"
      },
      "outputs": [
        {
          "output_type": "execute_result",
          "data": {
            "text/plain": [
              "Counter({'-': 1944,\n",
              "         \"'\": 154,\n",
              "         '/': 1473,\n",
              "         '(': 451,\n",
              "         ')': 451,\n",
              "         ':': 230,\n",
              "         '\\n': 864,\n",
              "         '+': 117,\n",
              "         ';': 93,\n",
              "         'â': 171,\n",
              "         '‰': 4,\n",
              "         '¥': 4,\n",
              "         'Î': 22,\n",
              "         '¼': 16,\n",
              "         '=': 18,\n",
              "         '€': 159,\n",
              "         '“': 67,\n",
              "         '%': 163,\n",
              "         '^': 15,\n",
              "         '>': 5,\n",
              "         'œ': 39,\n",
              "         '\\x9d': 39,\n",
              "         'Ë': 2,\n",
              "         'š': 2,\n",
              "         '<': 16,\n",
              "         '\"': 6,\n",
              "         '™': 14,\n",
              "         '±': 6,\n",
              "         'Ã': 6,\n",
              "         '©': 1,\n",
              "         'ˆ': 8,\n",
              "         '’': 8,\n",
              "         'Ÿ': 5})"
            ]
          },
          "metadata": {},
          "execution_count": 9
        }
      ],
      "source": [
        "from collections import Counter\n",
        "\n",
        "# Extraer todos los caracteres especiales encontrados en la columna 'Text'\n",
        "all_special_characters_text_id = ''.join(df['Text'].apply(lambda x: ''.join(special_char_pattern.findall(x))))\n",
        "\n",
        "# Contar la frecuencia de cada caracter especial\n",
        "special_character_frequencies_text_id = Counter(all_special_characters_text_id)\n",
        "\n",
        "special_character_frequencies_text_id\n"
      ]
    },
    {
      "cell_type": "code",
      "execution_count": 10,
      "metadata": {
        "colab": {
          "base_uri": "https://localhost:8080/"
        },
        "id": "6loW0WpyS7mb",
        "outputId": "b1aa4a8e-6374-48ae-c913-67b5fea8e90a"
      },
      "outputs": [
        {
          "output_type": "execute_result",
          "data": {
            "text/plain": [
              "([('-', 1944),\n",
              "  ('/', 1473),\n",
              "  ('\\n', 864),\n",
              "  ('(', 451),\n",
              "  (')', 451),\n",
              "  (':', 230),\n",
              "  ('â', 171),\n",
              "  ('%', 163),\n",
              "  ('€', 159),\n",
              "  (\"'\", 154)],\n",
              " [('\\n', 11589),\n",
              "  ('-', 2822),\n",
              "  ('/', 2125),\n",
              "  ('(', 654),\n",
              "  (')', 654),\n",
              "  (':', 321),\n",
              "  ('â', 245),\n",
              "  ('%', 231),\n",
              "  ('€', 227),\n",
              "  (\"'\", 218)])"
            ]
          },
          "metadata": {},
          "execution_count": 10
        }
      ],
      "source": [
        "# Inspeccionar los caracteres especiales más frecuentes en 'Text' y 'Sentences'\n",
        "def extract_special_characters(text):\n",
        "    return special_char_pattern.findall(text)\n",
        "\n",
        "# Aplicar la extracción a las columnas 'Text' y 'Sentences'\n",
        "special_characters_text = ''.join(df['Text'].apply(lambda x: ''.join(extract_special_characters(x))))\n",
        "special_characters_sentences = ''.join(df['Sentences'].apply(lambda x: ''.join(extract_special_characters(x))))\n",
        "\n",
        "# Contar la frecuencia de cada caracter especial\n",
        "special_character_frequencies_text = Counter(special_characters_text)\n",
        "special_character_frequencies_sentences = Counter(special_characters_sentences)\n",
        "\n",
        "# Identificar los 10 caracteres especiales más comunes en cada columna\n",
        "top_10_special_characters_text = special_character_frequencies_text.most_common(10)\n",
        "top_10_special_characters_sentences = special_character_frequencies_sentences.most_common(10)\n",
        "\n",
        "top_10_special_characters_text, top_10_special_characters_sentences"
      ]
    },
    {
      "cell_type": "code",
      "execution_count": 11,
      "metadata": {
        "colab": {
          "base_uri": "https://localhost:8080/"
        },
        "id": "yLXJl5jpS7mc",
        "outputId": "ca360bd6-0090-4fa7-ece8-44ad54fba848"
      },
      "outputs": [
        {
          "output_type": "execute_result",
          "data": {
            "text/plain": [
              "{'/': [\"A 24-year-old woman comes to the emergency department because of a 4-hour history of headaches, nausea, and vomiting. During this time, she has also had recurrent dizziness and palpitations. The symptoms started while she was at a friend's birthday party, where she had one beer. One week ago, the patient was diagnosed with a genitourinary infection and started on antimicrobial therapy. She has no history of major medical illness. Culture tests indicate Neisseria gonorrhoeae. Her pulse is 106/min and blood pressure is 102/73 mm Hg. Physical examination shows facial flushing and profuse sweating. \",\n",
              "  \"A 24-year-old woman comes to the emergency department because of a 4-hour history of headaches, nausea, and vomiting. During this time, she has also had recurrent dizziness and palpitations. The symptoms started while she was at a friend's birthday party, where she had one beer. One week ago, the patient was diagnosed with a genitourinary infection and started on antimicrobial therapy. She has no history of major medical illness. Her pulse is 106/min and blood pressure is 102/73 mm Hg. Physical examination shows facial flushing and profuse sweating. Culture tests indicate Trichomonas vaginalis. \"],\n",
              " '.': [\"A 24-year-old woman comes to the emergency department because of a 4-hour history of headaches, nausea, and vomiting. During this time, she has also had recurrent dizziness and palpitations. The symptoms started while she was at a friend's birthday party, where she had one beer. One week ago, the patient was diagnosed with a genitourinary infection and started on antimicrobial therapy. She has no history of major medical illness. Culture tests indicate Neisseria gonorrhoeae. Her pulse is 106/min and blood pressure is 102/73 mm Hg. Physical examination shows facial flushing and profuse sweating. \",\n",
              "  \"A 24-year-old woman comes to the emergency department because of a 4-hour history of headaches, nausea, and vomiting. During this time, she has also had recurrent dizziness and palpitations. The symptoms started while she was at a friend's birthday party, where she had one beer. One week ago, the patient was diagnosed with a genitourinary infection and started on antimicrobial therapy. She has no history of major medical illness. Her pulse is 106/min and blood pressure is 102/73 mm Hg. Physical examination shows facial flushing and profuse sweating. Culture tests indicate Trichomonas vaginalis. \"],\n",
              " ',': [\"A 24-year-old woman comes to the emergency department because of a 4-hour history of headaches, nausea, and vomiting. During this time, she has also had recurrent dizziness and palpitations. The symptoms started while she was at a friend's birthday party, where she had one beer. One week ago, the patient was diagnosed with a genitourinary infection and started on antimicrobial therapy. She has no history of major medical illness. Culture tests indicate Neisseria gonorrhoeae. Her pulse is 106/min and blood pressure is 102/73 mm Hg. Physical examination shows facial flushing and profuse sweating. \",\n",
              "  \"A 24-year-old woman comes to the emergency department because of a 4-hour history of headaches, nausea, and vomiting. During this time, she has also had recurrent dizziness and palpitations. The symptoms started while she was at a friend's birthday party, where she had one beer. One week ago, the patient was diagnosed with a genitourinary infection and started on antimicrobial therapy. She has no history of major medical illness. Her pulse is 106/min and blood pressure is 102/73 mm Hg. Physical examination shows facial flushing and profuse sweating. Culture tests indicate Trichomonas vaginalis. \"],\n",
              " '-': [\"A 24-year-old woman comes to the emergency department because of a 4-hour history of headaches, nausea, and vomiting. During this time, she has also had recurrent dizziness and palpitations. The symptoms started while she was at a friend's birthday party, where she had one beer. One week ago, the patient was diagnosed with a genitourinary infection and started on antimicrobial therapy. She has no history of major medical illness. Culture tests indicate Neisseria gonorrhoeae. Her pulse is 106/min and blood pressure is 102/73 mm Hg. Physical examination shows facial flushing and profuse sweating. \",\n",
              "  \"A 24-year-old woman comes to the emergency department because of a 4-hour history of headaches, nausea, and vomiting. During this time, she has also had recurrent dizziness and palpitations. The symptoms started while she was at a friend's birthday party, where she had one beer. One week ago, the patient was diagnosed with a genitourinary infection and started on antimicrobial therapy. She has no history of major medical illness. Her pulse is 106/min and blood pressure is 102/73 mm Hg. Physical examination shows facial flushing and profuse sweating. Culture tests indicate Trichomonas vaginalis. \"],\n",
              " \"'\": [\"A 24-year-old woman comes to the emergency department because of a 4-hour history of headaches, nausea, and vomiting. During this time, she has also had recurrent dizziness and palpitations. The symptoms started while she was at a friend's birthday party, where she had one beer. One week ago, the patient was diagnosed with a genitourinary infection and started on antimicrobial therapy. She has no history of major medical illness. Culture tests indicate Neisseria gonorrhoeae. Her pulse is 106/min and blood pressure is 102/73 mm Hg. Physical examination shows facial flushing and profuse sweating. \",\n",
              "  \"A 24-year-old woman comes to the emergency department because of a 4-hour history of headaches, nausea, and vomiting. During this time, she has also had recurrent dizziness and palpitations. The symptoms started while she was at a friend's birthday party, where she had one beer. One week ago, the patient was diagnosed with a genitourinary infection and started on antimicrobial therapy. She has no history of major medical illness. Her pulse is 106/min and blood pressure is 102/73 mm Hg. Physical examination shows facial flushing and profuse sweating. Culture tests indicate Trichomonas vaginalis. \"],\n",
              " ':': ['A 43-year-old woman comes to the physician because of a fever, nausea, and a nonproductive cough for 7 days. During this period, she has had headaches, generalized fatigue, and muscle and joint pain. She has also had increasing shortness of breath for 2 days. She has type 2 diabetes mellitus and osteoarthritis of her left knee. Current medications include insulin and ibuprofen. She had smoked two packs of cigarettes daily for 20 years but stopped 10 years ago. Her temperature is 38.1 C (100.6 F), pulse is 94/min, respirations are 18/min, and blood pressure is 132/86 mm Hg. The lungs are clear to auscultation. There are multiple skin lesions with a blue livid center, pale intermediate zone, and a dark red peripheral rim on the upper and lower extremities. Laboratory studies show:\\nHemoglobin 14.6 g/dL\\nLeukocyte count 11,100/mm3\\nSerum\\nNa+ 137 mEq/L\\nK+ 4.1 mEq/L\\nCl- 99 mEq/L\\nUrea nitrogen 17 mg/dL\\nGlucose 123 mg/dL\\nCreatinine 0.9 mg/dL\\nAn x-ray of the chest is shown. Pathology confirms Streptococcus pneumoniae is the causal organism. ',\n",
              "  \"A 25-year-old primigravid woman at 34-weeks' gestation comes to the physician because of an 8-day history of generalized pruritus. She has no history of rash. She has had standard prenatal care. Three weeks ago she was diagnosed with iron deficiency anemia. She traveled to Mexico for a vacation 3 months ago. She takes her multivitamin supplements inconsistently. Her blood pressure is 110/80 mm Hg. Examination shows pallor and mild scleral icterus. The uterus is soft, nontender, and consistent in size with a 34-week gestation. The remainder of the examination shows no abnormalities. Laboratory studies show:\\nHemoglobin 11 g/dL\\nLeukocyte count 8,000/mm3\\nPlatelet 250,000/mm3\\nProthrombin time 11 seconds\\nSerum\\nTotal bilirubin 4 mg/dL\\nDirect bilirubin 3.2 mg/dL\\nBile acid 15 Î¼mol/L (N = 0.3â€“10)\\nAST 45 U/L\\nALT 50 U/L\\nA peripheral blood smear is normal. There are no abnormalities on abdominopelvic ultrasonography. Patient was diagnosed with HELLP syndrome. \"],\n",
              " ')': ['A 43-year-old woman comes to the physician because of a fever, nausea, and a nonproductive cough for 7 days. During this period, she has had headaches, generalized fatigue, and muscle and joint pain. She has also had increasing shortness of breath for 2 days. She has type 2 diabetes mellitus and osteoarthritis of her left knee. Current medications include insulin and ibuprofen. She had smoked two packs of cigarettes daily for 20 years but stopped 10 years ago. Her temperature is 38.1 C (100.6 F), pulse is 94/min, respirations are 18/min, and blood pressure is 132/86 mm Hg. The lungs are clear to auscultation. There are multiple skin lesions with a blue livid center, pale intermediate zone, and a dark red peripheral rim on the upper and lower extremities. Laboratory studies show:\\nHemoglobin 14.6 g/dL\\nLeukocyte count 11,100/mm3\\nSerum\\nNa+ 137 mEq/L\\nK+ 4.1 mEq/L\\nCl- 99 mEq/L\\nUrea nitrogen 17 mg/dL\\nGlucose 123 mg/dL\\nCreatinine 0.9 mg/dL\\nAn x-ray of the chest is shown. Pathology confirms Streptococcus pneumoniae is the causal organism. ',\n",
              "  'A previously healthy 25-year-old man comes to the physician with a suspected Bartonella henselae infection because of a 1-week history of fever and fluid release from painful lumps in his right groin. He had an atraumatic ulceration of his penis about 1 month ago that was not painful and resolved on its own within 1 week. He works at an animal shelter for abandoned pets. He is sexually active with multiple male partners and does not use condoms. His temperature is 38.5 C (101.3 F). Examination of the groin shows numerous tender nodules with purulent discharge. The remainder of the examination shows no abnormalities.'],\n",
              " '(': ['A 43-year-old woman comes to the physician because of a fever, nausea, and a nonproductive cough for 7 days. During this period, she has had headaches, generalized fatigue, and muscle and joint pain. She has also had increasing shortness of breath for 2 days. She has type 2 diabetes mellitus and osteoarthritis of her left knee. Current medications include insulin and ibuprofen. She had smoked two packs of cigarettes daily for 20 years but stopped 10 years ago. Her temperature is 38.1 C (100.6 F), pulse is 94/min, respirations are 18/min, and blood pressure is 132/86 mm Hg. The lungs are clear to auscultation. There are multiple skin lesions with a blue livid center, pale intermediate zone, and a dark red peripheral rim on the upper and lower extremities. Laboratory studies show:\\nHemoglobin 14.6 g/dL\\nLeukocyte count 11,100/mm3\\nSerum\\nNa+ 137 mEq/L\\nK+ 4.1 mEq/L\\nCl- 99 mEq/L\\nUrea nitrogen 17 mg/dL\\nGlucose 123 mg/dL\\nCreatinine 0.9 mg/dL\\nAn x-ray of the chest is shown. Pathology confirms Streptococcus pneumoniae is the causal organism. ',\n",
              "  'A previously healthy 25-year-old man comes to the physician with a suspected Bartonella henselae infection because of a 1-week history of fever and fluid release from painful lumps in his right groin. He had an atraumatic ulceration of his penis about 1 month ago that was not painful and resolved on its own within 1 week. He works at an animal shelter for abandoned pets. He is sexually active with multiple male partners and does not use condoms. His temperature is 38.5 C (101.3 F). Examination of the groin shows numerous tender nodules with purulent discharge. The remainder of the examination shows no abnormalities.'],\n",
              " '+': ['A 43-year-old woman comes to the physician because of a fever, nausea, and a nonproductive cough for 7 days. During this period, she has had headaches, generalized fatigue, and muscle and joint pain. She has also had increasing shortness of breath for 2 days. She has type 2 diabetes mellitus and osteoarthritis of her left knee. Current medications include insulin and ibuprofen. She had smoked two packs of cigarettes daily for 20 years but stopped 10 years ago. Her temperature is 38.1 C (100.6 F), pulse is 94/min, respirations are 18/min, and blood pressure is 132/86 mm Hg. The lungs are clear to auscultation. There are multiple skin lesions with a blue livid center, pale intermediate zone, and a dark red peripheral rim on the upper and lower extremities. Laboratory studies show:\\nHemoglobin 14.6 g/dL\\nLeukocyte count 11,100/mm3\\nSerum\\nNa+ 137 mEq/L\\nK+ 4.1 mEq/L\\nCl- 99 mEq/L\\nUrea nitrogen 17 mg/dL\\nGlucose 123 mg/dL\\nCreatinine 0.9 mg/dL\\nAn x-ray of the chest is shown. Pathology confirms Streptococcus pneumoniae is the causal organism. ',\n",
              "  \"A 45-year-old man with HIV comes to the physician because of multiple lesions on his lower extremity. The lesions are increasing in size and are not painful or pruritic. He does not have lymphadenopathy. He works at a garden center. He lives in Mississippi. Medications include abacavir, dolutegravir, and lamivudine. His temperature is 37.7 C (98.8 F), pulse is 75/min, and blood pressure is 125/80 mm Hg. Examination shows multiple lesions on both heels; some are elevated. There are two similar lesions on the chest. An image of the patient's right heel is shown. After reviewing labs and biopsy results, Sporothrix schenckii was determined to be the causal organism. His CD4+ T-lymphocyte count was 450/mm3 (normal â‰¥ 500/mm3). A skin biopsy showed multiple spindle-shaped cells and leukocyte infiltration. \"],\n",
              " ';': ['A 59-year-old man comes to the emergency department because of excruciating left knee pain for 4 days. He underwent a total knee arthroplasty of his left knee joint 4 months ago. He has hypertension and osteoarthritis. Current medications include glucosamine, amlodipine, and meloxicam. His temperature is 38.1 C (100.6 F), pulse is 97/min, and blood pressure is 118/71 mm Hg. Examination shows a tender, swollen left knee joint; range of motion is limited by pain. Analysis of the synovial fluid confirms septic arthritis, and the prosthesis is removed. The causal organism is Staphylococcus aureus.',\n",
              "  'A 59-year-old man comes to the emergency department because of excruciating left knee pain for 4 days. He underwent a total knee arthroplasty of his left knee joint 4 months ago. He has hypertension and osteoarthritis. Current medications include glucosamine, amlodipine, and meloxicam. His temperature is 38.1 C (100.6 F), pulse is 97/min, and blood pressure is 118/71 mm Hg. Examination shows a tender, swollen left knee joint; range of motion is limited by pain. Analysis of the synovial fluid confirmed septic arthritis and presence of Staphylococcus epidermidis, and the prosthesis was removed.'],\n",
              " '¥': [\"A 45-year-old man with HIV comes to the physician because of multiple lesions on his lower extremity. The lesions are increasing in size and are not painful or pruritic. He does not have lymphadenopathy. He works at a garden center. He lives in Mississippi. Medications include abacavir, dolutegravir, and lamivudine. His temperature is 37.7 C (98.8 F), pulse is 75/min, and blood pressure is 125/80 mm Hg. Examination shows multiple lesions on both heels; some are elevated. There are two similar lesions on the chest. An image of the patient's right heel is shown. After reviewing labs and biopsy results, Sporothrix schenckii was determined to be the causal organism. His CD4+ T-lymphocyte count was 450/mm3 (normal â‰¥ 500/mm3). A skin biopsy showed multiple spindle-shaped cells and leukocyte infiltration. \",\n",
              "  \"A 45-year-old man with HIV comes to the physician because of multiple lesions on his lower extremity. The lesions are increasing in size and are not painful or pruritic. He does not have lymphadenopathy. He works at a garden center. He lives in Mississippi. Medications include abacavir, dolutegravir, and lamivudine. His temperature is 37.7 C (98.8 F), pulse is 75/min, and blood pressure is 125/80 mm Hg. Examination shows multiple lesions on both heels; some are elevated. There are two similar lesions on the chest. An image of the patient's right heel is shown. His CD4+ T-lymphocyte count is 450/mm3 (normal â‰¥ 500/mm3). A skin biopsy shows multiple spindle-shaped cells and leukocyte infiltration. Human herpesvirus 8 was determined to be the causal organism. \"],\n",
              " 'â': [\"A 45-year-old man with HIV comes to the physician because of multiple lesions on his lower extremity. The lesions are increasing in size and are not painful or pruritic. He does not have lymphadenopathy. He works at a garden center. He lives in Mississippi. Medications include abacavir, dolutegravir, and lamivudine. His temperature is 37.7 C (98.8 F), pulse is 75/min, and blood pressure is 125/80 mm Hg. Examination shows multiple lesions on both heels; some are elevated. There are two similar lesions on the chest. An image of the patient's right heel is shown. After reviewing labs and biopsy results, Sporothrix schenckii was determined to be the causal organism. His CD4+ T-lymphocyte count was 450/mm3 (normal â‰¥ 500/mm3). A skin biopsy showed multiple spindle-shaped cells and leukocyte infiltration. \",\n",
              "  \"A 45-year-old man with HIV comes to the physician because of multiple lesions on his lower extremity. The lesions are increasing in size and are not painful or pruritic. He does not have lymphadenopathy. He works at a garden center. He lives in Mississippi. Medications include abacavir, dolutegravir, and lamivudine. His temperature is 37.7 C (98.8 F), pulse is 75/min, and blood pressure is 125/80 mm Hg. Examination shows multiple lesions on both heels; some are elevated. There are two similar lesions on the chest. An image of the patient's right heel is shown. His CD4+ T-lymphocyte count is 450/mm3 (normal â‰¥ 500/mm3). A skin biopsy shows multiple spindle-shaped cells and leukocyte infiltration. Human herpesvirus 8 was determined to be the causal organism. \"],\n",
              " '‰': [\"A 45-year-old man with HIV comes to the physician because of multiple lesions on his lower extremity. The lesions are increasing in size and are not painful or pruritic. He does not have lymphadenopathy. He works at a garden center. He lives in Mississippi. Medications include abacavir, dolutegravir, and lamivudine. His temperature is 37.7 C (98.8 F), pulse is 75/min, and blood pressure is 125/80 mm Hg. Examination shows multiple lesions on both heels; some are elevated. There are two similar lesions on the chest. An image of the patient's right heel is shown. After reviewing labs and biopsy results, Sporothrix schenckii was determined to be the causal organism. His CD4+ T-lymphocyte count was 450/mm3 (normal â‰¥ 500/mm3). A skin biopsy showed multiple spindle-shaped cells and leukocyte infiltration. \",\n",
              "  \"A 45-year-old man with HIV comes to the physician because of multiple lesions on his lower extremity. The lesions are increasing in size and are not painful or pruritic. He does not have lymphadenopathy. He works at a garden center. He lives in Mississippi. Medications include abacavir, dolutegravir, and lamivudine. His temperature is 37.7 C (98.8 F), pulse is 75/min, and blood pressure is 125/80 mm Hg. Examination shows multiple lesions on both heels; some are elevated. There are two similar lesions on the chest. An image of the patient's right heel is shown. His CD4+ T-lymphocyte count is 450/mm3 (normal â‰¥ 500/mm3). A skin biopsy shows multiple spindle-shaped cells and leukocyte infiltration. Human herpesvirus 8 was determined to be the causal organism. \"],\n",
              " '€': [\"A 25-year-old primigravid woman at 34-weeks' gestation comes to the physician because of an 8-day history of generalized pruritus. She has no history of rash. She has had standard prenatal care. Three weeks ago she was diagnosed with iron deficiency anemia. She traveled to Mexico for a vacation 3 months ago. She takes her multivitamin supplements inconsistently. Her blood pressure is 110/80 mm Hg. Examination shows pallor and mild scleral icterus. The uterus is soft, nontender, and consistent in size with a 34-week gestation. The remainder of the examination shows no abnormalities. Laboratory studies show:\\nHemoglobin 11 g/dL\\nLeukocyte count 8,000/mm3\\nPlatelet 250,000/mm3\\nProthrombin time 11 seconds\\nSerum\\nTotal bilirubin 4 mg/dL\\nDirect bilirubin 3.2 mg/dL\\nBile acid 15 Î¼mol/L (N = 0.3â€“10)\\nAST 45 U/L\\nALT 50 U/L\\nA peripheral blood smear is normal. There are no abnormalities on abdominopelvic ultrasonography. Patient was diagnosed with HELLP syndrome. \",\n",
              "  \"A 25-year-old primigravid woman at 34-weeks' gestation comes to the physician because of an 8-day history of generalized pruritus. She has no history of rash. She has had standard prenatal care. Three weeks ago she was diagnosed with iron deficiency anemia. She traveled to Mexico for a vacation 3 months ago. She takes her multivitamin supplements inconsistently. Her blood pressure is 110/80 mm Hg. Examination shows pallor and mild scleral icterus. The uterus is soft, nontender, and consistent in size with a 34-week gestation. The remainder of the examination shows no abnormalities. Based on the following tests, patient was diagnosed with cholestasis of pregnancy. Laboratory studies showed:\\nHemoglobin 11 g/dL\\nLeukocyte count 8,000/mm3\\nPlatelet 250,000/mm3\\nProthrombin time 11 seconds\\nSerum\\nTotal bilirubin 4 mg/dL\\nDirect bilirubin 3.2 mg/dL\\nBile acid 15 Î¼mol/L (N = 0.3â€“10)\\nAST 45 U/L\\nALT 50 U/L\\nA peripheral blood smear was normal. There were no abnormalities on abdominopelvic ultrasonography. \"],\n",
              " 'Î': [\"A 25-year-old primigravid woman at 34-weeks' gestation comes to the physician because of an 8-day history of generalized pruritus. She has no history of rash. She has had standard prenatal care. Three weeks ago she was diagnosed with iron deficiency anemia. She traveled to Mexico for a vacation 3 months ago. She takes her multivitamin supplements inconsistently. Her blood pressure is 110/80 mm Hg. Examination shows pallor and mild scleral icterus. The uterus is soft, nontender, and consistent in size with a 34-week gestation. The remainder of the examination shows no abnormalities. Laboratory studies show:\\nHemoglobin 11 g/dL\\nLeukocyte count 8,000/mm3\\nPlatelet 250,000/mm3\\nProthrombin time 11 seconds\\nSerum\\nTotal bilirubin 4 mg/dL\\nDirect bilirubin 3.2 mg/dL\\nBile acid 15 Î¼mol/L (N = 0.3â€“10)\\nAST 45 U/L\\nALT 50 U/L\\nA peripheral blood smear is normal. There are no abnormalities on abdominopelvic ultrasonography. Patient was diagnosed with HELLP syndrome. \",\n",
              "  \"A 25-year-old primigravid woman at 34-weeks' gestation comes to the physician because of an 8-day history of generalized pruritus. She has no history of rash. She has had standard prenatal care. Three weeks ago she was diagnosed with iron deficiency anemia. She traveled to Mexico for a vacation 3 months ago. She takes her multivitamin supplements inconsistently. Her blood pressure is 110/80 mm Hg. Examination shows pallor and mild scleral icterus. The uterus is soft, nontender, and consistent in size with a 34-week gestation. The remainder of the examination shows no abnormalities. Based on the following tests, patient was diagnosed with cholestasis of pregnancy. Laboratory studies showed:\\nHemoglobin 11 g/dL\\nLeukocyte count 8,000/mm3\\nPlatelet 250,000/mm3\\nProthrombin time 11 seconds\\nSerum\\nTotal bilirubin 4 mg/dL\\nDirect bilirubin 3.2 mg/dL\\nBile acid 15 Î¼mol/L (N = 0.3â€“10)\\nAST 45 U/L\\nALT 50 U/L\\nA peripheral blood smear was normal. There were no abnormalities on abdominopelvic ultrasonography. \"],\n",
              " '“': [\"A 25-year-old primigravid woman at 34-weeks' gestation comes to the physician because of an 8-day history of generalized pruritus. She has no history of rash. She has had standard prenatal care. Three weeks ago she was diagnosed with iron deficiency anemia. She traveled to Mexico for a vacation 3 months ago. She takes her multivitamin supplements inconsistently. Her blood pressure is 110/80 mm Hg. Examination shows pallor and mild scleral icterus. The uterus is soft, nontender, and consistent in size with a 34-week gestation. The remainder of the examination shows no abnormalities. Laboratory studies show:\\nHemoglobin 11 g/dL\\nLeukocyte count 8,000/mm3\\nPlatelet 250,000/mm3\\nProthrombin time 11 seconds\\nSerum\\nTotal bilirubin 4 mg/dL\\nDirect bilirubin 3.2 mg/dL\\nBile acid 15 Î¼mol/L (N = 0.3â€“10)\\nAST 45 U/L\\nALT 50 U/L\\nA peripheral blood smear is normal. There are no abnormalities on abdominopelvic ultrasonography. Patient was diagnosed with HELLP syndrome. \",\n",
              "  \"A 25-year-old primigravid woman at 34-weeks' gestation comes to the physician because of an 8-day history of generalized pruritus. She has no history of rash. She has had standard prenatal care. Three weeks ago she was diagnosed with iron deficiency anemia. She traveled to Mexico for a vacation 3 months ago. She takes her multivitamin supplements inconsistently. Her blood pressure is 110/80 mm Hg. Examination shows pallor and mild scleral icterus. The uterus is soft, nontender, and consistent in size with a 34-week gestation. The remainder of the examination shows no abnormalities. Based on the following tests, patient was diagnosed with cholestasis of pregnancy. Laboratory studies showed:\\nHemoglobin 11 g/dL\\nLeukocyte count 8,000/mm3\\nPlatelet 250,000/mm3\\nProthrombin time 11 seconds\\nSerum\\nTotal bilirubin 4 mg/dL\\nDirect bilirubin 3.2 mg/dL\\nBile acid 15 Î¼mol/L (N = 0.3â€“10)\\nAST 45 U/L\\nALT 50 U/L\\nA peripheral blood smear was normal. There were no abnormalities on abdominopelvic ultrasonography. \"],\n",
              " '¼': [\"A 25-year-old primigravid woman at 34-weeks' gestation comes to the physician because of an 8-day history of generalized pruritus. She has no history of rash. She has had standard prenatal care. Three weeks ago she was diagnosed with iron deficiency anemia. She traveled to Mexico for a vacation 3 months ago. She takes her multivitamin supplements inconsistently. Her blood pressure is 110/80 mm Hg. Examination shows pallor and mild scleral icterus. The uterus is soft, nontender, and consistent in size with a 34-week gestation. The remainder of the examination shows no abnormalities. Laboratory studies show:\\nHemoglobin 11 g/dL\\nLeukocyte count 8,000/mm3\\nPlatelet 250,000/mm3\\nProthrombin time 11 seconds\\nSerum\\nTotal bilirubin 4 mg/dL\\nDirect bilirubin 3.2 mg/dL\\nBile acid 15 Î¼mol/L (N = 0.3â€“10)\\nAST 45 U/L\\nALT 50 U/L\\nA peripheral blood smear is normal. There are no abnormalities on abdominopelvic ultrasonography. Patient was diagnosed with HELLP syndrome. \",\n",
              "  \"A 25-year-old primigravid woman at 34-weeks' gestation comes to the physician because of an 8-day history of generalized pruritus. She has no history of rash. She has had standard prenatal care. Three weeks ago she was diagnosed with iron deficiency anemia. She traveled to Mexico for a vacation 3 months ago. She takes her multivitamin supplements inconsistently. Her blood pressure is 110/80 mm Hg. Examination shows pallor and mild scleral icterus. The uterus is soft, nontender, and consistent in size with a 34-week gestation. The remainder of the examination shows no abnormalities. Based on the following tests, patient was diagnosed with cholestasis of pregnancy. Laboratory studies showed:\\nHemoglobin 11 g/dL\\nLeukocyte count 8,000/mm3\\nPlatelet 250,000/mm3\\nProthrombin time 11 seconds\\nSerum\\nTotal bilirubin 4 mg/dL\\nDirect bilirubin 3.2 mg/dL\\nBile acid 15 Î¼mol/L (N = 0.3â€“10)\\nAST 45 U/L\\nALT 50 U/L\\nA peripheral blood smear was normal. There were no abnormalities on abdominopelvic ultrasonography. \"],\n",
              " '=': [\"A 25-year-old primigravid woman at 34-weeks' gestation comes to the physician because of an 8-day history of generalized pruritus. She has no history of rash. She has had standard prenatal care. Three weeks ago she was diagnosed with iron deficiency anemia. She traveled to Mexico for a vacation 3 months ago. She takes her multivitamin supplements inconsistently. Her blood pressure is 110/80 mm Hg. Examination shows pallor and mild scleral icterus. The uterus is soft, nontender, and consistent in size with a 34-week gestation. The remainder of the examination shows no abnormalities. Laboratory studies show:\\nHemoglobin 11 g/dL\\nLeukocyte count 8,000/mm3\\nPlatelet 250,000/mm3\\nProthrombin time 11 seconds\\nSerum\\nTotal bilirubin 4 mg/dL\\nDirect bilirubin 3.2 mg/dL\\nBile acid 15 Î¼mol/L (N = 0.3â€“10)\\nAST 45 U/L\\nALT 50 U/L\\nA peripheral blood smear is normal. There are no abnormalities on abdominopelvic ultrasonography. Patient was diagnosed with HELLP syndrome. \",\n",
              "  \"A 25-year-old primigravid woman at 34-weeks' gestation comes to the physician because of an 8-day history of generalized pruritus. She has no history of rash. She has had standard prenatal care. Three weeks ago she was diagnosed with iron deficiency anemia. She traveled to Mexico for a vacation 3 months ago. She takes her multivitamin supplements inconsistently. Her blood pressure is 110/80 mm Hg. Examination shows pallor and mild scleral icterus. The uterus is soft, nontender, and consistent in size with a 34-week gestation. The remainder of the examination shows no abnormalities. Based on the following tests, patient was diagnosed with cholestasis of pregnancy. Laboratory studies showed:\\nHemoglobin 11 g/dL\\nLeukocyte count 8,000/mm3\\nPlatelet 250,000/mm3\\nProthrombin time 11 seconds\\nSerum\\nTotal bilirubin 4 mg/dL\\nDirect bilirubin 3.2 mg/dL\\nBile acid 15 Î¼mol/L (N = 0.3â€“10)\\nAST 45 U/L\\nALT 50 U/L\\nA peripheral blood smear was normal. There were no abnormalities on abdominopelvic ultrasonography. \"],\n",
              " '%': ['A 48-year-old man comes to the physician for the evaluation of dyspnea and cough. He was diagnosed with esophageal cancer 10 months ago, for which he received radiochemotherapy. He has a history of atopic dermatitis and has smoked one pack of cigarettes daily for 30 years. Auscultation of the lungs shows decreased breath sounds bilaterally. Patient was diagnosed with pulmonary emphysema after spirometry showed an FVC of 78% and an FEV1/FVC ratio of 95%.',\n",
              "  'A 48-year-old man comes to the physician for the evaluation of dyspnea and cough. He was diagnosed with esophageal cancer 10 months ago, for which he received radiochemotherapy. He has a history of atopic dermatitis and has smoked one pack of cigarettes daily for 30 years. Auscultation of the lungs shows decreased breath sounds bilaterally. Spirometry shows an FVC of 78% and an FEV1/FVC ratio of 95%. Patient was diagnosed with pulmonary fibrosis.'],\n",
              " '^': ['A 64-year-old female presents to her primary care physician for an annual checkup. She states that her health is adequate, but she has not been doing well since her husband died last year. She is able to get by but admits to having trouble caring for herself, cooking, cleaning, and paying her bills. The patient complains of diffuse muscle aches and pains. She has a past medical history of anxiety and seasonal affective disorder. She is not currently taking any medications. On physical exam, you note a gaunt woman with a depressed affect. You note that her body mass index (BMI) and height have both decreased since her last annual visit. On physical exam, her cardiac, pulmonary, and abdominal exams are within normal limits. Patient is diagnosed with osteoporosis after lab work is drawn and is as follows:\\n\\nSerum:\\nNa+: 135 mEq/L\\nK+: 3.7 mEq/L\\nCl-: 100 mEq/L\\nHCO3-: 23 mEq/L\\nUrea nitrogen: 7 mg/dL\\nGlucose: 70 mg/dL\\nCreatinine: 0.8 mg/dL\\nCa2+: 8.0 mg/dL\\nMg2+: 1.5 mEq/L\\nParathyroid hormone: 855 pg/mL\\nAlkaline phosphatase: 135 U/L\\nPhosphorus: 2.6 mg/dL\\n\\nHemoglobin: 14 g/dL\\nHematocrit: 36%\\nPlatelet count: 187,000/mm^3\\nLeukocyte count: 4,700/mm^3',\n",
              "  'A 64-year-old female presents to her primary care physician for an annual checkup. She states that her health is adequate, but she has not been doing well since her husband died last year. She is able to get by but admits to having trouble caring for herself, cooking, cleaning, and paying her bills. The patient complains of diffuse muscle aches and pains. She has a past medical history of anxiety and seasonal affective disorder. She is not currently taking any medications. On physical exam, you note a gaunt woman with a depressed affect. You note that her body mass index (BMI) and height have both decreased since her last annual visit. On physical exam, her cardiac, pulmonary, and abdominal exams are within normal limits. Lab work is drawn and is as follows:\\n\\nSerum:\\nNa+: 135 mEq/L\\nK+: 3.7 mEq/L\\nCl-: 100 mEq/L\\nHCO3-: 23 mEq/L\\nUrea nitrogen: 7 mg/dL\\nGlucose: 70 mg/dL\\nCreatinine: 0.8 mg/dL\\nCa2+: 8.0 mg/dL\\nMg2+: 1.5 mEq/L\\nParathyroid hormone: 855 pg/mL\\nAlkaline phosphatase: 135 U/L\\nPhosphorus: 2.6 mg/dL\\n\\nHemoglobin: 14 g/dL\\nHematocrit: 36%\\nPlatelet count: 187,000/mm^3\\nLeukocyte count: 4,700/mm^3\\n\\nPatient is diagnosed with osteomalacia.'],\n",
              " '>': ['A 52-year-old woman with HIV infection is brought to the emergency department 20 minutes after she had a generalized tonic-clonic seizure. She appears lethargic and confused. Laboratory studies show a CD4+ count of 89 cells/Î¼L (N > 500). A CT scan of the head with contrast shows multiple ring-enhancing lesions in the basal ganglia and subcortical white matter. An India ink preparation of cerebrospinal fluid is negative. Patient is diagnosed with HIV encephalopathy.',\n",
              "  'A 52-year-old woman with HIV infection is brought to the emergency department 20 minutes after she had a generalized tonic-clonic seizure. She appears lethargic and confused. Laboratory studies show a CD4+ count of 89 cells/Î¼L (N > 500). A CT scan of the head with contrast shows multiple ring-enhancing lesions in the basal ganglia and subcortical white matter, confirming cerebral toxoplasmosis. An India ink preparation of cerebrospinal fluid is negative.'],\n",
              " 'œ': ['A 38-year-old man comes to the physician because of persistent sadness and difficulty concentrating for the past 6 weeks. During this period, he has also had difficulty sleeping. He adds that he has been â€œfeeling downâ€\\x9d most of the time since his girlfriend broke up with him 4 years ago. Since then, he has only had a few periods of time when he did not feel that way, but none of these lasted for more than a month. He reports having no problems with appetite, weight, or energy. He does not use illicit drugs or alcohol. Mental status examination shows a depressed mood and constricted affect. Suspected of major depressive disorder. ',\n",
              "  'A 38-year-old man comes to the physician because of persistent sadness and difficulty concentrating for the past 6 weeks. During this period, he has also had difficulty sleeping. He adds that he has been â€œfeeling downâ€\\x9d most of the time since his girlfriend broke up with him 4 years ago. Since then, he has only had a few periods of time when he did not feel that way, but none of these lasted for more than a month. He reports having no problems with appetite, weight, or energy. He does not use illicit drugs or alcohol. Suspected of persistent depressive disorder. Mental status examination shows a depressed mood and constricted affect. '],\n",
              " '\\x9d': ['A 38-year-old man comes to the physician because of persistent sadness and difficulty concentrating for the past 6 weeks. During this period, he has also had difficulty sleeping. He adds that he has been â€œfeeling downâ€\\x9d most of the time since his girlfriend broke up with him 4 years ago. Since then, he has only had a few periods of time when he did not feel that way, but none of these lasted for more than a month. He reports having no problems with appetite, weight, or energy. He does not use illicit drugs or alcohol. Mental status examination shows a depressed mood and constricted affect. Suspected of major depressive disorder. ',\n",
              "  'A 38-year-old man comes to the physician because of persistent sadness and difficulty concentrating for the past 6 weeks. During this period, he has also had difficulty sleeping. He adds that he has been â€œfeeling downâ€\\x9d most of the time since his girlfriend broke up with him 4 years ago. Since then, he has only had a few periods of time when he did not feel that way, but none of these lasted for more than a month. He reports having no problems with appetite, weight, or energy. He does not use illicit drugs or alcohol. Suspected of persistent depressive disorder. Mental status examination shows a depressed mood and constricted affect. '],\n",
              " 'š': ['A 40-year-old woman with a suspected VIPoma comes to the physician for right lower abdominal pain for 6 months. She has multiple non-bloody, watery bowel movements daily and experiences abdominal cramping. Sometimes, she feels sudden palpitations, is short of breath, and her face becomes red. She has lost 7 kg over the past 3 months. She went on a 3-week hiking trip to Cambodia 6 months ago. She has smoked a pack of cigarettes daily for 15 years. Her temperature is 37ËšC (98.6 F), her pulse is 72/min and her blood pressure is 125/70 mm Hg. On physical examination, tiny blood vessels are noted on her face and arms. Lung auscultation shows bilateral wheezing. The abdomen is soft and nondistended. There is localized tenderness to the right lower quadrant, but no rebound tenderness or guarding. Laboratory studies show:\\nLeukocyte count 4,600 /mm3\\nSegmented neutrophils 61 %\\nEosinophils 2 %\\nPlatelet count 254,000 /mm3\\nHemoglobin 13.1 g/dL\\nSerum\\nAspartate aminotransferase (AST) 110 IU/L\\nAlanine aminotransferase (ALT) 128 IU/L\\nC-reactive protein 8 mg/dL (N = 0â€“10)\\n',\n",
              "  'A 40-year-old woman comes to the physician for right lower abdominal pain for 6 months. She has multiple non-bloody, watery bowel movements daily and experiences abdominal cramping. Sometimes, she feels sudden palpitations, is short of breath, and her face becomes red. She has lost 7 kg over the past 3 months. She went on a 3-week hiking trip to Cambodia 6 months ago. She has smoked a pack of cigarettes daily for 15 years. Her temperature is 37ËšC (98.6 F), her pulse is 72/min and her blood pressure is 125/70 mm Hg. On physical examination, tiny blood vessels are noted on her face and arms. Lung auscultation shows bilateral wheezing. The abdomen is soft and nondistended. There is localized tenderness to the right lower quadrant, but no rebound tenderness or guarding. Laboratory studies show:\\nLeukocyte count 4,600 /mm3\\nSegmented neutrophils 61 %\\nEosinophils 2 %\\nPlatelet count 254,000 /mm3\\nHemoglobin 13.1 g/dL\\nSerum\\nAspartate aminotransferase (AST) 110 IU/L\\nAlanine aminotransferase (ALT) 128 IU/L\\nC-reactive protein 8 mg/dL (N = 0â€“10)\\nPatient is diagnosed with a carcinoid tumor.'],\n",
              " 'Ë': ['A 40-year-old woman with a suspected VIPoma comes to the physician for right lower abdominal pain for 6 months. She has multiple non-bloody, watery bowel movements daily and experiences abdominal cramping. Sometimes, she feels sudden palpitations, is short of breath, and her face becomes red. She has lost 7 kg over the past 3 months. She went on a 3-week hiking trip to Cambodia 6 months ago. She has smoked a pack of cigarettes daily for 15 years. Her temperature is 37ËšC (98.6 F), her pulse is 72/min and her blood pressure is 125/70 mm Hg. On physical examination, tiny blood vessels are noted on her face and arms. Lung auscultation shows bilateral wheezing. The abdomen is soft and nondistended. There is localized tenderness to the right lower quadrant, but no rebound tenderness or guarding. Laboratory studies show:\\nLeukocyte count 4,600 /mm3\\nSegmented neutrophils 61 %\\nEosinophils 2 %\\nPlatelet count 254,000 /mm3\\nHemoglobin 13.1 g/dL\\nSerum\\nAspartate aminotransferase (AST) 110 IU/L\\nAlanine aminotransferase (ALT) 128 IU/L\\nC-reactive protein 8 mg/dL (N = 0â€“10)\\n',\n",
              "  'A 40-year-old woman comes to the physician for right lower abdominal pain for 6 months. She has multiple non-bloody, watery bowel movements daily and experiences abdominal cramping. Sometimes, she feels sudden palpitations, is short of breath, and her face becomes red. She has lost 7 kg over the past 3 months. She went on a 3-week hiking trip to Cambodia 6 months ago. She has smoked a pack of cigarettes daily for 15 years. Her temperature is 37ËšC (98.6 F), her pulse is 72/min and her blood pressure is 125/70 mm Hg. On physical examination, tiny blood vessels are noted on her face and arms. Lung auscultation shows bilateral wheezing. The abdomen is soft and nondistended. There is localized tenderness to the right lower quadrant, but no rebound tenderness or guarding. Laboratory studies show:\\nLeukocyte count 4,600 /mm3\\nSegmented neutrophils 61 %\\nEosinophils 2 %\\nPlatelet count 254,000 /mm3\\nHemoglobin 13.1 g/dL\\nSerum\\nAspartate aminotransferase (AST) 110 IU/L\\nAlanine aminotransferase (ALT) 128 IU/L\\nC-reactive protein 8 mg/dL (N = 0â€“10)\\nPatient is diagnosed with a carcinoid tumor.'],\n",
              " '<': ['A 36-year-old man presents to the emergency room with subacute worsening of chronic chest pain and shortness of breath with exertion. The patient is generally healthy, lifts weights regularly, and does not smoke. His temperature is 97.8 F (36.6 C), blood pressure is 122/83 mm Hg, pulse is 80/min, respirations are 13/min, and oxygen saturation is 98% on room air. Cardiac auscultation reveals a crescendo-decrescendo murmur heard right of the upper sternal border with radiation into the carotids. Suspected of mitral insufficiency. An ECG shows left axis deviation and meets criteria for left ventricular hypertrophy. An initial troponin is < 0.01 ng/mL. ',\n",
              "  'A 36-year-old man presents to the emergency room with subacute worsening of chronic chest pain and shortness of breath with exertion. The patient is generally healthy, lifts weights regularly, and does not smoke. His temperature is 97.8 F (36.6 C), blood pressure is 122/83 mm Hg, pulse is 80/min, respirations are 13/min, and oxygen saturation is 98% on room air. Cardiac auscultation reveals a crescendo-decrescendo murmur heard right of the upper sternal border with radiation into the carotids. An ECG shows left axis deviation and meets criteria for left ventricular hypertrophy. An initial troponin is < 0.01 ng/mL. Suspected of bicuspid aortic valve. '],\n",
              " '\"': ['\"A 25-year-old female with Hodgkin\\'s lymphoma presents with a several day history of edema. Lab studies show:\\n\\nSerum Na+: 140 mmol/L\\nSerum K+: 3.5 mmol/L\\nSerum albumin: 1.9 g/dL\\nTotal serum bilirubin: 1.0 mg/dL\\nSerum creatinine: 1.2 mg/dL\\n\\nUrinalysis shows 4+ proteinuria and fatty casts. Suspected of membranous nephropathy. \\n',\n",
              "  '\"A 25-year-old female with Hodgkin\\'s lymphoma presents with a several day history of edema. Lab studies show:\\n\\nSerum Na+: 140 mmol/L\\nSerum K+: 3.5 mmol/L\\nSerum albumin: 1.9 g/dL\\nTotal serum bilirubin: 1.0 mg/dL\\nSerum creatinine: 1.2 mg/dL\\n\\nSuspected of minimal change disease. Urinalysis shows 4+ proteinuria and fatty casts. \\n'],\n",
              " '±': ['A 29-year-old primigravid woman at 18 weeksâ€™ gestation comes to the physician for her first prenatal visit. She works as a paralegal and lives with her husband. Her current pregnancy was unexpected, and she did not take any prenatal medications or supplements. Physical examination shows a uterus 2 inches above the umbilicus. The concentration of Î±-fetoprotein in the maternal serum and concentrations of both Î±-fetoprotein and acetylcholinesterase in the amniotic fluid are elevated. Ultrasonography of the uterus confirms the fetus has holoprosencephaly showing an increased amniotic fluid volume.',\n",
              "  'A 29-year-old primigravid woman at 18 weeksâ€™ gestation comes to the physician for her first prenatal visit. She works as a paralegal and lives with her husband. Her current pregnancy was unexpected, and she did not take any prenatal medications or supplements. Physical examination shows a uterus 2 inches above the umbilicus. The concentration of Î±-fetoprotein in the maternal serum and concentrations of both Î±-fetoprotein and acetylcholinesterase in the amniotic fluid are elevated. Ultrasonography of the uterus shows an increased amniotic fluid volume. The fetus has anencephaly.'],\n",
              " '™': ['A 29-year-old primigravid woman at 18 weeksâ€™ gestation comes to the physician for her first prenatal visit. She works as a paralegal and lives with her husband. Her current pregnancy was unexpected, and she did not take any prenatal medications or supplements. Physical examination shows a uterus 2 inches above the umbilicus. The concentration of Î±-fetoprotein in the maternal serum and concentrations of both Î±-fetoprotein and acetylcholinesterase in the amniotic fluid are elevated. Ultrasonography of the uterus confirms the fetus has holoprosencephaly showing an increased amniotic fluid volume.',\n",
              "  'A 29-year-old primigravid woman at 18 weeksâ€™ gestation comes to the physician for her first prenatal visit. She works as a paralegal and lives with her husband. Her current pregnancy was unexpected, and she did not take any prenatal medications or supplements. Physical examination shows a uterus 2 inches above the umbilicus. The concentration of Î±-fetoprotein in the maternal serum and concentrations of both Î±-fetoprotein and acetylcholinesterase in the amniotic fluid are elevated. Ultrasonography of the uterus shows an increased amniotic fluid volume. The fetus has anencephaly.'],\n",
              " '©': ['A 35-year-old woman comes to the physician because of a 1-month history of double vision, difficulty climbing stairs, and weakness when trying to brush her hair. She reports that these symptoms are worse after she exercises and disappear after she rests for a few hours. Physical examination shows drooping of her right upper eyelid that worsens when the patient is asked to gaze at the ceiling for 2 minutes. There is diminished motor strength in the upper extremities. Suspected of Guillain- BarrÃ© syndrome. The remainder of the examination shows no abnormalities. '],\n",
              " 'Ã': ['A 35-year-old woman comes to the physician because of a 1-month history of double vision, difficulty climbing stairs, and weakness when trying to brush her hair. She reports that these symptoms are worse after she exercises and disappear after she rests for a few hours. Physical examination shows drooping of her right upper eyelid that worsens when the patient is asked to gaze at the ceiling for 2 minutes. There is diminished motor strength in the upper extremities. Suspected of Guillain- BarrÃ© syndrome. The remainder of the examination shows no abnormalities. ',\n",
              "  'A 19-year-old G1P0000 presents for her first obstetric ultrasound after having a positive home pregnancy test. At her visit, she states that she is unsure but believes her last menstrual period was 6 weeks ago. She complains of several weeks of severe nausea with vomiting and has lost 4 pounds from her baseline weight. She also endorses some palpitations, increased perspiration, and a fine tremor of both hands. She denies vaginal bleeding. Ultrasound findings are shown in Figure A and Figure B, and her ÃŸ-hCG is 227,183 mIU/mL. Propylthiouracil therapy is initiated.'],\n",
              " 'ˆ': [\"A 3500-g (7.7-lbs) girl is delivered at 39 weeks' gestation to a 27-year-old woman, gravida 2, para 1. Apgar scores are 8 and 9 at 1 and 5 minutes, respectively. The mother had regular prenatal visits throughout the pregnancy. She did not smoke or drink alcohol. She took multivitamins as prescribed by her physician. The newborn appears active. The girl's temperature is 37 C (98.6 F), pulse is 120/min, and blood pressure is 55/35 mm Hg. Examination in the delivery room shows clitoromegaly. One day later, laboratory studies show:\\nHemoglobin 12.8 g/dL\\nLeukocyte count 6,000/mm3\\nPlatelet count 240,000/mm3\\nSerum\\nNa+ 133 mEq/L\\nK+ 5.2 mEq/L\\nClâˆ’ 101 mEq/L\\nHCO3âˆ’ 21 mEq/L\\nUrea nitrogen 15 mg/dL\\nCreatinine 0.8 mg/dL\\nUltrasound of the abdomen and pelvis shows normal uterus and normal ovaries. Dexamethasone therapy was started. \",\n",
              "  \"A 3500-g (7.7-lbs) girl is delivered at 39 weeks' gestation to a 27-year-old woman, gravida 2, para 1. Apgar scores are 8 and 9 at 1 and 5 minutes, respectively. The mother had regular prenatal visits throughout the pregnancy. She did not smoke or drink alcohol. She took multivitamins as prescribed by her physician. The newborn appears active. The girl's temperature is 37 C (98.6 F), pulse is 120/min, and blood pressure is 55/35 mm Hg. Examination in the delivery room shows clitoromegaly. One day later, laboratory studies show:\\nHemoglobin 12.8 g/dL\\nLeukocyte count 6,000/mm3\\nPlatelet count 240,000/mm3\\nSerum\\nNa+ 133 mEq/L\\nK+ 5.2 mEq/L\\nClâˆ’ 101 mEq/L\\nHCO3âˆ’ 21 mEq/L\\nUrea nitrogen 15 mg/dL\\nCreatinine 0.8 mg/dL\\nHydrocortisone and fludrocortisone therapy was started. Ultrasound of the abdomen and pelvis shows normal uterus and normal ovaries.\"],\n",
              " '’': [\"A 3500-g (7.7-lbs) girl is delivered at 39 weeks' gestation to a 27-year-old woman, gravida 2, para 1. Apgar scores are 8 and 9 at 1 and 5 minutes, respectively. The mother had regular prenatal visits throughout the pregnancy. She did not smoke or drink alcohol. She took multivitamins as prescribed by her physician. The newborn appears active. The girl's temperature is 37 C (98.6 F), pulse is 120/min, and blood pressure is 55/35 mm Hg. Examination in the delivery room shows clitoromegaly. One day later, laboratory studies show:\\nHemoglobin 12.8 g/dL\\nLeukocyte count 6,000/mm3\\nPlatelet count 240,000/mm3\\nSerum\\nNa+ 133 mEq/L\\nK+ 5.2 mEq/L\\nClâˆ’ 101 mEq/L\\nHCO3âˆ’ 21 mEq/L\\nUrea nitrogen 15 mg/dL\\nCreatinine 0.8 mg/dL\\nUltrasound of the abdomen and pelvis shows normal uterus and normal ovaries. Dexamethasone therapy was started. \",\n",
              "  \"A 3500-g (7.7-lbs) girl is delivered at 39 weeks' gestation to a 27-year-old woman, gravida 2, para 1. Apgar scores are 8 and 9 at 1 and 5 minutes, respectively. The mother had regular prenatal visits throughout the pregnancy. She did not smoke or drink alcohol. She took multivitamins as prescribed by her physician. The newborn appears active. The girl's temperature is 37 C (98.6 F), pulse is 120/min, and blood pressure is 55/35 mm Hg. Examination in the delivery room shows clitoromegaly. One day later, laboratory studies show:\\nHemoglobin 12.8 g/dL\\nLeukocyte count 6,000/mm3\\nPlatelet count 240,000/mm3\\nSerum\\nNa+ 133 mEq/L\\nK+ 5.2 mEq/L\\nClâˆ’ 101 mEq/L\\nHCO3âˆ’ 21 mEq/L\\nUrea nitrogen 15 mg/dL\\nCreatinine 0.8 mg/dL\\nHydrocortisone and fludrocortisone therapy was started. Ultrasound of the abdomen and pelvis shows normal uterus and normal ovaries.\"],\n",
              " 'Ÿ': ['A 19-year-old G1P0000 presents for her first obstetric ultrasound after having a positive home pregnancy test. At her visit, she states that she is unsure but believes her last menstrual period was 6 weeks ago. She complains of several weeks of severe nausea with vomiting and has lost 4 pounds from her baseline weight. She also endorses some palpitations, increased perspiration, and a fine tremor of both hands. She denies vaginal bleeding. Ultrasound findings are shown in Figure A and Figure B, and her ÃŸ-hCG is 227,183 mIU/mL. Propylthiouracil therapy is initiated.',\n",
              "  'A 19-year-old G1P0000 presents for her first obstetric ultrasound after having a positive home pregnancy test. At her visit, she states that she is unsure but believes her last menstrual period was 6 weeks ago. She complains of several weeks of severe nausea with vomiting and has lost 4 pounds from her baseline weight. She also endorses some palpitations, increased perspiration, and a fine tremor of both hands. She denies vaginal bleeding. Propylthiouracil therapy is initiated with serial serum ÃŸ-hCG levels. Ultrasound findings are shown in Figure A and Figure B, and her ÃŸ-hCG is 227,183 mIU/mL.'],\n",
              " '!': ['A 22-year-old woman is brought to the emergency department 20 minutes after being detained by campus police for attempting to steal from the bookstore. Her roommate says that the patient has been acting strangely over the last 2 weeks. She has not slept in 4 days and has painted her room twice in that time span. She has also spent all of her savings on online shopping and lottery tickets. She has no history of psychiatric illness or substance abuse, and takes no medications. During the examination, she is uncooperative, combative, and refusing care. She screams, â€œLet me go, God has a plan for me and I must go finish it!â€\\x9d. Her temperature is 37.2 C (99 F), pulse is 75/min, respirations are 16/min, and blood pressure is 130/80 mm Hg. Physical examination shows no abnormalities. On mental status examination, she describes her mood as â€œamazing.â€\\x9d She has a labile affect, speaks rapidly, and her thought process is tangential. She denies having any hallucinations. Lithium was administered to the patient. ',\n",
              "  'A 22-year-old woman is brought to the emergency department 20 minutes after being detained by campus police for attempting to steal from the bookstore. Her roommate says that the patient has been acting strangely over the last 2 weeks. She has not slept in 4 days and has painted her room twice in that time span. She has also spent all of her savings on online shopping and lottery tickets. She has no history of psychiatric illness or substance abuse, and takes no medications. During the examination, she is uncooperative, combative, and refusing care. She screams, â€œLet me go, God has a plan for me and I must go finish it!â€\\x9d. Her temperature is 37.2 C (99 F), pulse is 75/min, respirations are 16/min, and blood pressure is 130/80 mm Hg. After examining the patient, haloperidol was administered. Physical examination showed no abnormalities. On mental status examination, she described her mood as â€œamazing.â€\\x9d She had a labile affect, spoke rapidly, and her thought process was tangential. She denied having any hallucinations.']}"
            ]
          },
          "metadata": {},
          "execution_count": 11
        }
      ],
      "source": [
        "from collections import defaultdict\n",
        "import re\n",
        "\n",
        "text_column = df['Text']\n",
        "\n",
        "# Definir un patrón de regex para buscar caracteres que no sean alfanuméricos ni espacios básicos\n",
        "special_char_pattern = re.compile(r'[^a-zA-Z0-9\\s]')\n",
        "\n",
        "# Diccionario para almacenar hasta 5 ejemplos por cada carácter especial encontrado\n",
        "examples_per_special_char = defaultdict(list)\n",
        "\n",
        "# Recorrer cada texto en la columna 'Text'\n",
        "for text in text_column:\n",
        "    # Encontrar todos los caracteres especiales únicos en el texto actual\n",
        "    unique_special_chars = set(special_char_pattern.findall(text))\n",
        "    # Para cada carácter especial encontrado, agregar el texto actual como un ejemplo\n",
        "    for char in unique_special_chars:\n",
        "        if len(examples_per_special_char[char]) < 10:\n",
        "            examples_per_special_char[char].append(text)\n",
        "\n",
        "# Convertir el diccionario a un formato más legible para la presentación\n",
        "{char: examples[:2] for char, examples in examples_per_special_char.items()}"
      ]
    },
    {
      "cell_type": "code",
      "execution_count": 12,
      "metadata": {
        "colab": {
          "base_uri": "https://localhost:8080/"
        },
        "id": "yD3RIJngS7mc",
        "outputId": "d6683a91-3f89-4ba4-a808-494a37f8a727"
      },
      "outputs": [
        {
          "output_type": "execute_result",
          "data": {
            "text/plain": [
              "0    A 24-year-old woman comes to the emergency dep...\n",
              "1    A 24-year-old woman comes to the emergency dep...\n",
              "2    A 43-year-old woman comes to the physician bec...\n",
              "3    A 4-year-old is brought into the emeregency ro...\n",
              "4    A previously healthy 25-year-old man comes to ...\n",
              "Name: Text, dtype: object"
            ]
          },
          "metadata": {},
          "execution_count": 12
        }
      ],
      "source": [
        "# Reemplazar caracteres especiales por su equivalente en texto\n",
        "replacements = {\n",
        "    \"â€\\x9d\": \" \",\n",
        "    \".â€\\x9d\": \".\",\n",
        "    \"â€“\": \"-\",\n",
        "    \"â€œsomething\": \"something\",\n",
        "    \"patientâ€™s\": \"patients\",\n",
        "    \"â‰¥\": \"≥\",\n",
        "    \"\\n\": \",\",\n",
        "    \"â€œ\": \"\",\n",
        "    \"Waldenstromâ€™s\": \"Waldenströms\",\n",
        "    \"Âµmol/L\": \"µmol/L\",\n",
        "    \"â€œmemory\": \"memory\",\n",
        "    \"weeksâ€™\": \"weeks\",\n",
        "    \"74 Î¼m3\": \"74 μm^3\",\n",
        "    \"ÂµIU/L\": \"µIU/L\",\n",
        "    \"â‰¤\": \"≤\",\n",
        "    \"Clâˆ’\": \"Cl-\",\n",
        "    \"physicianâ€™s\": \"physicians\",\n",
        "    \"ÂºF\": \"ºF\",\n",
        "    \"âˆ’\": \"-\",\n",
        "    \"Â½\": \"½\",\n",
        "    \"Î¼g/dL\": \"μg/dL\",\n",
        "    \"pediatricianâ€™s\": \"pediatricians\",\n",
        "    \"yearsâ€™\": \"years\",\n",
        "    \"Âµg\": \"µg\",\n",
        "    \"â€\": \"\",\n",
        "    \"Kennedyâ€™s\": \"Kennedys\",\n",
        "    \"Kennedy™s\": \"Kennedys\",\n",
        "    \"can™t\": \"can't\",\n",
        "    \"Î²\": \"β\",\n",
        "    \"Ã—\": \"x\",\n",
        "    \"ÃŸ-hCG\": \"β-hCG\",\n",
        "    \"SÃ©quard\": \"Séquard\",\n",
        "    \"Î³\": \"γ\",\n",
        "    \"Î¼m3\": \"μm^3\",\n",
        "    \"Î±\": \"α\",\n",
        "    \"Î¼U/mL\": \"μU/mL\",\n",
        "    \"Î¼\": \"μ\",\n",
        "    \"'\": \" \",\n",
        "    \"\\\"\":\"\" #Este lo dejo a consideracion, dependiendo si les funciona o no\n",
        "}\n",
        "\n",
        "# Aplicar todas las sustituciones\n",
        "for old, new in replacements.items():\n",
        "    df['Text'] = df['Text'].str.replace(old, new, regex=False)\n",
        "\n",
        "# Verificar el reemplazo\n",
        "df['Text'].head()\n"
      ]
    },
    {
      "cell_type": "code",
      "source": [
        "import pandas as pd\n",
        "import re\n",
        "\n",
        "# Suponiendo que df es tu DataFrame\n",
        "\n",
        "# Función para aplicar todas las transformaciones no regex en una sola pasada\n",
        "def optimize_text(text):\n",
        "    # Aplicar transformaciones no regex\n",
        "    text = text.strip().replace(\"Cl- \", \"Cl \").replace(\"'\", \"\").replace(\"’\", \"\")\n",
        "    text = text.replace(\":,\", \":\").replace(',_', ',').replace('[', '').replace(']', '')\n",
        "    text = text.replace(';', ',').replace('.,', '.').replace('mg dl', 'mg/dl')\n",
        "    text = text.replace('é', 'e').replace('patient s', 'patients').replace('girl s', 'girls')\n",
        "    text = text.replace('gilbert s', 'gilberts').replace(\".'\", \".\").replace(\",'\", \",\")\n",
        "    text = text.replace(\"',\", \",\").lower()  # Convertir a minúsculas aquí para optimizar\n",
        "    return text\n",
        "\n",
        "# Aplicar optimizaciones no regex\n",
        "df['Text'] = df['Text'].apply(optimize_text)\n",
        "\n",
        "# Aplicar optimizaciones con regex\n",
        "df['Text'] = df['Text'].str.replace(r',,', ',', regex=True)\n",
        "df['Text'] = df['Text'].str.replace(r'  +', ' ', regex=True)\n",
        "df['Text'] = df['Text'].str.replace('mm hg', 'mmHg', flags=re.IGNORECASE, regex=True)"
      ],
      "metadata": {
        "id": "1lIgqGoApWWA"
      },
      "execution_count": 13,
      "outputs": []
    },
    {
      "cell_type": "code",
      "execution_count": 14,
      "metadata": {
        "colab": {
          "base_uri": "https://localhost:8080/"
        },
        "id": "R0-pHePtS7me",
        "outputId": "84c2c165-e5a1-42dc-9eac-e758e2c69367"
      },
      "outputs": [
        {
          "output_type": "stream",
          "name": "stdout",
          "text": [
            "0      a 24-year-old woman comes to the emergency dep...\n",
            "1      a 24-year-old woman comes to the emergency dep...\n",
            "2      a 43-year-old woman comes to the physician bec...\n",
            "3      a 4-year-old is brought into the emeregency ro...\n",
            "4      a previously healthy 25-year-old man comes to ...\n",
            "                             ...                        \n",
            "569    a 20-year-old woman presents to the emergency ...\n",
            "570    a 20-year-old woman presents to the emergency ...\n",
            "571    a 26-year-old male comes into your clinic comp...\n",
            "572    a 56-year-old woman with a history of alcoholi...\n",
            "573    a 56-year-old woman with a history of alcoholi...\n",
            "Name: Text, Length: 574, dtype: object\n"
          ]
        }
      ],
      "source": [
        "print(df['Text'])"
      ]
    },
    {
      "cell_type": "code",
      "execution_count": 15,
      "metadata": {
        "colab": {
          "base_uri": "https://localhost:8080/"
        },
        "id": "YroSebCMS7me",
        "outputId": "a42b10e2-9391-4722-99fd-d5510a6e1918"
      },
      "outputs": [
        {
          "output_type": "execute_result",
          "data": {
            "text/plain": [
              "defaultdict(list,\n",
              "            {'/': ['a 24-year-old woman comes to the emergency department because of a 4-hour history of headaches, nausea, and vomiting. during this time, she has also had recurrent dizziness and palpitations. the symptoms started while she was at a friend s birthday party, where she had one beer. one week ago, the patient was diagnosed with a genitourinary infection and started on antimicrobial therapy. she has no history of major medical illness. culture tests indicate neisseria gonorrhoeae. her pulse is 106/min and blood pressure is 102/73 mmHg. physical examination shows facial flushing and profuse sweating.'],\n",
              "             '-': ['a 24-year-old woman comes to the emergency department because of a 4-hour history of headaches, nausea, and vomiting. during this time, she has also had recurrent dizziness and palpitations. the symptoms started while she was at a friend s birthday party, where she had one beer. one week ago, the patient was diagnosed with a genitourinary infection and started on antimicrobial therapy. she has no history of major medical illness. culture tests indicate neisseria gonorrhoeae. her pulse is 106/min and blood pressure is 102/73 mmHg. physical examination shows facial flushing and profuse sweating.'],\n",
              "             '.': ['a 24-year-old woman comes to the emergency department because of a 4-hour history of headaches, nausea, and vomiting. during this time, she has also had recurrent dizziness and palpitations. the symptoms started while she was at a friend s birthday party, where she had one beer. one week ago, the patient was diagnosed with a genitourinary infection and started on antimicrobial therapy. she has no history of major medical illness. culture tests indicate neisseria gonorrhoeae. her pulse is 106/min and blood pressure is 102/73 mmHg. physical examination shows facial flushing and profuse sweating.'],\n",
              "             ',': ['a 24-year-old woman comes to the emergency department because of a 4-hour history of headaches, nausea, and vomiting. during this time, she has also had recurrent dizziness and palpitations. the symptoms started while she was at a friend s birthday party, where she had one beer. one week ago, the patient was diagnosed with a genitourinary infection and started on antimicrobial therapy. she has no history of major medical illness. culture tests indicate neisseria gonorrhoeae. her pulse is 106/min and blood pressure is 102/73 mmHg. physical examination shows facial flushing and profuse sweating.'],\n",
              "             ':': ['a 43-year-old woman comes to the physician because of a fever, nausea, and a nonproductive cough for 7 days. during this period, she has had headaches, generalized fatigue, and muscle and joint pain. she has also had increasing shortness of breath for 2 days. she has type 2 diabetes mellitus and osteoarthritis of her left knee. current medications include insulin and ibuprofen. she had smoked two packs of cigarettes daily for 20 years but stopped 10 years ago. her temperature is 38.1 c (100.6 f), pulse is 94/min, respirations are 18/min, and blood pressure is 132/86 mmHg. the lungs are clear to auscultation. there are multiple skin lesions with a blue livid center, pale intermediate zone, and a dark red peripheral rim on the upper and lower extremities. laboratory studies show:hemoglobin 14.6 g/dl,leukocyte count 11,100/mm3,serum,na+ 137 meq/l,k+ 4.1 meq/l,cl 99 meq/l,urea nitrogen 17 mg/dl,glucose 123 mg/dl,creatinine 0.9 mg/dl,an x-ray of the chest is shown. pathology confirms streptococcus pneumoniae is the causal organism.'],\n",
              "             ')': ['a 43-year-old woman comes to the physician because of a fever, nausea, and a nonproductive cough for 7 days. during this period, she has had headaches, generalized fatigue, and muscle and joint pain. she has also had increasing shortness of breath for 2 days. she has type 2 diabetes mellitus and osteoarthritis of her left knee. current medications include insulin and ibuprofen. she had smoked two packs of cigarettes daily for 20 years but stopped 10 years ago. her temperature is 38.1 c (100.6 f), pulse is 94/min, respirations are 18/min, and blood pressure is 132/86 mmHg. the lungs are clear to auscultation. there are multiple skin lesions with a blue livid center, pale intermediate zone, and a dark red peripheral rim on the upper and lower extremities. laboratory studies show:hemoglobin 14.6 g/dl,leukocyte count 11,100/mm3,serum,na+ 137 meq/l,k+ 4.1 meq/l,cl 99 meq/l,urea nitrogen 17 mg/dl,glucose 123 mg/dl,creatinine 0.9 mg/dl,an x-ray of the chest is shown. pathology confirms streptococcus pneumoniae is the causal organism.'],\n",
              "             '(': ['a 43-year-old woman comes to the physician because of a fever, nausea, and a nonproductive cough for 7 days. during this period, she has had headaches, generalized fatigue, and muscle and joint pain. she has also had increasing shortness of breath for 2 days. she has type 2 diabetes mellitus and osteoarthritis of her left knee. current medications include insulin and ibuprofen. she had smoked two packs of cigarettes daily for 20 years but stopped 10 years ago. her temperature is 38.1 c (100.6 f), pulse is 94/min, respirations are 18/min, and blood pressure is 132/86 mmHg. the lungs are clear to auscultation. there are multiple skin lesions with a blue livid center, pale intermediate zone, and a dark red peripheral rim on the upper and lower extremities. laboratory studies show:hemoglobin 14.6 g/dl,leukocyte count 11,100/mm3,serum,na+ 137 meq/l,k+ 4.1 meq/l,cl 99 meq/l,urea nitrogen 17 mg/dl,glucose 123 mg/dl,creatinine 0.9 mg/dl,an x-ray of the chest is shown. pathology confirms streptococcus pneumoniae is the causal organism.'],\n",
              "             '+': ['a 43-year-old woman comes to the physician because of a fever, nausea, and a nonproductive cough for 7 days. during this period, she has had headaches, generalized fatigue, and muscle and joint pain. she has also had increasing shortness of breath for 2 days. she has type 2 diabetes mellitus and osteoarthritis of her left knee. current medications include insulin and ibuprofen. she had smoked two packs of cigarettes daily for 20 years but stopped 10 years ago. her temperature is 38.1 c (100.6 f), pulse is 94/min, respirations are 18/min, and blood pressure is 132/86 mmHg. the lungs are clear to auscultation. there are multiple skin lesions with a blue livid center, pale intermediate zone, and a dark red peripheral rim on the upper and lower extremities. laboratory studies show:hemoglobin 14.6 g/dl,leukocyte count 11,100/mm3,serum,na+ 137 meq/l,k+ 4.1 meq/l,cl 99 meq/l,urea nitrogen 17 mg/dl,glucose 123 mg/dl,creatinine 0.9 mg/dl,an x-ray of the chest is shown. pathology confirms streptococcus pneumoniae is the causal organism.'],\n",
              "             '≥': ['a 45-year-old man with hiv comes to the physician because of multiple lesions on his lower extremity. the lesions are increasing in size and are not painful or pruritic. he does not have lymphadenopathy. he works at a garden center. he lives in mississippi. medications include abacavir, dolutegravir, and lamivudine. his temperature is 37.7 c (98.8 f), pulse is 75/min, and blood pressure is 125/80 mmHg. examination shows multiple lesions on both heels, some are elevated. there are two similar lesions on the chest. an image of the patients right heel is shown. after reviewing labs and biopsy results, sporothrix schenckii was determined to be the causal organism. his cd4+ t-lymphocyte count was 450/mm3 (normal ≥ 500/mm3). a skin biopsy showed multiple spindle-shaped cells and leukocyte infiltration.'],\n",
              "             'μ': ['a 25-year-old primigravid woman at 34-weeks gestation comes to the physician because of an 8-day history of generalized pruritus. she has no history of rash. she has had standard prenatal care. three weeks ago she was diagnosed with iron deficiency anemia. she traveled to mexico for a vacation 3 months ago. she takes her multivitamin supplements inconsistently. her blood pressure is 110/80 mmHg. examination shows pallor and mild scleral icterus. the uterus is soft, nontender, and consistent in size with a 34-week gestation. the remainder of the examination shows no abnormalities. laboratory studies show:hemoglobin 11 g/dl,leukocyte count 8,000/mm3,platelet 250,000/mm3,prothrombin time 11 seconds,serum,total bilirubin 4 mg/dl,direct bilirubin 3.2 mg/dl,bile acid 15 μmol/l (n = 0.3-10),ast 45 u/l,alt 50 u/l,a peripheral blood smear is normal. there are no abnormalities on abdominopelvic ultrasonography. patient was diagnosed with hellp syndrome.'],\n",
              "             '=': ['a 25-year-old primigravid woman at 34-weeks gestation comes to the physician because of an 8-day history of generalized pruritus. she has no history of rash. she has had standard prenatal care. three weeks ago she was diagnosed with iron deficiency anemia. she traveled to mexico for a vacation 3 months ago. she takes her multivitamin supplements inconsistently. her blood pressure is 110/80 mmHg. examination shows pallor and mild scleral icterus. the uterus is soft, nontender, and consistent in size with a 34-week gestation. the remainder of the examination shows no abnormalities. laboratory studies show:hemoglobin 11 g/dl,leukocyte count 8,000/mm3,platelet 250,000/mm3,prothrombin time 11 seconds,serum,total bilirubin 4 mg/dl,direct bilirubin 3.2 mg/dl,bile acid 15 μmol/l (n = 0.3-10),ast 45 u/l,alt 50 u/l,a peripheral blood smear is normal. there are no abnormalities on abdominopelvic ultrasonography. patient was diagnosed with hellp syndrome.'],\n",
              "             '%': ['a 48-year-old man comes to the physician for the evaluation of dyspnea and cough. he was diagnosed with esophageal cancer 10 months ago, for which he received radiochemotherapy. he has a history of atopic dermatitis and has smoked one pack of cigarettes daily for 30 years. auscultation of the lungs shows decreased breath sounds bilaterally. patient was diagnosed with pulmonary emphysema after spirometry showed an fvc of 78% and an fev1/fvc ratio of 95%.'],\n",
              "             '^': ['a 64-year-old female presents to her primary care physician for an annual checkup. she states that her health is adequate, but she has not been doing well since her husband died last year. she is able to get by but admits to having trouble caring for herself, cooking, cleaning, and paying her bills. the patient complains of diffuse muscle aches and pains. she has a past medical history of anxiety and seasonal affective disorder. she is not currently taking any medications. on physical exam, you note a gaunt woman with a depressed affect. you note that her body mass index (bmi) and height have both decreased since her last annual visit. on physical exam, her cardiac, pulmonary, and abdominal exams are within normal limits. patient is diagnosed with osteoporosis after lab work is drawn and is as follows:,serum:na+: 135 meq/l,k+: 3.7 meq/l,cl-: 100 meq/l,hco3-: 23 meq/l,urea nitrogen: 7 mg/dl,glucose: 70 mg/dl,creatinine: 0.8 mg/dl,ca2+: 8.0 mg/dl,mg2+: 1.5 meq/l,parathyroid hormone: 855 pg/ml,alkaline phosphatase: 135 u/l,phosphorus: 2.6 mg/dl,hemoglobin: 14 g/dl,hematocrit: 36%,platelet count: 187,000/mm^3,leukocyte count: 4,700/mm^3'],\n",
              "             '>': ['a 52-year-old woman with hiv infection is brought to the emergency department 20 minutes after she had a generalized tonic-clonic seizure. she appears lethargic and confused. laboratory studies show a cd4+ count of 89 cells/μl (n > 500). a ct scan of the head with contrast shows multiple ring-enhancing lesions in the basal ganglia and subcortical white matter. an india ink preparation of cerebrospinal fluid is negative. patient is diagnosed with hiv encephalopathy.'],\n",
              "             'š': ['a 40-year-old woman with a suspected vipoma comes to the physician for right lower abdominal pain for 6 months. she has multiple non-bloody, watery bowel movements daily and experiences abdominal cramping. sometimes, she feels sudden palpitations, is short of breath, and her face becomes red. she has lost 7 kg over the past 3 months. she went on a 3-week hiking trip to cambodia 6 months ago. she has smoked a pack of cigarettes daily for 15 years. her temperature is 37ëšc (98.6 f), her pulse is 72/min and her blood pressure is 125/70 mmHg. on physical examination, tiny blood vessels are noted on her face and arms. lung auscultation shows bilateral wheezing. the abdomen is soft and nondistended. there is localized tenderness to the right lower quadrant, but no rebound tenderness or guarding. laboratory studies show:leukocyte count 4,600 /mm3,segmented neutrophils 61 %,eosinophils 2 %,platelet count 254,000 /mm3,hemoglobin 13.1 g/dl,serum,aspartate aminotransferase (ast) 110 iu/l,alanine aminotransferase (alt) 128 iu/l,c-reactive protein 8 mg/dl (n = 0-10),'],\n",
              "             'ë': ['a 40-year-old woman with a suspected vipoma comes to the physician for right lower abdominal pain for 6 months. she has multiple non-bloody, watery bowel movements daily and experiences abdominal cramping. sometimes, she feels sudden palpitations, is short of breath, and her face becomes red. she has lost 7 kg over the past 3 months. she went on a 3-week hiking trip to cambodia 6 months ago. she has smoked a pack of cigarettes daily for 15 years. her temperature is 37ëšc (98.6 f), her pulse is 72/min and her blood pressure is 125/70 mmHg. on physical examination, tiny blood vessels are noted on her face and arms. lung auscultation shows bilateral wheezing. the abdomen is soft and nondistended. there is localized tenderness to the right lower quadrant, but no rebound tenderness or guarding. laboratory studies show:leukocyte count 4,600 /mm3,segmented neutrophils 61 %,eosinophils 2 %,platelet count 254,000 /mm3,hemoglobin 13.1 g/dl,serum,aspartate aminotransferase (ast) 110 iu/l,alanine aminotransferase (alt) 128 iu/l,c-reactive protein 8 mg/dl (n = 0-10),'],\n",
              "             '<': ['a 36-year-old man presents to the emergency room with subacute worsening of chronic chest pain and shortness of breath with exertion. the patient is generally healthy, lifts weights regularly, and does not smoke. his temperature is 97.8 f (36.6 c), blood pressure is 122/83 mmHg, pulse is 80/min, respirations are 13/min, and oxygen saturation is 98% on room air. cardiac auscultation reveals a crescendo-decrescendo murmur heard right of the upper sternal border with radiation into the carotids. suspected of mitral insufficiency. an ecg shows left axis deviation and meets criteria for left ventricular hypertrophy. an initial troponin is < 0.01 ng/ml.'],\n",
              "             'α': ['a 29-year-old primigravid woman at 18 weeks gestation comes to the physician for her first prenatal visit. she works as a paralegal and lives with her husband. her current pregnancy was unexpected, and she did not take any prenatal medications or supplements. physical examination shows a uterus 2 inches above the umbilicus. the concentration of α-fetoprotein in the maternal serum and concentrations of both α-fetoprotein and acetylcholinesterase in the amniotic fluid are elevated. ultrasonography of the uterus confirms the fetus has holoprosencephaly showing an increased amniotic fluid volume.'],\n",
              "             '©': ['a 35-year-old woman comes to the physician because of a 1-month history of double vision, difficulty climbing stairs, and weakness when trying to brush her hair. she reports that these symptoms are worse after she exercises and disappear after she rests for a few hours. physical examination shows drooping of her right upper eyelid that worsens when the patient is asked to gaze at the ceiling for 2 minutes. there is diminished motor strength in the upper extremities. suspected of guillain- barrã© syndrome. the remainder of the examination shows no abnormalities.'],\n",
              "             'ã': ['a 35-year-old woman comes to the physician because of a 1-month history of double vision, difficulty climbing stairs, and weakness when trying to brush her hair. she reports that these symptoms are worse after she exercises and disappear after she rests for a few hours. physical examination shows drooping of her right upper eyelid that worsens when the patient is asked to gaze at the ceiling for 2 minutes. there is diminished motor strength in the upper extremities. suspected of guillain- barrã© syndrome. the remainder of the examination shows no abnormalities.'],\n",
              "             '™': ['a 25-year-old g1p0000 presents to her obstetrician™s office for a routine prenatal visit at 32 weeks gestation. at this visit, she feels well and has no complaints. her pregnancy has been uncomplicated, aside from her rh negative status, for which she received rhogam at 28 weeks gestation. the patient has a past medical history of mild intermittent asthma and migraine headaches. she currently uses her albuterol inhaler once a week and takes a prenatal vitamin. her temperature is 98.6 f (37.0 c), pulse is 70/min, blood pressure is 117/68 mmhg, and respirations are 13/min. cardiopulmonary exam is unremarkable, and abdominal exam reveals a gravid uterus with fundal height at 30 centimeters. bedside ultrasound reveals that the fetus is in transverse lie. the patientstates that she prefers to have a vaginal delivery. external cephalic version is recommended.'],\n",
              "             'β': ['a 19-year-old g1p0000 presents for her first obstetric ultrasound after having a positive home pregnancy test. at her visit, she states that she is unsure but believes her last menstrual period was 6 weeks ago. she complains of several weeks of severe nausea with vomiting and has lost 4 pounds from her baseline weight. she also endorses some palpitations, increased perspiration, and a fine tremor of both hands. she denies vaginal bleeding. ultrasound findings are shown in figure a and figure b, and her β-hcg is 227,183 miu/ml. propylthiouracil therapy is initiated.'],\n",
              "             'ÿ': ['a 34-year-old g2p2 woman presents to her obstetrician because of new onset discharge from her breast. she first noticed it in her bra a few days ago, but now she notes that at times she s soaking through to her blouse, which is mortifying. she was also concerned about being pregnant because she has not gotten her period in 3 months. in the office ãÿ-hcg is negative. the patients nipple discharge is guaiac negative. the patient is started on carbidopa-levodopa.'],\n",
              "             '!': ['a 22-year-old woman is brought to the emergency department 20 minutes after being detained by campus police for attempting to steal from the bookstore. her roommate says that the patient has been acting strangely over the last 2 weeks. she has not slept in 4 days and has painted her room twice in that time span. she has also spent all of her savings on online shopping and lottery tickets. she has no history of psychiatric illness or substance abuse, and takes no medications. during the examination, she is uncooperative, combative, and refusing care. she screams, let me go, god has a plan for me and i must go finish it! . her temperature is 37.2 c (99 f), pulse is 75/min, respirations are 16/min, and blood pressure is 130/80 mmHg. physical examination shows no abnormalities. on mental status examination, she describes her mood as amazing. she has a labile affect, speaks rapidly, and her thought process is tangential. she denies having any hallucinations. lithium was administered to the patient.']})"
            ]
          },
          "metadata": {},
          "execution_count": 15
        }
      ],
      "source": [
        "#Esto lo hago con el fin de validar que no haya caracteres especiales, estre codigo va antes y despues de la limpieza de caracteres especiales, con el fin de validar que tenia y que limpio\n",
        "\n",
        "text_column = df['Text']\n",
        "\n",
        "# Definir un patrón de regex para buscar caracteres que no sean alfanuméricos ni espacios básicos\n",
        "special_char_pattern = re.compile(r'[^a-zA-Z0-9\\s]')\n",
        "\n",
        "# Diccionario para almacenar hasta 5 ejemplos por cada carácter especial encontrado\n",
        "examples_per_special_char = defaultdict(list)\n",
        "\n",
        "# Recorrer cada texto en la columna 'Text'\n",
        "for text in text_column:\n",
        "    # Encontrar todos los caracteres especiales únicos en el texto actual\n",
        "    unique_special_chars = set(special_char_pattern.findall(text))\n",
        "    # Para cada carácter especial encontrado, agregar el texto actual como un ejemplo\n",
        "    for char in unique_special_chars:\n",
        "        if len(examples_per_special_char[char]) < 1:\n",
        "            examples_per_special_char[char].append(text)\n",
        "\n",
        "# Convertir el diccionario a un formato más legible para la presentación\n",
        "{char: examples[:2] for char, examples in examples_per_special_char.items()}\n",
        "examples_per_special_char"
      ]
    },
    {
      "cell_type": "code",
      "execution_count": 16,
      "metadata": {
        "colab": {
          "base_uri": "https://localhost:8080/"
        },
        "id": "rX4bq6dSS7mf",
        "outputId": "3dda5669-53c7-4381-9086-7d8c14b1b875"
      },
      "outputs": [
        {
          "output_type": "execute_result",
          "data": {
            "text/plain": [
              "([('.', 6464),\n",
              "  (',', 3704),\n",
              "  ('-', 1999),\n",
              "  ('/', 1473),\n",
              "  ('(', 451),\n",
              "  (')', 451),\n",
              "  (':', 230),\n",
              "  ('%', 163),\n",
              "  ('+', 117),\n",
              "  ('^', 22)],\n",
              " [('.', 9335),\n",
              "  (',', 4117),\n",
              "  ('-', 2822),\n",
              "  ('/', 2125),\n",
              "  ('(', 654),\n",
              "  (')', 654),\n",
              "  (':', 321),\n",
              "  ('â', 245),\n",
              "  ('%', 231),\n",
              "  ('€', 227)])"
            ]
          },
          "metadata": {},
          "execution_count": 16
        }
      ],
      "source": [
        "# Inspeccionar los caracteres especiales más frecuentes en 'Text' y 'Sentences'\n",
        "# Reviso nuevamente los 10 mas comunes, comparandolo con sentences y ver que resultados obtengo\n",
        "def extract_special_characters(text):\n",
        "    return special_char_pattern.findall(text)\n",
        "\n",
        "# Aplicar la extracción a las columnas 'Text' y 'Sentences'\n",
        "special_characters_text = ''.join(df['Text'].apply(lambda x: ''.join(extract_special_characters(x))))\n",
        "special_characters_sentences = ''.join(df['Sentences'].apply(lambda x: ''.join(extract_special_characters(x))))\n",
        "\n",
        "# Contar la frecuencia de cada caracter especial\n",
        "special_character_frequencies_text = Counter(special_characters_text)\n",
        "special_character_frequencies_sentences = Counter(special_characters_sentences)\n",
        "\n",
        "# Identificar los 10 caracteres especiales más comunes en cada columna\n",
        "top_10_special_characters_text = special_character_frequencies_text.most_common(10)\n",
        "top_10_special_characters_sentences = special_character_frequencies_sentences.most_common(10)\n",
        "\n",
        "top_10_special_characters_text, top_10_special_characters_sentences"
      ]
    },
    {
      "cell_type": "code",
      "execution_count": 17,
      "metadata": {
        "colab": {
          "base_uri": "https://localhost:8080/",
          "height": 310
        },
        "id": "Oru2qKcmS7mf",
        "outputId": "f16ff9f5-a7aa-48ed-af51-58f17657467e"
      },
      "outputs": [
        {
          "output_type": "execute_result",
          "data": {
            "text/plain": [
              "   Unnamed: 0   Text ID                                               Text  \\\n",
              "0           0  ms-val-0  a 24-year-old woman comes to the emergency dep...   \n",
              "1           1  ms-val-1  a 24-year-old woman comes to the emergency dep...   \n",
              "2           2  ms-val-2  a 43-year-old woman comes to the physician bec...   \n",
              "3           3  ms-val-3  a 4-year-old is brought into the emeregency ro...   \n",
              "4           4  ms-val-4  a previously healthy 25-year-old man comes to ...   \n",
              "\n",
              "                                           Sentences  Error Flag  \\\n",
              "0  0 A 24-year-old woman comes to the emergency d...           1   \n",
              "1  0 A 24-year-old woman comes to the emergency d...           0   \n",
              "2  0 A 43-year-old woman comes to the physician b...           1   \n",
              "3  0 A 4-year-old is brought into the emeregency ...           1   \n",
              "4  0 A previously healthy 25-year-old man comes t...           1   \n",
              "\n",
              "   Error Sentence ID                                     Error Sentence  \\\n",
              "0                  5      Culture tests indicate Neisseria gonorrhoeae.   \n",
              "1                 -1                                                NaN   \n",
              "2                 24  Pathology confirms Streptococcus pneumoniae is...   \n",
              "3                  4  Laboratory studies confirm that he has a respi...   \n",
              "4                  0  A previously healthy 25-year-old man comes to ...   \n",
              "\n",
              "                                  Corrected Sentence  \\\n",
              "0      Culture tests indicate Trichomonas vaginalis.   \n",
              "1                                                NaN   \n",
              "2  Pathology confirms Mycoplasma pneumoniae is th...   \n",
              "3  Laboratory studies confirm that he has parainf...   \n",
              "4  A previously healthy 25-year-old man comes to ...   \n",
              "\n",
              "                                      Corrected Text  \n",
              "0  A 24-year-old woman comes to the emergency dep...  \n",
              "1                                                NaN  \n",
              "2  A 43-year-old woman comes to the physician bec...  \n",
              "3  A 4-year-old is brought into the emeregency ro...  \n",
              "4  A previously healthy 25-year-old man comes to ...  "
            ],
            "text/html": [
              "\n",
              "  <div id=\"df-294ed51a-0ca0-44f8-badc-49587eeac572\" class=\"colab-df-container\">\n",
              "    <div>\n",
              "<style scoped>\n",
              "    .dataframe tbody tr th:only-of-type {\n",
              "        vertical-align: middle;\n",
              "    }\n",
              "\n",
              "    .dataframe tbody tr th {\n",
              "        vertical-align: top;\n",
              "    }\n",
              "\n",
              "    .dataframe thead th {\n",
              "        text-align: right;\n",
              "    }\n",
              "</style>\n",
              "<table border=\"1\" class=\"dataframe\">\n",
              "  <thead>\n",
              "    <tr style=\"text-align: right;\">\n",
              "      <th></th>\n",
              "      <th>Unnamed: 0</th>\n",
              "      <th>Text ID</th>\n",
              "      <th>Text</th>\n",
              "      <th>Sentences</th>\n",
              "      <th>Error Flag</th>\n",
              "      <th>Error Sentence ID</th>\n",
              "      <th>Error Sentence</th>\n",
              "      <th>Corrected Sentence</th>\n",
              "      <th>Corrected Text</th>\n",
              "    </tr>\n",
              "  </thead>\n",
              "  <tbody>\n",
              "    <tr>\n",
              "      <th>0</th>\n",
              "      <td>0</td>\n",
              "      <td>ms-val-0</td>\n",
              "      <td>a 24-year-old woman comes to the emergency dep...</td>\n",
              "      <td>0 A 24-year-old woman comes to the emergency d...</td>\n",
              "      <td>1</td>\n",
              "      <td>5</td>\n",
              "      <td>Culture tests indicate Neisseria gonorrhoeae.</td>\n",
              "      <td>Culture tests indicate Trichomonas vaginalis.</td>\n",
              "      <td>A 24-year-old woman comes to the emergency dep...</td>\n",
              "    </tr>\n",
              "    <tr>\n",
              "      <th>1</th>\n",
              "      <td>1</td>\n",
              "      <td>ms-val-1</td>\n",
              "      <td>a 24-year-old woman comes to the emergency dep...</td>\n",
              "      <td>0 A 24-year-old woman comes to the emergency d...</td>\n",
              "      <td>0</td>\n",
              "      <td>-1</td>\n",
              "      <td>NaN</td>\n",
              "      <td>NaN</td>\n",
              "      <td>NaN</td>\n",
              "    </tr>\n",
              "    <tr>\n",
              "      <th>2</th>\n",
              "      <td>2</td>\n",
              "      <td>ms-val-2</td>\n",
              "      <td>a 43-year-old woman comes to the physician bec...</td>\n",
              "      <td>0 A 43-year-old woman comes to the physician b...</td>\n",
              "      <td>1</td>\n",
              "      <td>24</td>\n",
              "      <td>Pathology confirms Streptococcus pneumoniae is...</td>\n",
              "      <td>Pathology confirms Mycoplasma pneumoniae is th...</td>\n",
              "      <td>A 43-year-old woman comes to the physician bec...</td>\n",
              "    </tr>\n",
              "    <tr>\n",
              "      <th>3</th>\n",
              "      <td>3</td>\n",
              "      <td>ms-val-3</td>\n",
              "      <td>a 4-year-old is brought into the emeregency ro...</td>\n",
              "      <td>0 A 4-year-old is brought into the emeregency ...</td>\n",
              "      <td>1</td>\n",
              "      <td>4</td>\n",
              "      <td>Laboratory studies confirm that he has a respi...</td>\n",
              "      <td>Laboratory studies confirm that he has parainf...</td>\n",
              "      <td>A 4-year-old is brought into the emeregency ro...</td>\n",
              "    </tr>\n",
              "    <tr>\n",
              "      <th>4</th>\n",
              "      <td>4</td>\n",
              "      <td>ms-val-4</td>\n",
              "      <td>a previously healthy 25-year-old man comes to ...</td>\n",
              "      <td>0 A previously healthy 25-year-old man comes t...</td>\n",
              "      <td>1</td>\n",
              "      <td>0</td>\n",
              "      <td>A previously healthy 25-year-old man comes to ...</td>\n",
              "      <td>A previously healthy 25-year-old man comes to ...</td>\n",
              "      <td>A previously healthy 25-year-old man comes to ...</td>\n",
              "    </tr>\n",
              "  </tbody>\n",
              "</table>\n",
              "</div>\n",
              "    <div class=\"colab-df-buttons\">\n",
              "\n",
              "  <div class=\"colab-df-container\">\n",
              "    <button class=\"colab-df-convert\" onclick=\"convertToInteractive('df-294ed51a-0ca0-44f8-badc-49587eeac572')\"\n",
              "            title=\"Convert this dataframe to an interactive table.\"\n",
              "            style=\"display:none;\">\n",
              "\n",
              "  <svg xmlns=\"http://www.w3.org/2000/svg\" height=\"24px\" viewBox=\"0 -960 960 960\">\n",
              "    <path d=\"M120-120v-720h720v720H120Zm60-500h600v-160H180v160Zm220 220h160v-160H400v160Zm0 220h160v-160H400v160ZM180-400h160v-160H180v160Zm440 0h160v-160H620v160ZM180-180h160v-160H180v160Zm440 0h160v-160H620v160Z\"/>\n",
              "  </svg>\n",
              "    </button>\n",
              "\n",
              "  <style>\n",
              "    .colab-df-container {\n",
              "      display:flex;\n",
              "      gap: 12px;\n",
              "    }\n",
              "\n",
              "    .colab-df-convert {\n",
              "      background-color: #E8F0FE;\n",
              "      border: none;\n",
              "      border-radius: 50%;\n",
              "      cursor: pointer;\n",
              "      display: none;\n",
              "      fill: #1967D2;\n",
              "      height: 32px;\n",
              "      padding: 0 0 0 0;\n",
              "      width: 32px;\n",
              "    }\n",
              "\n",
              "    .colab-df-convert:hover {\n",
              "      background-color: #E2EBFA;\n",
              "      box-shadow: 0px 1px 2px rgba(60, 64, 67, 0.3), 0px 1px 3px 1px rgba(60, 64, 67, 0.15);\n",
              "      fill: #174EA6;\n",
              "    }\n",
              "\n",
              "    .colab-df-buttons div {\n",
              "      margin-bottom: 4px;\n",
              "    }\n",
              "\n",
              "    [theme=dark] .colab-df-convert {\n",
              "      background-color: #3B4455;\n",
              "      fill: #D2E3FC;\n",
              "    }\n",
              "\n",
              "    [theme=dark] .colab-df-convert:hover {\n",
              "      background-color: #434B5C;\n",
              "      box-shadow: 0px 1px 3px 1px rgba(0, 0, 0, 0.15);\n",
              "      filter: drop-shadow(0px 1px 2px rgba(0, 0, 0, 0.3));\n",
              "      fill: #FFFFFF;\n",
              "    }\n",
              "  </style>\n",
              "\n",
              "    <script>\n",
              "      const buttonEl =\n",
              "        document.querySelector('#df-294ed51a-0ca0-44f8-badc-49587eeac572 button.colab-df-convert');\n",
              "      buttonEl.style.display =\n",
              "        google.colab.kernel.accessAllowed ? 'block' : 'none';\n",
              "\n",
              "      async function convertToInteractive(key) {\n",
              "        const element = document.querySelector('#df-294ed51a-0ca0-44f8-badc-49587eeac572');\n",
              "        const dataTable =\n",
              "          await google.colab.kernel.invokeFunction('convertToInteractive',\n",
              "                                                    [key], {});\n",
              "        if (!dataTable) return;\n",
              "\n",
              "        const docLinkHtml = 'Like what you see? Visit the ' +\n",
              "          '<a target=\"_blank\" href=https://colab.research.google.com/notebooks/data_table.ipynb>data table notebook</a>'\n",
              "          + ' to learn more about interactive tables.';\n",
              "        element.innerHTML = '';\n",
              "        dataTable['output_type'] = 'display_data';\n",
              "        await google.colab.output.renderOutput(dataTable, element);\n",
              "        const docLink = document.createElement('div');\n",
              "        docLink.innerHTML = docLinkHtml;\n",
              "        element.appendChild(docLink);\n",
              "      }\n",
              "    </script>\n",
              "  </div>\n",
              "\n",
              "\n",
              "<div id=\"df-b8dacdc4-5776-4d06-bb99-f3807586aa85\">\n",
              "  <button class=\"colab-df-quickchart\" onclick=\"quickchart('df-b8dacdc4-5776-4d06-bb99-f3807586aa85')\"\n",
              "            title=\"Suggest charts\"\n",
              "            style=\"display:none;\">\n",
              "\n",
              "<svg xmlns=\"http://www.w3.org/2000/svg\" height=\"24px\"viewBox=\"0 0 24 24\"\n",
              "     width=\"24px\">\n",
              "    <g>\n",
              "        <path d=\"M19 3H5c-1.1 0-2 .9-2 2v14c0 1.1.9 2 2 2h14c1.1 0 2-.9 2-2V5c0-1.1-.9-2-2-2zM9 17H7v-7h2v7zm4 0h-2V7h2v10zm4 0h-2v-4h2v4z\"/>\n",
              "    </g>\n",
              "</svg>\n",
              "  </button>\n",
              "\n",
              "<style>\n",
              "  .colab-df-quickchart {\n",
              "      --bg-color: #E8F0FE;\n",
              "      --fill-color: #1967D2;\n",
              "      --hover-bg-color: #E2EBFA;\n",
              "      --hover-fill-color: #174EA6;\n",
              "      --disabled-fill-color: #AAA;\n",
              "      --disabled-bg-color: #DDD;\n",
              "  }\n",
              "\n",
              "  [theme=dark] .colab-df-quickchart {\n",
              "      --bg-color: #3B4455;\n",
              "      --fill-color: #D2E3FC;\n",
              "      --hover-bg-color: #434B5C;\n",
              "      --hover-fill-color: #FFFFFF;\n",
              "      --disabled-bg-color: #3B4455;\n",
              "      --disabled-fill-color: #666;\n",
              "  }\n",
              "\n",
              "  .colab-df-quickchart {\n",
              "    background-color: var(--bg-color);\n",
              "    border: none;\n",
              "    border-radius: 50%;\n",
              "    cursor: pointer;\n",
              "    display: none;\n",
              "    fill: var(--fill-color);\n",
              "    height: 32px;\n",
              "    padding: 0;\n",
              "    width: 32px;\n",
              "  }\n",
              "\n",
              "  .colab-df-quickchart:hover {\n",
              "    background-color: var(--hover-bg-color);\n",
              "    box-shadow: 0 1px 2px rgba(60, 64, 67, 0.3), 0 1px 3px 1px rgba(60, 64, 67, 0.15);\n",
              "    fill: var(--button-hover-fill-color);\n",
              "  }\n",
              "\n",
              "  .colab-df-quickchart-complete:disabled,\n",
              "  .colab-df-quickchart-complete:disabled:hover {\n",
              "    background-color: var(--disabled-bg-color);\n",
              "    fill: var(--disabled-fill-color);\n",
              "    box-shadow: none;\n",
              "  }\n",
              "\n",
              "  .colab-df-spinner {\n",
              "    border: 2px solid var(--fill-color);\n",
              "    border-color: transparent;\n",
              "    border-bottom-color: var(--fill-color);\n",
              "    animation:\n",
              "      spin 1s steps(1) infinite;\n",
              "  }\n",
              "\n",
              "  @keyframes spin {\n",
              "    0% {\n",
              "      border-color: transparent;\n",
              "      border-bottom-color: var(--fill-color);\n",
              "      border-left-color: var(--fill-color);\n",
              "    }\n",
              "    20% {\n",
              "      border-color: transparent;\n",
              "      border-left-color: var(--fill-color);\n",
              "      border-top-color: var(--fill-color);\n",
              "    }\n",
              "    30% {\n",
              "      border-color: transparent;\n",
              "      border-left-color: var(--fill-color);\n",
              "      border-top-color: var(--fill-color);\n",
              "      border-right-color: var(--fill-color);\n",
              "    }\n",
              "    40% {\n",
              "      border-color: transparent;\n",
              "      border-right-color: var(--fill-color);\n",
              "      border-top-color: var(--fill-color);\n",
              "    }\n",
              "    60% {\n",
              "      border-color: transparent;\n",
              "      border-right-color: var(--fill-color);\n",
              "    }\n",
              "    80% {\n",
              "      border-color: transparent;\n",
              "      border-right-color: var(--fill-color);\n",
              "      border-bottom-color: var(--fill-color);\n",
              "    }\n",
              "    90% {\n",
              "      border-color: transparent;\n",
              "      border-bottom-color: var(--fill-color);\n",
              "    }\n",
              "  }\n",
              "</style>\n",
              "\n",
              "  <script>\n",
              "    async function quickchart(key) {\n",
              "      const quickchartButtonEl =\n",
              "        document.querySelector('#' + key + ' button');\n",
              "      quickchartButtonEl.disabled = true;  // To prevent multiple clicks.\n",
              "      quickchartButtonEl.classList.add('colab-df-spinner');\n",
              "      try {\n",
              "        const charts = await google.colab.kernel.invokeFunction(\n",
              "            'suggestCharts', [key], {});\n",
              "      } catch (error) {\n",
              "        console.error('Error during call to suggestCharts:', error);\n",
              "      }\n",
              "      quickchartButtonEl.classList.remove('colab-df-spinner');\n",
              "      quickchartButtonEl.classList.add('colab-df-quickchart-complete');\n",
              "    }\n",
              "    (() => {\n",
              "      let quickchartButtonEl =\n",
              "        document.querySelector('#df-b8dacdc4-5776-4d06-bb99-f3807586aa85 button');\n",
              "      quickchartButtonEl.style.display =\n",
              "        google.colab.kernel.accessAllowed ? 'block' : 'none';\n",
              "    })();\n",
              "  </script>\n",
              "</div>\n",
              "\n",
              "    </div>\n",
              "  </div>\n"
            ],
            "application/vnd.google.colaboratory.intrinsic+json": {
              "type": "dataframe",
              "variable_name": "df",
              "summary": "{\n  \"name\": \"df\",\n  \"rows\": 574,\n  \"fields\": [\n    {\n      \"column\": \"Unnamed: 0\",\n      \"properties\": {\n        \"dtype\": \"number\",\n        \"std\": 165,\n        \"min\": 0,\n        \"max\": 573,\n        \"num_unique_values\": 574,\n        \"samples\": [\n          514,\n          70,\n          131\n        ],\n        \"semantic_type\": \"\",\n        \"description\": \"\"\n      }\n    },\n    {\n      \"column\": \"Text ID\",\n      \"properties\": {\n        \"dtype\": \"string\",\n        \"num_unique_values\": 574,\n        \"samples\": [\n          \"ms-val-514\",\n          \"ms-val-70\",\n          \"ms-val-131\"\n        ],\n        \"semantic_type\": \"\",\n        \"description\": \"\"\n      }\n    },\n    {\n      \"column\": \"Text\",\n      \"properties\": {\n        \"dtype\": \"string\",\n        \"num_unique_values\": 574,\n        \"samples\": [\n          \"a 27-year-old woman is brought to the emergency department by her coworker after having a generalized seizure at work. her coworker reports that she is at 30 weeks gestation and has mentioned headache and right upper quadrant pain earlier that day. her temperature is 37 c (98.6 f), pulse is 91/min, and blood pressure is 170/102 mmHg. pulmonary examination shows bilateral rales. there is diffuse edema in the lower extremities. deep tendon reflexes are increased bilaterally. lorazepam is prescribed. she is not oriented to person, place, and time.\",\n          \"a 23-year-old man is brought to the emergency department by his mother because of a change in his personality. the mother reports that over the past 7 months her son has become increasingly withdrawn, he has not answered any phone calls or visited his family and friends. he had always been a quiet boy, who needed some time on his own, but he used to meet with friends at least once a week. the patientsays that he cannot leave the house because aliens are watching him and stealing his thoughts . he does not drink alcohol. he used to smoke marijuana occasionally but quit 1 year ago. his vital signs are within normal limits. physical examination shows no abnormalities. on mental status examination, it is impossible to follow the patients sequence of thoughts. he is anxious and has a flat affect. the patient is diagnosed with schizophreniform disorder.\",\n          \"five days after undergoing an open abdominal aortic aneurysm repair, a 68-year-old woman has crampy abdominal pain. during this period, she has also had two episodes of loose, bloody stools. her surgery was complicated by severe blood loss requiring the administration of vasopressors and multiple transfusions. cefazolin was administered as a perioperative antibiotic. the patient has hypertension, hypercholesterolemia, and coronary artery disease. the patient has smoked 2 packs of cigarettes daily for 50 years and drinks 3-4 glasses of wine every week. her current medications include hydrochlorothiazide, atorvastatin, amlodipine, aspirin, and metoprolol. she appears ill. her temperature is 38.0 c (100.4 f), pulse is 110/min, and blood pressure is 96/58 mmHg. physical examination shows a distended abdomen with absent bowel sounds. the abdomen is exquisitely tender to palpation in all quadrants. the lungs are clear to auscultation. cardiac examination shows an s4 gallop. an x-ray of the abdomen shows air-filled distended bowel. patient was diagnosed with ischemic colitis.\"\n        ],\n        \"semantic_type\": \"\",\n        \"description\": \"\"\n      }\n    },\n    {\n      \"column\": \"Sentences\",\n      \"properties\": {\n        \"dtype\": \"string\",\n        \"num_unique_values\": 574,\n        \"samples\": [\n          \"0 A 27-year-old woman is brought to the emergency department by her coworker after having a generalized seizure at work.\\n1 Her coworker reports that she is at 30 weeks' gestation and has mentioned headache and right upper quadrant pain earlier that day.\\n2 Her temperature is 37 C (98.6 F), pulse is 91/min, and blood pressure is 170/102 mm\\n3 Hg.\\n4 Pulmonary examination shows bilateral rales.\\n5 There is diffuse edema in the lower extremities.\\n6 Deep tendon reflexes are increased bilaterally.\\n7 Lorazepam is prescribed.\\n8 She is not oriented to person, place, and time.\\n\",\n          \"0 A 23-year-old man is brought to the emergency department by his mother because of a change in his personality.\\n1 The mother reports that over the past 7 months her son has become increasingly withdrawn; he has not answered any phone calls or visited his family and friends.\\n2 He had always been a quiet boy, who needed some time on his own, but he used to meet with friends at least once a week.\\n3 The patient says that he cannot leave the house because aliens are watching him and \\u00e2\\u20ac\\u0153stealing his thoughts\\u00e2\\u20ac\\u009d.\\n4 He does not drink alcohol.\\n5 He used to smoke marijuana occasionally but quit 1 year ago.\\n6 His vital signs are within normal limits.\\n7 Physical examination shows no abnormalities.\\n8 On mental status examination, it is impossible to follow the patient's sequence of thoughts.\\n9 He is anxious and has a flat affect.\\n10 The patient is diagnosed with schizophreniform disorder.\\n\",\n          \"0 Five days after undergoing an open abdominal aortic aneurysm repair, a 68-year-old woman has crampy abdominal pain.\\n1 During this period, she has also had two episodes of loose, bloody stools.\\n2 Her surgery was complicated by severe blood loss requiring the administration of vasopressors and multiple transfusions.\\n3 Cefazolin was administered as a perioperative antibiotic.\\n4 The patient has hypertension, hypercholesterolemia, and coronary artery disease.\\n5 The patient has smoked 2 packs of cigarettes daily for 50 years and drinks 3\\u00e2\\u20ac\\u201c4 glasses of wine every week.\\n6 Her current medications include hydrochlorothiazide, atorvastatin, amlodipine, aspirin, and metoprolol.\\n7 She appears ill.\\n8 Her temperature is 38.0 C (100.4 F), pulse is 110/min, and blood pressure is 96/58 mm\\n9 Hg.\\n10 Based on exam and imaging findings, the patient was diagnosed with abdominal compartment syndrome. .\\n11 Physical examination showed a distended abdomen with absent bowel sounds.\\n12 The abdomen was exquisitely tender to palpation in all quadrants.\\n13 The lungs were clear to auscultation.\\n14 Cardiac examination showed an S4 gallop.\\n15 An x-ray of the abdomen showed air-filled distended bowel.\\n0 Five days after undergoing an open abdominal aortic aneurysm repair, a 68-year-old woman has crampy abdominal pain.\\n1 During this period, she has also had two episodes of loose, bloody stools.\\n2 Her surgery was complicated by severe blood loss requiring the administration of vasopressors and multiple transfusions.\\n3 Cefazolin was administered as a perioperative antibiotic.\\n4 The patient has hypertension, hypercholesterolemia, and coronary artery disease.\\n5 The patient has smoked 2 packs of cigarettes daily for 50 years and drinks 3\\u00e2\\u20ac\\u201c4 glasses of wine every week.\\n6 Her current medications include hydrochlorothiazide, atorvastatin, amlodipine, aspirin, and metoprolol.\\n7 She appears ill.\\n8 Her temperature is 38.0 C (100.4 F), pulse is 110/min, and blood pressure is 96/58 mm\\n9 Hg.\\n10 Physical examination shows a distended abdomen with absent bowel sounds.\\n11 The abdomen is exquisitely tender to palpation in all quadrants.\\n12 The lungs are clear to auscultation.\\n13 Cardiac examination shows an S4 gallop.\\n14 An x-ray of the abdomen shows air-filled distended bowel.\\n15 Patient was diagnosed with ischemic colitis.\\n\"\n        ],\n        \"semantic_type\": \"\",\n        \"description\": \"\"\n      }\n    },\n    {\n      \"column\": \"Error Flag\",\n      \"properties\": {\n        \"dtype\": \"number\",\n        \"std\": 0,\n        \"min\": 0,\n        \"max\": 1,\n        \"num_unique_values\": 2,\n        \"samples\": [\n          0,\n          1\n        ],\n        \"semantic_type\": \"\",\n        \"description\": \"\"\n      }\n    },\n    {\n      \"column\": \"Error Sentence ID\",\n      \"properties\": {\n        \"dtype\": \"number\",\n        \"std\": 6,\n        \"min\": -1,\n        \"max\": 34,\n        \"num_unique_values\": 34,\n        \"samples\": [\n          16,\n          30\n        ],\n        \"semantic_type\": \"\",\n        \"description\": \"\"\n      }\n    },\n    {\n      \"column\": \"Error Sentence\",\n      \"properties\": {\n        \"dtype\": \"string\",\n        \"num_unique_values\": 319,\n        \"samples\": [\n          \"Suspected of protein malnutrition.\",\n          \"Prednisone is prescribed to the patient after an initial radiograph of the hip is unremarkable.\"\n        ],\n        \"semantic_type\": \"\",\n        \"description\": \"\"\n      }\n    },\n    {\n      \"column\": \"Corrected Sentence\",\n      \"properties\": {\n        \"dtype\": \"string\",\n        \"num_unique_values\": 319,\n        \"samples\": [\n          \"Suspected of cystic fibrosis.\",\n          \"Ibuprofen is started after an initial radiograph of the hip is unremarkable.\"\n        ],\n        \"semantic_type\": \"\",\n        \"description\": \"\"\n      }\n    },\n    {\n      \"column\": \"Corrected Text\",\n      \"properties\": {\n        \"dtype\": \"string\",\n        \"num_unique_values\": 319,\n        \"samples\": [\n          \"A 14-year-old boy is brought to the physician because of increasing swelling of his legs and generalized fatigue for 1 month. During this period he has also had a productive cough and shortness of breath. He has been unable to carry out his daily activities. He has a history of recurrent respiratory tract infections and chronic nasal congestion since childhood. He has a 3-month history of foul-smelling and greasy stools. He is at 4th percentile for height and weight. His temperature is 37 C (98.6 F), pulse is 112/min, respirations are 23/min, and blood pressure is 104/64 mm Hg. Examination shows clubbing of his fingers and scoliosis. There is 2+ pitting edema of the lower extremities. Jugular venous distention is present. Inspiratory crackles are heard in the thorax. Cardiac examination shows a loud S2. The abdomen is mildly distended and the liver is palpated 2 cm below the right costal margin. Hepato-jugular reflux is present. Suspected of cystic fibrosis.\",\n          \"A 7-year-old boy presents with right hip pain for the past 2 days. He reports gradual onset of pain and states it hurts to walk. He had a recent cold last week but is otherwise healthy. His temperature is 98.2 F (36.8 C), blood pressure is 107/70 mm Hg, pulse is 90/min, respiratory rate is 19/min, and oxygen saturation is 98% on room air. Physical exam reveals no swelling or warmth surrounding the joint. The patient is sitting with the right hip flexed, abducted, and externally rotated. Passive range of motion of the hip causes discomfort. The patient is able to ambulate but states it hurts. Ibuprofen is started after an initial radiograph of the hip is unremarkable. The patient's CRP is 0.10 mg/L.\"\n        ],\n        \"semantic_type\": \"\",\n        \"description\": \"\"\n      }\n    }\n  ]\n}"
            }
          },
          "metadata": {},
          "execution_count": 17
        }
      ],
      "source": [
        "df.head()"
      ]
    },
    {
      "cell_type": "code",
      "execution_count": 18,
      "metadata": {
        "colab": {
          "base_uri": "https://localhost:8080/"
        },
        "id": "uP3uINM_S7mf",
        "outputId": "6f26266e-1276-414a-c7c7-4c5e2d3994e1"
      },
      "outputs": [
        {
          "output_type": "execute_result",
          "data": {
            "text/plain": [
              "count    574.000000\n",
              "mean     286.500000\n",
              "std      165.843802\n",
              "min        0.000000\n",
              "25%      143.250000\n",
              "50%      286.500000\n",
              "75%      429.750000\n",
              "max      573.000000\n",
              "Name: Unnamed: 0, dtype: float64"
            ]
          },
          "metadata": {},
          "execution_count": 18
        }
      ],
      "source": [
        "# Estadísticas para 'Unnamed: 0' (siendo numérica, pero solo representa un índice)\n",
        "unnamed_stats = df['Unnamed: 0'].describe()\n",
        "unnamed_stats"
      ]
    },
    {
      "cell_type": "code",
      "execution_count": 19,
      "metadata": {
        "colab": {
          "base_uri": "https://localhost:8080/"
        },
        "id": "VuHnFvZ2S7mg",
        "outputId": "179aa458-938f-4400-8198-b6f5a8351418"
      },
      "outputs": [
        {
          "output_type": "execute_result",
          "data": {
            "text/plain": [
              "count          574\n",
              "unique         574\n",
              "top       ms-val-0\n",
              "freq             1\n",
              "Name: Text ID, dtype: object"
            ]
          },
          "metadata": {},
          "execution_count": 19
        }
      ],
      "source": [
        "# Estadísticas para 'Text ID' (resumen categórico)\n",
        "text_id_stats = df['Text ID'].describe()\n",
        "text_id_stats\n"
      ]
    },
    {
      "cell_type": "code",
      "execution_count": 20,
      "metadata": {
        "colab": {
          "base_uri": "https://localhost:8080/"
        },
        "id": "9H8XrfVbS7mi",
        "outputId": "095e8f21-55a2-4e4b-ad22-55beccd7deba"
      },
      "outputs": [
        {
          "output_type": "execute_result",
          "data": {
            "text/plain": [
              "count                                                   574\n",
              "unique                                                  574\n",
              "top       a 24-year-old woman comes to the emergency dep...\n",
              "freq                                                      1\n",
              "Name: Text, dtype: object"
            ]
          },
          "metadata": {},
          "execution_count": 20
        }
      ],
      "source": [
        "# Estadísticas para 'Text' (resumen categórico)\n",
        "text_stats = df['Text'].describe()\n",
        "\n",
        "text_stats\n"
      ]
    },
    {
      "cell_type": "code",
      "execution_count": 21,
      "metadata": {
        "colab": {
          "base_uri": "https://localhost:8080/"
        },
        "id": "62XjkfL9S7mj",
        "outputId": "29fddfe3-bc77-49c9-d418-3d7fa32e491a"
      },
      "outputs": [
        {
          "output_type": "execute_result",
          "data": {
            "text/plain": [
              "count                                                   574\n",
              "unique                                                  574\n",
              "top       0 A 24-year-old woman comes to the emergency d...\n",
              "freq                                                      1\n",
              "Name: Sentences, dtype: object"
            ]
          },
          "metadata": {},
          "execution_count": 21
        }
      ],
      "source": [
        "# Estadísticas para 'Sentences' (resumen categórico)\n",
        "sentences_stats = df['Sentences'].describe()\n",
        "\n",
        "sentences_stats"
      ]
    },
    {
      "cell_type": "code",
      "execution_count": 22,
      "metadata": {
        "colab": {
          "base_uri": "https://localhost:8080/"
        },
        "id": "7LUA5Da5S7mj",
        "outputId": "965eccbf-e50a-432e-92e1-a59eb30a90bc"
      },
      "outputs": [
        {
          "output_type": "execute_result",
          "data": {
            "text/plain": [
              "(227    a 47-year-old woman comes to the physician for...\n",
              " 202    a 48-year-old woman comes to the emergency dep...\n",
              " 146    a 25-year-old woman comes to the physician for...\n",
              " 242    a 27-year-old woman, gravida 2, para 1, at 37 ...\n",
              " 244    a 3500-g (7.7-lbs) girl is delivered at 39 wee...\n",
              " 445    a 62-year-old man comes to the emergency depar...\n",
              " 393    a 7-year-old boy presents with right hip pain ...\n",
              " 156    a 13-year-old boy is brought to the physician ...\n",
              " 305    a previously healthy 18-year-old army recruit ...\n",
              " 495    a 60-year-old man with a 1-year history of rec...\n",
              " 169    a 32-year-old woman with cluster headaches com...\n",
              " 405    a 6-month-old male presents to the emergency d...\n",
              " 108    a 3175-g (7-lb) female newborn is delivered at...\n",
              " 161    a 17-year-old rugby player limped into the eme...\n",
              " 518    a 52-year-old man comes to the physician becau...\n",
              " 423    a 43-year-old man is brought to the emergency ...\n",
              " 269    a 12-year-old boy is brought to his pediatrici...\n",
              " 165    a 29-year-old primigravid woman at 18 weeks ge...\n",
              " 171    a 29-year-old woman is brought to the physicia...\n",
              " 253    a 5-year-old male presents to the pediatrician...\n",
              " Name: Text, dtype: object,\n",
              " 410    a 27-year-old woman, gravida 2, para 1, at 38 ...\n",
              " 71     a 23-year-old man is brought to the emergency ...\n",
              " 241    a 74-year-old man undergoes an open cholecyste...\n",
              " 245    a 3500-g (7.7-lbs) girl is delivered at 39 wee...\n",
              " 505    a 68-year-old man with hypertension comes to t...\n",
              " 235    a previously healthy 30-year-old woman comes t...\n",
              " 358    a 19-month-old girl is brought for a well-chil...\n",
              " 57     a 14-year-old boy is brought to the physician ...\n",
              " 550    a 68-year-old man presents to his primary care...\n",
              " 418    two days after delivery, a 4300-g (9-lb 8-oz) ...\n",
              " 573    a 56-year-old woman with a history of alcoholi...\n",
              " 139    a 36-year-old man presents to the emergency ro...\n",
              " 11     a 59-year-old man comes to the emergency depar...\n",
              " 509    a 50-year-old man comes to the physician becau...\n",
              " 96     a 37-year-old woman, gravida 4, para 3, at 35 ...\n",
              " 380    a 53-year-old woman with type 2 diabetes melli...\n",
              " 296    a 39-year-old woman comes to the physician bec...\n",
              " 112    a 53-year-old man is brought to the emergency ...\n",
              " 283    a 53-year-old woman comes to the physician for...\n",
              " 310    a 53-year-old man is brought to the emergency ...\n",
              " Name: Text, dtype: object)"
            ]
          },
          "metadata": {},
          "execution_count": 22
        }
      ],
      "source": [
        "# Seleccionando solo la columna 'Text' para ejemplos donde Error Flag es 1\n",
        "error_flag_1_text_examples = df[df['Error Flag'] == 1]['Text'].sample(n=20, random_state=1)\n",
        "\n",
        "# Seleccionando solo la columna 'Text' para ejemplos donde Error Flag es 0\n",
        "error_flag_0_text_examples = df[df['Error Flag'] == 0]['Text'].sample(n=20, random_state=1)\n",
        "\n",
        "# Mostrando los ejemplos\n",
        "error_flag_1_text_examples, error_flag_0_text_examples\n"
      ]
    },
    {
      "cell_type": "code",
      "execution_count": 23,
      "metadata": {
        "id": "kufG6h6CS7mk"
      },
      "outputs": [],
      "source": [
        "from sklearn.feature_extraction.text import TfidfVectorizer"
      ]
    },
    {
      "cell_type": "markdown",
      "metadata": {
        "id": "iaVQymmXS7mk"
      },
      "source": [
        "TF-IDF, que significa \"Term Frequency-Inverse Document Frequency\" (Frecuencia de Término - Frecuencia Inversa de Documento), es una técnica estadística utilizada para evaluar la importancia de una palabra en un documento dentro de una colección o corpus de documentos."
      ]
    },
    {
      "cell_type": "code",
      "execution_count": 24,
      "metadata": {
        "colab": {
          "base_uri": "https://localhost:8080/",
          "height": 807
        },
        "id": "jpH_BeGfS7ml",
        "outputId": "aa69e7ab-6eea-4105-855b-1d69d30ae48f"
      },
      "outputs": [
        {
          "output_type": "display_data",
          "data": {
            "text/plain": [
              "<Figure size 1000x800 with 1 Axes>"
            ],
            "image/png": "[encoded data removed]"
          },
          "metadata": {}
        }
      ],
      "source": [
        "import numpy as np\n",
        "import matplotlib.pyplot as plt\n",
        "\n",
        "vectorizer = TfidfVectorizer(ngram_range=(1, 3))\n",
        "\n",
        "# Seleccionando solo los textos con errores\n",
        "texts_with_errors = df[df['Error Flag'] == 1]['Text']\n",
        "\n",
        "#\n",
        "# Ajustando el vectorizador a los textos y transformándolos en una matriz TF-IDF\n",
        "tfidf_matrix = vectorizer.fit_transform(texts_with_errors)\n",
        "\n",
        "# Obteniendo los nombres de las características (términos) para su posterior análisis\n",
        "feature_names = vectorizer.get_feature_names_out()\n",
        "\n",
        "# Calculando las puntuaciones TF-IDF promedio para cada término\n",
        "tfidf_means = np.mean(tfidf_matrix, axis=0)\n",
        "tfidf_means = np.array(tfidf_means).flatten()\n",
        "\n",
        "# Creando un DataFrame para los términos y sus puntuaciones TF-IDF promedio\n",
        "terms_tfidf = pd.DataFrame({'Term': feature_names, 'TF-IDF': tfidf_means})\n",
        "\n",
        "# Ordenando los términos por sus puntuaciones TF-IDF promedio, de mayor a menor\n",
        "terms_tfidf_sorted = terms_tfidf.sort_values(by='TF-IDF', ascending=False).head(20)\n",
        "\n",
        "# Graficando los 20 términos más relevantes basados en sus puntuaciones TF-IDF promedio\n",
        "plt.figure(figsize=(10, 8))\n",
        "plt.barh(terms_tfidf_sorted['Term'][::-1], terms_tfidf_sorted['TF-IDF'][::-1], color='skyblue')\n",
        "plt.xlabel('Mean TF-IDF Score')\n",
        "plt.ylabel('Terms')\n",
        "plt.title('Top 20 Terms by Mean TF-IDF Score')\n",
        "plt.tight_layout()\n",
        "plt.show()\n"
      ]
    },
    {
      "cell_type": "markdown",
      "metadata": {
        "id": "Y4oSWYiRS7mm"
      },
      "source": [
        "**Bigramas (Dos Palabras Consecutivas)**\n",
        "\n",
        "- La gráfica de bigramas revela combinaciones de dos palabras que aparecen juntas frecuentemente en textos con errores. Estos bigramas pueden representar frases técnicas específicas, entidades nombradas, o patrones lingüísticos que son comunes en textos con imprecisiones o errores específicos.\n",
        "Los bigramas con mayores puntuaciones TF-IDF son aquellos que, si bien pueden aparecer en un número limitado de documentos, su presencia es muy significativa dentro de esos textos."
      ]
    },
    {
      "cell_type": "code",
      "execution_count": 25,
      "metadata": {
        "colab": {
          "base_uri": "https://localhost:8080/",
          "height": 807
        },
        "id": "KoaMeyI1S7mm",
        "outputId": "1c1ed639-a568-4ae4-8279-b19576b72bc8"
      },
      "outputs": [
        {
          "output_type": "display_data",
          "data": {
            "text/plain": [
              "<Figure size 1000x800 with 1 Axes>"
            ],
            "image/png": "[encoded data removed]"
          },
          "metadata": {}
        }
      ],
      "source": [
        "# bigramas\n",
        "bigrams = [term for term in feature_names if len(term.split()) == 2]\n",
        "\n",
        "# Filtrando las puntuaciones TF-IDF para bigramas y trigramas\n",
        "bigrams_tfidf = terms_tfidf[terms_tfidf['Term'].isin(bigrams)].sort_values(by='TF-IDF', ascending=False).head(10)\n",
        "\n",
        "# Gráficas para Bigramas\n",
        "plt.figure(figsize=(10, 8))\n",
        "plt.barh(bigrams_tfidf['Term'][::-1], bigrams_tfidf['TF-IDF'][::-1], color='lightgreen')\n",
        "plt.xlabel('Mean TF-IDF Score')\n",
        "plt.ylabel('Bigrams')\n",
        "plt.title('Top 10 Bigrams by Mean TF-IDF Score')\n",
        "plt.tight_layout()\n",
        "plt.show()\n",
        "\n"
      ]
    },
    {
      "cell_type": "markdown",
      "metadata": {
        "id": "Atj1oEHfS7mm"
      },
      "source": [
        "**Trigramas (Tres Palabras Consecutivas)**\n",
        "\n",
        "- Similarmente, la gráfica de trigramas muestra las secuencias de tres palabras que son destacadas en el contexto de los errores. Estos trigramas pueden proporcionar aún más contexto que los bigramas, capturando frases o términos técnicos complejos que son cruciales para entender los errores específicos en el texto.\n",
        "Al igual que con los bigramas, los trigramas de alta puntuación TF-IDF son especialmente relevantes para los documentos en los que aparecen, lo que indica su importancia para identificar o caracterizar los errores."
      ]
    },
    {
      "cell_type": "code",
      "execution_count": 26,
      "metadata": {
        "colab": {
          "base_uri": "https://localhost:8080/",
          "height": 807
        },
        "id": "5hA20s7NS7mn",
        "outputId": "c9a3c03e-137e-4dc2-af90-bee70555e522"
      },
      "outputs": [
        {
          "output_type": "display_data",
          "data": {
            "text/plain": [
              "<Figure size 1000x800 with 1 Axes>"
            ],
            "image/png": "[encoded data removed]"
          },
          "metadata": {}
        }
      ],
      "source": [
        "trigrams = [term for term in feature_names if len(term.split()) == 3]\n",
        "\n",
        "# Filtrando las puntuaciones TF-IDF\n",
        "trigrams_tfidf = terms_tfidf[terms_tfidf['Term'].isin(trigrams)].sort_values(by='TF-IDF', ascending=False).head(10)\n",
        "\n",
        "# Gráficas para Trigramas\n",
        "plt.figure(figsize=(10, 8))\n",
        "plt.barh(trigrams_tfidf['Term'][::-1], trigrams_tfidf['TF-IDF'][::-1], color='lightcoral')\n",
        "plt.xlabel('Mean TF-IDF Score')\n",
        "plt.ylabel('Trigrams')\n",
        "plt.title('Top 10 Trigrams by Mean TF-IDF Score')\n",
        "plt.tight_layout()\n",
        "plt.show()\n"
      ]
    },
    {
      "cell_type": "code",
      "execution_count": 27,
      "metadata": {
        "colab": {
          "base_uri": "https://localhost:8080/"
        },
        "id": "-xkrT45gS7mn",
        "outputId": "9e729709-4727-44f9-f6ad-085b30269547"
      },
      "outputs": [
        {
          "output_type": "stream",
          "name": "stdout",
          "text": [
            "Requirement already satisfied: torch in /usr/local/lib/python3.10/dist-packages (2.2.1+cu121)\n",
            "Requirement already satisfied: filelock in /usr/local/lib/python3.10/dist-packages (from torch) (3.13.1)\n",
            "Requirement already satisfied: typing-extensions>=4.8.0 in /usr/local/lib/python3.10/dist-packages (from torch) (4.10.0)\n",
            "Requirement already satisfied: sympy in /usr/local/lib/python3.10/dist-packages (from torch) (1.12)\n",
            "Requirement already satisfied: networkx in /usr/local/lib/python3.10/dist-packages (from torch) (3.2.1)\n",
            "Requirement already satisfied: jinja2 in /usr/local/lib/python3.10/dist-packages (from torch) (3.1.3)\n",
            "Requirement already satisfied: fsspec in /usr/local/lib/python3.10/dist-packages (from torch) (2023.6.0)\n",
            "Requirement already satisfied: nvidia-cuda-nvrtc-cu12==12.1.105 in /usr/local/lib/python3.10/dist-packages (from torch) (12.1.105)\n",
            "Requirement already satisfied: nvidia-cuda-runtime-cu12==12.1.105 in /usr/local/lib/python3.10/dist-packages (from torch) (12.1.105)\n",
            "Requirement already satisfied: nvidia-cuda-cupti-cu12==12.1.105 in /usr/local/lib/python3.10/dist-packages (from torch) (12.1.105)\n",
            "Requirement already satisfied: nvidia-cudnn-cu12==8.9.2.26 in /usr/local/lib/python3.10/dist-packages (from torch) (8.9.2.26)\n",
            "Requirement already satisfied: nvidia-cublas-cu12==12.1.3.1 in /usr/local/lib/python3.10/dist-packages (from torch) (12.1.3.1)\n",
            "Requirement already satisfied: nvidia-cufft-cu12==11.0.2.54 in /usr/local/lib/python3.10/dist-packages (from torch) (11.0.2.54)\n",
            "Requirement already satisfied: nvidia-curand-cu12==10.3.2.106 in /usr/local/lib/python3.10/dist-packages (from torch) (10.3.2.106)\n",
            "Requirement already satisfied: nvidia-cusolver-cu12==11.4.5.107 in /usr/local/lib/python3.10/dist-packages (from torch) (11.4.5.107)\n",
            "Requirement already satisfied: nvidia-cusparse-cu12==12.1.0.106 in /usr/local/lib/python3.10/dist-packages (from torch) (12.1.0.106)\n",
            "Requirement already satisfied: nvidia-nccl-cu12==2.19.3 in /usr/local/lib/python3.10/dist-packages (from torch) (2.19.3)\n",
            "Requirement already satisfied: nvidia-nvtx-cu12==12.1.105 in /usr/local/lib/python3.10/dist-packages (from torch) (12.1.105)\n",
            "Requirement already satisfied: triton==2.2.0 in /usr/local/lib/python3.10/dist-packages (from torch) (2.2.0)\n",
            "Requirement already satisfied: nvidia-nvjitlink-cu12 in /usr/local/lib/python3.10/dist-packages (from nvidia-cusolver-cu12==11.4.5.107->torch) (12.4.99)\n",
            "Requirement already satisfied: MarkupSafe>=2.0 in /usr/local/lib/python3.10/dist-packages (from jinja2->torch) (2.1.5)\n",
            "Requirement already satisfied: mpmath>=0.19 in /usr/local/lib/python3.10/dist-packages (from sympy->torch) (1.3.0)\n"
          ]
        }
      ],
      "source": [
        "pip install torch"
      ]
    },
    {
      "cell_type": "code",
      "execution_count": 28,
      "metadata": {
        "colab": {
          "base_uri": "https://localhost:8080/"
        },
        "id": "oc0wquxTUklb",
        "outputId": "ec99c489-9842-4093-9ef8-198fc0ca7acb"
      },
      "outputs": [
        {
          "output_type": "stream",
          "name": "stdout",
          "text": [
            "Requirement already satisfied: transformers[torch] in /usr/local/lib/python3.10/dist-packages (4.39.1)\n",
            "Requirement already satisfied: filelock in /usr/local/lib/python3.10/dist-packages (from transformers[torch]) (3.13.1)\n",
            "Requirement already satisfied: huggingface-hub<1.0,>=0.19.3 in /usr/local/lib/python3.10/dist-packages (from transformers[torch]) (0.20.3)\n",
            "Requirement already satisfied: numpy>=1.17 in /usr/local/lib/python3.10/dist-packages (from transformers[torch]) (1.25.2)\n",
            "Requirement already satisfied: packaging>=20.0 in /usr/local/lib/python3.10/dist-packages (from transformers[torch]) (24.0)\n",
            "Requirement already satisfied: pyyaml>=5.1 in /usr/local/lib/python3.10/dist-packages (from transformers[torch]) (6.0.1)\n",
            "Requirement already satisfied: regex!=2019.12.17 in /usr/local/lib/python3.10/dist-packages (from transformers[torch]) (2023.12.25)\n",
            "Requirement already satisfied: requests in /usr/local/lib/python3.10/dist-packages (from transformers[torch]) (2.31.0)\n",
            "Requirement already satisfied: tokenizers<0.19,>=0.14 in /usr/local/lib/python3.10/dist-packages (from transformers[torch]) (0.15.2)\n",
            "Requirement already satisfied: safetensors>=0.4.1 in /usr/local/lib/python3.10/dist-packages (from transformers[torch]) (0.4.2)\n",
            "Requirement already satisfied: tqdm>=4.27 in /usr/local/lib/python3.10/dist-packages (from transformers[torch]) (4.66.2)\n",
            "Requirement already satisfied: torch in /usr/local/lib/python3.10/dist-packages (from transformers[torch]) (2.2.1+cu121)\n",
            "Requirement already satisfied: accelerate>=0.21.0 in /usr/local/lib/python3.10/dist-packages (from transformers[torch]) (0.29.0.dev0)\n",
            "Requirement already satisfied: psutil in /usr/local/lib/python3.10/dist-packages (from accelerate>=0.21.0->transformers[torch]) (5.9.5)\n",
            "Requirement already satisfied: fsspec>=2023.5.0 in /usr/local/lib/python3.10/dist-packages (from huggingface-hub<1.0,>=0.19.3->transformers[torch]) (2023.6.0)\n",
            "Requirement already satisfied: typing-extensions>=3.7.4.3 in /usr/local/lib/python3.10/dist-packages (from huggingface-hub<1.0,>=0.19.3->transformers[torch]) (4.10.0)\n",
            "Requirement already satisfied: sympy in /usr/local/lib/python3.10/dist-packages (from torch->transformers[torch]) (1.12)\n",
            "Requirement already satisfied: networkx in /usr/local/lib/python3.10/dist-packages (from torch->transformers[torch]) (3.2.1)\n",
            "Requirement already satisfied: jinja2 in /usr/local/lib/python3.10/dist-packages (from torch->transformers[torch]) (3.1.3)\n",
            "Requirement already satisfied: nvidia-cuda-nvrtc-cu12==12.1.105 in /usr/local/lib/python3.10/dist-packages (from torch->transformers[torch]) (12.1.105)\n",
            "Requirement already satisfied: nvidia-cuda-runtime-cu12==12.1.105 in /usr/local/lib/python3.10/dist-packages (from torch->transformers[torch]) (12.1.105)\n",
            "Requirement already satisfied: nvidia-cuda-cupti-cu12==12.1.105 in /usr/local/lib/python3.10/dist-packages (from torch->transformers[torch]) (12.1.105)\n",
            "Requirement already satisfied: nvidia-cudnn-cu12==8.9.2.26 in /usr/local/lib/python3.10/dist-packages (from torch->transformers[torch]) (8.9.2.26)\n",
            "Requirement already satisfied: nvidia-cublas-cu12==12.1.3.1 in /usr/local/lib/python3.10/dist-packages (from torch->transformers[torch]) (12.1.3.1)\n",
            "Requirement already satisfied: nvidia-cufft-cu12==11.0.2.54 in /usr/local/lib/python3.10/dist-packages (from torch->transformers[torch]) (11.0.2.54)\n",
            "Requirement already satisfied: nvidia-curand-cu12==10.3.2.106 in /usr/local/lib/python3.10/dist-packages (from torch->transformers[torch]) (10.3.2.106)\n",
            "Requirement already satisfied: nvidia-cusolver-cu12==11.4.5.107 in /usr/local/lib/python3.10/dist-packages (from torch->transformers[torch]) (11.4.5.107)\n",
            "Requirement already satisfied: nvidia-cusparse-cu12==12.1.0.106 in /usr/local/lib/python3.10/dist-packages (from torch->transformers[torch]) (12.1.0.106)\n",
            "Requirement already satisfied: nvidia-nccl-cu12==2.19.3 in /usr/local/lib/python3.10/dist-packages (from torch->transformers[torch]) (2.19.3)\n",
            "Requirement already satisfied: nvidia-nvtx-cu12==12.1.105 in /usr/local/lib/python3.10/dist-packages (from torch->transformers[torch]) (12.1.105)\n",
            "Requirement already satisfied: triton==2.2.0 in /usr/local/lib/python3.10/dist-packages (from torch->transformers[torch]) (2.2.0)\n",
            "Requirement already satisfied: nvidia-nvjitlink-cu12 in /usr/local/lib/python3.10/dist-packages (from nvidia-cusolver-cu12==11.4.5.107->torch->transformers[torch]) (12.4.99)\n",
            "Requirement already satisfied: charset-normalizer<4,>=2 in /usr/local/lib/python3.10/dist-packages (from requests->transformers[torch]) (3.3.2)\n",
            "Requirement already satisfied: idna<4,>=2.5 in /usr/local/lib/python3.10/dist-packages (from requests->transformers[torch]) (3.6)\n",
            "Requirement already satisfied: urllib3<3,>=1.21.1 in /usr/local/lib/python3.10/dist-packages (from requests->transformers[torch]) (2.0.7)\n",
            "Requirement already satisfied: certifi>=2017.4.17 in /usr/local/lib/python3.10/dist-packages (from requests->transformers[torch]) (2024.2.2)\n",
            "Requirement already satisfied: MarkupSafe>=2.0 in /usr/local/lib/python3.10/dist-packages (from jinja2->torch->transformers[torch]) (2.1.5)\n",
            "Requirement already satisfied: mpmath>=0.19 in /usr/local/lib/python3.10/dist-packages (from sympy->torch->transformers[torch]) (1.3.0)\n"
          ]
        }
      ],
      "source": [
        "pip install transformers[torch]"
      ]
    },
    {
      "cell_type": "code",
      "execution_count": 29,
      "metadata": {
        "colab": {
          "base_uri": "https://localhost:8080/"
        },
        "id": "9dLUMLSpVuLf",
        "outputId": "a6759ae3-1af6-4491-a7a2-02b83f544fd3"
      },
      "outputs": [
        {
          "output_type": "stream",
          "name": "stdout",
          "text": [
            "Requirement already satisfied: transformers in /usr/local/lib/python3.10/dist-packages (4.39.1)\n",
            "Requirement already satisfied: filelock in /usr/local/lib/python3.10/dist-packages (from transformers) (3.13.1)\n",
            "Requirement already satisfied: huggingface-hub<1.0,>=0.19.3 in /usr/local/lib/python3.10/dist-packages (from transformers) (0.20.3)\n",
            "Requirement already satisfied: numpy>=1.17 in /usr/local/lib/python3.10/dist-packages (from transformers) (1.25.2)\n",
            "Requirement already satisfied: packaging>=20.0 in /usr/local/lib/python3.10/dist-packages (from transformers) (24.0)\n",
            "Requirement already satisfied: pyyaml>=5.1 in /usr/local/lib/python3.10/dist-packages (from transformers) (6.0.1)\n",
            "Requirement already satisfied: regex!=2019.12.17 in /usr/local/lib/python3.10/dist-packages (from transformers) (2023.12.25)\n",
            "Requirement already satisfied: requests in /usr/local/lib/python3.10/dist-packages (from transformers) (2.31.0)\n",
            "Requirement already satisfied: tokenizers<0.19,>=0.14 in /usr/local/lib/python3.10/dist-packages (from transformers) (0.15.2)\n",
            "Requirement already satisfied: safetensors>=0.4.1 in /usr/local/lib/python3.10/dist-packages (from transformers) (0.4.2)\n",
            "Requirement already satisfied: tqdm>=4.27 in /usr/local/lib/python3.10/dist-packages (from transformers) (4.66.2)\n",
            "Requirement already satisfied: fsspec>=2023.5.0 in /usr/local/lib/python3.10/dist-packages (from huggingface-hub<1.0,>=0.19.3->transformers) (2023.6.0)\n",
            "Requirement already satisfied: typing-extensions>=3.7.4.3 in /usr/local/lib/python3.10/dist-packages (from huggingface-hub<1.0,>=0.19.3->transformers) (4.10.0)\n",
            "Requirement already satisfied: charset-normalizer<4,>=2 in /usr/local/lib/python3.10/dist-packages (from requests->transformers) (3.3.2)\n",
            "Requirement already satisfied: idna<4,>=2.5 in /usr/local/lib/python3.10/dist-packages (from requests->transformers) (3.6)\n",
            "Requirement already satisfied: urllib3<3,>=1.21.1 in /usr/local/lib/python3.10/dist-packages (from requests->transformers) (2.0.7)\n",
            "Requirement already satisfied: certifi>=2017.4.17 in /usr/local/lib/python3.10/dist-packages (from requests->transformers) (2024.2.2)\n"
          ]
        }
      ],
      "source": [
        "pip install --upgrade transformers"
      ]
    },
    {
      "cell_type": "code",
      "execution_count": 30,
      "metadata": {
        "colab": {
          "base_uri": "https://localhost:8080/"
        },
        "id": "tsM1eC60UuFS",
        "outputId": "b5b7adbb-6e10-4bdd-ba50-6100186e6381"
      },
      "outputs": [
        {
          "output_type": "stream",
          "name": "stdout",
          "text": [
            "Requirement already satisfied: accelerate in /usr/local/lib/python3.10/dist-packages (0.29.0.dev0)\n",
            "Requirement already satisfied: numpy>=1.17 in /usr/local/lib/python3.10/dist-packages (from accelerate) (1.25.2)\n",
            "Requirement already satisfied: packaging>=20.0 in /usr/local/lib/python3.10/dist-packages (from accelerate) (24.0)\n",
            "Requirement already satisfied: psutil in /usr/local/lib/python3.10/dist-packages (from accelerate) (5.9.5)\n",
            "Requirement already satisfied: pyyaml in /usr/local/lib/python3.10/dist-packages (from accelerate) (6.0.1)\n",
            "Requirement already satisfied: torch>=1.10.0 in /usr/local/lib/python3.10/dist-packages (from accelerate) (2.2.1+cu121)\n",
            "Requirement already satisfied: huggingface-hub in /usr/local/lib/python3.10/dist-packages (from accelerate) (0.20.3)\n",
            "Requirement already satisfied: safetensors>=0.3.1 in /usr/local/lib/python3.10/dist-packages (from accelerate) (0.4.2)\n",
            "Requirement already satisfied: filelock in /usr/local/lib/python3.10/dist-packages (from torch>=1.10.0->accelerate) (3.13.1)\n",
            "Requirement already satisfied: typing-extensions>=4.8.0 in /usr/local/lib/python3.10/dist-packages (from torch>=1.10.0->accelerate) (4.10.0)\n",
            "Requirement already satisfied: sympy in /usr/local/lib/python3.10/dist-packages (from torch>=1.10.0->accelerate) (1.12)\n",
            "Requirement already satisfied: networkx in /usr/local/lib/python3.10/dist-packages (from torch>=1.10.0->accelerate) (3.2.1)\n",
            "Requirement already satisfied: jinja2 in /usr/local/lib/python3.10/dist-packages (from torch>=1.10.0->accelerate) (3.1.3)\n",
            "Requirement already satisfied: fsspec in /usr/local/lib/python3.10/dist-packages (from torch>=1.10.0->accelerate) (2023.6.0)\n",
            "Requirement already satisfied: nvidia-cuda-nvrtc-cu12==12.1.105 in /usr/local/lib/python3.10/dist-packages (from torch>=1.10.0->accelerate) (12.1.105)\n",
            "Requirement already satisfied: nvidia-cuda-runtime-cu12==12.1.105 in /usr/local/lib/python3.10/dist-packages (from torch>=1.10.0->accelerate) (12.1.105)\n",
            "Requirement already satisfied: nvidia-cuda-cupti-cu12==12.1.105 in /usr/local/lib/python3.10/dist-packages (from torch>=1.10.0->accelerate) (12.1.105)\n",
            "Requirement already satisfied: nvidia-cudnn-cu12==8.9.2.26 in /usr/local/lib/python3.10/dist-packages (from torch>=1.10.0->accelerate) (8.9.2.26)\n",
            "Requirement already satisfied: nvidia-cublas-cu12==12.1.3.1 in /usr/local/lib/python3.10/dist-packages (from torch>=1.10.0->accelerate) (12.1.3.1)\n",
            "Requirement already satisfied: nvidia-cufft-cu12==11.0.2.54 in /usr/local/lib/python3.10/dist-packages (from torch>=1.10.0->accelerate) (11.0.2.54)\n",
            "Requirement already satisfied: nvidia-curand-cu12==10.3.2.106 in /usr/local/lib/python3.10/dist-packages (from torch>=1.10.0->accelerate) (10.3.2.106)\n",
            "Requirement already satisfied: nvidia-cusolver-cu12==11.4.5.107 in /usr/local/lib/python3.10/dist-packages (from torch>=1.10.0->accelerate) (11.4.5.107)\n",
            "Requirement already satisfied: nvidia-cusparse-cu12==12.1.0.106 in /usr/local/lib/python3.10/dist-packages (from torch>=1.10.0->accelerate) (12.1.0.106)\n",
            "Requirement already satisfied: nvidia-nccl-cu12==2.19.3 in /usr/local/lib/python3.10/dist-packages (from torch>=1.10.0->accelerate) (2.19.3)\n",
            "Requirement already satisfied: nvidia-nvtx-cu12==12.1.105 in /usr/local/lib/python3.10/dist-packages (from torch>=1.10.0->accelerate) (12.1.105)\n",
            "Requirement already satisfied: triton==2.2.0 in /usr/local/lib/python3.10/dist-packages (from torch>=1.10.0->accelerate) (2.2.0)\n",
            "Requirement already satisfied: nvidia-nvjitlink-cu12 in /usr/local/lib/python3.10/dist-packages (from nvidia-cusolver-cu12==11.4.5.107->torch>=1.10.0->accelerate) (12.4.99)\n",
            "Requirement already satisfied: requests in /usr/local/lib/python3.10/dist-packages (from huggingface-hub->accelerate) (2.31.0)\n",
            "Requirement already satisfied: tqdm>=4.42.1 in /usr/local/lib/python3.10/dist-packages (from huggingface-hub->accelerate) (4.66.2)\n",
            "Requirement already satisfied: MarkupSafe>=2.0 in /usr/local/lib/python3.10/dist-packages (from jinja2->torch>=1.10.0->accelerate) (2.1.5)\n",
            "Requirement already satisfied: charset-normalizer<4,>=2 in /usr/local/lib/python3.10/dist-packages (from requests->huggingface-hub->accelerate) (3.3.2)\n",
            "Requirement already satisfied: idna<4,>=2.5 in /usr/local/lib/python3.10/dist-packages (from requests->huggingface-hub->accelerate) (3.6)\n",
            "Requirement already satisfied: urllib3<3,>=1.21.1 in /usr/local/lib/python3.10/dist-packages (from requests->huggingface-hub->accelerate) (2.0.7)\n",
            "Requirement already satisfied: certifi>=2017.4.17 in /usr/local/lib/python3.10/dist-packages (from requests->huggingface-hub->accelerate) (2024.2.2)\n",
            "Requirement already satisfied: mpmath>=0.19 in /usr/local/lib/python3.10/dist-packages (from sympy->torch>=1.10.0->accelerate) (1.3.0)\n"
          ]
        }
      ],
      "source": [
        "pip install accelerate -U"
      ]
    },
    {
      "cell_type": "code",
      "execution_count": 31,
      "metadata": {
        "colab": {
          "base_uri": "https://localhost:8080/"
        },
        "id": "Rxv_ZkKyU5LZ",
        "outputId": "d2874684-0e4f-42c2-b485-0587bc8213a8"
      },
      "outputs": [
        {
          "output_type": "stream",
          "name": "stdout",
          "text": [
            "Requirement already satisfied: accelerate in /usr/local/lib/python3.10/dist-packages (0.29.0.dev0)\n",
            "Requirement already satisfied: numpy>=1.17 in /usr/local/lib/python3.10/dist-packages (from accelerate) (1.25.2)\n",
            "Requirement already satisfied: packaging>=20.0 in /usr/local/lib/python3.10/dist-packages (from accelerate) (24.0)\n",
            "Requirement already satisfied: psutil in /usr/local/lib/python3.10/dist-packages (from accelerate) (5.9.5)\n",
            "Requirement already satisfied: pyyaml in /usr/local/lib/python3.10/dist-packages (from accelerate) (6.0.1)\n",
            "Requirement already satisfied: torch>=1.10.0 in /usr/local/lib/python3.10/dist-packages (from accelerate) (2.2.1+cu121)\n",
            "Requirement already satisfied: huggingface-hub in /usr/local/lib/python3.10/dist-packages (from accelerate) (0.20.3)\n",
            "Requirement already satisfied: safetensors>=0.3.1 in /usr/local/lib/python3.10/dist-packages (from accelerate) (0.4.2)\n",
            "Requirement already satisfied: filelock in /usr/local/lib/python3.10/dist-packages (from torch>=1.10.0->accelerate) (3.13.1)\n",
            "Requirement already satisfied: typing-extensions>=4.8.0 in /usr/local/lib/python3.10/dist-packages (from torch>=1.10.0->accelerate) (4.10.0)\n",
            "Requirement already satisfied: sympy in /usr/local/lib/python3.10/dist-packages (from torch>=1.10.0->accelerate) (1.12)\n",
            "Requirement already satisfied: networkx in /usr/local/lib/python3.10/dist-packages (from torch>=1.10.0->accelerate) (3.2.1)\n",
            "Requirement already satisfied: jinja2 in /usr/local/lib/python3.10/dist-packages (from torch>=1.10.0->accelerate) (3.1.3)\n",
            "Requirement already satisfied: fsspec in /usr/local/lib/python3.10/dist-packages (from torch>=1.10.0->accelerate) (2023.6.0)\n",
            "Requirement already satisfied: nvidia-cuda-nvrtc-cu12==12.1.105 in /usr/local/lib/python3.10/dist-packages (from torch>=1.10.0->accelerate) (12.1.105)\n",
            "Requirement already satisfied: nvidia-cuda-runtime-cu12==12.1.105 in /usr/local/lib/python3.10/dist-packages (from torch>=1.10.0->accelerate) (12.1.105)\n",
            "Requirement already satisfied: nvidia-cuda-cupti-cu12==12.1.105 in /usr/local/lib/python3.10/dist-packages (from torch>=1.10.0->accelerate) (12.1.105)\n",
            "Requirement already satisfied: nvidia-cudnn-cu12==8.9.2.26 in /usr/local/lib/python3.10/dist-packages (from torch>=1.10.0->accelerate) (8.9.2.26)\n",
            "Requirement already satisfied: nvidia-cublas-cu12==12.1.3.1 in /usr/local/lib/python3.10/dist-packages (from torch>=1.10.0->accelerate) (12.1.3.1)\n",
            "Requirement already satisfied: nvidia-cufft-cu12==11.0.2.54 in /usr/local/lib/python3.10/dist-packages (from torch>=1.10.0->accelerate) (11.0.2.54)\n",
            "Requirement already satisfied: nvidia-curand-cu12==10.3.2.106 in /usr/local/lib/python3.10/dist-packages (from torch>=1.10.0->accelerate) (10.3.2.106)\n",
            "Requirement already satisfied: nvidia-cusolver-cu12==11.4.5.107 in /usr/local/lib/python3.10/dist-packages (from torch>=1.10.0->accelerate) (11.4.5.107)\n",
            "Requirement already satisfied: nvidia-cusparse-cu12==12.1.0.106 in /usr/local/lib/python3.10/dist-packages (from torch>=1.10.0->accelerate) (12.1.0.106)\n",
            "Requirement already satisfied: nvidia-nccl-cu12==2.19.3 in /usr/local/lib/python3.10/dist-packages (from torch>=1.10.0->accelerate) (2.19.3)\n",
            "Requirement already satisfied: nvidia-nvtx-cu12==12.1.105 in /usr/local/lib/python3.10/dist-packages (from torch>=1.10.0->accelerate) (12.1.105)\n",
            "Requirement already satisfied: triton==2.2.0 in /usr/local/lib/python3.10/dist-packages (from torch>=1.10.0->accelerate) (2.2.0)\n",
            "Requirement already satisfied: nvidia-nvjitlink-cu12 in /usr/local/lib/python3.10/dist-packages (from nvidia-cusolver-cu12==11.4.5.107->torch>=1.10.0->accelerate) (12.4.99)\n",
            "Requirement already satisfied: requests in /usr/local/lib/python3.10/dist-packages (from huggingface-hub->accelerate) (2.31.0)\n",
            "Requirement already satisfied: tqdm>=4.42.1 in /usr/local/lib/python3.10/dist-packages (from huggingface-hub->accelerate) (4.66.2)\n",
            "Requirement already satisfied: MarkupSafe>=2.0 in /usr/local/lib/python3.10/dist-packages (from jinja2->torch>=1.10.0->accelerate) (2.1.5)\n",
            "Requirement already satisfied: charset-normalizer<4,>=2 in /usr/local/lib/python3.10/dist-packages (from requests->huggingface-hub->accelerate) (3.3.2)\n",
            "Requirement already satisfied: idna<4,>=2.5 in /usr/local/lib/python3.10/dist-packages (from requests->huggingface-hub->accelerate) (3.6)\n",
            "Requirement already satisfied: urllib3<3,>=1.21.1 in /usr/local/lib/python3.10/dist-packages (from requests->huggingface-hub->accelerate) (2.0.7)\n",
            "Requirement already satisfied: certifi>=2017.4.17 in /usr/local/lib/python3.10/dist-packages (from requests->huggingface-hub->accelerate) (2024.2.2)\n",
            "Requirement already satisfied: mpmath>=0.19 in /usr/local/lib/python3.10/dist-packages (from sympy->torch>=1.10.0->accelerate) (1.3.0)\n"
          ]
        }
      ],
      "source": [
        "pip install accelerate"
      ]
    },
    {
      "cell_type": "code",
      "execution_count": 32,
      "metadata": {
        "colab": {
          "base_uri": "https://localhost:8080/"
        },
        "id": "KP1GHd8DVFdw",
        "outputId": "3872b2ce-f5f5-47ff-c80c-66b9246ad2c7"
      },
      "outputs": [
        {
          "output_type": "stream",
          "name": "stdout",
          "text": [
            "Collecting git+https://github.com/huggingface/accelerate\n",
            "  Cloning https://github.com/huggingface/accelerate to /tmp/pip-req-build-mii36ict\n",
            "  Running command git clone --filter=blob:none --quiet https://github.com/huggingface/accelerate /tmp/pip-req-build-mii36ict\n",
            "  Resolved https://github.com/huggingface/accelerate to commit 829171a9a496e7e1496af27a141924ac89ba0918\n",
            "  Installing build dependencies ... \u001b[?25l\u001b[?25hdone\n",
            "  Getting requirements to build wheel ... \u001b[?25l\u001b[?25hdone\n",
            "  Preparing metadata (pyproject.toml) ... \u001b[?25l\u001b[?25hdone\n",
            "Requirement already satisfied: numpy>=1.17 in /usr/local/lib/python3.10/dist-packages (from accelerate==0.29.0.dev0) (1.25.2)\n",
            "Requirement already satisfied: packaging>=20.0 in /usr/local/lib/python3.10/dist-packages (from accelerate==0.29.0.dev0) (24.0)\n",
            "Requirement already satisfied: psutil in /usr/local/lib/python3.10/dist-packages (from accelerate==0.29.0.dev0) (5.9.5)\n",
            "Requirement already satisfied: pyyaml in /usr/local/lib/python3.10/dist-packages (from accelerate==0.29.0.dev0) (6.0.1)\n",
            "Requirement already satisfied: torch>=1.10.0 in /usr/local/lib/python3.10/dist-packages (from accelerate==0.29.0.dev0) (2.2.1+cu121)\n",
            "Requirement already satisfied: huggingface-hub in /usr/local/lib/python3.10/dist-packages (from accelerate==0.29.0.dev0) (0.20.3)\n",
            "Requirement already satisfied: safetensors>=0.3.1 in /usr/local/lib/python3.10/dist-packages (from accelerate==0.29.0.dev0) (0.4.2)\n",
            "Requirement already satisfied: filelock in /usr/local/lib/python3.10/dist-packages (from torch>=1.10.0->accelerate==0.29.0.dev0) (3.13.1)\n",
            "Requirement already satisfied: typing-extensions>=4.8.0 in /usr/local/lib/python3.10/dist-packages (from torch>=1.10.0->accelerate==0.29.0.dev0) (4.10.0)\n",
            "Requirement already satisfied: sympy in /usr/local/lib/python3.10/dist-packages (from torch>=1.10.0->accelerate==0.29.0.dev0) (1.12)\n",
            "Requirement already satisfied: networkx in /usr/local/lib/python3.10/dist-packages (from torch>=1.10.0->accelerate==0.29.0.dev0) (3.2.1)\n",
            "Requirement already satisfied: jinja2 in /usr/local/lib/python3.10/dist-packages (from torch>=1.10.0->accelerate==0.29.0.dev0) (3.1.3)\n",
            "Requirement already satisfied: fsspec in /usr/local/lib/python3.10/dist-packages (from torch>=1.10.0->accelerate==0.29.0.dev0) (2023.6.0)\n",
            "Requirement already satisfied: nvidia-cuda-nvrtc-cu12==12.1.105 in /usr/local/lib/python3.10/dist-packages (from torch>=1.10.0->accelerate==0.29.0.dev0) (12.1.105)\n",
            "Requirement already satisfied: nvidia-cuda-runtime-cu12==12.1.105 in /usr/local/lib/python3.10/dist-packages (from torch>=1.10.0->accelerate==0.29.0.dev0) (12.1.105)\n",
            "Requirement already satisfied: nvidia-cuda-cupti-cu12==12.1.105 in /usr/local/lib/python3.10/dist-packages (from torch>=1.10.0->accelerate==0.29.0.dev0) (12.1.105)\n",
            "Requirement already satisfied: nvidia-cudnn-cu12==8.9.2.26 in /usr/local/lib/python3.10/dist-packages (from torch>=1.10.0->accelerate==0.29.0.dev0) (8.9.2.26)\n",
            "Requirement already satisfied: nvidia-cublas-cu12==12.1.3.1 in /usr/local/lib/python3.10/dist-packages (from torch>=1.10.0->accelerate==0.29.0.dev0) (12.1.3.1)\n",
            "Requirement already satisfied: nvidia-cufft-cu12==11.0.2.54 in /usr/local/lib/python3.10/dist-packages (from torch>=1.10.0->accelerate==0.29.0.dev0) (11.0.2.54)\n",
            "Requirement already satisfied: nvidia-curand-cu12==10.3.2.106 in /usr/local/lib/python3.10/dist-packages (from torch>=1.10.0->accelerate==0.29.0.dev0) (10.3.2.106)\n",
            "Requirement already satisfied: nvidia-cusolver-cu12==11.4.5.107 in /usr/local/lib/python3.10/dist-packages (from torch>=1.10.0->accelerate==0.29.0.dev0) (11.4.5.107)\n",
            "Requirement already satisfied: nvidia-cusparse-cu12==12.1.0.106 in /usr/local/lib/python3.10/dist-packages (from torch>=1.10.0->accelerate==0.29.0.dev0) (12.1.0.106)\n",
            "Requirement already satisfied: nvidia-nccl-cu12==2.19.3 in /usr/local/lib/python3.10/dist-packages (from torch>=1.10.0->accelerate==0.29.0.dev0) (2.19.3)\n",
            "Requirement already satisfied: nvidia-nvtx-cu12==12.1.105 in /usr/local/lib/python3.10/dist-packages (from torch>=1.10.0->accelerate==0.29.0.dev0) (12.1.105)\n",
            "Requirement already satisfied: triton==2.2.0 in /usr/local/lib/python3.10/dist-packages (from torch>=1.10.0->accelerate==0.29.0.dev0) (2.2.0)\n",
            "Requirement already satisfied: nvidia-nvjitlink-cu12 in /usr/local/lib/python3.10/dist-packages (from nvidia-cusolver-cu12==11.4.5.107->torch>=1.10.0->accelerate==0.29.0.dev0) (12.4.99)\n",
            "Requirement already satisfied: requests in /usr/local/lib/python3.10/dist-packages (from huggingface-hub->accelerate==0.29.0.dev0) (2.31.0)\n",
            "Requirement already satisfied: tqdm>=4.42.1 in /usr/local/lib/python3.10/dist-packages (from huggingface-hub->accelerate==0.29.0.dev0) (4.66.2)\n",
            "Requirement already satisfied: MarkupSafe>=2.0 in /usr/local/lib/python3.10/dist-packages (from jinja2->torch>=1.10.0->accelerate==0.29.0.dev0) (2.1.5)\n",
            "Requirement already satisfied: charset-normalizer<4,>=2 in /usr/local/lib/python3.10/dist-packages (from requests->huggingface-hub->accelerate==0.29.0.dev0) (3.3.2)\n",
            "Requirement already satisfied: idna<4,>=2.5 in /usr/local/lib/python3.10/dist-packages (from requests->huggingface-hub->accelerate==0.29.0.dev0) (3.6)\n",
            "Requirement already satisfied: urllib3<3,>=1.21.1 in /usr/local/lib/python3.10/dist-packages (from requests->huggingface-hub->accelerate==0.29.0.dev0) (2.0.7)\n",
            "Requirement already satisfied: certifi>=2017.4.17 in /usr/local/lib/python3.10/dist-packages (from requests->huggingface-hub->accelerate==0.29.0.dev0) (2024.2.2)\n",
            "Requirement already satisfied: mpmath>=0.19 in /usr/local/lib/python3.10/dist-packages (from sympy->torch>=1.10.0->accelerate==0.29.0.dev0) (1.3.0)\n"
          ]
        }
      ],
      "source": [
        "pip install git+https://github.com/huggingface/accelerate"
      ]
    },
    {
      "cell_type": "code",
      "execution_count": 33,
      "metadata": {
        "colab": {
          "base_uri": "https://localhost:8080/"
        },
        "id": "54rXuOrLYgpx",
        "outputId": "ea488253-d748-4c9e-f305-e7134490c8d3"
      },
      "outputs": [
        {
          "output_type": "stream",
          "name": "stdout",
          "text": [
            "Requirement already satisfied: scikit-learn in /usr/local/lib/python3.10/dist-packages (1.2.2)\n",
            "Requirement already satisfied: numpy>=1.17.3 in /usr/local/lib/python3.10/dist-packages (from scikit-learn) (1.25.2)\n",
            "Requirement already satisfied: scipy>=1.3.2 in /usr/local/lib/python3.10/dist-packages (from scikit-learn) (1.11.4)\n",
            "Requirement already satisfied: joblib>=1.1.1 in /usr/local/lib/python3.10/dist-packages (from scikit-learn) (1.3.2)\n",
            "Requirement already satisfied: threadpoolctl>=2.0.0 in /usr/local/lib/python3.10/dist-packages (from scikit-learn) (3.3.0)\n"
          ]
        }
      ],
      "source": [
        "pip install scikit-learn"
      ]
    },
    {
      "cell_type": "code",
      "execution_count": 34,
      "metadata": {
        "colab": {
          "base_uri": "https://localhost:8080/"
        },
        "id": "Mi_Psi_luSeE",
        "outputId": "e0ce182a-fd65-4663-eb6c-75e471773fb9"
      },
      "outputs": [
        {
          "output_type": "stream",
          "name": "stdout",
          "text": [
            "Requirement already satisfied: sentence-transformers in /usr/local/lib/python3.10/dist-packages (2.6.1)\n",
            "Requirement already satisfied: transformers<5.0.0,>=4.32.0 in /usr/local/lib/python3.10/dist-packages (from sentence-transformers) (4.39.1)\n",
            "Requirement already satisfied: tqdm in /usr/local/lib/python3.10/dist-packages (from sentence-transformers) (4.66.2)\n",
            "Requirement already satisfied: torch>=1.11.0 in /usr/local/lib/python3.10/dist-packages (from sentence-transformers) (2.2.1+cu121)\n",
            "Requirement already satisfied: numpy in /usr/local/lib/python3.10/dist-packages (from sentence-transformers) (1.25.2)\n",
            "Requirement already satisfied: scikit-learn in /usr/local/lib/python3.10/dist-packages (from sentence-transformers) (1.2.2)\n",
            "Requirement already satisfied: scipy in /usr/local/lib/python3.10/dist-packages (from sentence-transformers) (1.11.4)\n",
            "Requirement already satisfied: huggingface-hub>=0.15.1 in /usr/local/lib/python3.10/dist-packages (from sentence-transformers) (0.20.3)\n",
            "Requirement already satisfied: Pillow in /usr/local/lib/python3.10/dist-packages (from sentence-transformers) (9.4.0)\n",
            "Requirement already satisfied: filelock in /usr/local/lib/python3.10/dist-packages (from huggingface-hub>=0.15.1->sentence-transformers) (3.13.1)\n",
            "Requirement already satisfied: fsspec>=2023.5.0 in /usr/local/lib/python3.10/dist-packages (from huggingface-hub>=0.15.1->sentence-transformers) (2023.6.0)\n",
            "Requirement already satisfied: requests in /usr/local/lib/python3.10/dist-packages (from huggingface-hub>=0.15.1->sentence-transformers) (2.31.0)\n",
            "Requirement already satisfied: pyyaml>=5.1 in /usr/local/lib/python3.10/dist-packages (from huggingface-hub>=0.15.1->sentence-transformers) (6.0.1)\n",
            "Requirement already satisfied: typing-extensions>=3.7.4.3 in /usr/local/lib/python3.10/dist-packages (from huggingface-hub>=0.15.1->sentence-transformers) (4.10.0)\n",
            "Requirement already satisfied: packaging>=20.9 in /usr/local/lib/python3.10/dist-packages (from huggingface-hub>=0.15.1->sentence-transformers) (24.0)\n",
            "Requirement already satisfied: sympy in /usr/local/lib/python3.10/dist-packages (from torch>=1.11.0->sentence-transformers) (1.12)\n",
            "Requirement already satisfied: networkx in /usr/local/lib/python3.10/dist-packages (from torch>=1.11.0->sentence-transformers) (3.2.1)\n",
            "Requirement already satisfied: jinja2 in /usr/local/lib/python3.10/dist-packages (from torch>=1.11.0->sentence-transformers) (3.1.3)\n",
            "Requirement already satisfied: nvidia-cuda-nvrtc-cu12==12.1.105 in /usr/local/lib/python3.10/dist-packages (from torch>=1.11.0->sentence-transformers) (12.1.105)\n",
            "Requirement already satisfied: nvidia-cuda-runtime-cu12==12.1.105 in /usr/local/lib/python3.10/dist-packages (from torch>=1.11.0->sentence-transformers) (12.1.105)\n",
            "Requirement already satisfied: nvidia-cuda-cupti-cu12==12.1.105 in /usr/local/lib/python3.10/dist-packages (from torch>=1.11.0->sentence-transformers) (12.1.105)\n",
            "Requirement already satisfied: nvidia-cudnn-cu12==8.9.2.26 in /usr/local/lib/python3.10/dist-packages (from torch>=1.11.0->sentence-transformers) (8.9.2.26)\n",
            "Requirement already satisfied: nvidia-cublas-cu12==12.1.3.1 in /usr/local/lib/python3.10/dist-packages (from torch>=1.11.0->sentence-transformers) (12.1.3.1)\n",
            "Requirement already satisfied: nvidia-cufft-cu12==11.0.2.54 in /usr/local/lib/python3.10/dist-packages (from torch>=1.11.0->sentence-transformers) (11.0.2.54)\n",
            "Requirement already satisfied: nvidia-curand-cu12==10.3.2.106 in /usr/local/lib/python3.10/dist-packages (from torch>=1.11.0->sentence-transformers) (10.3.2.106)\n",
            "Requirement already satisfied: nvidia-cusolver-cu12==11.4.5.107 in /usr/local/lib/python3.10/dist-packages (from torch>=1.11.0->sentence-transformers) (11.4.5.107)\n",
            "Requirement already satisfied: nvidia-cusparse-cu12==12.1.0.106 in /usr/local/lib/python3.10/dist-packages (from torch>=1.11.0->sentence-transformers) (12.1.0.106)\n",
            "Requirement already satisfied: nvidia-nccl-cu12==2.19.3 in /usr/local/lib/python3.10/dist-packages (from torch>=1.11.0->sentence-transformers) (2.19.3)\n",
            "Requirement already satisfied: nvidia-nvtx-cu12==12.1.105 in /usr/local/lib/python3.10/dist-packages (from torch>=1.11.0->sentence-transformers) (12.1.105)\n",
            "Requirement already satisfied: triton==2.2.0 in /usr/local/lib/python3.10/dist-packages (from torch>=1.11.0->sentence-transformers) (2.2.0)\n",
            "Requirement already satisfied: nvidia-nvjitlink-cu12 in /usr/local/lib/python3.10/dist-packages (from nvidia-cusolver-cu12==11.4.5.107->torch>=1.11.0->sentence-transformers) (12.4.99)\n",
            "Requirement already satisfied: regex!=2019.12.17 in /usr/local/lib/python3.10/dist-packages (from transformers<5.0.0,>=4.32.0->sentence-transformers) (2023.12.25)\n",
            "Requirement already satisfied: tokenizers<0.19,>=0.14 in /usr/local/lib/python3.10/dist-packages (from transformers<5.0.0,>=4.32.0->sentence-transformers) (0.15.2)\n",
            "Requirement already satisfied: safetensors>=0.4.1 in /usr/local/lib/python3.10/dist-packages (from transformers<5.0.0,>=4.32.0->sentence-transformers) (0.4.2)\n",
            "Requirement already satisfied: joblib>=1.1.1 in /usr/local/lib/python3.10/dist-packages (from scikit-learn->sentence-transformers) (1.3.2)\n",
            "Requirement already satisfied: threadpoolctl>=2.0.0 in /usr/local/lib/python3.10/dist-packages (from scikit-learn->sentence-transformers) (3.3.0)\n",
            "Requirement already satisfied: MarkupSafe>=2.0 in /usr/local/lib/python3.10/dist-packages (from jinja2->torch>=1.11.0->sentence-transformers) (2.1.5)\n",
            "Requirement already satisfied: charset-normalizer<4,>=2 in /usr/local/lib/python3.10/dist-packages (from requests->huggingface-hub>=0.15.1->sentence-transformers) (3.3.2)\n",
            "Requirement already satisfied: idna<4,>=2.5 in /usr/local/lib/python3.10/dist-packages (from requests->huggingface-hub>=0.15.1->sentence-transformers) (3.6)\n",
            "Requirement already satisfied: urllib3<3,>=1.21.1 in /usr/local/lib/python3.10/dist-packages (from requests->huggingface-hub>=0.15.1->sentence-transformers) (2.0.7)\n",
            "Requirement already satisfied: certifi>=2017.4.17 in /usr/local/lib/python3.10/dist-packages (from requests->huggingface-hub>=0.15.1->sentence-transformers) (2024.2.2)\n",
            "Requirement already satisfied: mpmath>=0.19 in /usr/local/lib/python3.10/dist-packages (from sympy->torch>=1.11.0->sentence-transformers) (1.3.0)\n"
          ]
        }
      ],
      "source": [
        "pip install -U sentence-transformers"
      ]
    },
    {
      "cell_type": "code",
      "execution_count": 35,
      "metadata": {
        "colab": {
          "base_uri": "https://localhost:8080/"
        },
        "id": "HMK5Wrh3JMM1",
        "outputId": "a7a92b4a-ded2-4e40-816c-12b36ae55bb8"
      },
      "outputs": [
        {
          "output_type": "stream",
          "name": "stdout",
          "text": [
            "Requirement already satisfied: sentence-transformers in /usr/local/lib/python3.10/dist-packages (2.6.1)\n",
            "Requirement already satisfied: transformers<5.0.0,>=4.32.0 in /usr/local/lib/python3.10/dist-packages (from sentence-transformers) (4.39.1)\n",
            "Requirement already satisfied: tqdm in /usr/local/lib/python3.10/dist-packages (from sentence-transformers) (4.66.2)\n",
            "Requirement already satisfied: torch>=1.11.0 in /usr/local/lib/python3.10/dist-packages (from sentence-transformers) (2.2.1+cu121)\n",
            "Requirement already satisfied: numpy in /usr/local/lib/python3.10/dist-packages (from sentence-transformers) (1.25.2)\n",
            "Requirement already satisfied: scikit-learn in /usr/local/lib/python3.10/dist-packages (from sentence-transformers) (1.2.2)\n",
            "Requirement already satisfied: scipy in /usr/local/lib/python3.10/dist-packages (from sentence-transformers) (1.11.4)\n",
            "Requirement already satisfied: huggingface-hub>=0.15.1 in /usr/local/lib/python3.10/dist-packages (from sentence-transformers) (0.20.3)\n",
            "Requirement already satisfied: Pillow in /usr/local/lib/python3.10/dist-packages (from sentence-transformers) (9.4.0)\n",
            "Requirement already satisfied: filelock in /usr/local/lib/python3.10/dist-packages (from huggingface-hub>=0.15.1->sentence-transformers) (3.13.1)\n",
            "Requirement already satisfied: fsspec>=2023.5.0 in /usr/local/lib/python3.10/dist-packages (from huggingface-hub>=0.15.1->sentence-transformers) (2023.6.0)\n",
            "Requirement already satisfied: requests in /usr/local/lib/python3.10/dist-packages (from huggingface-hub>=0.15.1->sentence-transformers) (2.31.0)\n",
            "Requirement already satisfied: pyyaml>=5.1 in /usr/local/lib/python3.10/dist-packages (from huggingface-hub>=0.15.1->sentence-transformers) (6.0.1)\n",
            "Requirement already satisfied: typing-extensions>=3.7.4.3 in /usr/local/lib/python3.10/dist-packages (from huggingface-hub>=0.15.1->sentence-transformers) (4.10.0)\n",
            "Requirement already satisfied: packaging>=20.9 in /usr/local/lib/python3.10/dist-packages (from huggingface-hub>=0.15.1->sentence-transformers) (24.0)\n",
            "Requirement already satisfied: sympy in /usr/local/lib/python3.10/dist-packages (from torch>=1.11.0->sentence-transformers) (1.12)\n",
            "Requirement already satisfied: networkx in /usr/local/lib/python3.10/dist-packages (from torch>=1.11.0->sentence-transformers) (3.2.1)\n",
            "Requirement already satisfied: jinja2 in /usr/local/lib/python3.10/dist-packages (from torch>=1.11.0->sentence-transformers) (3.1.3)\n",
            "Requirement already satisfied: nvidia-cuda-nvrtc-cu12==12.1.105 in /usr/local/lib/python3.10/dist-packages (from torch>=1.11.0->sentence-transformers) (12.1.105)\n",
            "Requirement already satisfied: nvidia-cuda-runtime-cu12==12.1.105 in /usr/local/lib/python3.10/dist-packages (from torch>=1.11.0->sentence-transformers) (12.1.105)\n",
            "Requirement already satisfied: nvidia-cuda-cupti-cu12==12.1.105 in /usr/local/lib/python3.10/dist-packages (from torch>=1.11.0->sentence-transformers) (12.1.105)\n",
            "Requirement already satisfied: nvidia-cudnn-cu12==8.9.2.26 in /usr/local/lib/python3.10/dist-packages (from torch>=1.11.0->sentence-transformers) (8.9.2.26)\n",
            "Requirement already satisfied: nvidia-cublas-cu12==12.1.3.1 in /usr/local/lib/python3.10/dist-packages (from torch>=1.11.0->sentence-transformers) (12.1.3.1)\n",
            "Requirement already satisfied: nvidia-cufft-cu12==11.0.2.54 in /usr/local/lib/python3.10/dist-packages (from torch>=1.11.0->sentence-transformers) (11.0.2.54)\n",
            "Requirement already satisfied: nvidia-curand-cu12==10.3.2.106 in /usr/local/lib/python3.10/dist-packages (from torch>=1.11.0->sentence-transformers) (10.3.2.106)\n",
            "Requirement already satisfied: nvidia-cusolver-cu12==11.4.5.107 in /usr/local/lib/python3.10/dist-packages (from torch>=1.11.0->sentence-transformers) (11.4.5.107)\n",
            "Requirement already satisfied: nvidia-cusparse-cu12==12.1.0.106 in /usr/local/lib/python3.10/dist-packages (from torch>=1.11.0->sentence-transformers) (12.1.0.106)\n",
            "Requirement already satisfied: nvidia-nccl-cu12==2.19.3 in /usr/local/lib/python3.10/dist-packages (from torch>=1.11.0->sentence-transformers) (2.19.3)\n",
            "Requirement already satisfied: nvidia-nvtx-cu12==12.1.105 in /usr/local/lib/python3.10/dist-packages (from torch>=1.11.0->sentence-transformers) (12.1.105)\n",
            "Requirement already satisfied: triton==2.2.0 in /usr/local/lib/python3.10/dist-packages (from torch>=1.11.0->sentence-transformers) (2.2.0)\n",
            "Requirement already satisfied: nvidia-nvjitlink-cu12 in /usr/local/lib/python3.10/dist-packages (from nvidia-cusolver-cu12==11.4.5.107->torch>=1.11.0->sentence-transformers) (12.4.99)\n",
            "Requirement already satisfied: regex!=2019.12.17 in /usr/local/lib/python3.10/dist-packages (from transformers<5.0.0,>=4.32.0->sentence-transformers) (2023.12.25)\n",
            "Requirement already satisfied: tokenizers<0.19,>=0.14 in /usr/local/lib/python3.10/dist-packages (from transformers<5.0.0,>=4.32.0->sentence-transformers) (0.15.2)\n",
            "Requirement already satisfied: safetensors>=0.4.1 in /usr/local/lib/python3.10/dist-packages (from transformers<5.0.0,>=4.32.0->sentence-transformers) (0.4.2)\n",
            "Requirement already satisfied: joblib>=1.1.1 in /usr/local/lib/python3.10/dist-packages (from scikit-learn->sentence-transformers) (1.3.2)\n",
            "Requirement already satisfied: threadpoolctl>=2.0.0 in /usr/local/lib/python3.10/dist-packages (from scikit-learn->sentence-transformers) (3.3.0)\n",
            "Requirement already satisfied: MarkupSafe>=2.0 in /usr/local/lib/python3.10/dist-packages (from jinja2->torch>=1.11.0->sentence-transformers) (2.1.5)\n",
            "Requirement already satisfied: charset-normalizer<4,>=2 in /usr/local/lib/python3.10/dist-packages (from requests->huggingface-hub>=0.15.1->sentence-transformers) (3.3.2)\n",
            "Requirement already satisfied: idna<4,>=2.5 in /usr/local/lib/python3.10/dist-packages (from requests->huggingface-hub>=0.15.1->sentence-transformers) (3.6)\n",
            "Requirement already satisfied: urllib3<3,>=1.21.1 in /usr/local/lib/python3.10/dist-packages (from requests->huggingface-hub>=0.15.1->sentence-transformers) (2.0.7)\n",
            "Requirement already satisfied: certifi>=2017.4.17 in /usr/local/lib/python3.10/dist-packages (from requests->huggingface-hub>=0.15.1->sentence-transformers) (2024.2.2)\n",
            "Requirement already satisfied: mpmath>=0.19 in /usr/local/lib/python3.10/dist-packages (from sympy->torch>=1.11.0->sentence-transformers) (1.3.0)\n"
          ]
        }
      ],
      "source": [
        "pip install sentence-transformers"
      ]
    },
    {
      "cell_type": "code",
      "execution_count": 36,
      "metadata": {
        "id": "NnMyj4weYjTt"
      },
      "outputs": [],
      "source": [
        "from sklearn.metrics import accuracy_score, precision_recall_fscore_support\n",
        "import numpy as np\n",
        "\n",
        "def compute_metrics(eval_pred):\n",
        "    logits, labels = eval_pred\n",
        "    predictions = np.argmax(logits, axis=1)\n",
        "    precision, recall, f1, _ = precision_recall_fscore_support(labels, predictions, average='binary')\n",
        "    acc = accuracy_score(labels, predictions)\n",
        "    return {\n",
        "        'accuracy': acc,\n",
        "        'f1': f1,\n",
        "        'precision': precision,\n",
        "        'recall': recall\n",
        "    }"
      ]
    },
    {
      "cell_type": "code",
      "execution_count": 37,
      "metadata": {
        "id": "N5ltDDOss6Ho"
      },
      "outputs": [],
      "source": [
        "from transformers import AutoTokenizer, AutoModel\n",
        "from transformers import AutoModelForSequenceClassification, AutoTokenizer\n",
        "from transformers import GPT2Tokenizer, GPT2ForSequenceClassification, TrainingArguments, Trainer\n",
        "from transformers import TextDataset, DataCollatorWithPadding\n",
        "import numpy as np\n",
        "from sklearn.model_selection import train_test_split\n",
        "from imblearn.over_sampling import RandomOverSampler\n",
        "import pandas as pd\n",
        "from tqdm.auto import tqdm\n",
        "import torch"
      ]
    },
    {
      "cell_type": "code",
      "execution_count": 38,
      "metadata": {
        "colab": {
          "base_uri": "https://localhost:8080/"
        },
        "id": "cr1kuQqYOmNR",
        "outputId": "8a0fb71e-e953-4531-bb26-75729e339658"
      },
      "outputs": [
        {
          "output_type": "stream",
          "name": "stdout",
          "text": [
            "Requirement already satisfied: tqdm in /usr/local/lib/python3.10/dist-packages (4.66.2)\n"
          ]
        }
      ],
      "source": [
        "pip install tqdm\n"
      ]
    },
    {
      "cell_type": "code",
      "execution_count": 39,
      "metadata": {
        "colab": {
          "base_uri": "https://localhost:8080/"
        },
        "id": "tsDt16OgLgOT",
        "outputId": "165f3841-73de-45d1-e8ca-de098fa2c024"
      },
      "outputs": [
        {
          "output_type": "stream",
          "name": "stdout",
          "text": [
            "Requirement already satisfied: imbalanced-learn in /usr/local/lib/python3.10/dist-packages (0.10.1)\n",
            "Requirement already satisfied: numpy>=1.17.3 in /usr/local/lib/python3.10/dist-packages (from imbalanced-learn) (1.25.2)\n",
            "Requirement already satisfied: scipy>=1.3.2 in /usr/local/lib/python3.10/dist-packages (from imbalanced-learn) (1.11.4)\n",
            "Requirement already satisfied: scikit-learn>=1.0.2 in /usr/local/lib/python3.10/dist-packages (from imbalanced-learn) (1.2.2)\n",
            "Requirement already satisfied: joblib>=1.1.1 in /usr/local/lib/python3.10/dist-packages (from imbalanced-learn) (1.3.2)\n",
            "Requirement already satisfied: threadpoolctl>=2.0.0 in /usr/local/lib/python3.10/dist-packages (from imbalanced-learn) (3.3.0)\n"
          ]
        }
      ],
      "source": [
        "pip install imbalanced-learn\n"
      ]
    },
    {
      "cell_type": "code",
      "execution_count": 40,
      "metadata": {
        "id": "8mOLfjUXZXf6",
        "colab": {
          "base_uri": "https://localhost:8080/"
        },
        "outputId": "4d12a496-dc7b-41f6-ea3c-7541ba09d587"
      },
      "outputs": [
        {
          "output_type": "stream",
          "name": "stderr",
          "text": [
            "/usr/local/lib/python3.10/dist-packages/transformers/pipelines/text_classification.py:104: UserWarning: `return_all_scores` is now deprecated,  if want a similar functionality use `top_k=None` instead of `return_all_scores=True` or `top_k=1` instead of `return_all_scores=False`.\n",
            "  warnings.warn(\n",
            "Initializing global attention on CLS token...\n",
            "Input ids are automatically padded from 135 to 512 to be a multiple of `config.attention_window`: 512\n",
            "Input ids are automatically padded from 133 to 512 to be a multiple of `config.attention_window`: 512\n",
            "Input ids are automatically padded from 282 to 512 to be a multiple of `config.attention_window`: 512\n",
            "Input ids are automatically padded from 107 to 512 to be a multiple of `config.attention_window`: 512\n",
            "Input ids are automatically padded from 138 to 512 to be a multiple of `config.attention_window`: 512\n",
            "Input ids are automatically padded from 134 to 512 to be a multiple of `config.attention_window`: 512\n",
            "Input ids are automatically padded from 180 to 512 to be a multiple of `config.attention_window`: 512\n",
            "Input ids are automatically padded from 149 to 512 to be a multiple of `config.attention_window`: 512\n",
            "Input ids are automatically padded from 148 to 512 to be a multiple of `config.attention_window`: 512\n",
            "Input ids are automatically padded from 206 to 512 to be a multiple of `config.attention_window`: 512\n",
            "Input ids are automatically padded from 196 to 512 to be a multiple of `config.attention_window`: 512\n",
            "Input ids are automatically padded from 188 to 512 to be a multiple of `config.attention_window`: 512\n",
            "Input ids are automatically padded from 189 to 512 to be a multiple of `config.attention_window`: 512\n",
            "Input ids are automatically padded from 161 to 512 to be a multiple of `config.attention_window`: 512\n",
            "Input ids are automatically padded from 158 to 512 to be a multiple of `config.attention_window`: 512\n",
            "Input ids are automatically padded from 142 to 512 to be a multiple of `config.attention_window`: 512\n",
            "Input ids are automatically padded from 147 to 512 to be a multiple of `config.attention_window`: 512\n",
            "Input ids are automatically padded from 164 to 512 to be a multiple of `config.attention_window`: 512\n",
            "Input ids are automatically padded from 128 to 512 to be a multiple of `config.attention_window`: 512\n",
            "Input ids are automatically padded from 126 to 512 to be a multiple of `config.attention_window`: 512\n",
            "Input ids are automatically padded from 213 to 512 to be a multiple of `config.attention_window`: 512\n",
            "Input ids are automatically padded from 216 to 512 to be a multiple of `config.attention_window`: 512\n",
            "Input ids are automatically padded from 130 to 512 to be a multiple of `config.attention_window`: 512\n",
            "Input ids are automatically padded from 124 to 512 to be a multiple of `config.attention_window`: 512\n",
            "Input ids are automatically padded from 172 to 512 to be a multiple of `config.attention_window`: 512\n",
            "Input ids are automatically padded from 170 to 512 to be a multiple of `config.attention_window`: 512\n",
            "Input ids are automatically padded from 259 to 512 to be a multiple of `config.attention_window`: 512\n",
            "Input ids are automatically padded from 268 to 512 to be a multiple of `config.attention_window`: 512\n",
            "Input ids are automatically padded from 194 to 512 to be a multiple of `config.attention_window`: 512\n",
            "Input ids are automatically padded from 185 to 512 to be a multiple of `config.attention_window`: 512\n",
            "Input ids are automatically padded from 152 to 512 to be a multiple of `config.attention_window`: 512\n",
            "Input ids are automatically padded from 353 to 512 to be a multiple of `config.attention_window`: 512\n",
            "Input ids are automatically padded from 357 to 512 to be a multiple of `config.attention_window`: 512\n",
            "Input ids are automatically padded from 110 to 512 to be a multiple of `config.attention_window`: 512\n",
            "Input ids are automatically padded from 108 to 512 to be a multiple of `config.attention_window`: 512\n",
            "Input ids are automatically padded from 168 to 512 to be a multiple of `config.attention_window`: 512\n",
            "Input ids are automatically padded from 169 to 512 to be a multiple of `config.attention_window`: 512\n",
            "Input ids are automatically padded from 338 to 512 to be a multiple of `config.attention_window`: 512\n",
            "Input ids are automatically padded from 119 to 512 to be a multiple of `config.attention_window`: 512\n",
            "Input ids are automatically padded from 120 to 512 to be a multiple of `config.attention_window`: 512\n",
            "Input ids are automatically padded from 113 to 512 to be a multiple of `config.attention_window`: 512\n",
            "Input ids are automatically padded from 272 to 512 to be a multiple of `config.attention_window`: 512\n",
            "Input ids are automatically padded from 271 to 512 to be a multiple of `config.attention_window`: 512\n",
            "Input ids are automatically padded from 121 to 512 to be a multiple of `config.attention_window`: 512\n",
            "Input ids are automatically padded from 123 to 512 to be a multiple of `config.attention_window`: 512\n",
            "Input ids are automatically padded from 157 to 512 to be a multiple of `config.attention_window`: 512\n",
            "Input ids are automatically padded from 131 to 512 to be a multiple of `config.attention_window`: 512\n",
            "Input ids are automatically padded from 299 to 512 to be a multiple of `config.attention_window`: 512\n",
            "Input ids are automatically padded from 302 to 512 to be a multiple of `config.attention_window`: 512\n",
            "Input ids are automatically padded from 211 to 512 to be a multiple of `config.attention_window`: 512\n",
            "Input ids are automatically padded from 217 to 512 to be a multiple of `config.attention_window`: 512\n",
            "Input ids are automatically padded from 208 to 512 to be a multiple of `config.attention_window`: 512\n",
            "Input ids are automatically padded from 166 to 512 to be a multiple of `config.attention_window`: 512\n",
            "Input ids are automatically padded from 184 to 512 to be a multiple of `config.attention_window`: 512\n",
            "Input ids are automatically padded from 182 to 512 to be a multiple of `config.attention_window`: 512\n",
            "Input ids are automatically padded from 205 to 512 to be a multiple of `config.attention_window`: 512\n",
            "Input ids are automatically padded from 179 to 512 to be a multiple of `config.attention_window`: 512\n",
            "Input ids are automatically padded from 256 to 512 to be a multiple of `config.attention_window`: 512\n",
            "Input ids are automatically padded from 191 to 512 to be a multiple of `config.attention_window`: 512\n",
            "Input ids are automatically padded from 200 to 512 to be a multiple of `config.attention_window`: 512\n",
            "Input ids are automatically padded from 202 to 512 to be a multiple of `config.attention_window`: 512\n",
            "Input ids are automatically padded from 198 to 512 to be a multiple of `config.attention_window`: 512\n",
            "Input ids are automatically padded from 165 to 512 to be a multiple of `config.attention_window`: 512\n",
            "Input ids are automatically padded from 162 to 512 to be a multiple of `config.attention_window`: 512\n",
            "Input ids are automatically padded from 167 to 512 to be a multiple of `config.attention_window`: 512\n",
            "Input ids are automatically padded from 93 to 512 to be a multiple of `config.attention_window`: 512\n",
            "Input ids are automatically padded from 92 to 512 to be a multiple of `config.attention_window`: 512\n",
            "Input ids are automatically padded from 181 to 512 to be a multiple of `config.attention_window`: 512\n",
            "Input ids are automatically padded from 163 to 512 to be a multiple of `config.attention_window`: 512\n",
            "Input ids are automatically padded from 174 to 512 to be a multiple of `config.attention_window`: 512\n",
            "Input ids are automatically padded from 175 to 512 to be a multiple of `config.attention_window`: 512\n",
            "Input ids are automatically padded from 171 to 512 to be a multiple of `config.attention_window`: 512\n",
            "Input ids are automatically padded from 204 to 512 to be a multiple of `config.attention_window`: 512\n",
            "Input ids are automatically padded from 56 to 512 to be a multiple of `config.attention_window`: 512\n",
            "Input ids are automatically padded from 59 to 512 to be a multiple of `config.attention_window`: 512\n",
            "Input ids are automatically padded from 144 to 512 to be a multiple of `config.attention_window`: 512\n",
            "Input ids are automatically padded from 141 to 512 to be a multiple of `config.attention_window`: 512\n",
            "Input ids are automatically padded from 300 to 512 to be a multiple of `config.attention_window`: 512\n",
            "Input ids are automatically padded from 195 to 512 to be a multiple of `config.attention_window`: 512\n",
            "Input ids are automatically padded from 192 to 512 to be a multiple of `config.attention_window`: 512\n",
            "Input ids are automatically padded from 215 to 512 to be a multiple of `config.attention_window`: 512\n",
            "Input ids are automatically padded from 177 to 512 to be a multiple of `config.attention_window`: 512\n",
            "Input ids are automatically padded from 137 to 512 to be a multiple of `config.attention_window`: 512\n",
            "Input ids are automatically padded from 105 to 512 to be a multiple of `config.attention_window`: 512\n",
            "Input ids are automatically padded from 112 to 512 to be a multiple of `config.attention_window`: 512\n",
            "Input ids are automatically padded from 264 to 512 to be a multiple of `config.attention_window`: 512\n",
            "Input ids are automatically padded from 257 to 512 to be a multiple of `config.attention_window`: 512\n",
            "Input ids are automatically padded from 225 to 512 to be a multiple of `config.attention_window`: 512\n",
            "Input ids are automatically padded from 227 to 512 to be a multiple of `config.attention_window`: 512\n",
            "Input ids are automatically padded from 428 to 512 to be a multiple of `config.attention_window`: 512\n",
            "Input ids are automatically padded from 437 to 512 to be a multiple of `config.attention_window`: 512\n",
            "Input ids are automatically padded from 270 to 512 to be a multiple of `config.attention_window`: 512\n",
            "Input ids are automatically padded from 266 to 512 to be a multiple of `config.attention_window`: 512\n",
            "Input ids are automatically padded from 331 to 512 to be a multiple of `config.attention_window`: 512\n",
            "Input ids are automatically padded from 335 to 512 to be a multiple of `config.attention_window`: 512\n",
            "Input ids are automatically padded from 139 to 512 to be a multiple of `config.attention_window`: 512\n",
            "Input ids are automatically padded from 114 to 512 to be a multiple of `config.attention_window`: 512\n",
            "Input ids are automatically padded from 210 to 512 to be a multiple of `config.attention_window`: 512\n",
            "Input ids are automatically padded from 286 to 512 to be a multiple of `config.attention_window`: 512\n",
            "Input ids are automatically padded from 285 to 512 to be a multiple of `config.attention_window`: 512\n",
            "Input ids are automatically padded from 226 to 512 to be a multiple of `config.attention_window`: 512\n",
            "Input ids are automatically padded from 143 to 512 to be a multiple of `config.attention_window`: 512\n",
            "Input ids are automatically padded from 103 to 512 to be a multiple of `config.attention_window`: 512\n",
            "Input ids are automatically padded from 102 to 512 to be a multiple of `config.attention_window`: 512\n",
            "Input ids are automatically padded from 80 to 512 to be a multiple of `config.attention_window`: 512\n",
            "Input ids are automatically padded from 115 to 512 to be a multiple of `config.attention_window`: 512\n",
            "Input ids are automatically padded from 145 to 512 to be a multiple of `config.attention_window`: 512\n",
            "Input ids are automatically padded from 150 to 512 to be a multiple of `config.attention_window`: 512\n",
            "Input ids are automatically padded from 118 to 512 to be a multiple of `config.attention_window`: 512\n",
            "Input ids are automatically padded from 117 to 512 to be a multiple of `config.attention_window`: 512\n",
            "Input ids are automatically padded from 109 to 512 to be a multiple of `config.attention_window`: 512\n",
            "Input ids are automatically padded from 116 to 512 to be a multiple of `config.attention_window`: 512\n",
            "Input ids are automatically padded from 197 to 512 to be a multiple of `config.attention_window`: 512\n",
            "Input ids are automatically padded from 258 to 512 to be a multiple of `config.attention_window`: 512\n",
            "Input ids are automatically padded from 151 to 512 to be a multiple of `config.attention_window`: 512\n",
            "Input ids are automatically padded from 146 to 512 to be a multiple of `config.attention_window`: 512\n",
            "Input ids are automatically padded from 125 to 512 to be a multiple of `config.attention_window`: 512\n",
            "Input ids are automatically padded from 160 to 512 to be a multiple of `config.attention_window`: 512\n",
            "Input ids are automatically padded from 61 to 512 to be a multiple of `config.attention_window`: 512\n",
            "Input ids are automatically padded from 153 to 512 to be a multiple of `config.attention_window`: 512\n",
            "Input ids are automatically padded from 155 to 512 to be a multiple of `config.attention_window`: 512\n",
            "Input ids are automatically padded from 231 to 512 to be a multiple of `config.attention_window`: 512\n",
            "Input ids are automatically padded from 232 to 512 to be a multiple of `config.attention_window`: 512\n",
            "Input ids are automatically padded from 186 to 512 to be a multiple of `config.attention_window`: 512\n",
            "Input ids are automatically padded from 214 to 512 to be a multiple of `config.attention_window`: 512\n",
            "Input ids are automatically padded from 224 to 512 to be a multiple of `config.attention_window`: 512\n",
            "Input ids are automatically padded from 229 to 512 to be a multiple of `config.attention_window`: 512\n",
            "Input ids are automatically padded from 58 to 512 to be a multiple of `config.attention_window`: 512\n",
            "Input ids are automatically padded from 294 to 512 to be a multiple of `config.attention_window`: 512\n",
            "Input ids are automatically padded from 228 to 512 to be a multiple of `config.attention_window`: 512\n",
            "Input ids are automatically padded from 287 to 512 to be a multiple of `config.attention_window`: 512\n",
            "Input ids are automatically padded from 293 to 512 to be a multiple of `config.attention_window`: 512\n",
            "Input ids are automatically padded from 303 to 512 to be a multiple of `config.attention_window`: 512\n",
            "Input ids are automatically padded from 307 to 512 to be a multiple of `config.attention_window`: 512\n",
            "Input ids are automatically padded from 247 to 512 to be a multiple of `config.attention_window`: 512\n",
            "Input ids are automatically padded from 252 to 512 to be a multiple of `config.attention_window`: 512\n",
            "Input ids are automatically padded from 236 to 512 to be a multiple of `config.attention_window`: 512\n",
            "Input ids are automatically padded from 290 to 512 to be a multiple of `config.attention_window`: 512\n",
            "Input ids are automatically padded from 398 to 512 to be a multiple of `config.attention_window`: 512\n",
            "Input ids are automatically padded from 201 to 512 to be a multiple of `config.attention_window`: 512\n",
            "Input ids are automatically padded from 176 to 512 to be a multiple of `config.attention_window`: 512\n",
            "Input ids are automatically padded from 262 to 512 to be a multiple of `config.attention_window`: 512\n",
            "Input ids are automatically padded from 132 to 512 to be a multiple of `config.attention_window`: 512\n",
            "Input ids are automatically padded from 156 to 512 to be a multiple of `config.attention_window`: 512\n",
            "Input ids are automatically padded from 218 to 512 to be a multiple of `config.attention_window`: 512\n",
            "Input ids are automatically padded from 159 to 512 to be a multiple of `config.attention_window`: 512\n",
            "Input ids are automatically padded from 111 to 512 to be a multiple of `config.attention_window`: 512\n",
            "Input ids are automatically padded from 276 to 512 to be a multiple of `config.attention_window`: 512\n",
            "Input ids are automatically padded from 289 to 512 to be a multiple of `config.attention_window`: 512\n",
            "Input ids are automatically padded from 237 to 512 to be a multiple of `config.attention_window`: 512\n",
            "Input ids are automatically padded from 241 to 512 to be a multiple of `config.attention_window`: 512\n",
            "Input ids are automatically padded from 190 to 512 to be a multiple of `config.attention_window`: 512\n",
            "Input ids are automatically padded from 183 to 512 to be a multiple of `config.attention_window`: 512\n",
            "Input ids are automatically padded from 97 to 512 to be a multiple of `config.attention_window`: 512\n",
            "Input ids are automatically padded from 77 to 512 to be a multiple of `config.attention_window`: 512\n",
            "Input ids are automatically padded from 222 to 512 to be a multiple of `config.attention_window`: 512\n",
            "Input ids are automatically padded from 178 to 512 to be a multiple of `config.attention_window`: 512\n",
            "Input ids are automatically padded from 193 to 512 to be a multiple of `config.attention_window`: 512\n",
            "Input ids are automatically padded from 255 to 512 to be a multiple of `config.attention_window`: 512\n",
            "Input ids are automatically padded from 89 to 512 to be a multiple of `config.attention_window`: 512\n",
            "Input ids are automatically padded from 240 to 512 to be a multiple of `config.attention_window`: 512\n",
            "Input ids are automatically padded from 235 to 512 to be a multiple of `config.attention_window`: 512\n",
            "Input ids are automatically padded from 243 to 512 to be a multiple of `config.attention_window`: 512\n",
            "Input ids are automatically padded from 203 to 512 to be a multiple of `config.attention_window`: 512\n",
            "Input ids are automatically padded from 348 to 512 to be a multiple of `config.attention_window`: 512\n",
            "Input ids are automatically padded from 351 to 512 to be a multiple of `config.attention_window`: 512\n",
            "Input ids are automatically padded from 265 to 512 to be a multiple of `config.attention_window`: 512\n",
            "Input ids are automatically padded from 234 to 512 to be a multiple of `config.attention_window`: 512\n",
            "Input ids are automatically padded from 254 to 512 to be a multiple of `config.attention_window`: 512\n",
            "Input ids are automatically padded from 306 to 512 to be a multiple of `config.attention_window`: 512\n",
            "Input ids are automatically padded from 308 to 512 to be a multiple of `config.attention_window`: 512\n",
            "Input ids are automatically padded from 244 to 512 to be a multiple of `config.attention_window`: 512\n",
            "Input ids are automatically padded from 199 to 512 to be a multiple of `config.attention_window`: 512\n",
            "Input ids are automatically padded from 220 to 512 to be a multiple of `config.attention_window`: 512\n",
            "Input ids are automatically padded from 219 to 512 to be a multiple of `config.attention_window`: 512\n",
            "Input ids are automatically padded from 207 to 512 to be a multiple of `config.attention_window`: 512\n",
            "Input ids are automatically padded from 209 to 512 to be a multiple of `config.attention_window`: 512\n",
            "Input ids are automatically padded from 87 to 512 to be a multiple of `config.attention_window`: 512\n",
            "Input ids are automatically padded from 94 to 512 to be a multiple of `config.attention_window`: 512\n",
            "Input ids are automatically padded from 251 to 512 to be a multiple of `config.attention_window`: 512\n",
            "Input ids are automatically padded from 261 to 512 to be a multiple of `config.attention_window`: 512\n",
            "Input ids are automatically padded from 319 to 512 to be a multiple of `config.attention_window`: 512\n",
            "Input ids are automatically padded from 173 to 512 to be a multiple of `config.attention_window`: 512\n",
            "Input ids are automatically padded from 361 to 512 to be a multiple of `config.attention_window`: 512\n",
            "Input ids are automatically padded from 365 to 512 to be a multiple of `config.attention_window`: 512\n",
            "Input ids are automatically padded from 346 to 512 to be a multiple of `config.attention_window`: 512\n",
            "Input ids are automatically padded from 343 to 512 to be a multiple of `config.attention_window`: 512\n",
            "Input ids are automatically padded from 127 to 512 to be a multiple of `config.attention_window`: 512\n",
            "Input ids are automatically padded from 187 to 512 to be a multiple of `config.attention_window`: 512\n",
            "Input ids are automatically padded from 223 to 512 to be a multiple of `config.attention_window`: 512\n",
            "Input ids are automatically padded from 298 to 512 to be a multiple of `config.attention_window`: 512\n",
            "Input ids are automatically padded from 292 to 512 to be a multiple of `config.attention_window`: 512\n",
            "Input ids are automatically padded from 242 to 512 to be a multiple of `config.attention_window`: 512\n",
            "Input ids are automatically padded from 52 to 512 to be a multiple of `config.attention_window`: 512\n",
            "Input ids are automatically padded from 50 to 512 to be a multiple of `config.attention_window`: 512\n",
            "Input ids are automatically padded from 212 to 512 to be a multiple of `config.attention_window`: 512\n",
            "Input ids are automatically padded from 267 to 512 to be a multiple of `config.attention_window`: 512\n",
            "Input ids are automatically padded from 154 to 512 to be a multiple of `config.attention_window`: 512\n",
            "Input ids are automatically padded from 347 to 512 to be a multiple of `config.attention_window`: 512\n",
            "Input ids are automatically padded from 291 to 512 to be a multiple of `config.attention_window`: 512\n",
            "Input ids are automatically padded from 75 to 512 to be a multiple of `config.attention_window`: 512\n",
            "Input ids are automatically padded from 82 to 512 to be a multiple of `config.attention_window`: 512\n",
            "Input ids are automatically padded from 85 to 512 to be a multiple of `config.attention_window`: 512\n",
            "Input ids are automatically padded from 79 to 512 to be a multiple of `config.attention_window`: 512\n",
            "Input ids are automatically padded from 101 to 512 to be a multiple of `config.attention_window`: 512\n",
            "Input ids are automatically padded from 136 to 512 to be a multiple of `config.attention_window`: 512\n",
            "Input ids are automatically padded from 233 to 512 to be a multiple of `config.attention_window`: 512\n",
            "Input ids are automatically padded from 359 to 512 to be a multiple of `config.attention_window`: 512\n",
            "Input ids are automatically padded from 350 to 512 to be a multiple of `config.attention_window`: 512\n",
            "Input ids are automatically padded from 106 to 512 to be a multiple of `config.attention_window`: 512\n"
          ]
        },
        {
          "output_type": "stream",
          "name": "stdout",
          "text": [
            "Accuracy on new data: 0.4442508710801394\n",
            "Precision on new data: 0.19735883645546262\n",
            "Recall on new data: 0.4442508710801394\n",
            "F1 Score on new data: 0.27330270717837285\n"
          ]
        },
        {
          "output_type": "stream",
          "name": "stderr",
          "text": [
            "/usr/local/lib/python3.10/dist-packages/sklearn/metrics/_classification.py:1344: UndefinedMetricWarning: Precision is ill-defined and being set to 0.0 in labels with no predicted samples. Use `zero_division` parameter to control this behavior.\n",
            "  _warn_prf(average, modifier, msg_start, len(result))\n"
          ]
        }
      ],
      "source": [
        "from transformers import pipeline\n",
        "import numpy as np\n",
        "from sklearn.metrics import accuracy_score, precision_score, recall_score, f1_score\n",
        "\n",
        "texts = df['Text'].values\n",
        "labels = df['Error Flag'].values\n",
        "\n",
        "# Preparar una pipeline para clasificación\n",
        "nlp_pipeline = pipeline(\"text-classification\", model=model, tokenizer=tokenizer, return_all_scores=True)\n",
        "\n",
        "# Procesar los textos (esto puede tomar tiempo dependiendo de la longitud de 'df')\n",
        "results = nlp_pipeline(texts.tolist())\n",
        "\n",
        "# Obtener la clase con la probabilidad más alta para cada texto\n",
        "predictions = [np.argmax(result[0]['score']) for result in results]\n",
        "\n",
        "# Convertir las predicciones a un array de numpy para calcular métricas\n",
        "predictions = np.array(predictions)\n",
        "\n",
        "# Calcular y mostrar métricas de evaluación\n",
        "accuracy = accuracy_score(labels, predictions)\n",
        "precision = precision_score(labels, predictions, average='weighted')\n",
        "recall = recall_score(labels, predictions, average='weighted')\n",
        "f1 = f1_score(labels, predictions, average='weighted')\n",
        "\n",
        "print(f\"Accuracy on new data: {accuracy}\")\n",
        "print(f\"Precision on new data: {precision}\")\n",
        "print(f\"Recall on new data: {recall}\")\n",
        "print(f\"F1 Score on new data: {f1}\")\n"
      ]
    },
    {
      "cell_type": "code",
      "execution_count": 45,
      "metadata": {
        "id": "4Nu1E7uLZXdz",
        "colab": {
          "base_uri": "https://localhost:8080/",
          "height": 472
        },
        "outputId": "8a2e7a6a-df4a-455c-c886-1aa13560a42c"
      },
      "outputs": [
        {
          "output_type": "display_data",
          "data": {
            "text/plain": [
              "<Figure size 640x480 with 1 Axes>"
            ],
            "image/png": "[encoded data removed]"
          },
          "metadata": {}
        }
      ],
      "source": [
        "from transformers import pipeline\n",
        "import numpy as np\n",
        "from sklearn.metrics import roc_curve, auc\n",
        "import matplotlib.pyplot as plt\n",
        "\n",
        "\n",
        "# Preparar una pipeline para clasificación\n",
        "nlp_pipeline = pipeline(\"text-classification\", model=model, tokenizer=tokenizer, return_all_scores=True)\n",
        "\n",
        "# Procesar los textos (esto puede tomar tiempo dependiendo de la longitud de 'df')\n",
        "results = nlp_pipeline(texts.tolist())\n",
        "\n",
        "# Obtener la probabilidad de la clase positiva para cada texto\n",
        "# Asumiendo que la clase positiva es la segunda que retorna el modelo\n",
        "positive_class_probabilities = [result[1]['score'] for result in results]\n",
        "\n",
        "# Calcular los valores para la curva ROC\n",
        "fpr, tpr, thresholds = roc_curve(labels, positive_class_probabilities)\n",
        "roc_auc = auc(fpr, tpr)\n",
        "\n",
        "# Dibujar la curva ROC\n",
        "plt.figure()\n",
        "lw = 2\n",
        "plt.plot(fpr, tpr, color='darkorange', lw=lw, label='ROC curve (area = %0.2f)' % roc_auc)\n",
        "plt.plot([0, 1], [0, 1], color='navy', lw=lw, linestyle='--')\n",
        "plt.xlim([0.0, 1.0])\n",
        "plt.ylim([0.0, 1.05])\n",
        "plt.xlabel('False Positive Rate')\n",
        "plt.ylabel('True Positive Rate')\n",
        "plt.title('Receiver Operating Characteristic')\n",
        "plt.legend(loc=\"lower right\")\n",
        "plt.show()\n"
      ]
    },
    {
      "cell_type": "code",
      "execution_count": 46,
      "metadata": {
        "id": "cgAev3KB3Hvf",
        "colab": {
          "base_uri": "https://localhost:8080/"
        },
        "outputId": "1255000b-1b6c-4ed1-c0b9-96f98e3eaff5"
      },
      "outputs": [
        {
          "output_type": "stream",
          "name": "stdout",
          "text": [
            "    Text ID  Error Flag  Error Sentence ID  \\\n",
            "0  ms-val-0           0                  5   \n",
            "1  ms-val-1           0                 -1   \n",
            "2  ms-val-2           0                 24   \n",
            "3  ms-val-3           0                  4   \n",
            "4  ms-val-4           0                  0   \n",
            "\n",
            "                                  Corrected Sentence  \n",
            "0      Culture tests indicate Trichomonas vaginalis.  \n",
            "1                                                NaN  \n",
            "2  Pathology confirms Mycoplasma pneumoniae is th...  \n",
            "3  Laboratory studies confirm that he has parainf...  \n",
            "4  A previously healthy 25-year-old man comes to ...  \n"
          ]
        }
      ],
      "source": [
        "df= df.drop(['Error Flag'], axis=1)\n",
        "\n",
        "# Añadir las predicciones al DataFrame\n",
        "df['Error Flag Pred'] = predictions\n",
        "\n",
        "# Renombrar la columna 'Error Flag Pred' a 'Error Flag'\n",
        "df.rename(columns={'Error Flag Pred': 'Error Flag'}, inplace=True)\n",
        "\n",
        "# Seleccionar y conservar únicamente las columnas deseadas\n",
        "df_final = df[['Text ID', 'Error Flag', 'Error Sentence ID', 'Corrected Sentence']]\n",
        "\n",
        "# Mostrar las primeras filas del DataFrame final para verificar\n",
        "print(df_final.head())\n"
      ]
    },
    {
      "cell_type": "code",
      "execution_count": 48,
      "metadata": {
        "id": "mbBcbCBK3Hta",
        "colab": {
          "base_uri": "https://localhost:8080/"
        },
        "outputId": "2db7ac5a-ab01-4cc2-a81d-adf8f74c784f"
      },
      "outputs": [
        {
          "output_type": "execute_result",
          "data": {
            "text/plain": [
              "0    574\n",
              "Name: Error Flag, dtype: int64"
            ]
          },
          "metadata": {},
          "execution_count": 48
        }
      ],
      "source": [
        "df_final['Error Flag'].value_counts()"
      ]
    },
    {
      "cell_type": "code",
      "execution_count": 49,
      "metadata": {
        "id": "gcER54FS3HrT",
        "colab": {
          "base_uri": "https://localhost:8080/",
          "height": 225
        },
        "outputId": "7f0c32ed-db48-4f43-96af-a5fabbd7dbbc"
      },
      "outputs": [
        {
          "output_type": "stream",
          "name": "stderr",
          "text": [
            "<ipython-input-49-f95f66764bce>:1: SettingWithCopyWarning: \n",
            "A value is trying to be set on a copy of a slice from a DataFrame.\n",
            "Try using .loc[row_indexer,col_indexer] = value instead\n",
            "\n",
            "See the caveats in the documentation: https://pandas.pydata.org/pandas-docs/stable/user_guide/indexing.html#returning-a-view-versus-a-copy\n",
            "  df_final['formatted'] = df_final.apply(lambda row: ' '.join(row.values.astype(str)), axis=1)\n",
            "<ipython-input-49-f95f66764bce>:4: SettingWithCopyWarning: \n",
            "A value is trying to be set on a copy of a slice from a DataFrame.\n",
            "Try using .loc[row_indexer,col_indexer] = value instead\n",
            "\n",
            "See the caveats in the documentation: https://pandas.pydata.org/pandas-docs/stable/user_guide/indexing.html#returning-a-view-versus-a-copy\n",
            "  df_final['formatted'] = df_final['formatted'].apply(lambda x: ' '.join(x.split()))\n"
          ]
        },
        {
          "output_type": "display_data",
          "data": {
            "text/plain": [
              "<IPython.core.display.Javascript object>"
            ],
            "application/javascript": [
              "\n",
              "    async function download(id, filename, size) {\n",
              "      if (!google.colab.kernel.accessAllowed) {\n",
              "        return;\n",
              "      }\n",
              "      const div = document.createElement('div');\n",
              "      const label = document.createElement('label');\n",
              "      label.textContent = `Downloading \"${filename}\": `;\n",
              "      div.appendChild(label);\n",
              "      const progress = document.createElement('progress');\n",
              "      progress.max = size;\n",
              "      div.appendChild(progress);\n",
              "      document.body.appendChild(div);\n",
              "\n",
              "      const buffers = [];\n",
              "      let downloaded = 0;\n",
              "\n",
              "      const channel = await google.colab.kernel.comms.open(id);\n",
              "      // Send a message to notify the kernel that we're ready.\n",
              "      channel.send({})\n",
              "\n",
              "      for await (const message of channel.messages) {\n",
              "        // Send a message to notify the kernel that we're ready.\n",
              "        channel.send({})\n",
              "        if (message.buffers) {\n",
              "          for (const buffer of message.buffers) {\n",
              "            buffers.push(buffer);\n",
              "            downloaded += buffer.byteLength;\n",
              "            progress.value = downloaded;\n",
              "          }\n",
              "        }\n",
              "      }\n",
              "      const blob = new Blob(buffers, {type: 'application/binary'});\n",
              "      const a = document.createElement('a');\n",
              "      a.href = window.URL.createObjectURL(blob);\n",
              "      a.download = filename;\n",
              "      div.appendChild(a);\n",
              "      a.click();\n",
              "      div.remove();\n",
              "    }\n",
              "  "
            ]
          },
          "metadata": {}
        },
        {
          "output_type": "display_data",
          "data": {
            "text/plain": [
              "<IPython.core.display.Javascript object>"
            ],
            "application/javascript": [
              "download(\"download_f80d346e-9a34-4c11-aeea-5d05c090463c\", \"prediction_longformer_base_4096.txt\", 30589)"
            ]
          },
          "metadata": {}
        }
      ],
      "source": [
        "df_final['formatted'] = df_final.apply(lambda row: ' '.join(row.values.astype(str)), axis=1)\n",
        "\n",
        "# Asegurar un solo espacio entre palabras, incluso si hay múltiples espacios originalmente\n",
        "df_final['formatted'] = df_final['formatted'].apply(lambda x: ' '.join(x.split()))\n",
        "\n",
        "# Guardar el DataFrame modificado a un archivo de texto sin comillas y con un solo espacio\n",
        "with open('prediction_longformer_base_4096.txt', 'w', encoding='utf-8') as file:\n",
        "    for item in df_final['formatted']:\n",
        "        file.write(\"%s\\n\" % item)\n",
        "\n",
        "# Importar la función de descarga de archivos de Colab\n",
        "from google.colab import files\n",
        "\n",
        "# Descargar el archivo de texto a tu computadora\n",
        "files.download('prediction_longformer_base_4096.txt')"
      ]
    },
    {
      "cell_type": "code",
      "execution_count": null,
      "metadata": {
        "id": "74G0gFSg3Ho1"
      },
      "outputs": [],
      "source": []
    }
  ],
  "metadata": {
    "colab": {
      "provenance": []
    },
    "kernelspec": {
      "display_name": "Python 3",
      "name": "python3"
    },
    "language_info": {
      "codemirror_mode": {
        "name": "ipython",
        "version": 3
      },
      "file_extension": ".py",
      "mimetype": "text/x-python",
      "name": "python",
      "nbconvert_exporter": "python",
      "pygments_lexer": "ipython3",
      "version": "3.12.0"
    }
  },
  "nbformat": 4,
  "nbformat_minor": 0
}